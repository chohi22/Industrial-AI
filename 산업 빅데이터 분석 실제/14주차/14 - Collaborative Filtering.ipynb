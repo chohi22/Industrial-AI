{
 "cells": [
  {
   "cell_type": "markdown",
   "id": "6cb88df0-8319-4bb5-b745-5be9708a0fcf",
   "metadata": {},
   "source": [
    "## 14 - Collaborative Filtering"
   ]
  },
  {
   "cell_type": "markdown",
   "id": "ca83f911-3556-48b7-ae4b-f591157eb733",
   "metadata": {},
   "source": [
    "### Pearson Correlation"
   ]
  },
  {
   "cell_type": "code",
   "execution_count": 11,
   "id": "11f1027a-142d-4596-bbe8-b376bfed5221",
   "metadata": {},
   "outputs": [
    {
     "name": "stdout",
     "output_type": "stream",
     "text": [
      "PearsonRResult(statistic=0.8528028654224415, pvalue=0.14719713457755845)\n",
      "PearsonRResult(statistic=0.7071067811865475, pvalue=0.29289321881345254)\n",
      "PearsonRResult(statistic=0.0, pvalue=1.0)\n",
      "PearsonRResult(statistic=-0.7921180343813393, pvalue=0.20788196561866057)\n"
     ]
    }
   ],
   "source": [
    "import numpy as np\n",
    "from scipy.stats import pearsonr\n",
    "\n",
    "alice = np.array([5, 3, 4, 4])\n",
    "user1 = np.array([3, 1, 2, 3])\n",
    "user2 = np.array([4, 3, 4, 3])\n",
    "user3 = np.array([3, 3, 1, 5])\n",
    "user4 = np.array([1, 5, 5, 2])\n",
    "\n",
    "corr = pearsonr(alice, user1)\n",
    "print(corr)\n",
    "\n",
    "corr = pearsonr(alice, user2)\n",
    "print(corr)\n",
    "\n",
    "corr = pearsonr(alice, user3)\n",
    "print(corr)\n",
    "\n",
    "corr = pearsonr(alice, user4)\n",
    "print(corr)"
   ]
  },
  {
   "cell_type": "code",
   "execution_count": 9,
   "id": "0ae03315-354a-45ee-8e3e-573b785e39ab",
   "metadata": {},
   "outputs": [
    {
     "name": "stdout",
     "output_type": "stream",
     "text": [
      "[[ 1.          0.85280287  0.70710678  0.         -0.79211803]\n",
      " [ 0.85280287  1.          0.30151134  0.42640143 -0.88662069]\n",
      " [ 0.70710678  0.30151134  1.         -0.70710678 -0.14002801]\n",
      " [ 0.          0.42640143 -0.70710678  1.         -0.59408853]\n",
      " [-0.79211803 -0.88662069 -0.14002801 -0.59408853  1.        ]]\n"
     ]
    }
   ],
   "source": [
    "matrix = np.array([[5, 3, 4, 4],\n",
    "[3, 1, 2, 3],\n",
    "[4, 3, 4, 3],\n",
    "[3, 3, 1, 5],\n",
    "[1, 5, 5, 2]\n",
    "])\n",
    "\n",
    "corr = np.corrcoef(matrix)\n",
    "\n",
    "print(corr)"
   ]
  },
  {
   "cell_type": "code",
   "execution_count": 3,
   "id": "5ea9a35a-09d3-4e0c-94f7-cdd429684b82",
   "metadata": {},
   "outputs": [
    {
     "data": {
      "image/png": "[encoded data removed]",
      "text/plain": [
       "<Figure size 640x480 with 1 Axes>"
      ]
     },
     "metadata": {},
     "output_type": "display_data"
    }
   ],
   "source": [
    "import matplotlib\n",
    "import matplotlib.pyplot as plt\n",
    "\n",
    "matplotlib.style.use('ggplot')\n",
    "alice = np.array([5, 3, 4, 4])\n",
    "user1 = np.array([3, 1, 2, 3])\n",
    "user2 = np.array([4, 3, 4, 3])\n",
    "user3 = np.array([3, 3, 1, 5])\n",
    "user4 = np.array([1, 5, 5, 2])\n",
    "\n",
    "plt.scatter(alice, user1)\n",
    "\n",
    "plt.show()"
   ]
  },
  {
   "cell_type": "markdown",
   "id": "97c98269-2f03-43ac-b656-8e23f7699348",
   "metadata": {},
   "source": [
    "### Cosine Similarity"
   ]
  },
  {
   "cell_type": "code",
   "execution_count": 13,
   "id": "48b280f2-27bf-4a18-be86-1183fcec5da5",
   "metadata": {},
   "outputs": [
    {
     "data": {
      "text/plain": [
       "array([[0.72261012]])"
      ]
     },
     "execution_count": 13,
     "metadata": {},
     "output_type": "execute_result"
    }
   ],
   "source": [
    "from sklearn.metrics.pairwise import cosine_similarity\n",
    "\n",
    "cosine_similarity([[3, 4, 3, 1]], [[3, 5, 4, 1]])\n",
    "cosine_similarity([[3, 3, 5, 2]], [[3, 5, 4, 1]])\n",
    "cosine_similarity([[1, 3, 3, 5]], [[3, 5, 4, 1]])\n",
    "cosine_similarity([[2, 4, 1, 5]], [[3, 5, 4, 1]])"
   ]
  }
 ],
 "metadata": {
  "kernelspec": {
   "display_name": "Python 3 (ipykernel)",
   "language": "python",
   "name": "python3"
  },
  "language_info": {
   "codemirror_mode": {
    "name": "ipython",
    "version": 3
   },
   "file_extension": ".py",
   "mimetype": "text/x-python",
   "name": "python",
   "nbconvert_exporter": "python",
   "pygments_lexer": "ipython3",
   "version": "3.11.7"
  }
 },
 "nbformat": 4,
 "nbformat_minor": 5
}
