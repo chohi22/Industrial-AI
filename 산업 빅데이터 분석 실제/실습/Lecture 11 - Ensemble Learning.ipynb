{
 "cells": [
  {
   "cell_type": "markdown",
   "id": "1df31dc8-d624-4d01-955e-829c8ec02113",
   "metadata": {},
   "source": [
    "## 앙상블 러닝\n"
   ]
  },
  {
   "cell_type": "markdown",
   "id": "4c03270f-fe31-477e-add9-556a9e6a6d33",
   "metadata": {},
   "source": [
    "## Decision Tree"
   ]
  },
  {
   "cell_type": "code",
   "execution_count": 12,
   "id": "3201ce2a-8e26-4a05-b038-a47bb402bfa3",
   "metadata": {},
   "outputs": [
    {
     "name": "stdout",
     "output_type": "stream",
     "text": [
      "['setosa' 'versicolor' 'virginica']\n",
      "['sepal length (cm)', 'sepal width (cm)', 'petal length (cm)', 'petal width (cm)']\n"
     ]
    }
   ],
   "source": [
    "#Import scikit-learn dataset library\n",
    "from sklearn.datasets import load_iris\n",
    "\n",
    "#Load dataset\n",
    "iris = load_iris()\n",
    "\n",
    "# print the label species(setosa, versicolor,virginica)\n",
    "print(iris.target_names)\n",
    "\n",
    "# print the names of the four features\n",
    "print(iris.feature_names)"
   ]
  },
  {
   "cell_type": "code",
   "execution_count": 13,
   "id": "9aabbdf0-c35a-4c79-b72c-468f27b422c6",
   "metadata": {},
   "outputs": [],
   "source": [
    "# Import train_test_split function\n",
    "from sklearn.model_selection import train_test_split\n",
    "train_points = iris.data\n",
    "train_labels = iris.target\n",
    "\n",
    "# Split dataset into training set and test set\n",
    "X_train, X_test, y_train, y_test = train_test_split(train_points, train_labels, test_size=0.2, random_state=15)"
   ]
  },
  {
   "cell_type": "markdown",
   "id": "fe16e143-9e7c-41e7-929b-0cf5b4dbab82",
   "metadata": {},
   "source": [
    "### Training with Decision Tree"
   ]
  },
  {
   "cell_type": "code",
   "execution_count": 14,
   "id": "93575336-efb3-4b86-be6a-75c78fec1a4b",
   "metadata": {},
   "outputs": [],
   "source": [
    "#Import Decision Tree\n",
    "from sklearn.tree import DecisionTreeClassifier\n",
    "\n",
    "#Create a Gaussian Classifier\n",
    "classifier = DecisionTreeClassifier(random_state=0)\n",
    "\n",
    "#Train the model using the training sets\n",
    "classifier.fit(X_train,y_train)\n",
    "guesses = classifier.predict(X_test)"
   ]
  },
  {
   "cell_type": "markdown",
   "id": "09f5d6cb-3e32-42e9-9b0f-90fee6de075d",
   "metadata": {},
   "source": [
    "### Check out accuracy"
   ]
  },
  {
   "cell_type": "code",
   "execution_count": 15,
   "id": "71434ebe-594f-4eaf-9073-8e1b9bb1dfe0",
   "metadata": {},
   "outputs": [
    {
     "name": "stdout",
     "output_type": "stream",
     "text": [
      "Confusion Matrix:  [[ 8  0  0]\n",
      " [ 0 12  1]\n",
      " [ 0  1  8]]\n",
      "Accuracy: 0.9333333333333333\n"
     ]
    }
   ],
   "source": [
    "#Import scikit-learn metrics module for checking confusion matrix and accuracy\n",
    "from sklearn.metrics import confusion_matrix\n",
    "from sklearn.metrics import accuracy_score\n",
    "\n",
    "# Confusion matrix\n",
    "print(\"Confusion Matrix: \", confusion_matrix(y_test, guesses))\n",
    "\n",
    "# Model Accuracy, how often is the classifier correct?\n",
    "print(\"Accuracy:\", accuracy_score(y_test, guesses))"
   ]
  },
  {
   "cell_type": "markdown",
   "id": "6b156c74-1ad6-4464-86b6-a86b9d7c44f9",
   "metadata": {},
   "source": [
    "## Random Forest"
   ]
  },
  {
   "cell_type": "markdown",
   "id": "c2ce5b7d-5cd3-45b0-9b3e-6505a9bede02",
   "metadata": {},
   "source": [
    "### Loading dataset"
   ]
  },
  {
   "cell_type": "code",
   "execution_count": 16,
   "id": "bdb56cac-6735-425c-b6b1-62eaa7c82b7b",
   "metadata": {},
   "outputs": [
    {
     "name": "stdout",
     "output_type": "stream",
     "text": [
      "['setosa' 'versicolor' 'virginica']\n",
      "['sepal length (cm)', 'sepal width (cm)', 'petal length (cm)', 'petal width (cm)']\n"
     ]
    }
   ],
   "source": [
    "#Import scikit-learn dataset library\n",
    "from sklearn.datasets import load_iris\n",
    "\n",
    "#Load dataset\n",
    "iris = load_iris()\n",
    "\n",
    "# print the label species(setosa, versicolor,virginica)\n",
    "print(iris.target_names)\n",
    "\n",
    "# print the names of the four features\n",
    "print(iris.feature_names)"
   ]
  },
  {
   "cell_type": "markdown",
   "id": "6bfe4d6b-736e-4ec7-8179-8638a11ea164",
   "metadata": {},
   "source": [
    "### Split into train and test dataset"
   ]
  },
  {
   "cell_type": "code",
   "execution_count": 17,
   "id": "faf8c49b-ec13-44de-849d-ca5414539693",
   "metadata": {},
   "outputs": [],
   "source": [
    "# Import train_test_split function\n",
    "from sklearn.model_selection import train_test_split\n",
    "train_points = iris.data\n",
    "train_labels = iris.target\n",
    "\n",
    "# Split dataset into training set and test set\n",
    "X_train, X_test, y_train, y_test = train_test_split(train_points, train_labels, test_size=0.2, random_state=15)"
   ]
  },
  {
   "cell_type": "markdown",
   "id": "890f8f52-ee4a-4ce7-8927-9d55d9e0f211",
   "metadata": {},
   "source": [
    "### Training with Random Forest"
   ]
  },
  {
   "cell_type": "code",
   "execution_count": 32,
   "id": "404e0537-fc7b-4f1a-9cd4-96881df03ac1",
   "metadata": {},
   "outputs": [],
   "source": [
    "#Import Random Forest\n",
    "from sklearn.ensemble import RandomForestClassifier\n",
    "\n",
    "#Create a Gaussian Classifier\n",
    "classifier = RandomForestClassifier(random_state=0, n_estimators=10)\n",
    "\n",
    "#Train the model using the training sets y_pred=clf.predict(X_test)\n",
    "classifier.fit(X_train,y_train)\n",
    "guesses = classifier.predict(X_test)"
   ]
  },
  {
   "cell_type": "markdown",
   "id": "19e1f7b5-0f81-43a5-8d06-01c30743b6dd",
   "metadata": {},
   "source": [
    "### Check out accuracy"
   ]
  },
  {
   "cell_type": "code",
   "execution_count": 33,
   "id": "7cb33625-5eb8-46bc-957e-dabd671916d8",
   "metadata": {},
   "outputs": [
    {
     "name": "stdout",
     "output_type": "stream",
     "text": [
      "Confusion Matrix:  [[ 8  0  0]\n",
      " [ 0 13  0]\n",
      " [ 0  2  7]]\n",
      "Accuracy: 0.9333333333333333\n"
     ]
    }
   ],
   "source": [
    "#Import scikit-learn metrics module for checking confusion matrix and accuracy\n",
    "from sklearn.metrics import confusion_matrix\n",
    "from sklearn.metrics import accuracy_score\n",
    "\n",
    "# Confusion matrix\n",
    "print(\"Confusion Matrix: \", confusion_matrix(y_test, guesses))\n",
    "\n",
    "# Model Accuracy, how often is the classifier correct?\n",
    "print(\"Accuracy:\", accuracy_score(y_test, guesses))"
   ]
  },
  {
   "cell_type": "markdown",
   "id": "0fc82225-7709-452b-9e7a-dded23a724c3",
   "metadata": {},
   "source": [
    "## 앙상블 러닝"
   ]
  },
  {
   "cell_type": "markdown",
   "id": "2dffe644-a119-4e04-849d-883439dcbdcf",
   "metadata": {},
   "source": [
    "### Loading dataset"
   ]
  },
  {
   "cell_type": "code",
   "execution_count": 61,
   "id": "040c6516-dabf-4952-97af-554b07d14ab5",
   "metadata": {},
   "outputs": [
    {
     "name": "stdout",
     "output_type": "stream",
     "text": [
      "<class 'pandas.core.frame.DataFrame'>\n",
      "RangeIndex: 768 entries, 0 to 767\n",
      "Data columns (total 9 columns):\n",
      " #   Column                    Non-Null Count  Dtype  \n",
      "---  ------                    --------------  -----  \n",
      " 0   Pregnancies               768 non-null    int64  \n",
      " 1   Glucose                   768 non-null    int64  \n",
      " 2   BloodPressure             768 non-null    int64  \n",
      " 3   SkinThickness             768 non-null    int64  \n",
      " 4   Insulin                   768 non-null    int64  \n",
      " 5   BMI                       768 non-null    float64\n",
      " 6   DiabetesPedigreeFunction  768 non-null    float64\n",
      " 7   Age                       768 non-null    int64  \n",
      " 8   Outcome                   768 non-null    int64  \n",
      "dtypes: float64(2), int64(7)\n",
      "memory usage: 54.1 KB\n",
      "None\n",
      "(768, 9)\n"
     ]
    }
   ],
   "source": [
    "import pandas as pd\n",
    "data = pd.read_csv(\"pima-indians-diabetes.csv\")\n",
    "print(data.info())\n",
    "print(data.shape)"
   ]
  },
  {
   "cell_type": "markdown",
   "id": "b9a407b8-0ee1-48ef-bb7b-6ee84c0627a2",
   "metadata": {},
   "source": [
    "### Normalize and split into train and test dataset"
   ]
  },
  {
   "cell_type": "code",
   "execution_count": 62,
   "id": "652a627e-ed6f-4621-87c9-23e9b25de467",
   "metadata": {},
   "outputs": [],
   "source": [
    "#train_points = data.drop(\"class\", axis=1)\n",
    "#train_labels = data[\"class\"]\n",
    "\n",
    "# standardize the dataset\n",
    "from sklearn.preprocessing import StandardScaler\n",
    "scaler = StandardScaler()\n",
    "\n",
    "train_points_scaled = scaler.fit_transform(train_points)\n",
    "\n",
    "# Import train_test_split function\n",
    "from sklearn.model_selection import train_test_split\n",
    "\n",
    "# Split dataset into training set and test set\n",
    "X_train, X_test, y_train, y_test = train_test_split(train_points_scaled, train_labels, test_size=0.2, random_state=5)"
   ]
  },
  {
   "cell_type": "markdown",
   "id": "a4ce9a0b-f2a0-4b56-872d-ba9d5716cacf",
   "metadata": {},
   "source": [
    "### Training with Random Forest"
   ]
  },
  {
   "cell_type": "code",
   "execution_count": 63,
   "id": "0882457c-2a70-48ea-9897-2662e247f2e6",
   "metadata": {},
   "outputs": [],
   "source": [
    "#Import Random Forest\n",
    "from sklearn.ensemble import RandomForestClassifier\n",
    "\n",
    "#Create a Gaussian Classifier\n",
    "classifier = RandomForestClassifier(random_state=0, n_estimators=3)\n",
    "\n",
    "#Train the model using the training sets y_pred=clf.predict(X_test)\n",
    "classifier.fit(X_train,y_train)\n",
    "guesses = classifier.predict(X_test)"
   ]
  },
  {
   "cell_type": "markdown",
   "id": "35d76743-626a-4fd2-b36b-f1742df1d2ef",
   "metadata": {},
   "source": [
    "### Checking accuracy"
   ]
  },
  {
   "cell_type": "code",
   "execution_count": 64,
   "id": "b499138c-b5f6-449b-bbae-6d18021c5f20",
   "metadata": {},
   "outputs": [
    {
     "name": "stdout",
     "output_type": "stream",
     "text": [
      "Confusion Matrix:  [[ 8  0  0]\n",
      " [ 0 10  1]\n",
      " [ 0  0 11]]\n",
      "Accuracy: 0.9666666666666667\n"
     ]
    }
   ],
   "source": [
    "#Import scikit-learn metrics module for checking confusion matrix and accuracy\n",
    "from sklearn.metrics import confusion_matrix\n",
    "from sklearn.metrics import accuracy_score\n",
    "\n",
    "# Confusion matrix\n",
    "print(\"Confusion Matrix: \", confusion_matrix(y_test, guesses))\n",
    "\n",
    "# Model Accuracy, how often is the classifier correct?\n",
    "print(\"Accuracy:\", accuracy_score(y_test, guesses))"
   ]
  },
  {
   "cell_type": "markdown",
   "id": "7427e4ca-5259-44ad-91fb-08dfec77776c",
   "metadata": {},
   "source": [
    "### Improving accuracy"
   ]
  },
  {
   "cell_type": "code",
   "execution_count": 68,
   "id": "5e042172-58c2-4e66-a3e3-583c1dccb6a7",
   "metadata": {},
   "outputs": [],
   "source": [
    "#Import Random Forest\n",
    "from sklearn.ensemble import RandomForestClassifier\n",
    "\n",
    "#Create a Gaussian Classifier\n",
    "classifier = RandomForestClassifier(random_state=0, n_estimators=5)\n",
    "\n",
    "#Train the model using the training sets y_pred=clf.predict(X_test)\n",
    "classifier.fit(X_train,y_train)\n",
    "guesses = classifier.predict(X_test)"
   ]
  },
  {
   "cell_type": "markdown",
   "id": "73e25a98-4535-44ff-8a9f-2999962acc4f",
   "metadata": {},
   "source": [
    "### Visualize accuracy"
   ]
  },
  {
   "cell_type": "code",
   "execution_count": 66,
   "id": "16e5f327-98f9-408e-8e31-2b300aaeeddf",
   "metadata": {},
   "outputs": [
    {
     "name": "stdout",
     "output_type": "stream",
     "text": [
      "[0.9333333333333333, 0.9, 0.9666666666666667, 0.9, 0.9, 0.9, 0.9, 0.9, 0.9, 0.9, 0.9, 0.9, 0.9, 0.9, 0.9, 0.9, 0.9, 0.9, 0.9, 0.9, 0.9, 0.9, 0.9, 0.9, 0.9, 0.9, 0.9, 0.9, 0.9, 0.9, 0.9, 0.9, 0.9, 0.9, 0.9, 0.9, 0.9, 0.9, 0.9, 0.9, 0.9, 0.9, 0.9, 0.9, 0.9, 0.9, 0.9, 0.9, 0.9, 0.9, 0.9, 0.9, 0.9, 0.9, 0.9, 0.9, 0.9, 0.9, 0.9, 0.9, 0.9, 0.9, 0.9, 0.9, 0.9, 0.9, 0.9, 0.9, 0.9, 0.9, 0.9, 0.9, 0.9, 0.9, 0.9, 0.9, 0.9, 0.9, 0.9, 0.9, 0.9, 0.9, 0.9, 0.9, 0.9, 0.9, 0.9, 0.9, 0.9, 0.9, 0.9, 0.9, 0.9, 0.9, 0.9, 0.9, 0.9, 0.9, 0.9]\n"
     ]
    },
    {
     "data": {
      "image/png": "[encoded data removed]",
      "text/plain": [
       "<Figure size 640x480 with 1 Axes>"
      ]
     },
     "metadata": {},
     "output_type": "display_data"
    }
   ],
   "source": [
    "from sklearn.ensemble import RandomForestClassifier\n",
    "from sklearn.metrics import accuracy_score\n",
    "\n",
    "n_range = range(1, 100)\n",
    "accuracy_scores = []\n",
    "\n",
    "for n in n_range:\n",
    "    classifier = RandomForestClassifier(random_state=0, n_estimators=n)\n",
    "    classifier.fit(X_train, y_train)\n",
    "    guesses = classifier.predict(X_test)\n",
    "    accuracy_scores.append(accuracy_score(y_test, guesses))\n",
    "print(accuracy_scores)\n",
    "\n",
    "import matplotlib.pyplot as plt\n",
    "\n",
    "plt.plot(n_range, accuracy_scores)\n",
    "plt.xlabel('Value of n for Random Forest')\n",
    "plt.ylabel('Testing Accuracy')\n",
    "plt.show()"
   ]
  },
  {
   "cell_type": "code",
   "execution_count": 72,
   "id": "8a853d8a-4654-4100-8560-6d222900a93c",
   "metadata": {},
   "outputs": [],
   "source": [
    "from sklearn.datasets import load_iris\n",
    "from sklearn import tree\n",
    "iris = load_iris()\n",
    "X, y = iris.data, iris.target\n",
    "clf = tree.DecisionTreeClassifier()\n",
    "clf = clf.fit(X, y)"
   ]
  },
  {
   "cell_type": "code",
   "execution_count": 73,
   "id": "12c8f3db-8dc3-439c-9957-4ca50d4cc324",
   "metadata": {},
   "outputs": [
    {
     "data": {
      "text/plain": [
       "[Text(0.5, 0.9166666666666666, 'x[3] <= 0.8\\ngini = 0.667\\nsamples = 150\\nvalue = [50, 50, 50]'),\n",
       " Text(0.4230769230769231, 0.75, 'gini = 0.0\\nsamples = 50\\nvalue = [50, 0, 0]'),\n",
       " Text(0.46153846153846156, 0.8333333333333333, 'True  '),\n",
       " Text(0.5769230769230769, 0.75, 'x[3] <= 1.75\\ngini = 0.5\\nsamples = 100\\nvalue = [0, 50, 50]'),\n",
       " Text(0.5384615384615384, 0.8333333333333333, '  False'),\n",
       " Text(0.3076923076923077, 0.5833333333333334, 'x[2] <= 4.95\\ngini = 0.168\\nsamples = 54\\nvalue = [0, 49, 5]'),\n",
       " Text(0.15384615384615385, 0.4166666666666667, 'x[3] <= 1.65\\ngini = 0.041\\nsamples = 48\\nvalue = [0, 47, 1]'),\n",
       " Text(0.07692307692307693, 0.25, 'gini = 0.0\\nsamples = 47\\nvalue = [0, 47, 0]'),\n",
       " Text(0.23076923076923078, 0.25, 'gini = 0.0\\nsamples = 1\\nvalue = [0, 0, 1]'),\n",
       " Text(0.46153846153846156, 0.4166666666666667, 'x[3] <= 1.55\\ngini = 0.444\\nsamples = 6\\nvalue = [0, 2, 4]'),\n",
       " Text(0.38461538461538464, 0.25, 'gini = 0.0\\nsamples = 3\\nvalue = [0, 0, 3]'),\n",
       " Text(0.5384615384615384, 0.25, 'x[2] <= 5.45\\ngini = 0.444\\nsamples = 3\\nvalue = [0, 2, 1]'),\n",
       " Text(0.46153846153846156, 0.08333333333333333, 'gini = 0.0\\nsamples = 2\\nvalue = [0, 2, 0]'),\n",
       " Text(0.6153846153846154, 0.08333333333333333, 'gini = 0.0\\nsamples = 1\\nvalue = [0, 0, 1]'),\n",
       " Text(0.8461538461538461, 0.5833333333333334, 'x[2] <= 4.85\\ngini = 0.043\\nsamples = 46\\nvalue = [0, 1, 45]'),\n",
       " Text(0.7692307692307693, 0.4166666666666667, 'x[0] <= 5.95\\ngini = 0.444\\nsamples = 3\\nvalue = [0, 1, 2]'),\n",
       " Text(0.6923076923076923, 0.25, 'gini = 0.0\\nsamples = 1\\nvalue = [0, 1, 0]'),\n",
       " Text(0.8461538461538461, 0.25, 'gini = 0.0\\nsamples = 2\\nvalue = [0, 0, 2]'),\n",
       " Text(0.9230769230769231, 0.4166666666666667, 'gini = 0.0\\nsamples = 43\\nvalue = [0, 0, 43]')]"
      ]
     },
     "execution_count": 73,
     "metadata": {},
     "output_type": "execute_result"
    },
    {
     "data": {
      "image/png": "[encoded data removed]",
      "text/plain": [
       "<Figure size 640x480 with 1 Axes>"
      ]
     },
     "metadata": {},
     "output_type": "display_data"
    }
   ],
   "source": [
    "tree.plot_tree(clf)"
   ]
  }
 ],
 "metadata": {
  "kernelspec": {
   "display_name": "Python 3 (ipykernel)",
   "language": "python",
   "name": "python3"
  },
  "language_info": {
   "codemirror_mode": {
    "name": "ipython",
    "version": 3
   },
   "file_extension": ".py",
   "mimetype": "text/x-python",
   "name": "python",
   "nbconvert_exporter": "python",
   "pygments_lexer": "ipython3",
   "version": "3.11.7"
  }
 },
 "nbformat": 4,
 "nbformat_minor": 5
}
