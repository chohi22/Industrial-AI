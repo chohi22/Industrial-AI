{
 "cells": [
  {
   "cell_type": "markdown",
   "id": "80d0f2caf1b55f13",
   "metadata": {},
   "source": [
    "### 토큰화"
   ]
  },
  {
   "cell_type": "code",
   "execution_count": 1,
   "id": "fe73ddcbffac99b5",
   "metadata": {
    "ExecuteTime": {
     "end_time": "2025-04-10T14:55:21.432720Z",
     "start_time": "2025-04-10T14:55:21.427739Z"
    }
   },
   "outputs": [
    {
     "name": "stdout",
     "output_type": "stream",
     "text": [
      "['현실과', '구분', '불가능한', 'cg.', '시각적', '즐거움은', '최고!', '더불어', 'ost는', '더더욱', '최고!!']\n"
     ]
    }
   ],
   "source": [
    "review = \"현실과 구분 불가능한 cg. 시각적 즐거움은 최고! 더불어 ost는 더더욱 최고!!\"\n",
    "tokens = review.split()\n",
    "print(tokens)"
   ]
  },
  {
   "cell_type": "code",
   "execution_count": 2,
   "id": "705b610019b1fa39",
   "metadata": {
    "ExecuteTime": {
     "end_time": "2025-04-10T14:55:21.769380Z",
     "start_time": "2025-04-10T14:55:21.766865Z"
    }
   },
   "outputs": [
    {
     "name": "stdout",
     "output_type": "stream",
     "text": [
      "['현', '실', '과', ' ', '구', '분', ' ', '불', '가', '능', '한', ' ', 'c', 'g', '.', ' ', '시', '각', '적', ' ', '즐', '거', '움', '은', ' ', '최', '고', '!', ' ', '더', '불', '어', ' ', 'o', 's', 't', '는', ' ', '더', '더', '욱', ' ', '최', '고', '!', '!']\n"
     ]
    }
   ],
   "source": [
    "review = \"현실과 구분 불가능한 cg. 시각적 즐거움은 최고! 더불어 ost는 더더욱 최고!!\"\n",
    "tokens = list(review)\n",
    "print(tokens)"
   ]
  },
  {
   "cell_type": "code",
   "execution_count": 3,
   "id": "a1f37a1391441421",
   "metadata": {
    "ExecuteTime": {
     "end_time": "2025-04-10T14:55:24.177380Z",
     "start_time": "2025-04-10T14:55:24.170372Z"
    }
   },
   "outputs": [
    {
     "name": "stdout",
     "output_type": "stream",
     "text": [
      "['ㅎ', 'ㅕ', 'ㄴ', 'ㅅ', 'ㅣ', 'ㄹ', 'ㄱ', 'ㅘ', ' ', 'ㄱ', 'ㅜ', 'ㅂ', 'ㅜ', 'ㄴ', ' ', 'ㅂ', 'ㅜ', 'ㄹ', 'ㄱ', 'ㅏ', 'ㄴ', 'ㅡ', 'ㅇ', 'ㅎ', 'ㅏ', 'ㄴ', ' ', 'c', 'g', '.', ' ', 'ㅅ', 'ㅣ', 'ㄱ', 'ㅏ', 'ㄱ', 'ㅈ', 'ㅓ', 'ㄱ', ' ', 'ㅈ', 'ㅡ', 'ㄹ', 'ㄱ', 'ㅓ', 'ㅇ', 'ㅜ', 'ㅁ', 'ㅇ', 'ㅡ', 'ㄴ', ' ', 'ㅊ', 'ㅚ', 'ㄱ', 'ㅗ', '!', ' ', 'ㄷ', 'ㅓ', 'ㅂ', 'ㅜ', 'ㄹ', 'ㅇ', 'ㅓ', ' ', 'o', 's', 't', 'ㄴ', 'ㅡ', 'ㄴ', ' ', 'ㄷ', 'ㅓ', 'ㄷ', 'ㅓ', 'ㅇ', 'ㅜ', 'ㄱ', ' ', 'ㅊ', 'ㅚ', 'ㄱ', 'ㅗ', '!', '!']\n"
     ]
    }
   ],
   "source": [
    "from jamo import h2j, j2hcj\n",
    "\n",
    "review = \"현실과 구분 불가능한 cg. 시각적 즐거움은 최고! 더불어 ost는 더더욱 최고!!\"\n",
    "decompose = j2hcj(h2j(review))\n",
    "tokenized = list(decompose)\n",
    "print(tokenized)"
   ]
  },
  {
   "cell_type": "code",
   "execution_count": 1,
   "id": "6fb645acbd6c6114",
   "metadata": {
    "ExecuteTime": {
     "start_time": "2025-04-10T14:53:52.891359Z"
    },
    "jupyter": {
     "is_executing": true
    }
   },
   "outputs": [
    {
     "name": "stderr",
     "output_type": "stream",
     "text": [
      "WARNING: A restricted method in java.lang.System has been called\n",
      "WARNING: java.lang.System::load has been called by org.jpype.JPypeContext in an unnamed module (file:/opt/anaconda3/lib/python3.11/site-packages/org.jpype.jar)\n",
      "WARNING: Use --enable-native-access=ALL-UNNAMED to avoid a warning for callers in this module\n",
      "WARNING: Restricted methods will be blocked in a future release unless native access is enabled\n",
      "\n"
     ]
    },
    {
     "name": "stdout",
     "output_type": "stream",
     "text": [
      "명사 추출:  ['무엇', '상상', '수', '사람', '무엇', '낼', '수']\n",
      "구 추출:  ['무엇', '상상', '상상할 수', '상상할 수 있는 사람', '사람']\n",
      "형태소 추출 : ['무엇', '이든', '상상', '할', '수', '있는', '사람', '은', '무엇', '이든', '만들어', '낼', '수', '있다', '.']\n",
      "품사 태깅 : [('무엇', 'Noun'), ('이든', 'Josa'), ('상상', 'Noun'), ('할', 'Verb'), ('수', 'Noun'), ('있는', 'Adjective'), ('사람', 'Noun'), ('은', 'Josa'), ('무엇', 'Noun'), ('이든', 'Josa'), ('만들어', 'Verb'), ('낼', 'Noun'), ('수', 'Noun'), ('있다', 'Adjective'), ('.', 'Punctuation')]\n"
     ]
    }
   ],
   "source": [
    "from konlpy.tag import Okt\n",
    "\n",
    "okt = Okt()\n",
    "\n",
    "sentence = \"무엇이든 상상할 수 있는 사람은 무엇이든 만들어 낼 수 있다.\"\n",
    "\n",
    "nouns = okt.nouns(sentence)\n",
    "phrases = okt.phrases(sentence)\n",
    "morphs = okt.morphs(sentence)\n",
    "pos = okt.pos(sentence)\n",
    "\n",
    "print(\"명사 추출: \", nouns)\n",
    "print(\"구 추출: \", phrases)\n",
    "print(\"형태소 추출 :\", morphs)\n",
    "print(\"품사 태깅 :\", pos)\n"
   ]
  },
  {
   "cell_type": "code",
   "execution_count": 2,
   "id": "a112998285fd6c35",
   "metadata": {
    "ExecuteTime": {
     "start_time": "2025-04-10T14:47:26.714399Z"
    },
    "jupyter": {
     "is_executing": true
    }
   },
   "outputs": [
    {
     "name": "stdout",
     "output_type": "stream",
     "text": [
      "['테스트', '문장', '입니다', '.', '형태소', '분석', '을', '진행', '합니다', '.']\n"
     ]
    }
   ],
   "source": [
    "from konlpy.tag import Okt\n",
    "\n",
    "okt = Okt()\n",
    "print(okt.morphs(\"테스트 문장입니다. 형태소 분석을 진행합니다.\"))\n"
   ]
  },
  {
   "cell_type": "code",
   "execution_count": 1,
   "id": "12ba84a5422ce549",
   "metadata": {
    "ExecuteTime": {
     "end_time": "2025-04-10T14:33:49.041310Z",
     "start_time": "2025-04-10T14:33:46.323530Z"
    }
   },
   "outputs": [
    {
     "name": "stderr",
     "output_type": "stream",
     "text": [
      "[nltk_data] Downloading package punkt_tab to /Users/chohi/nltk_data...\n",
      "[nltk_data]   Package punkt_tab is already up-to-date!\n",
      "[nltk_data] Downloading package averaged_perceptron_tagger to\n",
      "[nltk_data]     /Users/chohi/nltk_data...\n",
      "[nltk_data]   Package averaged_perceptron_tagger is already up-to-\n",
      "[nltk_data]       date!\n"
     ]
    },
    {
     "data": {
      "text/plain": [
       "True"
      ]
     },
     "execution_count": 1,
     "metadata": {},
     "output_type": "execute_result"
    }
   ],
   "source": [
    "import nltk\n",
    "\n",
    "nltk.download(\"punkt_tab\")\n",
    "nltk.download(\"averaged_perceptron_tagger\")\n",
    "\n"
   ]
  },
  {
   "cell_type": "code",
   "execution_count": 18,
   "id": "cda70f79768c2e1e",
   "metadata": {
    "ExecuteTime": {
     "end_time": "2025-04-10T10:57:01.322947Z",
     "start_time": "2025-04-10T10:57:01.315922Z"
    }
   },
   "outputs": [
    {
     "name": "stdout",
     "output_type": "stream",
     "text": [
      "['Those', 'who', 'can', 'imagine', 'anything', ',', 'can', 'create', 'the', 'impossible', '.']\n",
      "['Those who can imagine anything, can create the impossible.']\n"
     ]
    },
    {
     "name": "stderr",
     "output_type": "stream",
     "text": [
      "[nltk_data] Downloading package punkt_tab to /Users/chohi/nltk_data...\n",
      "[nltk_data]   Package punkt_tab is already up-to-date!\n"
     ]
    }
   ],
   "source": [
    "import nltk\n",
    "from nltk.tokenize import word_tokenize, sent_tokenize\n",
    "\n",
    "#print(nltk.data.path)\n",
    "\n",
    "\n",
    "# 필수 리소스 다운로드\n",
    "nltk.download(\"punkt_tab\")\n",
    "\n",
    "# 테스트 문장\n",
    "sentence = \"Those who can imagine anything, can create the impossible.\"\n",
    "\n",
    "# 토큰화\n",
    "word_tokens = word_tokenize(sentence)  # 단어 토큰화\n",
    "sent_tokens = sent_tokenize(sentence)  # 문장 토큰화\n",
    "\n",
    "print(word_tokens)\n",
    "print(sent_tokens)"
   ]
  },
  {
   "cell_type": "code",
   "execution_count": 1,
   "id": "670205b066f675f0",
   "metadata": {
    "ExecuteTime": {
     "end_time": "2025-04-10T11:10:49.538437Z",
     "start_time": "2025-04-10T11:10:47.251871Z"
    }
   },
   "outputs": [
    {
     "name": "stderr",
     "output_type": "stream",
     "text": [
      "/Users/chohi/project/ai/DeepLearningDeepen/DeepLearningAdv/.venv/lib/python3.9/site-packages/urllib3/__init__.py:35: NotOpenSSLWarning: urllib3 v2 only supports OpenSSL 1.1.1+, currently the 'ssl' module is compiled with 'LibreSSL 2.8.3'. See: https://github.com/urllib3/urllib3/issues/3020\n",
      "  warnings.warn(\n"
     ]
    },
    {
     "name": "stdout",
     "output_type": "stream",
     "text": [
      "[PRON  - DT ] : Those\n",
      "[PRON  - WP ] : who\n",
      "[AUX   - MD ] : can\n",
      "[VERB  - VB ] : imagine\n",
      "[PRON  - NN ] : anything\n",
      "[PUNCT - ,  ] : ,\n",
      "[AUX   - MD ] : can\n",
      "[VERB  - VB ] : create\n",
      "[DET   - DT ] : the\n",
      "[ADJ   - JJ ] : impossible\n",
      "[PUNCT - .  ] : .\n"
     ]
    }
   ],
   "source": [
    "import spacy\n",
    "\n",
    "nlp = spacy.load(\"en_core_web_sm\")\n",
    "sentence = \"Those who can imagine anything, can create the impossible.\"\n",
    "doc = nlp(sentence)\n",
    "\n",
    "for token in doc:\n",
    "    print(f\"[{token.pos_:5} - {token.tag_:3}] : {token.text}\")"
   ]
  },
  {
   "cell_type": "code",
   "execution_count": 1,
   "id": "7063b21740d82907",
   "metadata": {
    "ExecuteTime": {
     "end_time": "2025-04-10T11:23:44.753699Z",
     "start_time": "2025-04-10T11:23:38.198839Z"
    }
   },
   "outputs": [
    {
     "name": "stderr",
     "output_type": "stream",
     "text": [
      "/Users/chohi/project/ai/DeepLearningDeepen/DeepLearningAdv/.venv/lib/python3.9/site-packages/urllib3/__init__.py:35: NotOpenSSLWarning: urllib3 v2 only supports OpenSSL 1.1.1+, currently the 'ssl' module is compiled with 'LibreSSL 2.8.3'. See: https://github.com/urllib3/urllib3/issues/3020\n",
      "  warnings.warn(\n"
     ]
    },
    {
     "name": "stdout",
     "output_type": "stream",
     "text": [
      "\n",
      "    Korpora 는 다른 분들이 연구 목적으로 공유해주신 말뭉치들을\n",
      "    손쉽게 다운로드, 사용할 수 있는 기능만을 제공합니다.\n",
      "\n",
      "    말뭉치들을 공유해 주신 분들에게 감사드리며, 각 말뭉치 별 설명과 라이센스를 공유 드립니다.\n",
      "    해당 말뭉치에 대해 자세히 알고 싶으신 분은 아래의 description 을 참고,\n",
      "    해당 말뭉치를 연구/상용의 목적으로 이용하실 때에는 아래의 라이센스를 참고해 주시기 바랍니다.\n",
      "\n",
      "    # Description\n",
      "    Author : Hyunjoong Kim lovit@github\n",
      "    Repository : https://github.com/lovit/petitions_archive\n",
      "    References :\n",
      "\n",
      "    청와대 국민청원 게시판의 데이터를 월별로 수집한 것입니다.\n",
      "    청원은 게시판에 글을 올린 뒤, 한달 간 청원이 진행됩니다.\n",
      "    수집되는 데이터는 청원종료가 된 이후의 데이터이며, 청원 내 댓글은 수집되지 않습니다.\n",
      "    단 청원의 동의 개수는 수집됩니다.\n",
      "    자세한 내용은 위의 repository를 참고하세요.\n",
      "\n",
      "    # License\n",
      "    CC0 1.0 Universal (CC0 1.0) Public Domain Dedication\n",
      "    Details in https://creativecommons.org/publicdomain/zero/1.0/\n",
      "\n",
      "[Korpora] Corpus `korean_petitions` is already installed at /Users/chohi/Korpora/korean_petitions/petitions_2017-08\n",
      "[Korpora] Corpus `korean_petitions` is already installed at /Users/chohi/Korpora/korean_petitions/petitions_2017-09\n",
      "[Korpora] Corpus `korean_petitions` is already installed at /Users/chohi/Korpora/korean_petitions/petitions_2017-10\n",
      "[Korpora] Corpus `korean_petitions` is already installed at /Users/chohi/Korpora/korean_petitions/petitions_2017-11\n",
      "[Korpora] Corpus `korean_petitions` is already installed at /Users/chohi/Korpora/korean_petitions/petitions_2017-12\n",
      "[Korpora] Corpus `korean_petitions` is already installed at /Users/chohi/Korpora/korean_petitions/petitions_2018-01\n",
      "[Korpora] Corpus `korean_petitions` is already installed at /Users/chohi/Korpora/korean_petitions/petitions_2018-02\n",
      "[Korpora] Corpus `korean_petitions` is already installed at /Users/chohi/Korpora/korean_petitions/petitions_2018-03\n",
      "[Korpora] Corpus `korean_petitions` is already installed at /Users/chohi/Korpora/korean_petitions/petitions_2018-04\n",
      "[Korpora] Corpus `korean_petitions` is already installed at /Users/chohi/Korpora/korean_petitions/petitions_2018-05\n",
      "[Korpora] Corpus `korean_petitions` is already installed at /Users/chohi/Korpora/korean_petitions/petitions_2018-06\n",
      "[Korpora] Corpus `korean_petitions` is already installed at /Users/chohi/Korpora/korean_petitions/petitions_2018-07\n",
      "[Korpora] Corpus `korean_petitions` is already installed at /Users/chohi/Korpora/korean_petitions/petitions_2018-08\n",
      "[Korpora] Corpus `korean_petitions` is already installed at /Users/chohi/Korpora/korean_petitions/petitions_2018-09\n",
      "[Korpora] Corpus `korean_petitions` is already installed at /Users/chohi/Korpora/korean_petitions/petitions_2018-10\n",
      "[Korpora] Corpus `korean_petitions` is already installed at /Users/chohi/Korpora/korean_petitions/petitions_2018-11\n",
      "[Korpora] Corpus `korean_petitions` is already installed at /Users/chohi/Korpora/korean_petitions/petitions_2018-12\n",
      "[Korpora] Corpus `korean_petitions` is already installed at /Users/chohi/Korpora/korean_petitions/petitions_2019-01\n",
      "[Korpora] Corpus `korean_petitions` is already installed at /Users/chohi/Korpora/korean_petitions/petitions_2019-02\n",
      "[Korpora] Corpus `korean_petitions` is already installed at /Users/chohi/Korpora/korean_petitions/petitions_2019-03\n",
      "청원 시작일 : 2017-08-25\n",
      "청원 종료일 : 2017-09-24\n",
      "청원 동의 수 : 88\n",
      "청원 범주 : 육아/교육\n",
      "청원 제목 : 학교는 인력센터, 취업센터가 아닙니다. 정말 간곡히 부탁드립니다.\n",
      "청원 본문 : 안녕하세요. 현재 사대, 교대 등 교원양성학교들의 예비\n"
     ]
    }
   ],
   "source": [
    "from Korpora import Korpora\n",
    "\n",
    "corpus = Korpora.load(\"korean_petitions\")\n",
    "dataset = corpus.train\n",
    "petition = dataset[0]\n",
    "\n",
    "print(\"청원 시작일 :\", petition.begin)\n",
    "print(\"청원 종료일 :\", petition.end)\n",
    "print(\"청원 동의 수 :\", petition.num_agree)\n",
    "print(\"청원 범주 :\", petition.category)\n",
    "print(\"청원 제목 :\", petition.title)\n",
    "print(\"청원 본문 :\", petition.text[:30])\n"
   ]
  },
  {
   "cell_type": "code",
   "execution_count": 2,
   "id": "700aa236a685ab43",
   "metadata": {
    "ExecuteTime": {
     "end_time": "2025-04-10T11:23:53.013567Z",
     "start_time": "2025-04-10T11:23:44.757777Z"
    }
   },
   "outputs": [
    {
     "name": "stdout",
     "output_type": "stream",
     "text": [
      "\n",
      "    Korpora 는 다른 분들이 연구 목적으로 공유해주신 말뭉치들을\n",
      "    손쉽게 다운로드, 사용할 수 있는 기능만을 제공합니다.\n",
      "\n",
      "    말뭉치들을 공유해 주신 분들에게 감사드리며, 각 말뭉치 별 설명과 라이센스를 공유 드립니다.\n",
      "    해당 말뭉치에 대해 자세히 알고 싶으신 분은 아래의 description 을 참고,\n",
      "    해당 말뭉치를 연구/상용의 목적으로 이용하실 때에는 아래의 라이센스를 참고해 주시기 바랍니다.\n",
      "\n",
      "    # Description\n",
      "    Author : Hyunjoong Kim lovit@github\n",
      "    Repository : https://github.com/lovit/petitions_archive\n",
      "    References :\n",
      "\n",
      "    청와대 국민청원 게시판의 데이터를 월별로 수집한 것입니다.\n",
      "    청원은 게시판에 글을 올린 뒤, 한달 간 청원이 진행됩니다.\n",
      "    수집되는 데이터는 청원종료가 된 이후의 데이터이며, 청원 내 댓글은 수집되지 않습니다.\n",
      "    단 청원의 동의 개수는 수집됩니다.\n",
      "    자세한 내용은 위의 repository를 참고하세요.\n",
      "\n",
      "    # License\n",
      "    CC0 1.0 Universal (CC0 1.0) Public Domain Dedication\n",
      "    Details in https://creativecommons.org/publicdomain/zero/1.0/\n",
      "\n",
      "[Korpora] Corpus `korean_petitions` is already installed at /Users/chohi/Korpora/korean_petitions/petitions_2017-08\n",
      "[Korpora] Corpus `korean_petitions` is already installed at /Users/chohi/Korpora/korean_petitions/petitions_2017-09\n",
      "[Korpora] Corpus `korean_petitions` is already installed at /Users/chohi/Korpora/korean_petitions/petitions_2017-10\n",
      "[Korpora] Corpus `korean_petitions` is already installed at /Users/chohi/Korpora/korean_petitions/petitions_2017-11\n",
      "[Korpora] Corpus `korean_petitions` is already installed at /Users/chohi/Korpora/korean_petitions/petitions_2017-12\n",
      "[Korpora] Corpus `korean_petitions` is already installed at /Users/chohi/Korpora/korean_petitions/petitions_2018-01\n",
      "[Korpora] Corpus `korean_petitions` is already installed at /Users/chohi/Korpora/korean_petitions/petitions_2018-02\n",
      "[Korpora] Corpus `korean_petitions` is already installed at /Users/chohi/Korpora/korean_petitions/petitions_2018-03\n",
      "[Korpora] Corpus `korean_petitions` is already installed at /Users/chohi/Korpora/korean_petitions/petitions_2018-04\n",
      "[Korpora] Corpus `korean_petitions` is already installed at /Users/chohi/Korpora/korean_petitions/petitions_2018-05\n",
      "[Korpora] Corpus `korean_petitions` is already installed at /Users/chohi/Korpora/korean_petitions/petitions_2018-06\n",
      "[Korpora] Corpus `korean_petitions` is already installed at /Users/chohi/Korpora/korean_petitions/petitions_2018-07\n",
      "[Korpora] Corpus `korean_petitions` is already installed at /Users/chohi/Korpora/korean_petitions/petitions_2018-08\n",
      "[Korpora] Corpus `korean_petitions` is already installed at /Users/chohi/Korpora/korean_petitions/petitions_2018-09\n",
      "[Korpora] Corpus `korean_petitions` is already installed at /Users/chohi/Korpora/korean_petitions/petitions_2018-10\n",
      "[Korpora] Corpus `korean_petitions` is already installed at /Users/chohi/Korpora/korean_petitions/petitions_2018-11\n",
      "[Korpora] Corpus `korean_petitions` is already installed at /Users/chohi/Korpora/korean_petitions/petitions_2018-12\n",
      "[Korpora] Corpus `korean_petitions` is already installed at /Users/chohi/Korpora/korean_petitions/petitions_2019-01\n",
      "[Korpora] Corpus `korean_petitions` is already installed at /Users/chohi/Korpora/korean_petitions/petitions_2019-02\n",
      "[Korpora] Corpus `korean_petitions` is already installed at /Users/chohi/Korpora/korean_petitions/petitions_2019-03\n"
     ]
    }
   ],
   "source": [
    "from Korpora import Korpora\n",
    "\n",
    "corpus = Korpora.load(\"korean_petitions\")\n",
    "petition = corpus.get_all_texts()\n",
    "with open(\"../datasets/corpus.txt\", \"w\", encoding=\"utf-8\") as f:\n",
    "    for petition in petition:\n",
    "        f.write(petition + \"\\n\")"
   ]
  },
  {
   "cell_type": "code",
   "execution_count": 3,
   "id": "fd4e9e3c5edc72a5",
   "metadata": {
    "ExecuteTime": {
     "end_time": "2025-04-10T11:24:54.981324Z",
     "start_time": "2025-04-10T11:23:53.085421Z"
    }
   },
   "outputs": [
    {
     "name": "stderr",
     "output_type": "stream",
     "text": [
      "sentencepiece_trainer.cc(178) LOG(INFO) Running command: --input=../datasets/corpus.txt    --model_prefix=../models/petition_bpe    --vocab_size=8000 model_type=bpe\n",
      "sentencepiece_trainer.cc(78) LOG(INFO) Starts training with : \n",
      "trainer_spec {\n",
      "  input: ../datasets/corpus.txt\n",
      "  input_format: \n",
      "  model_prefix: ../models/petition_bpe\n",
      "  model_type: BPE\n",
      "  vocab_size: 8000\n",
      "  self_test_sample_size: 0\n",
      "  character_coverage: 0.9995\n",
      "  input_sentence_size: 0\n",
      "  shuffle_input_sentence: 1\n",
      "  seed_sentencepiece_size: 1000000\n",
      "  shrinking_factor: 0.75\n",
      "  max_sentence_length: 4192\n",
      "  num_threads: 16\n",
      "  num_sub_iterations: 2\n",
      "  max_sentencepiece_length: 16\n",
      "  split_by_unicode_script: 1\n",
      "  split_by_number: 1\n",
      "  split_by_whitespace: 1\n",
      "  split_digits: 0\n",
      "  pretokenization_delimiter: \n",
      "  treat_whitespace_as_suffix: 0\n",
      "  allow_whitespace_only_pieces: 0\n",
      "  required_chars: \n",
      "  byte_fallback: 0\n",
      "  vocabulary_output_piece_score: 1\n",
      "  train_extremely_large_corpus: 0\n",
      "  seed_sentencepieces_file: \n",
      "  hard_vocab_limit: 1\n",
      "  use_all_vocab: 0\n",
      "  unk_id: 0\n",
      "  bos_id: 1\n",
      "  eos_id: 2\n",
      "  pad_id: -1\n",
      "  unk_piece: <unk>\n",
      "  bos_piece: <s>\n",
      "  eos_piece: </s>\n",
      "  pad_piece: <pad>\n",
      "  unk_surface:  ⁇ \n",
      "  enable_differential_privacy: 0\n",
      "  differential_privacy_noise_level: 0\n",
      "  differential_privacy_clipping_threshold: 0\n",
      "}\n",
      "normalizer_spec {\n",
      "  name: nmt_nfkc\n",
      "  add_dummy_prefix: 1\n",
      "  remove_extra_whitespaces: 1\n",
      "  escape_whitespaces: 1\n",
      "  normalization_rule_tsv: \n",
      "}\n",
      "denormalizer_spec {}\n",
      "trainer_interface.cc(353) LOG(INFO) SentenceIterator is not specified. Using MultiFileSentenceIterator.\n",
      "trainer_interface.cc(185) LOG(INFO) Loading corpus: ../datasets/corpus.txt\n",
      "trainer_interface.cc(380) LOG(WARNING) Found too long line (12769 > 4192).\n",
      "trainer_interface.cc(382) LOG(WARNING) Too long lines are skipped in the training.\n",
      "trainer_interface.cc(383) LOG(WARNING) The maximum length can be changed with --max_sentence_length=<size> flag.\n",
      "trainer_interface.cc(409) LOG(INFO) Loaded all 413266 sentences\n",
      "trainer_interface.cc(416) LOG(INFO) Skipped 20277 too long sentences.\n",
      "trainer_interface.cc(425) LOG(INFO) Adding meta_piece: <unk>\n",
      "trainer_interface.cc(425) LOG(INFO) Adding meta_piece: <s>\n",
      "trainer_interface.cc(425) LOG(INFO) Adding meta_piece: </s>\n",
      "trainer_interface.cc(430) LOG(INFO) Normalizing sentences...\n",
      "trainer_interface.cc(539) LOG(INFO) all chars count=148242130\n",
      "trainer_interface.cc(550) LOG(INFO) Done: 99.95% characters are covered.\n",
      "trainer_interface.cc(560) LOG(INFO) Alphabet size=1488\n",
      "trainer_interface.cc(561) LOG(INFO) Final character coverage=0.9995\n",
      "trainer_interface.cc(592) LOG(INFO) Done! preprocessed 413266 sentences.\n",
      "trainer_interface.cc(598) LOG(INFO) Tokenizing input sentences with whitespace: 413266\n",
      "trainer_interface.cc(609) LOG(INFO) Done! 3780722\n",
      "bpe_model_trainer.cc(159) LOG(INFO) Updating active symbols. max_freq=1787289 min_freq=751\n",
      "bpe_model_trainer.cc(268) LOG(INFO) Added: freq=338893 size=20 all=258118 active=23349 piece=하고\n",
      "bpe_model_trainer.cc(268) LOG(INFO) Added: freq=247667 size=40 all=268073 active=33304 piece=▁기\n",
      "bpe_model_trainer.cc(268) LOG(INFO) Added: freq=173003 size=60 all=274033 active=39264 piece=지만\n",
      "bpe_model_trainer.cc(268) LOG(INFO) Added: freq=143059 size=80 all=282269 active=47500 piece=▁만\n",
      "bpe_model_trainer.cc(268) LOG(INFO) Added: freq=116337 size=100 all=291236 active=56467 piece=▁하는\n",
      "bpe_model_trainer.cc(159) LOG(INFO) Updating active symbols. max_freq=113788 min_freq=682\n",
      "bpe_model_trainer.cc(268) LOG(INFO) Added: freq=103233 size=120 all=298236 active=21332 piece=▁알\n",
      "bpe_model_trainer.cc(268) LOG(INFO) Added: freq=93442 size=140 all=304094 active=27190 piece=▁분\n",
      "bpe_model_trainer.cc(268) LOG(INFO) Added: freq=84136 size=160 all=310687 active=33783 piece=--\n",
      "bpe_model_trainer.cc(268) LOG(INFO) Added: freq=76586 size=180 all=316627 active=39723 piece=▁입\n",
      "bpe_model_trainer.cc(268) LOG(INFO) Added: freq=65956 size=200 all=323981 active=47077 piece=▁것이\n",
      "bpe_model_trainer.cc(159) LOG(INFO) Updating active symbols. max_freq=65843 min_freq=609\n",
      "bpe_model_trainer.cc(268) LOG(INFO) Added: freq=59610 size=220 all=329308 active=21428 piece=▁출\n",
      "bpe_model_trainer.cc(268) LOG(INFO) Added: freq=54992 size=240 all=335561 active=27681 piece=네요\n",
      "bpe_model_trainer.cc(268) LOG(INFO) Added: freq=49259 size=260 all=342032 active=34152 piece=자가\n",
      "bpe_model_trainer.cc(268) LOG(INFO) Added: freq=46508 size=280 all=348298 active=40418 piece=▁많이\n",
      "bpe_model_trainer.cc(268) LOG(INFO) Added: freq=43503 size=300 all=354113 active=46233 piece=▁우리나라\n",
      "bpe_model_trainer.cc(159) LOG(INFO) Updating active symbols. max_freq=43398 min_freq=547\n",
      "bpe_model_trainer.cc(268) LOG(INFO) Added: freq=41360 size=320 all=360492 active=23872 piece=사람\n",
      "bpe_model_trainer.cc(268) LOG(INFO) Added: freq=39698 size=340 all=365823 active=29203 piece=▁범죄\n",
      "bpe_model_trainer.cc(268) LOG(INFO) Added: freq=38417 size=360 all=369782 active=33162 piece=▁북한\n",
      "bpe_model_trainer.cc(268) LOG(INFO) Added: freq=36046 size=380 all=376031 active=39411 piece=▁앞\n",
      "bpe_model_trainer.cc(268) LOG(INFO) Added: freq=34688 size=400 all=381549 active=44929 piece=▁개인\n",
      "bpe_model_trainer.cc(159) LOG(INFO) Updating active symbols. max_freq=34622 min_freq=497\n",
      "bpe_model_trainer.cc(268) LOG(INFO) Added: freq=33475 size=420 all=387398 active=24631 piece=▁이제\n",
      "bpe_model_trainer.cc(268) LOG(INFO) Added: freq=31696 size=440 all=394444 active=31677 piece=▁복\n",
      "bpe_model_trainer.cc(268) LOG(INFO) Added: freq=30513 size=460 all=398115 active=35348 piece=▁좀\n",
      "bpe_model_trainer.cc(268) LOG(INFO) Added: freq=29579 size=480 all=404556 active=41789 piece=▁사실\n",
      "bpe_model_trainer.cc(268) LOG(INFO) Added: freq=28217 size=500 all=411792 active=49025 piece=▁계속\n",
      "bpe_model_trainer.cc(159) LOG(INFO) Updating active symbols. max_freq=28173 min_freq=454\n",
      "bpe_model_trainer.cc(268) LOG(INFO) Added: freq=26746 size=520 all=416247 active=24744 piece=하였\n",
      "bpe_model_trainer.cc(268) LOG(INFO) Added: freq=25576 size=540 all=422779 active=31276 piece=▁존\n",
      "bpe_model_trainer.cc(268) LOG(INFO) Added: freq=24962 size=560 all=428899 active=37396 piece=▁있고\n",
      "bpe_model_trainer.cc(268) LOG(INFO) Added: freq=24255 size=580 all=432967 active=41464 piece=▁자유\n",
      "bpe_model_trainer.cc(268) LOG(INFO) Added: freq=23620 size=600 all=436445 active=44942 piece=▁일반\n",
      "bpe_model_trainer.cc(159) LOG(INFO) Updating active symbols. max_freq=23596 min_freq=420\n",
      "bpe_model_trainer.cc(268) LOG(INFO) Added: freq=22793 size=620 all=442868 active=27968 piece=▁사고\n",
      "bpe_model_trainer.cc(268) LOG(INFO) Added: freq=22014 size=640 all=448645 active=33745 piece=▁갑\n",
      "bpe_model_trainer.cc(268) LOG(INFO) Added: freq=21619 size=660 all=453077 active=38177 piece=으니\n",
      "bpe_model_trainer.cc(268) LOG(INFO) Added: freq=21092 size=680 all=457269 active=42369 piece=하다고\n",
      "bpe_model_trainer.cc(268) LOG(INFO) Added: freq=20383 size=700 all=462326 active=47426 piece=▁이러한\n",
      "bpe_model_trainer.cc(159) LOG(INFO) Updating active symbols. max_freq=20371 min_freq=390\n",
      "bpe_model_trainer.cc(268) LOG(INFO) Added: freq=19890 size=720 all=467154 active=27846 piece=교육\n",
      "bpe_model_trainer.cc(268) LOG(INFO) Added: freq=19336 size=740 all=472423 active=33115 piece=▁남성\n",
      "bpe_model_trainer.cc(268) LOG(INFO) Added: freq=18625 size=760 all=477886 active=38578 piece=▁키\n",
      "bpe_model_trainer.cc(268) LOG(INFO) Added: freq=18127 size=780 all=481041 active=41733 piece=제도\n",
      "bpe_model_trainer.cc(268) LOG(INFO) Added: freq=17621 size=800 all=486677 active=47369 piece=▁시행\n",
      "bpe_model_trainer.cc(159) LOG(INFO) Updating active symbols. max_freq=17617 min_freq=366\n",
      "bpe_model_trainer.cc(268) LOG(INFO) Added: freq=17027 size=820 all=490990 active=28457 piece=▁월급\n",
      "bpe_model_trainer.cc(268) LOG(INFO) Added: freq=16359 size=840 all=494809 active=32276 piece=▁미세먼지\n",
      "bpe_model_trainer.cc(268) LOG(INFO) Added: freq=15966 size=860 all=499376 active=36843 piece=▁도움\n",
      "bpe_model_trainer.cc(268) LOG(INFO) Added: freq=15661 size=880 all=504286 active=41753 piece=▁그만\n",
      "bpe_model_trainer.cc(268) LOG(INFO) Added: freq=15444 size=900 all=508764 active=46231 piece=▁최근\n",
      "bpe_model_trainer.cc(159) LOG(INFO) Updating active symbols. max_freq=15439 min_freq=346\n",
      "bpe_model_trainer.cc(268) LOG(INFO) Added: freq=15085 size=920 all=512789 active=29362 piece=▁총\n",
      "bpe_model_trainer.cc(268) LOG(INFO) Added: freq=14807 size=940 all=516167 active=32740 piece=▁되었습니다\n",
      "bpe_model_trainer.cc(268) LOG(INFO) Added: freq=14495 size=960 all=521423 active=37996 piece=▁이야\n",
      "bpe_model_trainer.cc(268) LOG(INFO) Added: freq=14176 size=980 all=525405 active=41978 piece=규직\n",
      "bpe_model_trainer.cc(268) LOG(INFO) Added: freq=13897 size=1000 all=530187 active=46760 piece=비를\n",
      "bpe_model_trainer.cc(159) LOG(INFO) Updating active symbols. max_freq=13889 min_freq=327\n",
      "bpe_model_trainer.cc(268) LOG(INFO) Added: freq=13725 size=1020 all=534977 active=30828 piece=▁부족\n",
      "bpe_model_trainer.cc(268) LOG(INFO) Added: freq=13371 size=1040 all=539556 active=35407 piece=▁침\n",
      "bpe_model_trainer.cc(268) LOG(INFO) Added: freq=13104 size=1060 all=543973 active=39824 piece=▁선거\n",
      "bpe_model_trainer.cc(268) LOG(INFO) Added: freq=12880 size=1080 all=550745 active=46596 piece=▁기사\n",
      "bpe_model_trainer.cc(268) LOG(INFO) Added: freq=12695 size=1100 all=555714 active=51565 piece=▁커\n",
      "bpe_model_trainer.cc(159) LOG(INFO) Updating active symbols. max_freq=12694 min_freq=307\n",
      "bpe_model_trainer.cc(268) LOG(INFO) Added: freq=12347 size=1120 all=559649 active=31620 piece=▁규제\n",
      "bpe_model_trainer.cc(268) LOG(INFO) Added: freq=12080 size=1140 all=563650 active=35621 piece=▁있지만\n",
      "bpe_model_trainer.cc(268) LOG(INFO) Added: freq=11903 size=1160 all=568110 active=40081 piece=▁정책을\n",
      "bpe_model_trainer.cc(268) LOG(INFO) Added: freq=11745 size=1180 all=573607 active=45578 piece=일을\n",
      "bpe_model_trainer.cc(268) LOG(INFO) Added: freq=11504 size=1200 all=578569 active=50540 piece=▁발전\n",
      "bpe_model_trainer.cc(159) LOG(INFO) Updating active symbols. max_freq=11493 min_freq=291\n",
      "bpe_model_trainer.cc(268) LOG(INFO) Added: freq=11361 size=1220 all=584134 active=34303 piece=▁하면서\n",
      "bpe_model_trainer.cc(268) LOG(INFO) Added: freq=11218 size=1240 all=587476 active=37645 piece=▁자신의\n",
      "bpe_model_trainer.cc(268) LOG(INFO) Added: freq=11034 size=1260 all=592147 active=42316 piece=▁교통\n",
      "bpe_model_trainer.cc(268) LOG(INFO) Added: freq=10864 size=1280 all=597272 active=47441 piece=▁로\n",
      "bpe_model_trainer.cc(268) LOG(INFO) Added: freq=10688 size=1300 all=600995 active=51164 piece=▁주변\n",
      "bpe_model_trainer.cc(159) LOG(INFO) Updating active symbols. max_freq=10656 min_freq=275\n",
      "bpe_model_trainer.cc(268) LOG(INFO) Added: freq=10486 size=1320 all=606072 active=34971 piece=소를\n",
      "bpe_model_trainer.cc(268) LOG(INFO) Added: freq=10312 size=1340 all=611926 active=40825 piece=▁있어서\n",
      "bpe_model_trainer.cc(268) LOG(INFO) Added: freq=10180 size=1360 all=616295 active=45194 piece=을때\n",
      "bpe_model_trainer.cc(268) LOG(INFO) Added: freq=9975 size=1380 all=620665 active=49564 piece=▁:\n",
      "bpe_model_trainer.cc(268) LOG(INFO) Added: freq=9865 size=1400 all=624192 active=53091 piece=▁200\n",
      "bpe_model_trainer.cc(159) LOG(INFO) Updating active symbols. max_freq=9855 min_freq=261\n",
      "bpe_model_trainer.cc(268) LOG(INFO) Added: freq=9764 size=1420 all=628907 active=35901 piece=▁서로\n",
      "bpe_model_trainer.cc(268) LOG(INFO) Added: freq=9588 size=1440 all=633100 active=40094 piece=▁차별\n",
      "bpe_model_trainer.cc(268) LOG(INFO) Added: freq=9403 size=1460 all=638985 active=45979 piece=▁넣\n",
      "bpe_model_trainer.cc(268) LOG(INFO) Added: freq=9237 size=1480 all=642408 active=49402 piece=▁있으며\n",
      "bpe_model_trainer.cc(268) LOG(INFO) Added: freq=9120 size=1500 all=646479 active=53473 piece=▁근데\n",
      "bpe_model_trainer.cc(159) LOG(INFO) Updating active symbols. max_freq=9119 min_freq=249\n",
      "bpe_model_trainer.cc(268) LOG(INFO) Added: freq=9007 size=1520 all=653519 active=39300 piece=▁주식\n",
      "bpe_model_trainer.cc(268) LOG(INFO) Added: freq=8856 size=1540 all=657027 active=42808 piece=하���니까\n",
      "bpe_model_trainer.cc(268) LOG(INFO) Added: freq=8750 size=1560 all=660652 active=46433 piece=▁없다는\n",
      "bpe_model_trainer.cc(268) LOG(INFO) Added: freq=8621 size=1580 all=663845 active=49626 piece=▁집단\n",
      "bpe_model_trainer.cc(268) LOG(INFO) Added: freq=8456 size=1600 all=667539 active=53320 piece=서는\n",
      "bpe_model_trainer.cc(159) LOG(INFO) Updating active symbols. max_freq=8453 min_freq=238\n",
      "bpe_model_trainer.cc(268) LOG(INFO) Added: freq=8329 size=1620 all=672510 active=37939 piece=▁당시\n",
      "bpe_model_trainer.cc(268) LOG(INFO) Added: freq=8227 size=1640 all=675642 active=41071 piece=▁쓸\n",
      "bpe_model_trainer.cc(268) LOG(INFO) Added: freq=8123 size=1660 all=680048 active=45477 piece=▁은행\n",
      "bpe_model_trainer.cc(268) LOG(INFO) Added: freq=7978 size=1680 all=684953 active=50382 piece=겠다는\n",
      "bpe_model_trainer.cc(268) LOG(INFO) Added: freq=7857 size=1700 all=688344 active=53773 piece=호사\n",
      "bpe_model_trainer.cc(159) LOG(INFO) Updating active symbols. max_freq=7846 min_freq=228\n",
      "bpe_model_trainer.cc(268) LOG(INFO) Added: freq=7767 size=1720 all=691467 active=37299 piece=했는데\n",
      "bpe_model_trainer.cc(268) LOG(INFO) Added: freq=7634 size=1740 all=694829 active=40661 piece=보는\n",
      "bpe_model_trainer.cc(268) LOG(INFO) Added: freq=7537 size=1760 all=699225 active=45057 piece=▁성범죄\n",
      "bpe_model_trainer.cc(268) LOG(INFO) Added: freq=7415 size=1780 all=703664 active=49496 piece=▁정당\n",
      "bpe_model_trainer.cc(268) LOG(INFO) Added: freq=7331 size=1800 all=708604 active=54436 piece=▁맞는\n",
      "bpe_model_trainer.cc(159) LOG(INFO) Updating active symbols. max_freq=7331 min_freq=220\n",
      "bpe_model_trainer.cc(268) LOG(INFO) Added: freq=7228 size=1820 all=713141 active=39871 piece=▁여론\n",
      "bpe_model_trainer.cc(268) LOG(INFO) Added: freq=7111 size=1840 all=718517 active=45247 piece=정보\n",
      "bpe_model_trainer.cc(268) LOG(INFO) Added: freq=7051 size=1860 all=722226 active=48956 piece=▁아동\n",
      "bpe_model_trainer.cc(268) LOG(INFO) Added: freq=6958 size=1880 all=725814 active=52544 piece=▁지속\n",
      "bpe_model_trainer.cc(268) LOG(INFO) Added: freq=6903 size=1900 all=730646 active=57376 piece=▁차라리\n",
      "bpe_model_trainer.cc(159) LOG(INFO) Updating active symbols. max_freq=6896 min_freq=210\n",
      "bpe_model_trainer.cc(268) LOG(INFO) Added: freq=6800 size=1920 all=733827 active=39666 piece=▁위협\n",
      "bpe_model_trainer.cc(268) LOG(INFO) Added: freq=6710 size=1940 all=740376 active=46215 piece=▁직업\n",
      "bpe_model_trainer.cc(268) LOG(INFO) Added: freq=6643 size=1960 all=743556 active=49395 piece=▁손해\n",
      "bpe_model_trainer.cc(268) LOG(INFO) Added: freq=6576 size=1980 all=747337 active=53176 piece=▁시설\n",
      "bpe_model_trainer.cc(268) LOG(INFO) Added: freq=6508 size=2000 all=752745 active=58584 piece=▁관한\n",
      "bpe_model_trainer.cc(159) LOG(INFO) Updating active symbols. max_freq=6508 min_freq=201\n",
      "bpe_model_trainer.cc(268) LOG(INFO) Added: freq=6455 size=2020 all=756109 active=40952 piece=,000\n",
      "bpe_model_trainer.cc(268) LOG(INFO) Added: freq=6379 size=2040 all=759837 active=44680 piece=교통\n",
      "bpe_model_trainer.cc(268) LOG(INFO) Added: freq=6317 size=2060 all=764702 active=49545 piece=▁인구\n",
      "bpe_model_trainer.cc(268) LOG(INFO) Added: freq=6254 size=2080 all=766989 active=51832 piece=▁보이\n",
      "bpe_model_trainer.cc(268) LOG(INFO) Added: freq=6212 size=2100 all=771577 active=56420 piece=반도\n",
      "bpe_model_trainer.cc(159) LOG(INFO) Updating active symbols. max_freq=6212 min_freq=194\n",
      "bpe_model_trainer.cc(268) LOG(INFO) Added: freq=6161 size=2120 all=776885 active=43671 piece=ᅲᅲ\n",
      "bpe_model_trainer.cc(268) LOG(INFO) Added: freq=6109 size=2140 all=782360 active=49146 piece=▁수입\n",
      "bpe_model_trainer.cc(268) LOG(INFO) Added: freq=6003 size=2160 all=785758 active=52544 piece=증을\n",
      "bpe_model_trainer.cc(268) LOG(INFO) Added: freq=5940 size=2180 all=790449 active=57235 piece=▁그러면\n",
      "bpe_model_trainer.cc(268) LOG(INFO) Added: freq=5885 size=2200 all=793672 active=60458 piece=▁나와\n",
      "bpe_model_trainer.cc(159) LOG(INFO) Updating active symbols. max_freq=5880 min_freq=187\n",
      "bpe_model_trainer.cc(268) LOG(INFO) Added: freq=5821 size=2220 all=797145 active=43082 piece=된다고\n",
      "bpe_model_trainer.cc(268) LOG(INFO) Added: freq=5767 size=2240 all=800312 active=46249 piece=▁늘어나\n",
      "bpe_model_trainer.cc(268) LOG(INFO) Added: freq=5708 size=2260 all=804089 active=50026 piece=er\n",
      "bpe_model_trainer.cc(268) LOG(INFO) Added: freq=5669 size=2280 all=808712 active=54649 piece=자녀\n",
      "bpe_model_trainer.cc(268) LOG(INFO) Added: freq=5611 size=2300 all=813161 active=59098 piece=▁거부\n",
      "bpe_model_trainer.cc(159) LOG(INFO) Updating active symbols. max_freq=5609 min_freq=181\n",
      "bpe_model_trainer.cc(268) LOG(INFO) Added: freq=5556 size=2320 all=816416 active=43743 piece=었고\n",
      "bpe_model_trainer.cc(268) LOG(INFO) Added: freq=5500 size=2340 all=821401 active=48728 piece=▁쳐\n",
      "bpe_model_trainer.cc(268) LOG(INFO) Added: freq=5449 size=2360 all=826578 active=53905 piece=▁어머니\n",
      "bpe_model_trainer.cc(268) LOG(INFO) Added: freq=5398 size=2380 all=830501 active=57828 piece=���고\n",
      "bpe_model_trainer.cc(268) LOG(INFO) Added: freq=5366 size=2400 all=834635 active=61962 piece=▁학부모\n",
      "bpe_model_trainer.cc(159) LOG(INFO) Updating active symbols. max_freq=5358 min_freq=174\n",
      "bpe_model_trainer.cc(268) LOG(INFO) Added: freq=5296 size=2420 all=839094 active=46067 piece=▁자국민\n",
      "bpe_model_trainer.cc(268) LOG(INFO) Added: freq=5226 size=2440 all=842639 active=49612 piece=▁사람입니다\n",
      "bpe_model_trainer.cc(268) LOG(INFO) Added: freq=5199 size=2460 all=845208 active=52181 piece=▁확대\n",
      "bpe_model_trainer.cc(268) LOG(INFO) Added: freq=5138 size=2480 all=849565 active=56538 piece=▁대법\n",
      "bpe_model_trainer.cc(268) LOG(INFO) Added: freq=5090 size=2500 all=853141 active=60114 piece=▁법으로\n",
      "bpe_model_trainer.cc(159) LOG(INFO) Updating active symbols. max_freq=5089 min_freq=169\n",
      "bpe_model_trainer.cc(268) LOG(INFO) Added: freq=5027 size=2520 all=856696 active=46150 piece=▁권리\n",
      "bpe_model_trainer.cc(268) LOG(INFO) Added: freq=4984 size=2540 all=862366 active=51820 piece=▁비롯\n",
      "bpe_model_trainer.cc(268) LOG(INFO) Added: freq=4947 size=2560 all=866581 active=56035 piece=사이트\n",
      "bpe_model_trainer.cc(268) LOG(INFO) Added: freq=4889 size=2580 all=870816 active=60270 piece=▁생리\n",
      "bpe_model_trainer.cc(268) LOG(INFO) Added: freq=4847 size=2600 all=873173 active=62627 piece=▁외교\n",
      "bpe_model_trainer.cc(159) LOG(INFO) Updating active symbols. max_freq=4845 min_freq=163\n",
      "bpe_model_trainer.cc(268) LOG(INFO) Added: freq=4793 size=2620 all=876782 active=47064 piece=▁자주\n",
      "bpe_model_trainer.cc(268) LOG(INFO) Added: freq=4752 size=2640 all=880320 active=50602 piece=▁연구\n",
      "bpe_model_trainer.cc(268) LOG(INFO) Added: freq=4720 size=2660 all=883673 active=53955 piece=▁보면서\n",
      "bpe_model_trainer.cc(268) LOG(INFO) Added: freq=4681 size=2680 all=886929 active=57211 piece=▁반영\n",
      "bpe_model_trainer.cc(268) LOG(INFO) Added: freq=4640 size=2700 all=889749 active=60031 piece=▁적폐청산\n",
      "bpe_model_trainer.cc(159) LOG(INFO) Updating active symbols. max_freq=4638 min_freq=159\n",
      "bpe_model_trainer.cc(268) LOG(INFO) Added: freq=4596 size=2720 all=892245 active=46842 piece=▁갚\n",
      "bpe_model_trainer.cc(268) LOG(INFO) Added: freq=4558 size=2740 all=896530 active=51127 piece=감독\n",
      "bpe_model_trainer.cc(268) LOG(INFO) Added: freq=4522 size=2760 all=899356 active=53953 piece=▁어제\n",
      "bpe_model_trainer.cc(268) LOG(INFO) Added: freq=4480 size=2780 all=901804 active=56401 piece=▁규정\n",
      "bpe_model_trainer.cc(268) LOG(INFO) Added: freq=4420 size=2800 all=906388 active=60985 piece=기위해\n",
      "bpe_model_trainer.cc(159) LOG(INFO) Updating active symbols. max_freq=4420 min_freq=154\n",
      "bpe_model_trainer.cc(268) LOG(INFO) Added: freq=4381 size=2820 all=909222 active=47888 piece=▁대한민국에서\n",
      "bpe_model_trainer.cc(268) LOG(INFO) Added: freq=4351 size=2840 all=912206 active=50872 piece=▁굳\n",
      "bpe_model_trainer.cc(268) LOG(INFO) Added: freq=4319 size=2860 all=916487 active=55153 piece=▁촉구\n",
      "bpe_model_trainer.cc(268) LOG(INFO) Added: freq=4276 size=2880 all=919991 active=58657 piece=▁공기\n",
      "bpe_model_trainer.cc(268) LOG(INFO) Added: freq=4249 size=2900 all=924216 active=62882 piece=제는\n",
      "bpe_model_trainer.cc(159) LOG(INFO) Updating active symbols. max_freq=4247 min_freq=150\n",
      "bpe_model_trainer.cc(268) LOG(INFO) Added: freq=4219 size=2920 all=926961 active=48636 piece=▁북한이\n",
      "bpe_model_trainer.cc(268) LOG(INFO) Added: freq=4194 size=2940 all=930559 active=52234 piece=▁이익을\n",
      "bpe_model_trainer.cc(268) LOG(INFO) Added: freq=4159 size=2960 all=934773 active=56448 piece=물의\n",
      "bpe_model_trainer.cc(268) LOG(INFO) Added: freq=4129 size=2980 all=938059 active=59734 piece=▁따로\n",
      "bpe_model_trainer.cc(268) LOG(INFO) Added: freq=4105 size=3000 all=942365 active=64040 piece=신고\n",
      "bpe_model_trainer.cc(159) LOG(INFO) Updating active symbols. max_freq=4105 min_freq=146\n",
      "bpe_model_trainer.cc(268) LOG(INFO) Added: freq=4074 size=3020 all=947374 active=51415 piece=▁시점\n",
      "bpe_model_trainer.cc(268) LOG(INFO) Added: freq=4033 size=3040 all=950357 active=54398 piece=는데요\n",
      "bpe_model_trainer.cc(268) LOG(INFO) Added: freq=4002 size=3060 all=954346 active=58387 piece=▁일방\n",
      "bpe_model_trainer.cc(268) LOG(INFO) Added: freq=3972 size=3080 all=957543 active=61584 piece=▁누구를\n",
      "bpe_model_trainer.cc(268) LOG(INFO) Added: freq=3940 size=3100 all=960529 active=64570 piece=▁자신들의\n",
      "bpe_model_trainer.cc(159) LOG(INFO) Updating active symbols. max_freq=3938 min_freq=142\n",
      "bpe_model_trainer.cc(268) LOG(INFO) Added: freq=3899 size=3120 all=963433 active=50908 piece=.\"\n",
      "bpe_model_trainer.cc(268) LOG(INFO) Added: freq=3863 size=3140 all=967442 active=54917 piece=▁윤\n",
      "bpe_model_trainer.cc(268) LOG(INFO) Added: freq=3845 size=3160 all=970934 active=58409 piece=▁거기\n",
      "bpe_model_trainer.cc(268) LOG(INFO) Added: freq=3809 size=3180 all=974040 active=61515 piece=위로\n",
      "bpe_model_trainer.cc(268) LOG(INFO) Added: freq=3780 size=3200 all=977208 active=64683 piece=▁느껴\n",
      "bpe_model_trainer.cc(159) LOG(INFO) Updating active symbols. max_freq=3779 min_freq=139\n",
      "bpe_model_trainer.cc(268) LOG(INFO) Added: freq=3745 size=3220 all=982314 active=53901 piece=▁높아\n",
      "bpe_model_trainer.cc(268) LOG(INFO) Added: freq=3721 size=3240 all=985081 active=56668 piece=▁못해\n",
      "bpe_model_trainer.cc(268) LOG(INFO) Added: freq=3696 size=3260 all=989068 active=60655 piece=▁면접\n",
      "bpe_model_trainer.cc(268) LOG(INFO) Added: freq=3665 size=3280 all=991859 active=63446 piece=사람들이\n",
      "bpe_model_trainer.cc(268) LOG(INFO) Added: freq=3644 size=3300 all=995881 active=67468 piece=▁곳에\n",
      "bpe_model_trainer.cc(159) LOG(INFO) Updating active symbols. max_freq=3640 min_freq=135\n",
      "bpe_model_trainer.cc(268) LOG(INFO) Added: freq=3620 size=3320 all=999747 active=53642 piece=▁면허\n",
      "bpe_model_trainer.cc(268) LOG(INFO) Added: freq=3599 size=3340 all=1003049 active=56944 piece=▁영향을\n",
      "bpe_model_trainer.cc(268) LOG(INFO) Added: freq=3577 size=3360 all=1007369 active=61264 piece=▁제품\n",
      "bpe_model_trainer.cc(268) LOG(INFO) Added: freq=3547 size=3380 all=1011275 active=65170 piece=는거\n",
      "bpe_model_trainer.cc(268) LOG(INFO) Added: freq=3523 size=3400 all=1014635 active=68530 piece=▁재벌\n",
      "bpe_model_trainer.cc(159) LOG(INFO) Updating active symbols. max_freq=3522 min_freq=131\n",
      "bpe_model_trainer.cc(268) LOG(INFO) Added: freq=3500 size=3420 all=1017264 active=53170 piece=▁개헌\n",
      "bpe_model_trainer.cc(268) LOG(INFO) Added: freq=3471 size=3440 all=1020855 active=56761 piece=▁풍\n",
      "bpe_model_trainer.cc(268) LOG(INFO) Added: freq=3452 size=3460 all=1024783 active=60689 piece=증이\n",
      "bpe_model_trainer.cc(268) LOG(INFO) Added: freq=3433 size=3480 all=1028650 active=64556 piece=▁양성\n",
      "bpe_model_trainer.cc(268) LOG(INFO) Added: freq=3415 size=3500 all=1033536 active=69442 piece=▁사실상\n",
      "bpe_model_trainer.cc(159) LOG(INFO) Updating active symbols. max_freq=3414 min_freq=128\n",
      "bpe_model_trainer.cc(268) LOG(INFO) Added: freq=3395 size=3520 all=1036915 active=55037 piece=▁6.\n",
      "bpe_model_trainer.cc(268) LOG(INFO) Added: freq=3373 size=3540 all=1041187 active=59309 piece=▁해체\n",
      "bpe_model_trainer.cc(268) LOG(INFO) Added: freq=3357 size=3560 all=1045278 active=63400 piece=해야할\n",
      "bpe_model_trainer.cc(268) LOG(INFO) Added: freq=3338 size=3580 all=1049915 active=68037 piece=▁서울시\n",
      "bpe_model_trainer.cc(268) LOG(INFO) Added: freq=3312 size=3600 all=1053859 active=71981 piece=▁경제가\n",
      "bpe_model_trainer.cc(159) LOG(INFO) Updating active symbols. max_freq=3311 min_freq=124\n",
      "bpe_model_trainer.cc(268) LOG(INFO) Added: freq=3292 size=3620 all=1056848 active=55648 piece=▁보내고\n",
      "bpe_model_trainer.cc(268) LOG(INFO) Added: freq=3267 size=3640 all=1060840 active=59640 piece=연히\n",
      "bpe_model_trainer.cc(268) LOG(INFO) Added: freq=3244 size=3660 all=1064177 active=62977 piece=▁자세\n",
      "bpe_model_trainer.cc(268) LOG(INFO) Added: freq=3225 size=3680 all=1067100 active=65900 piece=▁자기들\n",
      "bpe_model_trainer.cc(268) LOG(INFO) Added: freq=3196 size=3700 all=1069725 active=68525 piece=▁인도\n",
      "bpe_model_trainer.cc(159) LOG(INFO) Updating active symbols. max_freq=3194 min_freq=121\n",
      "bpe_model_trainer.cc(268) LOG(INFO) Added: freq=3179 size=3720 all=1074102 active=57651 piece=사람은\n",
      "bpe_model_trainer.cc(268) LOG(INFO) Added: freq=3159 size=3740 all=1076186 active=59735 piece=▁합격\n",
      "bpe_model_trainer.cc(268) LOG(INFO) Added: freq=3135 size=3760 all=1079790 active=63339 piece=▁는\n",
      "bpe_model_trainer.cc(268) LOG(INFO) Added: freq=3114 size=3780 all=1082257 active=65806 piece=이야\n",
      "bpe_model_trainer.cc(268) LOG(INFO) Added: freq=3094 size=3800 all=1086064 active=69613 piece=싶은\n",
      "bpe_model_trainer.cc(159) LOG(INFO) Updating active symbols. max_freq=3093 min_freq=118\n",
      "bpe_model_trainer.cc(268) LOG(INFO) Added: freq=3076 size=3820 all=1088920 active=56991 piece=금융\n",
      "bpe_model_trainer.cc(268) LOG(INFO) Added: freq=3057 size=3840 all=1091562 active=59633 piece=▁아이들에게\n",
      "bpe_model_trainer.cc(268) LOG(INFO) Added: freq=3043 size=3860 all=1093857 active=61928 piece=~3\n",
      "bpe_model_trainer.cc(268) LOG(INFO) Added: freq=3020 size=3880 all=1097460 active=65531 piece=가지고\n",
      "bpe_model_trainer.cc(268) LOG(INFO) Added: freq=3004 size=3900 all=1100765 active=68836 piece=▁하더군요\n",
      "bpe_model_trainer.cc(159) LOG(INFO) Updating active symbols. max_freq=3003 min_freq=116\n",
      "bpe_model_trainer.cc(268) LOG(INFO) Added: freq=2984 size=3920 all=1104332 active=58601 piece=계획\n",
      "bpe_model_trainer.cc(268) LOG(INFO) Added: freq=2965 size=3940 all=1106838 active=61107 piece=▁면제\n",
      "bpe_model_trainer.cc(268) LOG(INFO) Added: freq=2946 size=3960 all=1109533 active=63802 piece=▁보이는\n",
      "bpe_model_trainer.cc(268) LOG(INFO) Added: freq=2934 size=3980 all=1111638 active=65907 piece=▁업무를\n",
      "bpe_model_trainer.cc(268) LOG(INFO) Added: freq=2916 size=4000 all=1114860 active=69129 piece=▁응급\n",
      "bpe_model_trainer.cc(159) LOG(INFO) Updating active symbols. max_freq=2915 min_freq=114\n",
      "bpe_model_trainer.cc(268) LOG(INFO) Added: freq=2906 size=4020 all=1116622 active=57407 piece=▁인생\n",
      "bpe_model_trainer.cc(268) LOG(INFO) Added: freq=2879 size=4040 all=1120261 active=61046 piece=naver\n",
      "bpe_model_trainer.cc(268) LOG(INFO) Added: freq=2862 size=4060 all=1123474 active=64259 piece=회의\n",
      "bpe_model_trainer.cc(268) LOG(INFO) Added: freq=2840 size=4080 all=1126329 active=67114 piece=▁여당\n",
      "bpe_model_trainer.cc(268) LOG(INFO) Added: freq=2822 size=4100 all=1129600 active=70385 piece=가로\n",
      "bpe_model_trainer.cc(159) LOG(INFO) Updating active symbols. max_freq=2822 min_freq=112\n",
      "bpe_model_trainer.cc(268) LOG(INFO) Added: freq=2807 size=4120 all=1133704 active=60319 piece=▁암호\n",
      "bpe_model_trainer.cc(268) LOG(INFO) Added: freq=2795 size=4140 all=1136556 active=63171 piece=▁맞다고\n",
      "bpe_model_trainer.cc(268) LOG(INFO) Added: freq=2778 size=4160 all=1139996 active=66611 piece=▁받아서\n",
      "bpe_model_trainer.cc(268) LOG(INFO) Added: freq=2761 size=4180 all=1143175 active=69790 piece=▁넓\n",
      "bpe_model_trainer.cc(268) LOG(INFO) Added: freq=2743 size=4200 all=1146470 active=73085 piece=이게\n",
      "bpe_model_trainer.cc(159) LOG(INFO) Updating active symbols. max_freq=2742 min_freq=109\n",
      "bpe_model_trainer.cc(268) LOG(INFO) Added: freq=2733 size=4220 all=1149333 active=59844 piece=▁대법원\n",
      "bpe_model_trainer.cc(268) LOG(INFO) Added: freq=2717 size=4240 all=1151111 active=61622 piece=▁아르바이트\n",
      "bpe_model_trainer.cc(268) LOG(INFO) Added: freq=2703 size=4260 all=1153899 active=64410 piece=▁만드\n",
      "bpe_model_trainer.cc(268) LOG(INFO) Added: freq=2686 size=4280 all=1156918 active=67429 piece=▁못하도록\n",
      "bpe_model_trainer.cc(268) LOG(INFO) Added: freq=2674 size=4300 all=1159116 active=69627 piece=▁사회에서\n",
      "bpe_model_trainer.cc(159) LOG(INFO) Updating active symbols. max_freq=2672 min_freq=108\n",
      "bpe_model_trainer.cc(268) LOG(INFO) Added: freq=2657 size=4320 all=1161630 active=60444 piece=▁사회의\n",
      "bpe_model_trainer.cc(268) LOG(INFO) Added: freq=2644 size=4340 all=1164082 active=62896 piece=▁법에\n",
      "bpe_model_trainer.cc(268) LOG(INFO) Added: freq=2629 size=4360 all=1166984 active=65798 piece=▁대답\n",
      "bpe_model_trainer.cc(268) LOG(INFO) Added: freq=2612 size=4380 all=1170060 active=68874 piece=▁이자\n",
      "bpe_model_trainer.cc(268) LOG(INFO) Added: freq=2597 size=4400 all=1172149 active=70963 piece=▁근무를\n",
      "bpe_model_trainer.cc(159) LOG(INFO) Updating active symbols. max_freq=2597 min_freq=106\n",
      "bpe_model_trainer.cc(268) LOG(INFO) Added: freq=2589 size=4420 all=1174987 active=61408 piece=▁아파\n",
      "bpe_model_trainer.cc(268) LOG(INFO) Added: freq=2575 size=4440 all=1176857 active=63278 piece=▁최대한\n",
      "bpe_model_trainer.cc(268) LOG(INFO) Added: freq=2559 size=4460 all=1179559 active=65980 piece=▁야간\n",
      "bpe_model_trainer.cc(268) LOG(INFO) Added: freq=2542 size=4480 all=1182788 active=69209 piece=할지\n",
      "bpe_model_trainer.cc(268) LOG(INFO) Added: freq=2529 size=4500 all=1184927 active=71348 piece=▁걸어\n",
      "bpe_model_trainer.cc(159) LOG(INFO) Updating active symbols. max_freq=2528 min_freq=104\n",
      "bpe_model_trainer.cc(268) LOG(INFO) Added: freq=2518 size=4520 all=1187679 active=61902 piece=▁쏟아\n",
      "bpe_model_trainer.cc(268) LOG(INFO) Added: freq=2508 size=4540 all=1190326 active=64549 piece=▁사실입니다\n",
      "bpe_model_trainer.cc(268) LOG(INFO) Added: freq=2495 size=4560 all=1192732 active=66955 piece=다며\n",
      "bpe_model_trainer.cc(268) LOG(INFO) Added: freq=2482 size=4580 all=1197477 active=71700 piece=행이\n",
      "bpe_model_trainer.cc(268) LOG(INFO) Added: freq=2466 size=4600 all=1199833 active=74056 piece=▁솜\n",
      "bpe_model_trainer.cc(159) LOG(INFO) Updating active symbols. max_freq=2466 min_freq=102\n",
      "bpe_model_trainer.cc(268) LOG(INFO) Added: freq=2448 size=4620 all=1203515 active=63654 piece=▁신혼부부\n",
      "bpe_model_trainer.cc(268) LOG(INFO) Added: freq=2435 size=4640 all=1205675 active=65814 piece=제에\n",
      "bpe_model_trainer.cc(268) LOG(INFO) Added: freq=2420 size=4660 all=1208820 active=68959 piece=▁뽑아\n",
      "bpe_model_trainer.cc(268) LOG(INFO) Added: freq=2411 size=4680 all=1212049 active=72188 piece=▁조용\n",
      "bpe_model_trainer.cc(268) LOG(INFO) Added: freq=2402 size=4700 all=1214550 active=74689 piece=▁없다면\n",
      "bpe_model_trainer.cc(159) LOG(INFO) Updating active symbols. max_freq=2401 min_freq=100\n",
      "bpe_model_trainer.cc(268) LOG(INFO) Added: freq=2392 size=4720 all=1217100 active=63274 piece=▁옥\n",
      "bpe_model_trainer.cc(268) LOG(INFO) Added: freq=2380 size=4740 all=1219937 active=66111 piece=▁컴\n",
      "bpe_model_trainer.cc(268) LOG(INFO) Added: freq=2371 size=4760 all=1222516 active=68690 piece=ou\n",
      "bpe_model_trainer.cc(268) LOG(INFO) Added: freq=2358 size=4780 all=1224726 active=70900 piece=▁닫\n",
      "bpe_model_trainer.cc(268) LOG(INFO) Added: freq=2350 size=4800 all=1228345 active=74519 piece=▁현실에\n",
      "bpe_model_trainer.cc(159) LOG(INFO) Updating active symbols. max_freq=2350 min_freq=99\n",
      "bpe_model_trainer.cc(268) LOG(INFO) Added: freq=2338 size=4820 all=1230701 active=63762 piece=▁시스템을\n",
      "bpe_model_trainer.cc(268) LOG(INFO) Added: freq=2324 size=4840 all=1233767 active=66828 piece=▁발생하��\n",
      "bpe_model_trainer.cc(268) LOG(INFO) Added: freq=2308 size=4860 all=1236575 active=69636 piece=되며\n",
      "bpe_model_trainer.cc(268) LOG(INFO) Added: freq=2300 size=4880 all=1239482 active=72543 piece=▁건설현\n",
      "bpe_model_trainer.cc(268) LOG(INFO) Added: freq=2286 size=4900 all=1242034 active=75095 piece=▁쉴\n",
      "bpe_model_trainer.cc(159) LOG(INFO) Updating active symbols. max_freq=2286 min_freq=97\n",
      "bpe_model_trainer.cc(268) LOG(INFO) Added: freq=2279 size=4920 all=1244716 active=64712 piece=마련\n",
      "bpe_model_trainer.cc(268) LOG(INFO) Added: freq=2267 size=4940 all=1247766 active=67762 piece=▁집안\n",
      "bpe_model_trainer.cc(268) LOG(INFO) Added: freq=2256 size=4960 all=1250090 active=70086 piece=go\n",
      "bpe_model_trainer.cc(268) LOG(INFO) Added: freq=2240 size=4980 all=1252878 active=72874 piece=사실\n",
      "bpe_model_trainer.cc(268) LOG(INFO) Added: freq=2231 size=5000 all=1255620 active=75616 piece=계에\n",
      "bpe_model_trainer.cc(159) LOG(INFO) Updating active symbols. max_freq=2231 min_freq=95\n",
      "bpe_model_trainer.cc(268) LOG(INFO) Added: freq=2222 size=5020 all=1258980 active=65951 piece=위해서\n",
      "bpe_model_trainer.cc(268) LOG(INFO) Added: freq=2214 size=5040 all=1261326 active=68297 piece=▁아이는\n",
      "bpe_model_trainer.cc(268) LOG(INFO) Added: freq=2199 size=5060 all=1264172 active=71143 piece=▁향후\n",
      "bpe_model_trainer.cc(268) LOG(INFO) Added: freq=2187 size=5080 all=1266940 active=73911 piece=정신\n",
      "bpe_model_trainer.cc(268) LOG(INFO) Added: freq=2178 size=5100 all=1269574 active=76545 piece=▁때는\n",
      "bpe_model_trainer.cc(159) LOG(INFO) Updating active symbols. max_freq=2178 min_freq=94\n",
      "bpe_model_trainer.cc(268) LOG(INFO) Added: freq=2170 size=5120 all=1272384 active=66275 piece=▁답답합니다\n",
      "bpe_model_trainer.cc(268) LOG(INFO) Added: freq=2159 size=5140 all=1274830 active=68721 piece=▁평창올림픽\n",
      "bpe_model_trainer.cc(268) LOG(INFO) Added: freq=2147 size=5160 all=1278125 active=72016 piece=▁있는게\n",
      "bpe_model_trainer.cc(268) LOG(INFO) Added: freq=2137 size=5180 all=1279450 active=73341 piece=▁솜방망이\n",
      "bpe_model_trainer.cc(268) LOG(INFO) Added: freq=2127 size=5200 all=1281735 active=75626 piece=▁가격을\n",
      "bpe_model_trainer.cc(159) LOG(INFO) Updating active symbols. max_freq=2126 min_freq=93\n",
      "bpe_model_trainer.cc(268) LOG(INFO) Added: freq=2120 size=5220 all=1284404 active=66743 piece=▁최순\n",
      "bpe_model_trainer.cc(268) LOG(INFO) Added: freq=2108 size=5240 all=1286401 active=68740 piece=▁줄일\n",
      "bpe_model_trainer.cc(268) LOG(INFO) Added: freq=2095 size=5260 all=1288602 active=70941 piece=▁사전\n",
      "bpe_model_trainer.cc(268) LOG(INFO) Added: freq=2084 size=5280 all=1291018 active=73357 piece=나가\n",
      "bpe_model_trainer.cc(268) LOG(INFO) Added: freq=2075 size=5300 all=1294650 active=76989 piece=ᅮᅮ\n",
      "bpe_model_trainer.cc(159) LOG(INFO) Updating active symbols. max_freq=2075 min_freq=91\n",
      "bpe_model_trainer.cc(268) LOG(INFO) Added: freq=2064 size=5320 all=1298257 active=68053 piece=▁상처를\n",
      "bpe_model_trainer.cc(268) LOG(INFO) Added: freq=2050 size=5340 all=1300634 active=70430 piece=조를\n",
      "bpe_model_trainer.cc(268) LOG(INFO) Added: freq=2040 size=5360 all=1303739 active=73535 piece=한게\n",
      "bpe_model_trainer.cc(268) LOG(INFO) Added: freq=2033 size=5380 all=1306844 active=76640 piece=▁조심\n",
      "bpe_model_trainer.cc(268) LOG(INFO) Added: freq=2026 size=5400 all=1309954 active=79750 piece=류를\n",
      "bpe_model_trainer.cc(159) LOG(INFO) Updating active symbols. max_freq=2025 min_freq=90\n",
      "bpe_model_trainer.cc(268) LOG(INFO) Added: freq=2020 size=5420 all=1313106 active=68487 piece=▁바라며\n",
      "bpe_model_trainer.cc(268) LOG(INFO) Added: freq=2009 size=5440 all=1317032 active=72413 piece=▁받으면\n",
      "bpe_model_trainer.cc(268) LOG(INFO) Added: freq=2003 size=5460 all=1319719 active=75100 piece=▁최근에\n",
      "bpe_model_trainer.cc(268) LOG(INFO) Added: freq=1995 size=5480 all=1322077 active=77458 piece=▁주도\n",
      "bpe_model_trainer.cc(268) LOG(INFO) Added: freq=1986 size=5500 all=1325625 active=81006 piece=▁유발\n",
      "bpe_model_trainer.cc(159) LOG(INFO) Updating active symbols. max_freq=1986 min_freq=88\n",
      "bpe_model_trainer.cc(268) LOG(INFO) Added: freq=1979 size=5520 all=1327948 active=68450 piece=▁전두환\n",
      "bpe_model_trainer.cc(268) LOG(INFO) Added: freq=1971 size=5540 all=1331811 active=72313 piece=▁1)\n",
      "bpe_model_trainer.cc(268) LOG(INFO) Added: freq=1964 size=5560 all=1334928 active=75430 piece=▁하지말고\n",
      "bpe_model_trainer.cc(268) LOG(INFO) Added: freq=1955 size=5580 all=1336368 active=76870 piece=여행\n",
      "bpe_model_trainer.cc(268) LOG(INFO) Added: freq=1950 size=5600 all=1338215 active=78717 piece=▁모르지만\n",
      "bpe_model_trainer.cc(159) LOG(INFO) Updating active symbols. max_freq=1949 min_freq=87\n",
      "bpe_model_trainer.cc(268) LOG(INFO) Added: freq=1942 size=5620 all=1340993 active=69682 piece=▁했다는\n",
      "bpe_model_trainer.cc(268) LOG(INFO) Added: freq=1932 size=5640 all=1342876 active=71565 piece=~~~~~~~~\n",
      "bpe_model_trainer.cc(268) LOG(INFO) Added: freq=1924 size=5660 all=1344534 active=73223 piece=방에\n",
      "bpe_model_trainer.cc(268) LOG(INFO) Added: freq=1916 size=5680 all=1347244 active=75933 piece=시청\n",
      "bpe_model_trainer.cc(268) LOG(INFO) Added: freq=1906 size=5700 all=1350073 active=78762 piece=흥민\n",
      "bpe_model_trainer.cc(159) LOG(INFO) Updating active symbols. max_freq=1906 min_freq=86\n",
      "bpe_model_trainer.cc(268) LOG(INFO) Added: freq=1896 size=5720 all=1352436 active=69803 piece=▁한국이\n",
      "bpe_model_trainer.cc(268) LOG(INFO) Added: freq=1887 size=5740 all=1354371 active=71738 piece=▁방향으로\n",
      "bpe_model_trainer.cc(268) LOG(INFO) Added: freq=1878 size=5760 all=1357512 active=74879 piece=▁다닐\n",
      "bpe_model_trainer.cc(268) LOG(INFO) Added: freq=1873 size=5780 all=1360070 active=77437 piece=▁해결해\n",
      "bpe_model_trainer.cc(268) LOG(INFO) Added: freq=1864 size=5800 all=1363034 active=80401 piece=▁폭락\n",
      "bpe_model_trainer.cc(159) LOG(INFO) Updating active symbols. max_freq=1864 min_freq=84\n",
      "bpe_model_trainer.cc(268) LOG(INFO) Added: freq=1857 size=5820 all=1367104 active=72073 piece=우면\n",
      "bpe_model_trainer.cc(268) LOG(INFO) Added: freq=1849 size=5840 all=1368827 active=73796 piece=▁공기청정\n",
      "bpe_model_trainer.cc(268) LOG(INFO) Added: freq=1841 size=5860 all=1371273 active=76242 piece=▁예정\n",
      "bpe_model_trainer.cc(268) LOG(INFO) Added: freq=1831 size=5880 all=1373359 active=78328 piece=▁하려\n",
      "bpe_model_trainer.cc(268) LOG(INFO) Added: freq=1823 size=5900 all=1375493 active=80462 piece=▁빨갱\n",
      "bpe_model_trainer.cc(159) LOG(INFO) Updating active symbols. max_freq=1823 min_freq=83\n",
      "bpe_model_trainer.cc(268) LOG(INFO) Added: freq=1817 size=5920 all=1378129 active=71380 piece=▁키울\n",
      "bpe_model_trainer.cc(268) LOG(INFO) Added: freq=1811 size=5940 all=1380395 active=73646 piece=가정\n",
      "bpe_model_trainer.cc(268) LOG(INFO) Added: freq=1806 size=5960 all=1382924 active=76175 piece=▁내리\n",
      "bpe_model_trainer.cc(268) LOG(INFO) Added: freq=1800 size=5980 all=1385398 active=78649 piece=▁정지\n",
      "bpe_model_trainer.cc(268) LOG(INFO) Added: freq=1794 size=6000 all=1387070 active=80321 piece=▁학교폭력\n",
      "bpe_model_trainer.cc(159) LOG(INFO) Updating active symbols. max_freq=1793 min_freq=82\n",
      "bpe_model_trainer.cc(268) LOG(INFO) Added: freq=1786 size=6020 all=1390726 active=72896 piece=▁회원\n",
      "bpe_model_trainer.cc(268) LOG(INFO) Added: freq=1776 size=6040 all=1393054 active=75224 piece=▁소외\n",
      "bpe_model_trainer.cc(268) LOG(INFO) Added: freq=1769 size=6060 all=1394637 active=76807 piece=▁있네요\n",
      "bpe_model_trainer.cc(268) LOG(INFO) Added: freq=1761 size=6080 all=1396012 active=78182 piece=▁그렇지만\n",
      "bpe_model_trainer.cc(268) LOG(INFO) Added: freq=1753 size=6100 all=1398221 active=80391 piece=▁무서워\n",
      "bpe_model_trainer.cc(159) LOG(INFO) Updating active symbols. max_freq=1753 min_freq=81\n",
      "bpe_model_trainer.cc(268) LOG(INFO) Added: freq=1747 size=6120 all=1400732 active=72331 piece=▁하였으나\n",
      "bpe_model_trainer.cc(268) LOG(INFO) Added: freq=1740 size=6140 all=1402570 active=74169 piece=▁형성\n",
      "bpe_model_trainer.cc(268) LOG(INFO) Added: freq=1731 size=6160 all=1404352 active=75951 piece=▁신중\n",
      "bpe_model_trainer.cc(268) LOG(INFO) Added: freq=1724 size=6180 all=1407566 active=79165 piece=하겠다\n",
      "bpe_model_trainer.cc(268) LOG(INFO) Added: freq=1718 size=6200 all=1410471 active=82070 piece=▁안타깝습니다\n",
      "bpe_model_trainer.cc(159) LOG(INFO) Updating active symbols. max_freq=1717 min_freq=80\n",
      "bpe_model_trainer.cc(268) LOG(INFO) Added: freq=1713 size=6220 all=1412781 active=72829 piece=각지\n",
      "bpe_model_trainer.cc(268) LOG(INFO) Added: freq=1706 size=6240 all=1414396 active=74444 piece=▁없음\n",
      "bpe_model_trainer.cc(268) LOG(INFO) Added: freq=1698 size=6260 all=1417500 active=77548 piece=자들에\n",
      "bpe_model_trainer.cc(268) LOG(INFO) Added: freq=1690 size=6280 all=1420091 active=80139 piece=▁U\n",
      "bpe_model_trainer.cc(268) LOG(INFO) Added: freq=1686 size=6300 all=1423054 active=83102 piece=▁국가보\n",
      "bpe_model_trainer.cc(159) LOG(INFO) Updating active symbols. max_freq=1686 min_freq=79\n",
      "bpe_model_trainer.cc(268) LOG(INFO) Added: freq=1680 size=6320 all=1425563 active=73639 piece=▁실효\n",
      "bpe_model_trainer.cc(268) LOG(INFO) Added: freq=1674 size=6340 all=1427651 active=75727 piece=▁나라로\n",
      "bpe_model_trainer.cc(268) LOG(INFO) Added: freq=1670 size=6360 all=1430381 active=78457 piece=▁종목\n",
      "bpe_model_trainer.cc(268) LOG(INFO) Added: freq=1663 size=6380 all=1432324 active=80400 piece=▁살아가\n",
      "bpe_model_trainer.cc(268) LOG(INFO) Added: freq=1656 size=6400 all=1433614 active=81690 piece=▁환경에서\n",
      "bpe_model_trainer.cc(159) LOG(INFO) Updating active symbols. max_freq=1655 min_freq=78\n",
      "bpe_model_trainer.cc(268) LOG(INFO) Added: freq=1648 size=6420 all=1435247 active=73307 piece=▁바이\n",
      "bpe_model_trainer.cc(268) LOG(INFO) Added: freq=1644 size=6440 all=1437184 active=75244 piece=▁좋아하는\n",
      "bpe_model_trainer.cc(268) LOG(INFO) Added: freq=1635 size=6460 all=1438770 active=76830 piece=간다\n",
      "bpe_model_trainer.cc(268) LOG(INFO) Added: freq=1629 size=6480 all=1441907 active=79967 piece=▁싱\n",
      "bpe_model_trainer.cc(268) LOG(INFO) Added: freq=1625 size=6500 all=1444974 active=83034 piece=적도\n",
      "bpe_model_trainer.cc(159) LOG(INFO) Updating active symbols. max_freq=1625 min_freq=77\n",
      "trainer_interface.cc(687) LOG(INFO) Saving model: ../models/petition_bpe.model\n",
      "trainer_interface.cc(699) LOG(INFO) Saving vocabs: ../models/petition_bpe.vocab\n"
     ]
    }
   ],
   "source": [
    "from sentencepiece import SentencePieceTrainer\n",
    "\n",
    "\n",
    "SentencePieceTrainer.Train(\n",
    "    \"--input=../datasets/corpus.txt\\\n",
    "    --model_prefix=../models/petition_bpe\\\n",
    "    --vocab_size=8000 model_type=bpe\"\n",
    ")"
   ]
  },
  {
   "cell_type": "code",
   "execution_count": 5,
   "id": "9deadc905f904881",
   "metadata": {
    "ExecuteTime": {
     "end_time": "2025-04-10T11:30:40.053557Z",
     "start_time": "2025-04-10T11:30:40.035851Z"
    }
   },
   "outputs": [
    {
     "name": "stdout",
     "output_type": "stream",
     "text": [
      "단일 문장 토큰화 : ['▁안녕하세요', ',', '▁토', '크', '나', '이', '저', '가', '▁잘', '▁학', '습', '되었', '군요', '!']\n",
      "여러 문장 토큰화 : [['▁이렇게', '▁입', '력', '값을', '▁리', '스트', '로', '▁받아서'], ['▁쉽게', '▁토', '크', '나', '이', '저', '를', '▁사용할', '▁수', '▁있', '답니다']]\n",
      "단일 문장 정수 인코딩 : [667, 6553, 994, 6880, 6544, 6513, 6590, 6523, 161, 110, 6554, 872, 787, 6648]\n",
      "여러 문장 정수 인코딩 : [[372, 182, 6677, 4433, 1772, 1613, 6527, 4162], [1681, 994, 6880, 6544, 6513, 6590, 6536, 5852, 19, 5, 2639]]\n",
      "정수 인코딩에서 문장 변환 : ['이렇게 입력값을 리스트로 받아서', '쉽게 토크나이저를 사용할 수 있답니다']\n",
      "하위 단어 토큰에서 문장 변환 : ['이렇게 입력값을 리스트로 받아서', '쉽게 토크나이저를 사용할 수 있답니다']\n"
     ]
    }
   ],
   "source": [
    "from sentencepiece import SentencePieceProcessor\n",
    "\n",
    "\n",
    "tokenizer = SentencePieceProcessor()\n",
    "tokenizer.load(\"../models/petition_bpe.model\")\n",
    "\n",
    "sentence = \"안녕하세요, 토크나이저가 잘 학습되었군요!\"\n",
    "sentences = [\"이렇게 입력값을 리스트로 받아서\", \"쉽게 토크나이저를 사용할 수 있답니다\"]\n",
    "\n",
    "tokenized_sentence = tokenizer.encode_as_pieces(sentence)\n",
    "tokenized_sentences = tokenizer.encode_as_pieces(sentences)\n",
    "print(\"단일 문장 토큰화 :\", tokenized_sentence)\n",
    "print(\"여러 문장 토큰화 :\", tokenized_sentences)\n",
    "\n",
    "encoded_sentence = tokenizer.encode_as_ids(sentence)\n",
    "encoded_sentences = tokenizer.encode_as_ids(sentences)\n",
    "print(\"단일 문장 정수 인코딩 :\", encoded_sentence)\n",
    "print(\"여러 문장 정수 인코딩 :\", encoded_sentences)\n",
    "\n",
    "decode_ids = tokenizer.decode_ids(encoded_sentences)\n",
    "decode_pieces = tokenizer.decode_pieces(encoded_sentences)\n",
    "print(\"정수 인코딩에서 문장 변환 :\", decode_ids)\n",
    "print(\"하위 단어 토큰에서 문장 변환 :\", decode_pieces)"
   ]
  },
  {
   "cell_type": "code",
   "execution_count": 6,
   "id": "57d38d369b3de485",
   "metadata": {
    "ExecuteTime": {
     "end_time": "2025-04-10T11:36:07.229828Z",
     "start_time": "2025-04-10T11:36:07.203975Z"
    }
   },
   "outputs": [
    {
     "name": "stdout",
     "output_type": "stream",
     "text": [
      "[(0, '<unk>'), (1, '<s>'), (2, '</s>'), (3, '니다'), (4, '▁이')]\n",
      "vocab size : 8000\n"
     ]
    }
   ],
   "source": [
    "from sentencepiece import SentencePieceProcessor\n",
    "\n",
    "tokenizer = SentencePieceProcessor()\n",
    "tokenizer.load(\"../models/petition_bpe.model\")\n",
    "\n",
    "vocab = {idx: tokenizer.id_to_piece(idx) for idx in range(tokenizer.get_piece_size())}\n",
    "print(list(vocab.items())[:5])\n",
    "print(\"vocab size :\", len(vocab))"
   ]
  },
  {
   "cell_type": "code",
   "execution_count": 7,
   "id": "b38ca39493ed7501",
   "metadata": {
    "ExecuteTime": {
     "end_time": "2025-04-10T11:39:02.520036Z",
     "start_time": "2025-04-10T11:36:42.689832Z"
    }
   },
   "outputs": [
    {
     "name": "stdout",
     "output_type": "stream",
     "text": [
      "\n",
      "\n",
      "\n"
     ]
    }
   ],
   "source": [
    "from tokenizers import Tokenizer\n",
    "from tokenizers.models import WordPiece\n",
    "from tokenizers.normalizers import Sequence, NFD, Lowercase\n",
    "from tokenizers.pre_tokenizers import Whitespace\n",
    "\n",
    "\n",
    "tokenizer = Tokenizer(WordPiece())\n",
    "tokenizer.normalizer = Sequence([NFD(), Lowercase()])\n",
    "tokenizer.pre_tokenizer = Whitespace()\n",
    "\n",
    "tokenizer.train([\"../datasets/corpus.txt\"])\n",
    "tokenizer.save(\"../models/petition_wordpiece.json\")"
   ]
  },
  {
   "cell_type": "code",
   "execution_count": 8,
   "id": "b2e3b477042f7257",
   "metadata": {
    "ExecuteTime": {
     "end_time": "2025-04-10T11:39:12.463274Z",
     "start_time": "2025-04-10T11:39:12.431956Z"
    }
   },
   "outputs": [
    {
     "name": "stdout",
     "output_type": "stream",
     "text": [
      "인코더 형식 : <class 'tokenizers.Encoding'>\n",
      "단일 문장 토큰화 : ['안녕하세요', ',', '토', '##크', '##나이', '##저', '##가', '잘', '학습', '##되었', '##군요', '!']\n",
      "여러 문장 토큰화 : [['이렇게', '입력', '##값을', '리스트', '##로', '받아서'], ['쉽게', '토', '##크', '##나이', '##저', '##를', '사용할', '수', '있다', '##ᆸ니다']]\n",
      "단일 문장 정수 인코딩 : [8760, 11, 8693, 8415, 16269, 7536, 7488, 7842, 15016, 8670, 8734, 0]\n",
      "여러 문장 정수 인코딩 : [[8187, 19643, 13834, 28119, 7495, 12607], [9739, 8693, 8415, 16269, 7536, 7510, 14129, 7562, 8157, 7489]]\n",
      "정수 인코딩에서 문장 변환 : 안녕하세요, 토크나이저가 잘 학습되었군요!\n"
     ]
    }
   ],
   "source": [
    "from tokenizers import Tokenizer\n",
    "from tokenizers.decoders import WordPiece as WordPieceDecoder\n",
    "\n",
    "\n",
    "tokenizer = Tokenizer.from_file(\"../models/petition_wordpiece.json\")\n",
    "tokenizer.decoder = WordPieceDecoder()\n",
    "\n",
    "sentence = \"안녕하세요, 토크나이저가 잘 학습되었군요!\"\n",
    "sentences = [\"이렇게 입력값을 리스트로 받아서\", \"쉽게 토크나이저를 사용할 수 있답니다\"]\n",
    "\n",
    "encoded_sentence = tokenizer.encode(sentence)\n",
    "encoded_sentences = tokenizer.encode_batch(sentences)\n",
    "\n",
    "print(\"인코더 형식 :\", type(encoded_sentence))\n",
    "\n",
    "print(\"단일 문장 토큰화 :\", encoded_sentence.tokens)\n",
    "print(\"여러 문장 토큰화 :\", [enc.tokens for enc in encoded_sentences])\n",
    "\n",
    "print(\"단일 문장 정수 인코딩 :\", encoded_sentence.ids)\n",
    "print(\"여러 문장 정수 인코딩 :\", [enc.ids for enc in encoded_sentences])\n",
    "\n",
    "print(\"정수 인코딩에서 문장 변환 :\", tokenizer.decode(encoded_sentence.ids))"
   ]
  },
  {
   "cell_type": "markdown",
   "id": "8043fd9d3d5a02cb",
   "metadata": {},
   "source": [
    "### 임베딩"
   ]
  },
  {
   "cell_type": "code",
   "execution_count": 9,
   "id": "145f97baa75679b",
   "metadata": {
    "ExecuteTime": {
     "end_time": "2025-04-10T11:53:19.631383Z",
     "start_time": "2025-04-10T11:53:11.430337Z"
    }
   },
   "outputs": [
    {
     "name": "stderr",
     "output_type": "stream",
     "text": [
      "huggingface/tokenizers: The current process just got forked, after parallelism has already been used. Disabling parallelism to avoid deadlocks...\n",
      "To disable this warning, you can either:\n",
      "\t- Avoid using `tokenizers` before the fork if possible\n",
      "\t- Explicitly set the environment variable TOKENIZERS_PARALLELISM=(true | false)\n"
     ]
    },
    {
     "name": "stdout",
     "output_type": "stream",
     "text": [
      "Unigrams: [('안녕하세요',), ('만나서',), ('진심으로',), ('반가워요',)]\n",
      "Bigrams: [('안녕하세요', '만나서'), ('만나서', '진심으로'), ('진심으로', '반가워요')]\n",
      "Trigrams: [('안녕하세요', '만나서', '진심으로'), ('만나서', '진심으로', '반가워요')]\n",
      "[('안녕하세요',), ('만나서',), ('진심으로',), ('반가워요',)]\n",
      "[('안녕하세요', '만나서'), ('만나서', '진심으로'), ('진심으로', '반가워요')]\n",
      "[('안녕하세요', '만나서', '진심으로'), ('만나서', '진심으로', '반가워요')]\n"
     ]
    }
   ],
   "source": [
    "import nltk\n",
    "\n",
    "def ngrams(sentence, n):\n",
    "    words = sentence.split()\n",
    "    ngrams = zip(*[words[i:] for i in range(n)])\n",
    "    return list(ngrams)\n",
    "\n",
    "sentence = \"안녕하세요 만나서 진심으로 반가워요\"\n",
    "\n",
    "unigrams = ngrams(sentence, 1)\n",
    "bigrams = ngrams(sentence, 2)\n",
    "trigrams = ngrams(sentence, 3)\n",
    "\n",
    "print(\"Unigrams:\", unigrams)\n",
    "print(\"Bigrams:\", bigrams)\n",
    "print(\"Trigrams:\", trigrams)\n",
    "\n",
    "unigrams = nltk.ngrams(sentence.split(), 1)\n",
    "bigrams = nltk.ngrams(sentence.split(), 2)\n",
    "trigrams = nltk.ngrams(sentence.split(), 3)\n",
    "\n",
    "print(list(unigrams))\n",
    "print(list(bigrams))\n",
    "print(list(trigrams))\n"
   ]
  },
  {
   "cell_type": "code",
   "execution_count": 13,
   "id": "d03f72bb924b6dae",
   "metadata": {
    "ExecuteTime": {
     "end_time": "2025-04-10T12:13:45.599218Z",
     "start_time": "2025-04-10T12:13:45.591069Z"
    }
   },
   "outputs": [
    {
     "name": "stdout",
     "output_type": "stream",
     "text": [
      "[[0.         0.         0.39687454 0.39687454 0.         0.79374908\n",
      "  0.2344005 ]\n",
      " [0.61980538 0.         0.         0.         0.61980538 0.\n",
      "  0.48133417]\n",
      " [0.4804584  0.63174505 0.         0.         0.4804584  0.\n",
      "  0.37311881]]\n",
      "{'that': 6, 'movie': 5, 'is': 3, 'famous': 2, 'like': 4, 'actor': 0, 'don': 1}\n"
     ]
    }
   ],
   "source": [
    "from sklearn.feature_extraction.text import TfidfVectorizer\n",
    "\n",
    "corpus = [\n",
    "    \"That movie is famous movie\",\n",
    "    \"I like that actor\",\n",
    "    \"I don't like that actor\",\n",
    "]\n",
    "\n",
    "tfidf_vectorizer = TfidfVectorizer()\n",
    "tfidf_vectorizer.fit_transform(corpus)\n",
    "tfidf_matrix = tfidf_vectorizer.transform(corpus)\n",
    "\n",
    "print(tfidf_matrix.toarray())\n",
    "print(tfidf_vectorizer.vocabulary_)"
   ]
  },
  {
   "cell_type": "code",
   "execution_count": 1,
   "id": "610b7439ad893d3e",
   "metadata": {
    "ExecuteTime": {
     "end_time": "2025-04-10T14:14:36.876560Z",
     "start_time": "2025-04-10T14:14:35.924898Z"
    }
   },
   "outputs": [],
   "source": [
    "from torch import nn\n",
    "\n",
    "class VanillaSkipgram(nn.Module):\n",
    "    def __init__(self, vocab_size, embedding_dim):\n",
    "        super().__init__()\n",
    "        self.embedding = nn.Embedding(vocab_size, embedding_dim)\n",
    "        self.linear1 = nn.Linear(embedding_dim, vocab_size)\n",
    "\n",
    "    def forward(self, input):\n",
    "        embedding = self.embedding(input)\n",
    "        output = self.linear1(embedding)\n",
    "        return output"
   ]
  },
  {
   "cell_type": "code",
   "execution_count": 2,
   "id": "1bfe8a37b30ab1ec",
   "metadata": {
    "ExecuteTime": {
     "start_time": "2025-04-10T12:33:40.951512Z"
    },
    "jupyter": {
     "is_executing": true
    }
   },
   "outputs": [
    {
     "name": "stdout",
     "output_type": "stream",
     "text": [
      "\n",
      "    Korpora 는 다른 분들이 연구 목적으로 공유해주신 말뭉치들을\n",
      "    손쉽게 다운로드, 사용할 수 있는 기능만을 제공합니다.\n",
      "\n",
      "    말뭉치들을 공유해 주신 분들에게 감사드리며, 각 말뭉치 별 설명과 라이센스를 공유 드립니다.\n",
      "    해당 말뭉치에 대해 자세히 알고 싶으신 분은 아래의 description 을 참고,\n",
      "    해당 말뭉치를 연구/상용의 목적으로 이용하실 때에는 아래의 라이센스를 참고해 주시기 바랍니다.\n",
      "\n",
      "    # Description\n",
      "    Author : e9t@github\n",
      "    Repository : https://github.com/e9t/nsmc\n",
      "    References : www.lucypark.kr/docs/2015-pyconkr/#39\n",
      "\n",
      "    Naver sentiment movie corpus v1.0\n",
      "    This is a movie review dataset in the Korean language.\n",
      "    Reviews were scraped from Naver Movies.\n",
      "\n",
      "    The dataset construction is based on the method noted in\n",
      "    [Large movie review dataset][^1] from Maas et al., 2011.\n",
      "\n",
      "    [^1]: http://ai.stanford.edu/~amaas/data/sentiment/\n",
      "\n",
      "    # License\n",
      "    CC0 1.0 Universal (CC0 1.0) Public Domain Dedication\n",
      "    Details in https://creativecommons.org/publicdomain/zero/1.0/\n",
      "\n",
      "[Korpora] Corpus `nsmc` is already installed at /Users/chohi/Korpora/nsmc/ratings_train.txt\n",
      "[Korpora] Corpus `nsmc` is already installed at /Users/chohi/Korpora/nsmc/ratings_test.txt\n"
     ]
    },
    {
     "name": "stderr",
     "output_type": "stream",
     "text": [
      "WARNING: A restricted method in java.lang.System has been called\n",
      "WARNING: java.lang.System::load has been called by org.jpype.JPypeContext in an unnamed module (file:/opt/anaconda3/lib/python3.11/site-packages/org.jpype.jar)\n",
      "WARNING: Use --enable-native-access=ALL-UNNAMED to avoid a warning for callers in this module\n",
      "WARNING: Restricted methods will be blocked in a future release unless native access is enabled\n",
      "\n"
     ]
    },
    {
     "name": "stdout",
     "output_type": "stream",
     "text": [
      "[['굳', 'ㅋ'], ['GDNTOPCLASSINTHECLUB'], ['뭐', '야', '이', '평점', '들', '은', '....', '나쁘진', '않지만', '10', '점', '짜', '리', '는', '더', '더욱', '아니잖아']]\n"
     ]
    }
   ],
   "source": [
    "import pandas as pd\n",
    "from Korpora import Korpora\n",
    "from konlpy.tag import Okt\n",
    "\n",
    "corpus = Korpora.load(\"nsmc\")\n",
    "corpus = pd.DataFrame(corpus.test)\n",
    "\n",
    "\n",
    "\n",
    "tokenizer = Okt()\n",
    "tokens = [tokenizer.morphs(review) for review in corpus.text]\n",
    "print(tokens[:3])"
   ]
  },
  {
   "cell_type": "code",
   "execution_count": 3,
   "id": "ad77247e",
   "metadata": {},
   "outputs": [
    {
     "name": "stdout",
     "output_type": "stream",
     "text": [
      "['<unk>', '.', '이', '영화', '의', '..', '가', '에', '...', '을']\n",
      "5001\n"
     ]
    }
   ],
   "source": [
    "from collections import Counter\n",
    "\n",
    "def build_vocab(corpus, n_vocab, special_tokens)    :\n",
    "    counter = Counter()\n",
    "    for token in corpus:\n",
    "        counter.update(token)\n",
    "    vocab = special_tokens\n",
    "    for word, _ in counter.most_common(n_vocab):\n",
    "        vocab.append(word)\n",
    "    return vocab\n",
    "\n",
    "vocab = build_vocab(corpus=tokens, n_vocab=5000, special_tokens=[\"<unk>\"])\n",
    "token_to_id = {token: idx for idx, token in enumerate(vocab)}\n",
    "id_to_token = {idx: token for idx, token in enumerate(vocab)}\n",
    "print(vocab[:10])\n",
    "print(len(vocab))\n"
   ]
  },
  {
   "cell_type": "code",
   "execution_count": 4,
   "id": "e2a4fef2",
   "metadata": {
    "ExecuteTime": {
     "end_time": "2025-04-10T15:08:41.220933Z",
     "start_time": "2025-04-10T15:08:41.210587Z"
    }
   },
   "outputs": [
    {
     "name": "stdout",
     "output_type": "stream",
     "text": [
      "[['굳', 'ㅋ'], ['ㅋ', '굳'], ['뭐', '야'], ['뭐', '이'], ['야', '뭐']]\n"
     ]
    }
   ],
   "source": [
    "def get_word_pairs(tokens, window_size):\n",
    "    pairs = []\n",
    "    for sentence in tokens:\n",
    "        sentence_length = len(sentence)\n",
    "        for idx, center_word in enumerate(sentence):\n",
    "            window_start = max(0, idx - window_size)\n",
    "            window_end = min(sentence_length,  idx + window_size + 1)\n",
    "            center_word = sentence[idx]\n",
    "            context_words = sentence[window_start:idx] + sentence[idx + 1:window_end]\n",
    "            for context_word in context_words:\n",
    "                pairs.append([center_word, context_word])\n",
    "    return pairs\n",
    "\n",
    "word_pairs = get_word_pairs(tokens=tokens, window_size=2)\n",
    "print(word_pairs[:5])"
   ]
  },
  {
   "cell_type": "code",
   "execution_count": 5,
   "id": "f82d39db868a9419",
   "metadata": {},
   "outputs": [
    {
     "name": "stdout",
     "output_type": "stream",
     "text": [
      "[[595, 100], [100, 595], [77, 176], [77, 2], [176, 77]]\n"
     ]
    }
   ],
   "source": [
    "def get_index_pairs(word_pairs, token_to_id):\n",
    "    pairs = []\n",
    "    unk_index = token_to_id[\"<unk>\"]\n",
    "    for word_pair in word_pairs:\n",
    "        center_word, context_word = word_pair\n",
    "        center_index = token_to_id.get(center_word, unk_index)\n",
    "        context_index = token_to_id.get(context_word, unk_index)\n",
    "        pairs.append([center_index, context_index])\n",
    "    return pairs\n",
    "\n",
    "\n",
    "index_pairs = get_index_pairs(word_pairs=word_pairs, token_to_id=token_to_id)\n",
    "print(index_pairs[:5])"
   ]
  },
  {
   "cell_type": "code",
   "execution_count": 6,
   "id": "f63796fd4a0da79a",
   "metadata": {
    "ExecuteTime": {
     "end_time": "2025-04-10T15:13:09.905613Z",
     "start_time": "2025-04-10T15:13:08.546950Z"
    }
   },
   "outputs": [],
   "source": [
    "import torch\n",
    "from torch.utils.data import Dataset, DataLoader, TensorDataset\n",
    "\n",
    "index_pairs = torch.LongTensor(index_pairs)\n",
    "center_indexs = index_pairs[:, 0]\n",
    "contenxt_indexs = index_pairs[:,1]\n",
    "\n",
    "dataset = TensorDataset(center_indexs, contenxt_indexs)\n",
    "dataloader = DataLoader(dataset, batch_size=32, shuffle=True)"
   ]
  },
  {
   "cell_type": "code",
   "execution_count": 7,
   "id": "dffa8a606ca9e153",
   "metadata": {},
   "outputs": [],
   "source": [
    "from torch import optim\n",
    "\n",
    "device = \"cuda\" if torch.cuda.is_available() else \"cpu\"\n",
    "word2vec = VanillaSkipgram(vocab_size=len(token_to_id), embedding_dim=128).to(device)\n",
    "criterion = nn.CrossEntropyLoss().to(device)\n",
    "optimizer = optim.Adam(word2vec.parameters(), lr=0.1)"
   ]
  },
  {
   "cell_type": "code",
   "execution_count": 8,
   "id": "a7feefdcd6b193bf",
   "metadata": {},
   "outputs": [
    {
     "name": "stdout",
     "output_type": "stream",
     "text": [
      "Epoch :    1, Cost : 92.923\n",
      "Epoch :    2, Cost : 93.919\n",
      "Epoch :    3, Cost : 94.135\n",
      "Epoch :    4, Cost : 94.188\n",
      "Epoch :    5, Cost : 94.230\n",
      "Epoch :    6, Cost : 94.250\n",
      "Epoch :    7, Cost : 94.293\n",
      "Epoch :    8, Cost : 94.243\n",
      "Epoch :    9, Cost : 94.258\n",
      "Epoch :   10, Cost : 94.257\n"
     ]
    }
   ],
   "source": [
    "for epoch in range(10):\n",
    "    cost = 0.0\n",
    "    for input_ids, target_ids in dataloader:\n",
    "        input_ids = input_ids.to(device)\n",
    "        target_ids = target_ids.to(device)\n",
    "\n",
    "        logits = word2vec(input_ids)\n",
    "        loss = criterion(logits, target_ids)\n",
    "\n",
    "        optimizer.zero_grad()\n",
    "        loss.backward()\n",
    "        optimizer.step()\n",
    "\n",
    "        cost += loss\n",
    "\n",
    "    cost = cost / len(dataloader)\n",
    "    print(f\"Epoch : {epoch+1:4d}, Cost : {cost:.3f}\")"
   ]
  },
  {
   "cell_type": "code",
   "execution_count": 14,
   "id": "142207495c35bae",
   "metadata": {},
   "outputs": [
    {
     "name": "stdout",
     "output_type": "stream",
     "text": [
      "연기\n",
      "[ 0.7439654   0.13454166 -0.39658177 -0.2548745   0.12341187 -0.09554387\n",
      "  0.3026053  -0.13994241 -0.38048005 -0.5421906  -0.28599566 -0.15995784\n",
      " -0.81768984 -0.9431989  -0.08832402 -0.05236255  0.13195369 -0.4611444\n",
      "  0.3211268  -0.43565026 -0.2871657   0.4771436  -1.0142778   0.2660852\n",
      "  0.09379061 -1.2506343  -0.09676949  0.99144155  0.20157461  0.764299\n",
      "  0.42485037  0.3329947  -0.1023431   0.10052264  0.07679637 -0.1596627\n",
      "  0.26235124 -0.17300357  0.06075232  0.15916067 -0.8381554  -0.49459857\n",
      " -0.1726977   0.27980644  0.25781283 -0.33889896  0.4321877  -0.59337914\n",
      "  0.32487398  0.7130696  -0.30393028 -0.55226576  0.8016873   0.08599462\n",
      "  0.5982594  -0.3359633  -0.70773524  0.3656016   0.33254135  0.04730317\n",
      " -0.16666129 -0.03024738 -0.13931595  0.17881201  0.25173113  0.16344947\n",
      " -0.3215194  -0.44774467 -0.7399983  -0.01188127 -0.6940338   0.13819274\n",
      " -0.46479833  1.0535083  -0.31560913 -0.5762649  -0.05145408  0.1243353\n",
      "  0.08556148 -0.11959475 -0.41995546 -0.36676425  0.12039236  0.2950897\n",
      " -0.7073614   0.6252277   0.7905455   0.6013079  -0.3412442   1.2433748\n",
      "  1.055368   -0.33888206  0.02826246  0.06652689  0.5281517  -0.50468385\n",
      " -0.19114748  0.01082429 -0.568967   -0.31214303  0.06633785 -0.3654263\n",
      " -0.4674909  -0.4414809   0.11462896  1.1554564   0.56354725 -0.18625164\n",
      " -0.9360458   0.02452234  0.31867075  0.16856012 -2.5334198   1.0761572\n",
      "  0.3134217   0.3909297  -0.34055242  0.4421238   0.1829008  -0.36442313\n",
      "  0.07490266  0.4590597  -0.1476014   1.6149436   0.52171147  0.5033205\n",
      " -0.21789108  0.3412499 ]\n"
     ]
    }
   ],
   "source": [
    "token_to_embedding = dict()\n",
    "embedding_matrix = word2vec.embedding.weight.detach().cpu().numpy()\n",
    "\n",
    "for word, embedding in zip(vocab, embedding_matrix):\n",
    "    token_to_embedding[word] = embedding\n",
    "\n",
    "index = 30\n",
    "token = vocab[30]\n",
    "token_embedding = token_to_embedding[token]\n",
    "print(token)\n",
    "print(token_embedding)"
   ]
  },
  {
   "cell_type": "code",
   "execution_count": 16,
   "id": "9481684a926adf36",
   "metadata": {},
   "outputs": [
    {
     "name": "stdout",
     "output_type": "stream",
     "text": [
      "연기과 가장 유사한 5개 단어\n",
      "은 - 유사도 : 0.4355\n",
      "한 - 유사도 : 0.3932\n",
      "들 - 유사도 : 0.3845\n",
      "을 - 유사도 : 0.3750\n",
      "가 - 유사도 : 0.3648\n"
     ]
    }
   ],
   "source": [
    "import numpy as np\n",
    "from numpy.linalg import norm\n",
    "\n",
    "def cosine_similarity(a, b):\n",
    "    consine = np.dot(b,a) / (norm(b, axis=1) * norm(a))\n",
    "    return consine\n",
    "\n",
    "def top_n_index(cosine_matrix, n):\n",
    "    closet_index = cosine_matrix.argsort()[::-1]\n",
    "    top_n = closet_index[1 : n + 1]\n",
    "    return top_n\n",
    "\n",
    "cosine_matrix = cosine_similarity(token_embedding, embedding_matrix)\n",
    "top_n = top_n_index(cosine_matrix, n=5)\n",
    "\n",
    "print(f\"{token}과 가장 유사한 5개 단어\")\n",
    "for idx in top_n:\n",
    "    print(f\"{id_to_token[idx]} - 유사도 : {cosine_matrix[idx]:.4f}\")"
   ]
  }
 ],
 "metadata": {
  "kernelspec": {
   "display_name": "base",
   "language": "python",
   "name": "python3"
  },
  "language_info": {
   "codemirror_mode": {
    "name": "ipython",
    "version": 3
   },
   "file_extension": ".py",
   "mimetype": "text/x-python",
   "name": "python",
   "nbconvert_exporter": "python",
   "pygments_lexer": "ipython3",
   "version": "3.11.8"
  }
 },
 "nbformat": 4,
 "nbformat_minor": 5
}
