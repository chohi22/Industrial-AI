{
 "cells": [
  {
   "cell_type": "code",
   "id": "initial_id",
   "metadata": {
    "collapsed": true,
    "ExecuteTime": {
     "end_time": "2025-06-05T14:08:09.716990Z",
     "start_time": "2025-06-05T14:08:02.355505Z"
    }
   },
   "source": [
    "import torch\n",
    "from torch import onnx\n",
    "from torchvision import models\n",
    "\n",
    "model = models.vgg16(num_classes=2)\n",
    "model.load_state_dict(torch.load(\"../models/VGG16.pt\", map_location=torch.device('cpu')))\n",
    "\n",
    "model.eval()\n",
    "\n",
    "dummy_input = torch.randn(1, 3, 224, 224)\n",
    "onnx.export(model=model, args=dummy_input, f=\"../models/VGG16.onnx\")"
   ],
   "outputs": [],
   "execution_count": 1
  },
  {
   "metadata": {
    "ExecuteTime": {
     "end_time": "2025-06-05T14:11:46.523877Z",
     "start_time": "2025-06-05T14:11:42.535959Z"
    }
   },
   "cell_type": "code",
   "source": [
    "import time\n",
    "import torch\n",
    "import onnxruntime as ort\n",
    "from PIL import Image\n",
    "from torchvision import models\n",
    "from torchvision import transforms\n",
    "\n",
    "def to_numpy(tensor):\n",
    "    return tensor.detach().cpu().numpy()\n",
    "\n",
    "image = Image.open(\"./datasets/images/cat.jpg\")\n",
    "\n",
    "transform = transforms.Compose([\n",
    "    transforms.Resize(256),\n",
    "    transforms.CenterCrop(224),\n",
    "    transforms.ToTensor(),\n",
    "    transforms.Normalize(mean=[0.48235, 0.45882, 0.40784], std=[1.0/255.0, 1.0/255.0, 1.0/255.0])\n",
    "])\n",
    "\n",
    "input = transform(image).unsqueeze(0)\n",
    "model = models.vgg16(num_classes=2)\n",
    "model.load_state_dict(torch.load(\"../models/VGG16.pt\", map_location=torch.device('cpu')))\n",
    "model.eval()\n",
    "\n",
    "with torch.no_grad():\n",
    "    start_time = time.time()\n",
    "    output = model(input)\n",
    "    end_time = time.time()\n",
    "\n",
    "    print(\"PyTorch inference time:\", output, end_time - start_time)\n",
    "\n",
    "ort_session = ort.InferenceSession(\"../models/VGG16.onnx\")\n",
    "\n",
    "start_time = time.time()\n",
    "ort_inputs = {ort_session.get_inputs()[0].name: to_numpy(input)}\n",
    "ort_outs = ort_session.run(output_names=None, input_feed=ort_inputs)\n",
    "end_time = time.time()\n",
    "print(\"ONNX inference time:\", ort_outs, end_time - start_time)"
   ],
   "id": "ff5a7abf26f4646c",
   "outputs": [
    {
     "name": "stdout",
     "output_type": "stream",
     "text": [
      "PyTorch inference time: tensor([[ 25.6561, -22.3740]]) 0.09152388572692871\n",
      "ONNX inference time: [array([[ 25.656073, -22.373951]], dtype=float32)] 0.14581513404846191\n"
     ]
    }
   ],
   "execution_count": 3
  }
 ],
 "metadata": {
  "kernelspec": {
   "display_name": "Python 3",
   "language": "python",
   "name": "python3"
  },
  "language_info": {
   "codemirror_mode": {
    "name": "ipython",
    "version": 2
   },
   "file_extension": ".py",
   "mimetype": "text/x-python",
   "name": "python",
   "nbconvert_exporter": "python",
   "pygments_lexer": "ipython2",
   "version": "2.7.6"
  }
 },
 "nbformat": 4,
 "nbformat_minor": 5
}
