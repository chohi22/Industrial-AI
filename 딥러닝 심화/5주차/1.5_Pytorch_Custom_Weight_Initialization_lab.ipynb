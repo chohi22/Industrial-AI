{
 "cells": [
  {
   "cell_type": "markdown",
   "metadata": {
    "id": "bktmWOC1a-43"
   },
   "source": [
    " In this tutorial ,  we will create a Deep Learning model for building a handwritten digit classifier. We will make use of the MNIST dataset included in the torchvision package.\n",
    "\n",
    " Mandatory first step is to do the basic data pre-processing steps , using the a utility called transforms which comes from\n",
    " torchvision package we will do two below mentioned basic data preprocessing operations.\n",
    "\n",
    "- Transform the raw dataset into tensors.\n",
    "- Normalize the dataset.\n",
    "\n",
    "We will also import the dataset from torch vision package."
   ]
  },
  {
   "cell_type": "code",
   "metadata": {
    "id": "rdDtiuLOa-46",
    "ExecuteTime": {
     "end_time": "2025-04-03T11:03:30.875680Z",
     "start_time": "2025-04-03T11:03:30.872723Z"
    }
   },
   "source": [
    "import torch\n",
    "from torchvision.datasets import MNIST"
   ],
   "outputs": [],
   "execution_count": 94
  },
  {
   "cell_type": "code",
   "metadata": {
    "id": "sEaVjapGa-47",
    "ExecuteTime": {
     "end_time": "2025-04-03T11:03:30.883618Z",
     "start_time": "2025-04-03T11:03:30.881168Z"
    }
   },
   "source": [
    "print('test')\n",
    "\n",
    "from torchvision import transforms\n",
    "\n",
    "transform = transforms.Compose([\n",
    "    transforms.ToTensor(),\n",
    "    #transforms.Normalize((0.5, 0.5, 0.5), (0.5, 0.5, 0.5))\n",
    "    transforms.Normalize((0.5, ), (0.5, ))\n",
    "    ])"
   ],
   "outputs": [
    {
     "name": "stdout",
     "output_type": "stream",
     "text": [
      "test\n"
     ]
    }
   ],
   "execution_count": 95
  },
  {
   "cell_type": "code",
   "metadata": {
    "id": "Iz13DI0-a-48",
    "ExecuteTime": {
     "end_time": "2025-04-03T11:03:30.914225Z",
     "start_time": "2025-04-03T11:03:30.897213Z"
    }
   },
   "source": [
    "# choose the training and test datasets\n",
    "train_data = MNIST(root='data', train=True,\n",
    "                                   download=True, transform=transform)\n",
    "test_data = MNIST(root='data', train=False,\n",
    "                                  download=True, transform=transform)"
   ],
   "outputs": [],
   "execution_count": 96
  },
  {
   "cell_type": "code",
   "metadata": {
    "id": "uYT86HiFa-48",
    "outputId": "69704026-d743-49b2-b998-3a818c78168e",
    "ExecuteTime": {
     "end_time": "2025-04-03T11:03:30.929902Z",
     "start_time": "2025-04-03T11:03:30.927038Z"
    }
   },
   "source": [
    "#size of train and test data\n",
    "len(train_data) , len(test_data)"
   ],
   "outputs": [
    {
     "data": {
      "text/plain": [
       "(60000, 10000)"
      ]
     },
     "execution_count": 97,
     "metadata": {},
     "output_type": "execute_result"
    }
   ],
   "execution_count": 97
  },
  {
   "cell_type": "code",
   "metadata": {
    "id": "bxPwCQmoa-49",
    "ExecuteTime": {
     "end_time": "2025-04-03T11:03:30.944412Z",
     "start_time": "2025-04-03T11:03:30.941599Z"
    }
   },
   "source": [
    "# how many samples per batch to load\n",
    "batch_size = 50\n",
    "# percentage of training set to use as validation\n",
    "valid_size = 0.2"
   ],
   "outputs": [],
   "execution_count": 98
  },
  {
   "cell_type": "code",
   "metadata": {
    "id": "ninto6hna-49",
    "ExecuteTime": {
     "end_time": "2025-04-03T11:03:30.970896Z",
     "start_time": "2025-04-03T11:03:30.963602Z"
    }
   },
   "source": [
    "import numpy as np\n",
    "from torch.utils.data.sampler import SubsetRandomSampler\n",
    "from torch.utils.data import DataLoader\n",
    "\n",
    "# Here we will use a subset of traning set for validation\n",
    "# obtain training indices that will be used for validation\n",
    "num_train = len(train_data)\n",
    "ix = list(range(num_train))\n",
    "np.random.shuffle(ix)\n",
    "split = int(np.floor(valid_size * num_train))\n",
    "train_idx, valid_idx = ix[split:], ix[:split]\n",
    "\n",
    "# create sampler objects using SubsetRandomSampler\n",
    "train_sampler = SubsetRandomSampler(train_idx)\n",
    "valid_sampler = SubsetRandomSampler(valid_idx)\n",
    "\n",
    "# data loaders preparation\n",
    "train_loader = DataLoader(train_data, batch_size=batch_size,\n",
    "    sampler=train_sampler)\n",
    "valid_loader = DataLoader(train_data, batch_size=batch_size,\n",
    "    sampler=valid_sampler)\n",
    "test_loader = DataLoader(test_data, batch_size=batch_size)"
   ],
   "outputs": [],
   "execution_count": 99
  },
  {
   "cell_type": "code",
   "metadata": {
    "id": "zOfIgoD3a-4-",
    "outputId": "40274957-2f0d-4fea-f7f5-5dcb95962476",
    "ExecuteTime": {
     "end_time": "2025-04-03T11:03:31.010755Z",
     "start_time": "2025-04-03T11:03:30.975433Z"
    }
   },
   "source": [
    "# Let's check the shape of the input/target data\n",
    "for data, target in train_loader:\n",
    "    print(data.shape)\n",
    "    print(target.shape)\n",
    "    break"
   ],
   "outputs": [
    {
     "name": "stdout",
     "output_type": "stream",
     "text": [
      "torch.Size([50, 1, 28, 28])\n",
      "torch.Size([50])\n"
     ]
    }
   ],
   "execution_count": 100
  },
  {
   "cell_type": "markdown",
   "metadata": {
    "id": "gH15amssa-4-"
   },
   "source": [
    "### Custom Weight Initialization:\n",
    "Below we will use xavier initialization in the linear layers."
   ]
  },
  {
   "cell_type": "code",
   "metadata": {
    "id": "05ZGxnFfa-4_",
    "ExecuteTime": {
     "end_time": "2025-04-03T11:03:31.027534Z",
     "start_time": "2025-04-03T11:03:31.022350Z"
    }
   },
   "source": [
    "from torch import nn, optim\n",
    "import torch.nn.functional as F\n",
    "\n",
    "class Model(nn.Module):\n",
    "    def __init__(self):\n",
    "        super().__init__()\n",
    "        self.fc1 = nn.Linear(784, 512)\n",
    "        #nn.init.normal_(self.fc1.weight, mean=0, std=1)\n",
    "        nn.init.kaiming_normal_(self.fc1.weight)\n",
    "        self.fc2 = nn.Linear(512, 256)\n",
    "        #nn.init.normal_(self.fc2.weight, mean=0, std=1)\n",
    "        nn.init.kaiming_normal_(self.fc2.weight)\n",
    "        self.fc3 = nn.Linear(256, 128)\n",
    "        #nn.init.normal_(self.fc3.weight, mean=0, std=1)\n",
    "        nn.init.kaiming_normal_(self.fc3.weight)\n",
    "        self.fc4 = nn.Linear(128, 56)\n",
    "        #nn.init.normal_(self.fc4.weight, mean=0, std=1)\n",
    "        nn.init.kaiming_normal_(self.fc4.weight)\n",
    "        self.fc5 = nn.Linear(56, 10)\n",
    "        #nn.init.normal_(self.fc5.weight, mean=0, std=1)\n",
    "        nn.init.kaiming_normal_(self.fc5.weight)\n",
    "\n",
    "\n",
    "    def forward(self, x):\n",
    "        # input tensor is flattened\n",
    "        x = x.view(x.shape[0], -1)\n",
    "\n",
    "        # applied dropout layer\n",
    "        x = F.relu(self.fc1(x))\n",
    "        x = F.relu(self.fc2(x))\n",
    "        x = F.relu(self.fc3(x))\n",
    "        x = F.relu(self.fc4(x))\n",
    "\n",
    "        #no dropout at the output layer\n",
    "        x = self.fc5(x)\n",
    "\n",
    "        return x"
   ],
   "outputs": [],
   "execution_count": 101
  },
  {
   "cell_type": "code",
   "metadata": {
    "id": "dWnOcbQga-4_",
    "ExecuteTime": {
     "end_time": "2025-04-03T11:03:31.051244Z",
     "start_time": "2025-04-03T11:03:31.040330Z"
    }
   },
   "source": [
    "model = Model()"
   ],
   "outputs": [],
   "execution_count": 102
  },
  {
   "cell_type": "code",
   "metadata": {
    "id": "MhVkwFn1a-5A",
    "ExecuteTime": {
     "end_time": "2025-04-03T11:03:31.067631Z",
     "start_time": "2025-04-03T11:03:31.064147Z"
    }
   },
   "source": [
    "criterion = nn.CrossEntropyLoss()\n",
    "\n",
    "from torch import optim\n",
    "\n",
    "optimizer = optim.SGD(model.parameters(), lr=0.01)"
   ],
   "outputs": [],
   "execution_count": 103
  },
  {
   "cell_type": "code",
   "metadata": {
    "id": "59ojGNLNa-5A",
    "outputId": "50249564-d997-49a5-d6da-64a194320031",
    "ExecuteTime": {
     "end_time": "2025-04-03T11:04:04.184901Z",
     "start_time": "2025-04-03T11:03:31.080978Z"
    }
   },
   "source": [
    "for epoch in range(1, 11): ## run the model for 11 epochs\n",
    "    train_loss, valid_loss = [], []\n",
    "    ## training part\n",
    "    model.train()\n",
    "    for data, target in train_loader:\n",
    "        optimizer.zero_grad()\n",
    "        ## 1. forward propagation\n",
    "        output = model(data)\n",
    "\n",
    "        ## 2. loss calculation\n",
    "        loss = criterion(output, target)\n",
    "\n",
    "        ## 3. backward propagation\n",
    "        loss.backward()\n",
    "\n",
    "        ## 4. weight optimization\n",
    "        optimizer.step()\n",
    "\n",
    "        train_loss.append(loss.item())\n",
    "\n",
    "    ## evaluation part\n",
    "    with torch.no_grad():\n",
    "        model.eval()\n",
    "        for data, target in valid_loader:\n",
    "            output = model(data)\n",
    "            loss = criterion(output, target)\n",
    "            valid_loss.append(loss.item())\n",
    "    print (\"Epoch:\", epoch, \"Training Loss: \", np.mean(train_loss), \"Valid Loss: \", np.mean(valid_loss))"
   ],
   "outputs": [
    {
     "name": "stdout",
     "output_type": "stream",
     "text": [
      "Epoch: 1 Training Loss:  0.49139074483731143 Valid Loss:  0.27911676407481234\n",
      "Epoch: 2 Training Loss:  0.23060801731189712 Valid Loss:  0.21353163515838483\n",
      "Epoch: 3 Training Loss:  0.17457188801296677 Valid Loss:  0.19162830716619889\n",
      "Epoch: 4 Training Loss:  0.14238762469807018 Valid Loss:  0.15832537733173618\n",
      "Epoch: 5 Training Loss:  0.12051112777165447 Valid Loss:  0.14200689528758328\n",
      "Epoch: 6 Training Loss:  0.10310808430464628 Valid Loss:  0.129124200627363\n",
      "Epoch: 7 Training Loss:  0.09007644096758062 Valid Loss:  0.12350966302134718\n",
      "Epoch: 8 Training Loss:  0.07880066299646084 Valid Loss:  0.11955913926164309\n",
      "Epoch: 9 Training Loss:  0.07011731284510461 Valid Loss:  0.11444609441095963\n",
      "Epoch: 10 Training Loss:  0.061662113795561406 Valid Loss:  0.10778228100583268\n"
     ]
    }
   ],
   "execution_count": 104
  },
  {
   "cell_type": "markdown",
   "metadata": {
    "id": "jhqYlXRUa-5B"
   },
   "source": [
    "##### Other weight initializations coding examples:\n",
    "\n",
    "- <b>Normal Distribution</b>:\n",
    "\n",
    "```python\n",
    "nn.init.normal_(self.fc1.weight, mean=0, std=1)\n",
    "```\n",
    "- <b>Lecun Normal Distribution</b>:\n",
    "\n",
    "By default, PyTorch uses Lecun initialization , no code changes are required.\n",
    "\n",
    "- <b>Kaiming (He) Normal Distribution</b>:\n",
    "\n",
    "```python\n",
    "nn.init.kaiming_normal_(self.fc1.weight)\n",
    "```"
   ]
  },
  {
   "cell_type": "markdown",
   "metadata": {
    "id": "ES2j7ffLa-5B"
   },
   "source": [
    "### Test the network"
   ]
  },
  {
   "cell_type": "code",
   "metadata": {
    "id": "19lKzxTVa-5B",
    "outputId": "e287c3e6-82b8-41e9-c577-2842b15c755e",
    "ExecuteTime": {
     "end_time": "2025-04-03T11:04:04.713616Z",
     "start_time": "2025-04-03T11:04:04.197016Z"
    }
   },
   "source": [
    "# initialize lists to monitor test loss and accuracy\n",
    "test_loss = 0.0\n",
    "class_correct = list(0. for i in range(10))\n",
    "class_total = list(0. for i in range(10))\n",
    "\n",
    "model.eval() # prep model for evaluation\n",
    "\n",
    "for data, target in test_loader:\n",
    "    # forward pass: compute predicted outputs by passing inputs to the model\n",
    "    output = model(data)\n",
    "    # calculate the loss\n",
    "    loss = criterion(output, target)\n",
    "    # update test loss\n",
    "    test_loss += loss.item()*data.size(0)\n",
    "    #test_loss.append(loss.item())\n",
    "    # convert output probabilities to predicted class\n",
    "    _, pred = torch.max(output, 1)\n",
    "    # compare predictions to true label\n",
    "    correct = np.squeeze(pred.eq(target.data.view_as(pred)))\n",
    "    # calculate test accuracy for each object class\n",
    "    for i in range(batch_size):\n",
    "        label = target.data[i]\n",
    "        class_correct[label] += correct[i].item()\n",
    "        class_total[label] += 1\n",
    "\n",
    "# calculate and print avg test loss\n",
    "test_loss = test_loss/len(test_loader.dataset)\n",
    "print('Test Loss: {:.6f}\\n'.format(test_loss))\n",
    "\n",
    "for i in range(10):\n",
    "    if class_total[i] > 0:\n",
    "        print('Test Accuracy of %5s: %2d%% (%2d/%2d)' % (\n",
    "            str(i), 100 * class_correct[i] / class_total[i],\n",
    "            np.sum(class_correct[i]), np.sum(class_total[i])))\n",
    "    else:\n",
    "        print('Test Accuracy of %5s: N/A (no training examples)' % (classes[i]))\n",
    "\n",
    "print('\\nTest Accuracy (Overall): %2d%% (%2d/%2d)' % (\n",
    "    100. * np.sum(class_correct) / np.sum(class_total),\n",
    "    np.sum(class_correct), np.sum(class_total)))"
   ],
   "outputs": [
    {
     "name": "stdout",
     "output_type": "stream",
     "text": [
      "Test Loss: 0.092873\n",
      "\n",
      "Test Accuracy of     0: 98% (970/980)\n",
      "Test Accuracy of     1: 99% (1126/1135)\n",
      "Test Accuracy of     2: 95% (985/1032)\n",
      "Test Accuracy of     3: 97% (980/1010)\n",
      "Test Accuracy of     4: 96% (951/982)\n",
      "Test Accuracy of     5: 96% (861/892)\n",
      "Test Accuracy of     6: 97% (930/958)\n",
      "Test Accuracy of     7: 95% (983/1028)\n",
      "Test Accuracy of     8: 97% (951/974)\n",
      "Test Accuracy of     9: 95% (960/1009)\n",
      "\n",
      "Test Accuracy (Overall): 96% (9697/10000)\n"
     ]
    }
   ],
   "execution_count": 105
  }
 ],
 "metadata": {
  "kernelspec": {
   "display_name": "Python 3",
   "language": "python",
   "name": "python3"
  },
  "language_info": {
   "codemirror_mode": {
    "name": "ipython",
    "version": 3
   },
   "file_extension": ".py",
   "mimetype": "text/x-python",
   "name": "python",
   "nbconvert_exporter": "python",
   "pygments_lexer": "ipython3",
   "version": "3.6.7"
  },
  "colab": {
   "provenance": [
    {
     "file_id": "1IKs4vuGCM4zd5qC9YpLzBb0zwtJrl-zc",
     "timestamp": 1743665399989
    }
   ]
  }
 },
 "nbformat": 4,
 "nbformat_minor": 0
}
