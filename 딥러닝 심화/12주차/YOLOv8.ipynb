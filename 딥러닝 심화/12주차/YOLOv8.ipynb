{
 "cells": [
  {
   "cell_type": "markdown",
   "id": "5a956ac3",
   "metadata": {
    "id": "5a956ac3"
   },
   "source": [
    "구글 코랩에서 실행하는 경우, cv2.imshow(\"VideoFrame\", frame) 구문을 다음과 같이 수정합니다.\n",
    "\n",
    "```python\n",
    "from google.colab.patches import cv2_imshow\n",
    "\n",
    "# ...\n",
    "\n",
    "cv2_imshow(frame) # cv2.imshow(\"VideoFrame\", frame)을 대체합니다.\n",
    "```"
   ]
  },
  {
   "cell_type": "code",
   "id": "5021fc30-c1cb-41a9-91e7-8a98fa5b2c12",
   "metadata": {
    "id": "5021fc30-c1cb-41a9-91e7-8a98fa5b2c12",
    "ExecuteTime": {
     "end_time": "2025-05-22T19:47:32.826733Z",
     "start_time": "2025-05-22T19:47:29.985132Z"
    }
   },
   "source": [
    "from ultralytics import YOLO\n",
    "\n",
    "\n",
    "model = YOLO(\"./models/yolov8m-pose.pt\")"
   ],
   "outputs": [
    {
     "name": "stderr",
     "output_type": "stream",
     "text": [
      "/Users/chohi/project/ai/DeepLearningDeepen/DeepLearningAdv/.venv/lib/python3.9/site-packages/urllib3/__init__.py:35: NotOpenSSLWarning: urllib3 v2 only supports OpenSSL 1.1.1+, currently the 'ssl' module is compiled with 'LibreSSL 2.8.3'. See: https://github.com/urllib3/urllib3/issues/3020\n",
      "  warnings.warn(\n"
     ]
    }
   ],
   "execution_count": 1
  },
  {
   "cell_type": "code",
   "id": "d591fd96-b596-4b2f-adf8-2fe6cd3af3cc",
   "metadata": {
    "id": "d591fd96-b596-4b2f-adf8-2fe6cd3af3cc",
    "ExecuteTime": {
     "end_time": "2025-05-22T19:47:43.377706Z",
     "start_time": "2025-05-22T19:47:39.347749Z"
    }
   },
   "source": [
    "import cv2\n",
    "\n",
    "\n",
    "capture = cv2.VideoCapture(\"./datasets/woman.mp4\")\n",
    "while cv2.waitKey(10) < 0:\n",
    "    if capture.get(cv2.CAP_PROP_POS_FRAMES) == capture.get(cv2.CAP_PROP_FRAME_COUNT):\n",
    "        capture.set(cv2.CAP_PROP_POS_FRAMES, 0)\n",
    "\n",
    "    ret, frame = capture.read()\n",
    "    cv2.imshow(\"VideoFrame\", frame)\n",
    "\n",
    "capture.release()\n",
    "cv2.destroyAllWindows()"
   ],
   "outputs": [],
   "execution_count": 2
  },
  {
   "cell_type": "code",
   "id": "60e3e481-ca6c-4404-8b6e-0e4aa9b5a68d",
   "metadata": {
    "id": "60e3e481-ca6c-4404-8b6e-0e4aa9b5a68d",
    "ExecuteTime": {
     "end_time": "2025-05-22T19:48:27.815469Z",
     "start_time": "2025-05-22T19:48:27.812376Z"
    }
   },
   "source": [
    "import torch\n",
    "\n",
    "\n",
    "def predict(frame, iou=0.7, conf=0.25):\n",
    "    results = model(\n",
    "        source=frame,\n",
    "        device=\"0\" if torch.cuda.is_available() else \"cpu\",\n",
    "        iou=0.7,\n",
    "        conf=0.25,\n",
    "        verbose=False,\n",
    "    )\n",
    "    result = results[0]\n",
    "    return result"
   ],
   "outputs": [],
   "execution_count": 9
  },
  {
   "cell_type": "code",
   "id": "e1465d14-3353-4125-a72c-a09f006d449d",
   "metadata": {
    "id": "e1465d14-3353-4125-a72c-a09f006d449d",
    "ExecuteTime": {
     "end_time": "2025-05-22T19:48:30.023931Z",
     "start_time": "2025-05-22T19:48:30.018839Z"
    }
   },
   "source": [
    "def draw_boxes(result, frame):\n",
    "    for boxes in result.boxes:\n",
    "        x1, y1, x2, y2, score, classes = boxes.data.squeeze().cpu().numpy()\n",
    "        cv2.rectangle(frame, (int(x1), int(y1)), (int(x2), int(y2)), (0, 0, 255), 1)\n",
    "    return frame"
   ],
   "outputs": [],
   "execution_count": 10
  },
  {
   "cell_type": "code",
   "id": "dfe374db-163a-4e21-ae9f-c764777e4797",
   "metadata": {
    "id": "dfe374db-163a-4e21-ae9f-c764777e4797",
    "ExecuteTime": {
     "end_time": "2025-05-22T19:48:41.776667Z",
     "start_time": "2025-05-22T19:48:33.806652Z"
    }
   },
   "source": [
    "import cv2\n",
    "\n",
    "\n",
    "capture = cv2.VideoCapture(\"./datasets/woman.mp4\")\n",
    "while cv2.waitKey(10) < 0:\n",
    "    if capture.get(cv2.CAP_PROP_POS_FRAMES) == capture.get(cv2.CAP_PROP_FRAME_COUNT):\n",
    "        capture.set(cv2.CAP_PROP_POS_FRAMES, 0)\n",
    "\n",
    "    ret, frame = capture.read()\n",
    "    result = predict(frame)\n",
    "    frame = draw_boxes(result, frame)\n",
    "\n",
    "    cv2.imshow(\"VideoFrame\", frame)\n",
    "\n",
    "capture.release()\n",
    "cv2.destroyAllWindows()"
   ],
   "outputs": [
    {
     "name": "stderr",
     "output_type": "stream",
     "text": [
      "/Users/chohi/project/ai/DeepLearningDeepen/DeepLearningAdv/.venv/lib/python3.9/site-packages/tqdm/auto.py:21: TqdmWarning: IProgress not found. Please update jupyter and ipywidgets. See https://ipywidgets.readthedocs.io/en/stable/user_install.html\n",
      "  from .autonotebook import tqdm as notebook_tqdm\n"
     ]
    }
   ],
   "execution_count": 11
  },
  {
   "cell_type": "code",
   "id": "1198c024-d8a4-488a-af99-0a45eb213c7f",
   "metadata": {
    "id": "1198c024-d8a4-488a-af99-0a45eb213c7f",
    "ExecuteTime": {
     "end_time": "2025-05-22T19:52:36.658671Z",
     "start_time": "2025-05-22T19:52:36.650606Z"
    }
   },
   "source": [
    "import cv2\n",
    "import numpy as np\n",
    "\n",
    "def draw_keypoints(result, frame):\n",
    "    \"\"\"\n",
    "    YOLOv8 Pose 결과를 OpenCV로 시각화하는 함수\n",
    "    :param result: YOLOv8 추론 결과 (results[0])\n",
    "    :param frame: 원본 이미지 (numpy array)\n",
    "    :return: keypoint가 그려진 이미지\n",
    "    \"\"\"\n",
    "    if not hasattr(result, 'keypoints') or result.keypoints is None:\n",
    "        return frame\n",
    "\n",
    "    kps_tensor = result.keypoints.data  # shape: (num_persons, num_kpts, 3)\n",
    "    kps = kps_tensor.cpu().numpy()\n",
    "\n",
    "    for person in kps:\n",
    "        for idx, (x, y, conf) in enumerate(person):\n",
    "            if conf > 0.5:\n",
    "                cv2.circle(frame, (int(x), int(y)), 3, (0, 0, 255), cv2.FILLED)\n",
    "                cv2.putText(frame, str(idx), (int(x), int(y)), cv2.FONT_HERSHEY_SIMPLEX, 0.4, (255, 255, 255), 1)\n",
    "\n",
    "    return frame\n"
   ],
   "outputs": [],
   "execution_count": 13
  },
  {
   "cell_type": "code",
   "id": "26fb7a37-db96-4423-9d4f-0e92e40effcd",
   "metadata": {
    "id": "26fb7a37-db96-4423-9d4f-0e92e40effcd",
    "ExecuteTime": {
     "end_time": "2025-05-22T19:53:41.753631Z",
     "start_time": "2025-05-22T19:53:30.357231Z"
    }
   },
   "source": [
    "import cv2\n",
    "\n",
    "\n",
    "capture = cv2.VideoCapture(\"./datasets/woman.mp4\")\n",
    "while cv2.waitKey(10) < 0:\n",
    "    if capture.get(cv2.CAP_PROP_POS_FRAMES) == capture.get(cv2.CAP_PROP_FRAME_COUNT):\n",
    "        capture.set(cv2.CAP_PROP_POS_FRAMES, 0)\n",
    "\n",
    "    ret, frame = capture.read()\n",
    "    result = predict(frame)\n",
    "    frame = draw_boxes(result, frame)\n",
    "    frame = draw_keypoints(result, frame)\n",
    "    cv2.imshow(\"VideoFrame\", frame)\n",
    "\n",
    "capture.release()\n",
    "cv2.destroyAllWindows()"
   ],
   "outputs": [],
   "execution_count": 15
  }
 ],
 "metadata": {
  "kernelspec": {
   "display_name": "Python 3 (ipykernel)",
   "language": "python",
   "name": "python3"
  },
  "language_info": {
   "codemirror_mode": {
    "name": "ipython",
    "version": 3
   },
   "file_extension": ".py",
   "mimetype": "text/x-python",
   "name": "python",
   "nbconvert_exporter": "python",
   "pygments_lexer": "ipython3",
   "version": "3.9.13"
  },
  "colab": {
   "provenance": [
    {
     "file_id": "1_YhUgMDAw_yUwFqrYRSDoSM3Lm1CwONn",
     "timestamp": 1747881328470
    }
   ]
  }
 },
 "nbformat": 4,
 "nbformat_minor": 5
}
