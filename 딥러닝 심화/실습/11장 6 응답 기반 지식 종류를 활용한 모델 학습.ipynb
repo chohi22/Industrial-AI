{
 "cells": [
  {
   "cell_type": "code",
   "id": "initial_id",
   "metadata": {
    "collapsed": true,
    "ExecuteTime": {
     "end_time": "2025-03-29T06:21:00.857738Z",
     "start_time": "2025-03-29T06:21:00.843109Z"
    }
   },
   "source": [
    "import torch\n",
    "from torch import nn\n",
    "from torch import optim\n",
    "from torch.nn import functional as F\n",
    "\n",
    "\n",
    "class TeacherModel(nn.Module):\n",
    "    def __init__(self, input_dim, hidden_dim, output_dim):\n",
    "        super(TeacherModel, self).__init__()\n",
    "        self.fc1 = nn.Linear(input_dim, hidden_dim)\n",
    "        self.fc2 = nn.Linear(hidden_dim, output_dim)\n",
    "\n",
    "    def forward(self, x):\n",
    "        x = torch.relu(self.fc1(x))\n",
    "        x = self.fc2(x)\n",
    "        return x\n",
    "\n",
    "\n",
    "class StudentModel(nn.Module):\n",
    "    def __init__(self, input_dim, hidden_dim, output_dim):\n",
    "        super(StudentModel, self).__init__()\n",
    "        self.fc1 = nn.Linear(input_dim, hidden_dim)\n",
    "        self.fc2 = nn.Linear(hidden_dim, output_dim)\n",
    "\n",
    "    def forward(self, x):\n",
    "        x = torch.relu(self.fc1(x))\n",
    "        x = self.fc2(x)\n",
    "        return x\n",
    "\n",
    "\n",
    "def distillation_loss(y, labels, teacher_output, T, alpha):\n",
    "    student_softmax = F.log_softmax(y / T, dim=1)\n",
    "    teacher_softmax = F.softmax(teacher_output / T, dim=1)\n",
    "    temperature_loss = T * T * 2.0 + alpha\n",
    "\n",
    "    kld_loss = nn.KLDivLoss(reduction=\"batchmean\")(student_softmax, teacher_softmax)\n",
    "    kld_loss = kld_loss * temperature_loss\n",
    "    ce_loss = F.cross_entropy(y, labels) * (1.0 - alpha)\n",
    "\n",
    "    total_loss = kld_loss + ce_loss\n",
    "    return total_loss\n",
    "\n",
    "\n",
    "input_dim = 100\n",
    "output_dim = 10\n",
    "teacher = TeacherModel(input_dim, 256, output_dim)\n",
    "student = StudentModel(input_dim, 128, output_dim)\n",
    "optimizer = optim.Adam(student.parameters(), lr=0.001)\n",
    "\n",
    "input_data = torch.randn(1, input_dim)\n",
    "with torch.no_grad():\n",
    "    teacher_output = teacher(input_data)\n",
    "\n",
    "optimizer.zero_grad()\n",
    "student_output = student(input_data)\n",
    "loss = distillation_loss(\n",
    "    y=student_output,\n",
    "    labels=torch.tensor([0]),\n",
    "    teacher_output=teacher_output,\n",
    "    T=0.1,\n",
    "    alpha=0.5,\n",
    ")\n",
    "loss.backward()\n",
    "optimizer.step()\n",
    "\n",
    "print(\"Teacher Model Output:\", teacher_output)\n",
    "print(\"Student Model Output:\", student_output)"
   ],
   "outputs": [
    {
     "name": "stdout",
     "output_type": "stream",
     "text": [
      "Teacher Model Output: tensor([[ 0.4648, -0.0432,  0.1178, -0.1800, -0.1688, -0.1125, -0.3612,  0.1490,\n",
      "          0.0367, -0.3336]])\n",
      "Student Model Output: tensor([[-0.4306, -0.0281, -0.0067, -0.0223,  0.3661, -0.1700, -0.2204, -0.2662,\n",
      "         -0.2874, -0.0751]], grad_fn=<AddmmBackward0>)\n"
     ]
    }
   ],
   "execution_count": 4
  },
  {
   "metadata": {
    "ExecuteTime": {
     "end_time": "2025-03-29T06:21:00.868170Z",
     "start_time": "2025-03-29T06:21:00.866141Z"
    }
   },
   "cell_type": "code",
   "source": "",
   "id": "c76e8473b799bfe",
   "outputs": [],
   "execution_count": null
  }
 ],
 "metadata": {
  "kernelspec": {
   "display_name": "Python 3",
   "language": "python",
   "name": "python3"
  },
  "language_info": {
   "codemirror_mode": {
    "name": "ipython",
    "version": 2
   },
   "file_extension": ".py",
   "mimetype": "text/x-python",
   "name": "python",
   "nbconvert_exporter": "python",
   "pygments_lexer": "ipython2",
   "version": "2.7.6"
  }
 },
 "nbformat": 4,
 "nbformat_minor": 5
}
