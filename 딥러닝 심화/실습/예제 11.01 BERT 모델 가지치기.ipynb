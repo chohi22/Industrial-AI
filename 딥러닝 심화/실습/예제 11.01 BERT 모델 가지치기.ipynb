{
 "cells": [
  {
   "cell_type": "code",
   "id": "f49f0bd8-df62-4097-9d3e-9378e48c8e9b",
   "metadata": {
    "ExecuteTime": {
     "end_time": "2025-03-29T06:45:52.430840Z",
     "start_time": "2025-03-29T06:45:42.852513Z"
    }
   },
   "source": [
    "import torch\n",
    "from torch.nn.utils import prune\n",
    "from transformers import BertTokenizer, BertForSequenceClassification\n",
    "\n",
    "\n",
    "\n",
    "device = \"mps\" if torch.backends.mps.is_available() and torch.backends.mps.is_built() else \"cpu\"\n",
    "tensor = torch.FloatTensor([1, 2, 3]).to(device)\n",
    "\n",
    "tokenizer = BertTokenizer.from_pretrained(\n",
    "    pretrained_model_name_or_path=\"bert-base-multilingual-cased\",\n",
    "    do_lower_case=False,\n",
    ")\n",
    "model = BertForSequenceClassification.from_pretrained(\n",
    "    pretrained_model_name_or_path=\"bert-base-multilingual-cased\",\n",
    "    num_labels=2\n",
    ")\n",
    "\n",
    "torch.save(model.state_dict(), \"../models/BertForSequenceClassification.pt\")\n",
    "\n",
    "model.load_state_dict(torch.load(\"../models/BertForSequenceClassification.pt\"))\n",
    "\n",
    "print(\"가지치기 적용 전:\")\n",
    "print(model.bert.encoder.layer[0].attention.self.key.weight)\n",
    "\n",
    "parameters = [\n",
    "    (model.bert.embeddings.word_embeddings, \"weight\"),\n",
    "    (model.bert.encoder.layer[0].attention.self.key, \"weight\"),\n",
    "    (model.bert.encoder.layer[1].attention.self.key, \"weight\"),\n",
    "    (model.bert.encoder.layer[2].attention.self.key, \"weight\"),\n",
    "]\n",
    "prune.global_unstructured(\n",
    "    parameters=parameters,\n",
    "    pruning_method=prune.L1Unstructured,\n",
    "    amount=0.2\n",
    ")\n",
    "\n",
    "print(\"가지치기 적용 후:\")\n",
    "print(model.bert.encoder.layer[0].attention.self.key.weight)"
   ],
   "outputs": [
    {
     "name": "stderr",
     "output_type": "stream",
     "text": [
      "Some weights of BertForSequenceClassification were not initialized from the model checkpoint at bert-base-multilingual-cased and are newly initialized: ['classifier.bias', 'classifier.weight']\n",
      "You should probably TRAIN this model on a down-stream task to be able to use it for predictions and inference.\n"
     ]
    },
    {
     "name": "stdout",
     "output_type": "stream",
     "text": [
      "가지치기 적용 전:\n",
      "Parameter containing:\n",
      "tensor([[-0.0259, -0.0599, -0.0395,  ...,  0.0083, -0.0271, -0.0043],\n",
      "        [ 0.0419,  0.0561,  0.0044,  ..., -0.0042,  0.0200,  0.0163],\n",
      "        [ 0.0160, -0.0439, -0.0092,  ..., -0.0115, -0.0879, -0.0514],\n",
      "        ...,\n",
      "        [-0.0310, -0.0218,  0.0345,  ..., -0.0010,  0.0107,  0.0088],\n",
      "        [-0.0756, -0.0755, -0.0067,  ..., -0.0132, -0.0330, -0.0986],\n",
      "        [ 0.0159, -0.0423, -0.0061,  ...,  0.0445, -0.0184,  0.0410]],\n",
      "       requires_grad=True)\n",
      "가지치기 적용 후:\n",
      "tensor([[-0.0259, -0.0599, -0.0395,  ...,  0.0000, -0.0271, -0.0000],\n",
      "        [ 0.0419,  0.0561,  0.0000,  ..., -0.0000,  0.0200,  0.0163],\n",
      "        [ 0.0160, -0.0439, -0.0000,  ..., -0.0115, -0.0879, -0.0514],\n",
      "        ...,\n",
      "        [-0.0310, -0.0218,  0.0345,  ..., -0.0000,  0.0000,  0.0000],\n",
      "        [-0.0756, -0.0755, -0.0000,  ..., -0.0132, -0.0330, -0.0986],\n",
      "        [ 0.0159, -0.0423, -0.0000,  ...,  0.0445, -0.0184,  0.0410]],\n",
      "       grad_fn=<MulBackward0>)\n"
     ]
    }
   ],
   "execution_count": 4
  },
  {
   "cell_type": "code",
   "id": "5b5a136c",
   "metadata": {
    "ExecuteTime": {
     "end_time": "2025-03-29T06:45:52.444571Z",
     "start_time": "2025-03-29T06:45:52.440217Z"
    }
   },
   "source": [
    "import os\n",
    "\n",
    "file_path = \"../models/BertForSequenceClassification.pt\"\n",
    "print(\"File exists:\", os.path.exists(file_path))\n",
    "print(\"Absolute path:\", os.path.abspath(file_path))\n"
   ],
   "outputs": [
    {
     "name": "stdout",
     "output_type": "stream",
     "text": [
      "File exists: True\n",
      "Absolute path: /Users/chohi/project/ai/DeepLearningDeepen/models/BertForSequenceClassification.pt\n"
     ]
    }
   ],
   "execution_count": 5
  }
 ],
 "metadata": {
  "kernelspec": {
   "display_name": "base",
   "language": "python",
   "name": "python3"
  },
  "language_info": {
   "codemirror_mode": {
    "name": "ipython",
    "version": 3
   },
   "file_extension": ".py",
   "mimetype": "text/x-python",
   "name": "python",
   "nbconvert_exporter": "python",
   "pygments_lexer": "ipython3",
   "version": "3.11.8"
  }
 },
 "nbformat": 4,
 "nbformat_minor": 5
}
