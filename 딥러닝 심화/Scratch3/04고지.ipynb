{
 "cells": [
  {
   "metadata": {},
   "cell_type": "markdown",
   "source": "### 텐서를 다루다",
   "id": "f36e10be90cff625"
  },
  {
   "metadata": {
    "ExecuteTime": {
     "end_time": "2025-04-10T16:52:25.622313Z",
     "start_time": "2025-04-10T16:52:25.386575Z"
    }
   },
   "cell_type": "code",
   "source": [
    "from tkinter.scrolledtext import example\n",
    "\n",
    "import numpy as np\n",
    "from sympy.physics.continuum_mechanics.beam import numpy\n",
    "from sympy.physics.vector.printing import params\n",
    "\n",
    "import dezero.functions as F\n",
    "from Scratch3.dezero.core import Function\n",
    "from Scratch3.dezero.functions import broadcast_to\n",
    "from dezero import Variable\n",
    "from dezero import Function\n",
    "\n",
    "x = Variable(np.array(1.0))\n",
    "y = F.sin(x)\n",
    "print(y)"
   ],
   "id": "cf0551a6b2949938",
   "outputs": [
    {
     "name": "stdout",
     "output_type": "stream",
     "text": [
      "variable(0.8414709848078965)\n"
     ]
    }
   ],
   "execution_count": 25
  },
  {
   "metadata": {
    "ExecuteTime": {
     "end_time": "2025-04-10T16:52:25.655617Z",
     "start_time": "2025-04-10T16:52:25.650699Z"
    }
   },
   "cell_type": "code",
   "source": [
    "x = Variable(np.array([[1,2,3], [4,5,6]]))\n",
    "y = F.sin(x)\n",
    "print(y)"
   ],
   "id": "91dcf02eef69f665",
   "outputs": [
    {
     "name": "stdout",
     "output_type": "stream",
     "text": [
      "variable([[ 0.84147098  0.90929743  0.14112001]\n",
      "          [-0.7568025  -0.95892427 -0.2794155 ]])\n"
     ]
    }
   ],
   "execution_count": 26
  },
  {
   "metadata": {
    "ExecuteTime": {
     "end_time": "2025-04-10T16:52:25.727805Z",
     "start_time": "2025-04-10T16:52:25.721552Z"
    }
   },
   "cell_type": "code",
   "source": [
    "x = Variable(np.array([[1,2,3], [4,5,6]]))\n",
    "c = Variable(np.array([[10,20,30], [40,50,60]]))\n",
    "y = x+c\n",
    "print(y)"
   ],
   "id": "ee5675d6c314685d",
   "outputs": [
    {
     "name": "stdout",
     "output_type": "stream",
     "text": [
      "variable([[11 22 33]\n",
      "          [44 55 66]])\n"
     ]
    }
   ],
   "execution_count": 27
  },
  {
   "metadata": {
    "ExecuteTime": {
     "end_time": "2025-04-10T16:52:25.795655Z",
     "start_time": "2025-04-10T16:52:25.788100Z"
    }
   },
   "cell_type": "code",
   "source": [
    "x = Variable(np.array([[1,2,3], [4,5,6]]))\n",
    "c = Variable(np.array([[10,20,30], [40,50,60]]))\n",
    "\n",
    "t = x + c\n",
    "y = F.sum(t)\n",
    "print(y)"
   ],
   "id": "10dcd83a868f69cf",
   "outputs": [
    {
     "name": "stdout",
     "output_type": "stream",
     "text": [
      "variable(231)\n"
     ]
    }
   ],
   "execution_count": 28
  },
  {
   "metadata": {
    "ExecuteTime": {
     "end_time": "2025-04-10T16:52:25.864859Z",
     "start_time": "2025-04-10T16:52:25.859408Z"
    }
   },
   "cell_type": "code",
   "source": [
    "y.backward(retain_grad=True)\n",
    "print(y.grad)\n",
    "print(t.grad)\n",
    "print(x.grad)\n",
    "print(c.grad)"
   ],
   "id": "3238d9f7f21446ee",
   "outputs": [
    {
     "name": "stdout",
     "output_type": "stream",
     "text": [
      "variable(1)\n",
      "variable([[1 1 1]\n",
      "          [1 1 1]])\n",
      "variable([[1 1 1]\n",
      "          [1 1 1]])\n",
      "variable([[1 1 1]\n",
      "          [1 1 1]])\n"
     ]
    }
   ],
   "execution_count": 29
  },
  {
   "metadata": {},
   "cell_type": "markdown",
   "source": "### 형상 변환 함수",
   "id": "12c02ca35b989a84"
  },
  {
   "metadata": {
    "ExecuteTime": {
     "end_time": "2025-04-10T16:52:25.932354Z",
     "start_time": "2025-04-10T16:52:25.927055Z"
    }
   },
   "cell_type": "code",
   "source": [
    "import numpy as np\n",
    "\n",
    "x = np.array([[1,2,3], [4,5,6]])\n",
    "y = np.reshape(x, (6,))\n",
    "print(y)"
   ],
   "id": "9d080599e3258cb0",
   "outputs": [
    {
     "name": "stdout",
     "output_type": "stream",
     "text": [
      "[1 2 3 4 5 6]\n"
     ]
    }
   ],
   "execution_count": 30
  },
  {
   "metadata": {
    "ExecuteTime": {
     "end_time": "2025-04-10T16:52:25.994287Z",
     "start_time": "2025-04-10T16:52:25.988349Z"
    }
   },
   "cell_type": "code",
   "source": [
    "class Reshape(Function):\n",
    "    def __init__(self, shape):\n",
    "        self.shape = shape\n",
    "\n",
    "    def forward(self, x):\n",
    "        self.x_shape = x.shape\n",
    "        y = x.reshape(self.shape)\n",
    "        return y\n",
    "\n",
    "    def backward(self, gy):\n",
    "        return np.reshape(gy, self.x_shape)"
   ],
   "id": "62db49810c2ce446",
   "outputs": [],
   "execution_count": 31
  },
  {
   "metadata": {
    "ExecuteTime": {
     "end_time": "2025-04-10T16:52:26.039357Z",
     "start_time": "2025-04-10T16:52:26.035612Z"
    }
   },
   "cell_type": "code",
   "source": [
    "from dezero.core import as_variable\n",
    "\n",
    "def reshape(x, shape):\n",
    "    if x.shape == shape:\n",
    "        return as_variable(x)\n",
    "    return Reshape(shape)(x)"
   ],
   "id": "174e11070a9c9dad",
   "outputs": [],
   "execution_count": 32
  },
  {
   "metadata": {
    "ExecuteTime": {
     "end_time": "2025-04-10T16:52:26.087103Z",
     "start_time": "2025-04-10T16:52:26.078587Z"
    }
   },
   "cell_type": "code",
   "source": [
    "import numpy as np\n",
    "from dezero import Variable\n",
    "import dezero.functions as F\n",
    "\n",
    "x = Variable(np.array([[1,2,3], [4,5,6]]))\n",
    "y = F.reshape(x, (6,))\n",
    "y.backward(retain_grad=True)\n",
    "print(x.grad)"
   ],
   "id": "94027a614e5852a1",
   "outputs": [
    {
     "name": "stdout",
     "output_type": "stream",
     "text": [
      "variable([[1 1 1]\n",
      "          [1 1 1]])\n"
     ]
    }
   ],
   "execution_count": 33
  },
  {
   "metadata": {
    "ExecuteTime": {
     "end_time": "2025-04-10T16:52:26.149930Z",
     "start_time": "2025-04-10T16:52:26.144293Z"
    }
   },
   "cell_type": "code",
   "source": [
    "x = np.random.rand(1,2,3)\n",
    "\n",
    "y = x.reshape((2,3))\n",
    "y = x.reshape([2,3])\n",
    "y = x.reshape(2,3)"
   ],
   "id": "e36d3d3acd08aaf4",
   "outputs": [],
   "execution_count": 34
  },
  {
   "metadata": {
    "ExecuteTime": {
     "end_time": "2025-04-10T16:52:26.229292Z",
     "start_time": "2025-04-10T16:52:26.223620Z"
    }
   },
   "cell_type": "code",
   "source": [
    "x = np.array([[1,2,3], [4,5,6]])\n",
    "y = np.transpose(x)\n",
    "\n",
    "print(y)"
   ],
   "id": "7f770887bff12ed4",
   "outputs": [
    {
     "name": "stdout",
     "output_type": "stream",
     "text": [
      "[[1 4]\n",
      " [2 5]\n",
      " [3 6]]\n"
     ]
    }
   ],
   "execution_count": 35
  },
  {
   "metadata": {
    "ExecuteTime": {
     "end_time": "2025-04-10T16:52:26.286911Z",
     "start_time": "2025-04-10T16:52:26.281587Z"
    }
   },
   "cell_type": "code",
   "source": [
    "class Transpose(Function):\n",
    "    def forward(self, x):\n",
    "        y = np.transpose(x)\n",
    "        return y\n",
    "\n",
    "    def backward(self, gy):\n",
    "        gx = transpose(gy)\n",
    "        return gx\n",
    "\n",
    "def transpose(x):\n",
    "    return Transpose()(x)"
   ],
   "id": "b2289933dc34c371",
   "outputs": [],
   "execution_count": 36
  },
  {
   "metadata": {
    "ExecuteTime": {
     "end_time": "2025-04-10T16:52:26.323602Z",
     "start_time": "2025-04-10T16:52:26.318740Z"
    }
   },
   "cell_type": "code",
   "source": [
    "x = Variable(np.array([[1,2,3], [4,5,6]]))\n",
    "y = F.transpose(x)\n",
    "y.backward()\n",
    "\n",
    "print(x.grad)"
   ],
   "id": "4d860aa1886ca66f",
   "outputs": [
    {
     "name": "stdout",
     "output_type": "stream",
     "text": [
      "variable([[1 1 1]\n",
      "          [1 1 1]])\n"
     ]
    }
   ],
   "execution_count": 37
  },
  {
   "metadata": {
    "ExecuteTime": {
     "end_time": "2025-04-10T16:52:26.398305Z",
     "start_time": "2025-04-10T16:52:26.392454Z"
    }
   },
   "cell_type": "code",
   "source": [
    "x = Variable(np.random.rand(2,3))\n",
    "y = F.transpose(x)\n",
    "y = x.T\n",
    "y"
   ],
   "id": "a590e1ececc30ee3",
   "outputs": [
    {
     "data": {
      "text/plain": [
       "variable([[0.01632294 0.47316193]\n",
       "          [0.41608249 0.52043201]\n",
       "          [0.08420576 0.29977813]])"
      ]
     },
     "execution_count": 38,
     "metadata": {},
     "output_type": "execute_result"
    }
   ],
   "execution_count": 38
  },
  {
   "metadata": {
    "ExecuteTime": {
     "end_time": "2025-04-10T16:52:26.476205Z",
     "start_time": "2025-04-10T16:52:26.469637Z"
    }
   },
   "cell_type": "code",
   "source": [
    "A, B, C, D = 1, 2, 3, 4\n",
    "x = np.random.rand(A, B, C, D)\n",
    "y = x.transpose(1,0,3,2)\n",
    "\n",
    "print(x)\n",
    "print(y)"
   ],
   "id": "212bd46bb8f7d737",
   "outputs": [
    {
     "name": "stdout",
     "output_type": "stream",
     "text": [
      "[[[[0.09378038 0.83527243 0.02675811 0.30766595]\n",
      "   [0.8204467  0.97121553 0.26757308 0.57126221]\n",
      "   [0.30325834 0.77661084 0.20565208 0.07270807]]\n",
      "\n",
      "  [[0.23297817 0.67172007 0.103746   0.99190037]\n",
      "   [0.37736757 0.4068899  0.2368764  0.77812888]\n",
      "   [0.21443103 0.59340779 0.09457967 0.32073761]]]]\n",
      "[[[[0.09378038 0.8204467  0.30325834]\n",
      "   [0.83527243 0.97121553 0.77661084]\n",
      "   [0.02675811 0.26757308 0.20565208]\n",
      "   [0.30766595 0.57126221 0.07270807]]]\n",
      "\n",
      "\n",
      " [[[0.23297817 0.37736757 0.21443103]\n",
      "   [0.67172007 0.4068899  0.59340779]\n",
      "   [0.103746   0.2368764  0.09457967]\n",
      "   [0.99190037 0.77812888 0.32073761]]]]\n"
     ]
    }
   ],
   "execution_count": 39
  },
  {
   "metadata": {},
   "cell_type": "markdown",
   "source": "### 합계 함수",
   "id": "7c01b919f1b7350d"
  },
  {
   "metadata": {
    "ExecuteTime": {
     "end_time": "2025-04-10T16:52:26.543760Z",
     "start_time": "2025-04-10T16:52:26.536992Z"
    }
   },
   "cell_type": "code",
   "source": [
    "class Sum(Function):\n",
    "\n",
    "    def forward(self, x):\n",
    "        self.x_shape = x.shape\n",
    "        y = x.sum()\n",
    "        return y\n",
    "\n",
    "    def backward(self, gy):\n",
    "        gx = broadcast_to(gy, self.x_shape)\n",
    "        return gx\n",
    "def sum(x):\n",
    "    return Sum()(x)\n"
   ],
   "id": "f83cd66459ae70f8",
   "outputs": [],
   "execution_count": 40
  },
  {
   "metadata": {
    "ExecuteTime": {
     "end_time": "2025-04-10T16:52:26.597078Z",
     "start_time": "2025-04-10T16:52:26.591653Z"
    }
   },
   "cell_type": "code",
   "source": [
    "import numpy as np\n",
    "from dezero import Variable\n",
    "import dezero.functions as F\n",
    "\n",
    "x = Variable(np.array([1,2,3,4,5,6]))\n",
    "y = F.sum(x)\n",
    "y.backward()\n",
    "print(y)\n",
    "print(x.grad)"
   ],
   "id": "dd8c1df0955a4e9d",
   "outputs": [
    {
     "name": "stdout",
     "output_type": "stream",
     "text": [
      "variable(21)\n",
      "variable([1 1 1 1 1 1])\n"
     ]
    }
   ],
   "execution_count": 41
  },
  {
   "metadata": {
    "ExecuteTime": {
     "end_time": "2025-04-10T16:52:26.681534Z",
     "start_time": "2025-04-10T16:52:26.676584Z"
    }
   },
   "cell_type": "code",
   "source": [
    "x = Variable(np.array([[1,2,3], [4,5,6]]))\n",
    "y = F.sum(x)\n",
    "y.backward()\n",
    "print(y)\n",
    "print(x.grad)"
   ],
   "id": "ac0b4b1d4e02bf8a",
   "outputs": [
    {
     "name": "stdout",
     "output_type": "stream",
     "text": [
      "variable(21)\n",
      "variable([[1 1 1]\n",
      "          [1 1 1]])\n"
     ]
    }
   ],
   "execution_count": 42
  },
  {
   "metadata": {
    "ExecuteTime": {
     "end_time": "2025-04-10T16:52:26.743966Z",
     "start_time": "2025-04-10T16:52:26.738890Z"
    }
   },
   "cell_type": "code",
   "source": [
    "x = np.array([[1,2,3], [4,5,6]])\n",
    "y = np.sum(x, axis=0)\n",
    "print(y)\n",
    "print(x.shape, '->', y.shape)"
   ],
   "id": "124bb0e7bc7fc873",
   "outputs": [
    {
     "name": "stdout",
     "output_type": "stream",
     "text": [
      "[5 7 9]\n",
      "(2, 3) -> (3,)\n"
     ]
    }
   ],
   "execution_count": 43
  },
  {
   "metadata": {
    "ExecuteTime": {
     "end_time": "2025-04-10T16:52:26.803205Z",
     "start_time": "2025-04-10T16:52:26.798404Z"
    }
   },
   "cell_type": "code",
   "source": [
    "x = np.array([[1,2,3], [4,5,6]])\n",
    "y = np.sum(x, axis=1)\n",
    "print(y)\n",
    "print(x.shape, '->', y.shape)"
   ],
   "id": "83d8d0b9a3d261e1",
   "outputs": [
    {
     "name": "stdout",
     "output_type": "stream",
     "text": [
      "[ 6 15]\n",
      "(2, 3) -> (2,)\n"
     ]
    }
   ],
   "execution_count": 44
  },
  {
   "metadata": {
    "ExecuteTime": {
     "end_time": "2025-04-10T16:52:26.862615Z",
     "start_time": "2025-04-10T16:52:26.857227Z"
    }
   },
   "cell_type": "code",
   "source": [
    "x = np.array([[1,2,3], [4,5,6]])\n",
    "y = np.sum(x, keepdims=True)\n",
    "print(y)\n",
    "print(y.shape)"
   ],
   "id": "b60b4d4d8b1475d3",
   "outputs": [
    {
     "name": "stdout",
     "output_type": "stream",
     "text": [
      "[[21]]\n",
      "(1, 1)\n"
     ]
    }
   ],
   "execution_count": 45
  },
  {
   "metadata": {
    "ExecuteTime": {
     "end_time": "2025-04-10T16:52:26.934837Z",
     "start_time": "2025-04-10T16:52:26.929145Z"
    }
   },
   "cell_type": "code",
   "source": [
    "from dezero import utils\n",
    "\n",
    "class Sum(Function):\n",
    "    def __init__(self, axis, keepdims):\n",
    "        self.axis = axis\n",
    "        self.keepdims = keepdims\n",
    "\n",
    "    def forward(self, x):\n",
    "        self.x_shape = x.shape\n",
    "        y = x.sum(axis=self.axis, keepdims=self.keepdims)\n",
    "        return y\n",
    "\n",
    "    def backward(self, gy):\n",
    "        gy = utils.reshape_sum_backward(gy, self.x_shape, self.axis, self.keepdims)\n",
    "        gx = broadcast_to(gy, self.x_shape)\n",
    "        return gx\n",
    "def sum(x, axis=None, keepdims=False):\n",
    "    return Sum(axis, keepdims)(x)\n"
   ],
   "id": "db1efcad8b7ffa90",
   "outputs": [],
   "execution_count": 46
  },
  {
   "metadata": {
    "ExecuteTime": {
     "end_time": "2025-04-10T16:52:27.014169Z",
     "start_time": "2025-04-10T16:52:27.006945Z"
    }
   },
   "cell_type": "code",
   "source": [
    "x = Variable(np.array([[1,2,3], [4,5,6]]))\n",
    "y = F.sum(x, axis=0)\n",
    "y.backward()\n",
    "print(y)\n",
    "print(x.grad)\n",
    "\n",
    "x = Variable(np.random.randn(2,3,4,5))\n",
    "y = x.sum(keepdims=True)\n",
    "print(y)"
   ],
   "id": "4afee33329ea6cc2",
   "outputs": [
    {
     "name": "stdout",
     "output_type": "stream",
     "text": [
      "variable([5 7 9])\n",
      "variable([[1 1 1]\n",
      "          [1 1 1]])\n",
      "variable([[[[-7.61264594]]]])\n"
     ]
    }
   ],
   "execution_count": 47
  },
  {
   "metadata": {},
   "cell_type": "markdown",
   "source": "### 브로드캐스트 함수",
   "id": "bf1a24e5587a697d"
  },
  {
   "metadata": {
    "ExecuteTime": {
     "end_time": "2025-04-10T16:52:27.124189Z",
     "start_time": "2025-04-10T16:52:27.115318Z"
    }
   },
   "cell_type": "code",
   "source": [
    "import numpy as np\n",
    "\n",
    "x = np.array([1,2,3])\n",
    "y = np.broadcast_to(x, (2,3))\n",
    "print(y)"
   ],
   "id": "5ed31c66c6341c1f",
   "outputs": [
    {
     "name": "stdout",
     "output_type": "stream",
     "text": [
      "[[1 2 3]\n",
      " [1 2 3]]\n"
     ]
    }
   ],
   "execution_count": 48
  },
  {
   "metadata": {
    "ExecuteTime": {
     "end_time": "2025-04-10T16:52:27.230948Z",
     "start_time": "2025-04-10T16:52:27.226142Z"
    }
   },
   "cell_type": "code",
   "source": [
    "import numpy as np\n",
    "from dezero.utils import sum_to\n",
    "\n",
    "x = np.array([[1,2,3], [4,5,6]])\n",
    "y = sum_to(x, (1,3))\n",
    "print(y)\n",
    "\n",
    "y = sum_to(x, (2,1))\n",
    "print(y)"
   ],
   "id": "718c7fc4e3475a0b",
   "outputs": [
    {
     "name": "stdout",
     "output_type": "stream",
     "text": [
      "[[5 7 9]]\n",
      "[[ 6]\n",
      " [15]]\n"
     ]
    }
   ],
   "execution_count": 49
  },
  {
   "metadata": {
    "ExecuteTime": {
     "end_time": "2025-04-10T16:52:27.291138Z",
     "start_time": "2025-04-10T16:52:27.285022Z"
    }
   },
   "cell_type": "code",
   "source": [
    "class BroadcastTo(Function):\n",
    "    def __init__(self, shape):\n",
    "        self.shape = shape\n",
    "\n",
    "    def forward(self, x):\n",
    "        self.x_shape = x.shape\n",
    "        y = np.broadcast_to(x, self.shape)\n",
    "        return y\n",
    "\n",
    "    def backward(self, gy):\n",
    "        gx = sum_to(gy, self.x_shape)\n",
    "        return gx\n",
    "\n",
    "def broadcast_to(x, shape):\n",
    "    if x.shape == shape:\n",
    "        return as_variable(x)\n",
    "    return BroadcastTo(shape)(x)"
   ],
   "id": "80386909c6169fd0",
   "outputs": [],
   "execution_count": 50
  },
  {
   "metadata": {
    "ExecuteTime": {
     "end_time": "2025-04-10T16:52:27.342229Z",
     "start_time": "2025-04-10T16:52:27.335520Z"
    }
   },
   "cell_type": "code",
   "source": [
    "from dezero import Variable\n",
    "from dezero import utils\n",
    "\n",
    "class SumTo(Function):\n",
    "    def __init__(self, shape):\n",
    "        self.shape = shape\n",
    "\n",
    "    def forward(self, x):\n",
    "        self.x_shape = x.shape\n",
    "        y = utils.sum_to(x, self.shape)\n",
    "        return y\n",
    "\n",
    "    def backward(self, gy):\n",
    "        gx = utils.sum_to(gy, self.x_shape)\n",
    "        return gx\n",
    "\n",
    "def sum_to(x, shape):\n",
    "    if x.shape == shape:\n",
    "        return as_variable(x)\n",
    "    return SumTo(shape)(x)"
   ],
   "id": "48e8ab03f73abfcd",
   "outputs": [],
   "execution_count": 51
  },
  {
   "metadata": {
    "ExecuteTime": {
     "end_time": "2025-04-10T16:52:27.394421Z",
     "start_time": "2025-04-10T16:52:27.389890Z"
    }
   },
   "cell_type": "code",
   "source": [
    "x0 = np.array([1,2,3])\n",
    "x1 = np.array([10])\n",
    "y = x0 + x1\n",
    "print(y)"
   ],
   "id": "9421057c005df4ac",
   "outputs": [
    {
     "name": "stdout",
     "output_type": "stream",
     "text": [
      "[11 12 13]\n"
     ]
    }
   ],
   "execution_count": 52
  },
  {
   "metadata": {
    "ExecuteTime": {
     "end_time": "2025-04-10T16:52:27.438373Z",
     "start_time": "2025-04-10T16:52:27.433571Z"
    }
   },
   "cell_type": "code",
   "source": [
    "class Add(Function):\n",
    "    # def __init__(self, x_shape, y_shape):\n",
    "    #     self.x_shape = x_shape\n",
    "    #     self.y_shape = y_shape\n",
    "\n",
    "    def forward(self, x0, x1):\n",
    "        self.x0_shape, self.x1_shape = x0.shape, x1.shape\n",
    "        y = x0 + x1\n",
    "        return y\n",
    "\n",
    "    def backward(self, gy):\n",
    "        gx0, gx1 = gy, gy\n",
    "        if self.x0_shape != self.x1_shape:\n",
    "            gx0 = dezero.functions.sum_to(gx0, self.x0_shape)\n",
    "            gx1 = dezero.functions.sum_to(gx1, self.x1_shape)\n",
    "        return gx0, gx1\n"
   ],
   "id": "96cf1fe9fe08fcd7",
   "outputs": [],
   "execution_count": 53
  },
  {
   "metadata": {
    "ExecuteTime": {
     "end_time": "2025-04-10T16:52:27.489136Z",
     "start_time": "2025-04-10T16:52:27.483513Z"
    }
   },
   "cell_type": "code",
   "source": [
    "import  numpy as np\n",
    "from dezero import Variable\n",
    "\n",
    "x0 = Variable(np.array([1,2,3]))\n",
    "x1 = Variable(np.array([10]))\n",
    "y = x0 + x1\n",
    "print(y)\n",
    "\n",
    "y.backward()\n",
    "print(x1.grad)"
   ],
   "id": "53a5cf0bb8624998",
   "outputs": [
    {
     "name": "stdout",
     "output_type": "stream",
     "text": [
      "variable([11 12 13])\n",
      "variable([3])\n"
     ]
    }
   ],
   "execution_count": 54
  },
  {
   "metadata": {},
   "cell_type": "markdown",
   "source": "### 행렬",
   "id": "26373b6b2beace54"
  },
  {
   "metadata": {
    "ExecuteTime": {
     "end_time": "2025-04-10T16:52:27.531158Z",
     "start_time": "2025-04-10T16:52:27.524651Z"
    }
   },
   "cell_type": "code",
   "source": [
    "import numpy as np\n",
    "\n",
    "a = np.array([1,2,3])\n",
    "b = np.array([4,5,6])\n",
    "c = np.dot(a,b)\n",
    "print(c)\n",
    "\n",
    "a = np.array([[1,2], [3,4]])\n",
    "b = np.array([[5,6], [7,8]])\n",
    "c = np.dot(a,b)\n",
    "print(c)"
   ],
   "id": "84b346bfd3bae5e1",
   "outputs": [
    {
     "name": "stdout",
     "output_type": "stream",
     "text": [
      "32\n",
      "[[19 22]\n",
      " [43 50]]\n"
     ]
    }
   ],
   "execution_count": 55
  },
  {
   "metadata": {
    "ExecuteTime": {
     "end_time": "2025-04-10T16:52:27.577209Z",
     "start_time": "2025-04-10T16:52:27.572442Z"
    }
   },
   "cell_type": "code",
   "source": [
    "class MatMul(Function):\n",
    "    def forward(self, x, W):\n",
    "        y = x.dot(W)\n",
    "        return y\n",
    "\n",
    "    def backward(self, gy):\n",
    "        x, W = self.inputs\n",
    "        gx = matmul(gy, W.t)\n",
    "        gW = matmul(x.t, gy)\n",
    "        return gx, gW\n",
    "\n",
    "def matmul(x, W):\n",
    "    return MatMul()(x, W)"
   ],
   "id": "50be70d79427b103",
   "outputs": [],
   "execution_count": 56
  },
  {
   "metadata": {
    "ExecuteTime": {
     "end_time": "2025-04-10T16:52:27.630271Z",
     "start_time": "2025-04-10T16:52:27.624855Z"
    }
   },
   "cell_type": "code",
   "source": [
    "import numpy as np\n",
    "from dezero import Variable\n",
    "import dezero.functions as F\n",
    "\n",
    "x = Variable(np.random.rand(2,3))\n",
    "W = Variable(np.random.rand(3,4))\n",
    "y = F.matmul(x,W)\n",
    "y.backward()\n",
    "\n",
    "print(x.grad.shape)\n",
    "print(W.grad.shape)"
   ],
   "id": "e80e83587113fe40",
   "outputs": [
    {
     "name": "stdout",
     "output_type": "stream",
     "text": [
      "(2, 3)\n",
      "(3, 4)\n"
     ]
    }
   ],
   "execution_count": 57
  },
  {
   "metadata": {},
   "cell_type": "markdown",
   "source": "### 선형 회귀",
   "id": "35d2b1359e56f128"
  },
  {
   "metadata": {
    "ExecuteTime": {
     "end_time": "2025-04-10T16:52:27.856247Z",
     "start_time": "2025-04-10T16:52:27.704502Z"
    }
   },
   "cell_type": "code",
   "source": [
    "import numpy as np\n",
    "import matplotlib.pyplot as plt\n",
    "\n",
    "np.random.seed(0)\n",
    "x= np.random.rand(100, 1)\n",
    "y = 5 + 2 * x + np.random.rand(100, 1)\n",
    "\n",
    "\n",
    "# Plotting with dots\n",
    "plt.plot(x, y, 'o', label='y = x')  # 'o' is for dots\n",
    "plt.xlabel('x')\n",
    "plt.ylabel('y')\n",
    "plt.title('Scatter Plot')\n",
    "plt.legend()\n",
    "plt.grid()\n",
    "plt.show()\n",
    "\n"
   ],
   "id": "664b2e0484332be7",
   "outputs": [
    {
     "data": {
      "text/plain": [
       "<Figure size 640x480 with 1 Axes>"
      ],
      "image/png": "[encoded data removed]"
     },
     "metadata": {},
     "output_type": "display_data"
    }
   ],
   "execution_count": 58
  },
  {
   "metadata": {
    "ExecuteTime": {
     "end_time": "2025-04-10T16:52:27.890439Z",
     "start_time": "2025-04-10T16:52:27.885152Z"
    }
   },
   "cell_type": "code",
   "source": [
    "import numpy as np\n",
    "import matplotlib.pyplot as plt\n",
    "from dezero import Variable\n",
    "import dezero.functions as F\n",
    "\n",
    "# Generate toy dataset\n",
    "np.random.seed(0)\n",
    "x = np.random.rand(100, 1)\n",
    "y = 5 + 2 * x + np.random.rand(100, 1)\n",
    "x, y = Variable(x), Variable(y)\n",
    "\n",
    "W = Variable(np.zeros((1, 1)))\n",
    "b = Variable(np.zeros(1))\n"
   ],
   "id": "2013a4c878de3bde",
   "outputs": [],
   "execution_count": 59
  },
  {
   "metadata": {
    "ExecuteTime": {
     "end_time": "2025-04-10T16:52:28.110404Z",
     "start_time": "2025-04-10T16:52:27.943082Z"
    }
   },
   "cell_type": "code",
   "source": [
    "def predict(x):\n",
    "    y = F.matmul(x, W) + b\n",
    "    return y\n",
    "\n",
    "\n",
    "def mean_squared_error(x0, x1):\n",
    "    diff = x0 - x1\n",
    "    return F.sum(diff ** 2) / len(diff)\n",
    "lr = 0.1\n",
    "iters = 100\n",
    "\n",
    "for i in range(iters):\n",
    "    y_pred = predict(x)\n",
    "    loss = mean_squared_error(y, y_pred)\n",
    "\n",
    "    W.cleargrad()\n",
    "    b.cleargrad()\n",
    "    loss.backward()\n",
    "\n",
    "    # Update .data attribute (No need grads when updating params)\n",
    "    W.data -= lr * W.grad.data\n",
    "    b.data -= lr * b.grad.data\n",
    "    print(W, b, loss)\n",
    "\n",
    "\n",
    "# Plot\n",
    "plt.scatter(x.data, y.data, s=10)\n",
    "plt.xlabel('x')\n",
    "plt.ylabel('y')\n",
    "y_pred = predict(x)\n",
    "plt.plot(x.data, y_pred.data, color='r')\n",
    "plt.show()"
   ],
   "id": "62d6d9a6203982e3",
   "outputs": [
    {
     "name": "stdout",
     "output_type": "stream",
     "text": [
      "variable([[0.64433458]]) variable([1.29473389]) variable(42.296340129442335)\n",
      "variable([[1.12672345]]) variable([2.26959351]) variable(23.97380754378544)\n",
      "variable([[1.48734571]]) variable([3.00386712]) variable(13.609686745040522)\n",
      "variable([[1.75641886]]) variable([3.557186]) variable(7.747049961219976)\n",
      "variable([[1.95666851]]) variable([3.97439789]) variable(4.43057410592155)\n",
      "variable([[2.10518573]]) variable([4.28923203]) variable(2.554280381353593)\n",
      "variable([[2.21482401]]) variable([4.52705574]) variable(1.492599869047195)\n",
      "variable([[2.29524981]]) variable([4.70694745]) variable(0.8916952181756939)\n",
      "variable([[2.35373273]]) variable([4.84325585]) variable(0.5514270962227455)\n",
      "variable([[2.39573972]]) variable([4.9467725]) variable(0.3585915308319281)\n",
      "variable([[2.425382]]) variable([5.02561369]) variable(0.24915731977561134)\n",
      "variable([[2.44575118]]) variable([5.08588371]) variable(0.1869065876539789)\n",
      "variable([[2.45917205]]) variable([5.13217364]) variable(0.1513533629631488)\n",
      "variable([[2.4673927]]) variable([5.16793652]) variable(0.13091003006317087)\n",
      "variable([[2.47172747]]) variable([5.19576949]) variable(0.11902210735018467)\n",
      "variable([[2.47316455]]) variable([5.21762597]) variable(0.11198198322254362)\n",
      "variable([[2.47244676]]) variable([5.23497527]) variable(0.10769231158094321)\n",
      "variable([[2.47013247]]) variable([5.24892259]) variable(0.10496655795675108)\n",
      "variable([[2.46664127]]) variable([5.26029927]) variable(0.10313337115761934)\n",
      "variable([[2.46228843]]) variable([5.26973075]) variable(0.10181280604960243)\n",
      "variable([[2.45731071]]) variable([5.27768752]) variable(0.10078974954301652)\n",
      "variable([[2.4518859]]) variable([5.28452363]) variable(0.09994232708821599)\n",
      "variable([[2.44614738]]) variable([5.29050548]) variable(0.09920140749444821)\n",
      "variable([[2.44019517]]) variable([5.29583359]) variable(0.09852769772358984)\n",
      "variable([[2.4341042]]) variable([5.30065891]) variable(0.09789878700703991)\n",
      "variable([[2.4279305]]) variable([5.30509512]) variable(0.09730181854646197)\n",
      "variable([[2.42171596]]) variable([5.30922787]) variable(0.0967293443169877)\n",
      "variable([[2.41549177]]) variable([5.3131217]) variable(0.09617698031441604)\n",
      "variable([[2.40928112]]) variable([5.31682532]) variable(0.09564208018092028)\n",
      "variable([[2.40310116]]) variable([5.32037549]) variable(0.09512298485383605)\n",
      "variable([[2.39696452]]) variable([5.3238]) variable(0.09461859803040694)\n",
      "variable([[2.39088043]]) variable([5.32711987]) variable(0.09412814592514404)\n",
      "variable([[2.38485555]]) variable([5.33035108]) variable(0.09365104127065577)\n",
      "variable([[2.37889464]]) variable([5.33350575]) variable(0.09318680628411545)\n",
      "variable([[2.37300101]]) variable([5.33659314]) variable(0.09273502898904006)\n",
      "variable([[2.3671769]]) variable([5.33962035]) variable(0.09229533840647547)\n",
      "variable([[2.36142374]]) variable([5.34259283]) variable(0.09186739042193233)\n",
      "variable([[2.35574235]]) variable([5.34551483]) variable(0.09145085969346782)\n",
      "variable([[2.35013309]]) variable([5.34838966]) variable(0.09104543497939387)\n",
      "variable([[2.34459602]]) variable([5.35121993]) variable(0.09065081640275062)\n",
      "variable([[2.33913091]]) variable([5.35400772]) variable(0.0902667138137311)\n",
      "variable([[2.33373736]]) variable([5.35675472]) variable(0.08989284577554084)\n",
      "variable([[2.32841486]]) variable([5.35946234]) variable(0.0895289389052284)\n",
      "variable([[2.32316275]]) variable([5.36213172]) variable(0.08917472741757472)\n",
      "variable([[2.31798034]]) variable([5.36476385]) variable(0.08882995278605695)\n",
      "variable([[2.31286689]]) variable([5.3673596]) variable(0.08849436347219049)\n",
      "variable([[2.30782159]]) variable([5.36991973]) variable(0.08816771469564999)\n",
      "variable([[2.30284363]]) variable([5.3724449]) variable(0.08784976822950144)\n",
      "variable([[2.29793221]]) variable([5.37493575]) variable(0.08754029221162851)\n",
      "variable([[2.29308646]]) variable([5.37739285]) variable(0.08723906096725743)\n",
      "variable([[2.28830557]]) variable([5.37981674]) variable(0.08694585483964615)\n",
      "variable([[2.2835887]]) variable([5.38220792]) variable(0.0866604600272269)\n",
      "variable([[2.278935]]) variable([5.38456689]) variable(0.08638266842618712)\n",
      "variable([[2.27434366]]) variable([5.38689411]) variable(0.0861122774778659)\n",
      "variable([[2.26981384]]) variable([5.38919004]) variable(0.08584909002056745)\n",
      "variable([[2.26534474]]) variable([5.39145512]) variable(0.08559291414552149)\n",
      "variable([[2.26093555]]) variable([5.39368978]) variable(0.08534356305679344)\n",
      "variable([[2.25658547]]) variable([5.39589443]) variable(0.08510085493499035)\n",
      "variable([[2.25229371]]) variable([5.39806949]) variable(0.08486461280463413)\n",
      "variable([[2.2480595]]) variable([5.40021536]) variable(0.08463466440508784)\n",
      "variable([[2.24388206]]) variable([5.40233244]) variable(0.08441084206493275)\n",
      "variable([[2.23976064]]) variable([5.40442111]) variable(0.08419298257969864)\n",
      "variable([[2.23569448]]) variable([5.40648177]) variable(0.08398092709285435)\n",
      "variable([[2.23168285]]) variable([5.40851479]) variable(0.08377452097997208)\n",
      "variable([[2.22772501]]) variable([5.41052054]) variable(0.08357361373597812)\n",
      "variable([[2.22382025]]) variable([5.41249938]) variable(0.08337805886540826)\n",
      "variable([[2.21996785]]) variable([5.41445169]) variable(0.08318771377558704)\n",
      "variable([[2.21616712]]) variable([5.41637782]) variable(0.08300243967265336)\n",
      "variable([[2.21241735]]) variable([5.41827811]) variable(0.08282210146035615)\n",
      "variable([[2.20871786]]) variable([5.42015291]) variable(0.08264656764154595)\n",
      "variable([[2.20506799]]) variable([5.42200258]) variable(0.08247571022229121)\n",
      "variable([[2.20146706]]) variable([5.42382744]) variable(0.08230940461854906)\n",
      "variable([[2.19791443]]) variable([5.42562782]) variable(0.08214752956532231)\n",
      "variable([[2.19440943]]) variable([5.42740407]) variable(0.08198996702823673)\n",
      "variable([[2.19095144]]) variable([5.42915649]) variable(0.08183660211747391)\n",
      "variable([[2.18753983]]) variable([5.43088541]) variable(0.08168732300399718)\n",
      "variable([[2.18417396]]) variable([5.43259114]) variable(0.08154202083800904)\n",
      "variable([[2.18085323]]) variable([5.434274]) variable(0.08140058966958151)\n",
      "variable([[2.17757703]]) variable([5.4359343]) variable(0.08126292637140048)\n",
      "variable([[2.17434477]]) variable([5.43757232]) variable(0.0811289305635685)\n",
      "variable([[2.17115586]]) variable([5.43918838]) variable(0.08099850454041051)\n",
      "variable([[2.16800971]]) variable([5.44078277]) variable(0.0808715531992303)\n",
      "variable([[2.16490575]]) variable([5.44235578]) variable(0.08074798397096412)\n",
      "variable([[2.16184341]]) variable([5.44390769]) variable(0.08062770675268231)\n",
      "variable([[2.15882214]]) variable([5.44543879]) variable(0.08051063384188899)\n",
      "variable([[2.15584139]]) variable([5.44694936]) variable(0.08039667987257197)\n",
      "variable([[2.15290062]]) variable([5.44843967]) variable(0.08028576175295649)\n",
      "variable([[2.14999928]]) variable([5.44990999]) variable(0.08017779860491725)\n",
      "variable([[2.14713684]]) variable([5.4513606]) variable(0.08007271170500452)\n",
      "variable([[2.1443128]]) variable([5.45279175]) variable(0.07997042442704135)\n",
      "variable([[2.14152662]]) variable([5.45420371]) variable(0.07987086218625004)\n",
      "variable([[2.13877781]]) variable([5.45559674]) variable(0.07977395238486742)\n",
      "variable([[2.13606587]]) variable([5.45697108]) variable(0.07967962435920853)\n",
      "variable([[2.13339029]]) variable([5.458327]) variable(0.07958780932814088)\n",
      "variable([[2.13075059]]) variable([5.45966473]) variable(0.07949844034293135)\n",
      "variable([[2.12814629]]) variable([5.46098452]) variable(0.07941145223842926)\n",
      "variable([[2.12557692]]) variable([5.46228661]) variable(0.07932678158554966)\n",
      "variable([[2.123042]]) variable([5.46357124]) variable(0.07924436664502324)\n",
      "variable([[2.12054108]]) variable([5.46483864]) variable(0.07916414732237737)\n",
      "variable([[2.11807369]]) variable([5.46608905]) variable(0.07908606512411756)\n"
     ]
    },
    {
     "data": {
      "text/plain": [
       "<Figure size 640x480 with 1 Axes>"
      ],
      "image/png": "[encoded data removed]"
     },
     "metadata": {},
     "output_type": "display_data"
    }
   ],
   "execution_count": 60
  },
  {
   "metadata": {
    "ExecuteTime": {
     "end_time": "2025-04-10T16:52:28.471127Z",
     "start_time": "2025-04-10T16:52:28.121337Z"
    }
   },
   "cell_type": "code",
   "source": [
    "import matplotlib.pyplot as plt\n",
    "import numpy as np\n",
    "\n",
    "# Assuming loss values and optionally accuracy values are captured during the training loop\n",
    "loss_values = []  # Example: append loss.item() in the loop\n",
    "accuracy_values = []  # Example: append accuracy.item() if available in the loop\n",
    "\n",
    "iterations = list(range(1, len(loss_values) + 1))\n",
    "\n",
    "fig, ax1 = plt.subplots(figsize=(10, 5))\n",
    "\n",
    "ax1.plot(iterations, loss_values, label='Loss', color='blue')\n",
    "ax1.set_xlabel('Iterations')\n",
    "ax1.set_ylabel('Loss', color='blue')\n",
    "ax1.tick_params(axis='y', labelcolor='blue')\n",
    "ax1.grid(True)\n",
    "\n",
    "if accuracy_values:  # If accuracy data exists\n",
    "    ax2 = ax1.twinx()\n",
    "    ax2.plot(iterations, accuracy_values, label='Accuracy', color='green')\n",
    "    ax2.set_ylabel('Accuracy', color='green')\n",
    "    ax2.tick_params(axis='y', labelcolor='green')\n",
    "\n",
    "fig.legend(loc=\"upper right\", bbox_to_anchor=(1, 1), bbox_transform=ax1.transAxes)\n",
    "plt.title('Loss and Accuracy vs. Iterations' if accuracy_values else 'Loss vs. Iterations')\n",
    "plt.tight_layout()\n",
    "plt.show()\n"
   ],
   "id": "1b15e9ca54653356",
   "outputs": [
    {
     "data": {
      "text/plain": [
       "<Figure size 1000x500 with 1 Axes>"
      ],
      "image/png": "[encoded data removed]"
     },
     "metadata": {},
     "output_type": "display_data"
    }
   ],
   "execution_count": 61
  },
  {
   "metadata": {
    "ExecuteTime": {
     "end_time": "2025-04-10T16:52:28.696403Z",
     "start_time": "2025-04-10T16:52:28.517607Z"
    }
   },
   "cell_type": "code",
   "source": [
    "import matplotlib.pyplot as plt\n",
    "\n",
    "# Assuming `loss_values` is a list of logged loss values, and `accuracy_values` is optional\n",
    "iterations = list(range(1, len(loss_values) + 1))\n",
    "\n",
    "plt.figure(figsize=(10, 5))\n",
    "plt.plot(iterations, loss_values, label='Loss', color='blue')\n",
    "\n",
    "if 'accuracy_values' in globals():  # Check if accuracy data exists\n",
    "    plt.plot(iterations, accuracy_values, label='Accuracy', color='green')\n",
    "\n",
    "plt.xlabel('Iterations')\n",
    "plt.ylabel('Value')\n",
    "plt.title('Loss vs. Iterations' + (' and Accuracy' if 'accuracy_values' in globals() else ''))\n",
    "plt.legend()\n",
    "plt.grid()\n",
    "plt.show()\n"
   ],
   "id": "c644ae5c740b6716",
   "outputs": [
    {
     "data": {
      "text/plain": [
       "<Figure size 1000x500 with 1 Axes>"
      ],
      "image/png": "[encoded data removed]"
     },
     "metadata": {},
     "output_type": "display_data"
    }
   ],
   "execution_count": 62
  },
  {
   "metadata": {},
   "cell_type": "markdown",
   "source": "### 신경망",
   "id": "ca91c28a5d53ebf"
  },
  {
   "metadata": {
    "ExecuteTime": {
     "end_time": "2025-04-10T16:52:28.838599Z",
     "start_time": "2025-04-10T16:52:28.707442Z"
    }
   },
   "cell_type": "code",
   "source": [
    "import numpy as np\n",
    "import matplotlib.pyplot as plt\n",
    "\n",
    "np.random.seed(0)\n",
    "x = np.random.rand(100, 1)\n",
    "y = np.sin(2 * np.pi * x) + np.random.rand(100, 1)\n",
    "\n",
    "\n",
    "\n",
    "# Plot\n",
    "plt.scatter(x, y, s=10)\n",
    "plt.xlabel('x')\n",
    "plt.ylabel('y')\n",
    "\n",
    "plt.show()"
   ],
   "id": "a890bd298f718886",
   "outputs": [
    {
     "data": {
      "text/plain": [
       "<Figure size 640x480 with 1 Axes>"
      ],
      "image/png": "[encoded data removed]"
     },
     "metadata": {},
     "output_type": "display_data"
    }
   ],
   "execution_count": 63
  },
  {
   "metadata": {
    "ExecuteTime": {
     "end_time": "2025-04-10T16:52:28.869064Z",
     "start_time": "2025-04-10T16:52:28.864778Z"
    }
   },
   "cell_type": "code",
   "source": [
    "def sigmode_simple(x):\n",
    "    x = as_variable(x)\n",
    "    return 1 / (1 + np.exp(-x))"
   ],
   "id": "3f42683ef01a3bf5",
   "outputs": [],
   "execution_count": 64
  },
  {
   "metadata": {
    "ExecuteTime": {
     "end_time": "2025-04-10T16:52:31.909172Z",
     "start_time": "2025-04-10T16:52:28.915689Z"
    }
   },
   "cell_type": "code",
   "source": [
    "import numpy as np\n",
    "from dezero import Variable\n",
    "import dezero.functions as F\n",
    "\n",
    "np.random.seed(0)\n",
    "x = np.random.rand(100, 1)\n",
    "y = np.sin(2 * np.pi * x) + np.random.rand(100, 1)\n",
    "\n",
    "I, H, O = 1, 10, 1\n",
    "W1 = Variable(0.01 * np.random.randn(I, H))\n",
    "b1 = Variable(np.zeros(H))\n",
    "W2 = Variable(0.01 * np.random.randn(H, O))\n",
    "b2 = Variable(np.zeros(O))\n",
    "\n",
    "def predict(x):\n",
    "    y = F.matmul(x, W1) + b1\n",
    "    y = F.sigmoid(y)\n",
    "    y = F.matmul(y, W2) + b2\n",
    "    return y\n",
    "\n",
    "lr = 0.2\n",
    "iters = 10000\n",
    "\n",
    "\n",
    "for i in range(iters):\n",
    "    y_pred = predict(x)\n",
    "    loss = F.mean_squared_error(y, y_pred)\n",
    "\n",
    "    W1.cleargrad()\n",
    "    b1.cleargrad()\n",
    "    W2.cleargrad()\n",
    "    b2.cleargrad()\n",
    "    loss.backward()\n",
    "\n",
    "    W1.data -= lr * W1.grad.data\n",
    "    b1.data -= lr * b1.grad.data\n",
    "    W2.data -= lr * W2.grad.data\n",
    "    b2.data -= lr * b2.grad.data\n",
    "    if i % 1000 == 0:\n",
    "        print(loss)\n",
    "        print(W1, b1, W2, b2)\n",
    "\n",
    "# Plot\n",
    "plt.scatter(x, y, s=10)\n",
    "plt.xlabel('x')\n",
    "plt.ylabel('y')\n",
    "t = np.arange(0, 1, .01)[:, np.newaxis]\n",
    "y_pred = predict(t)\n",
    "plt.plot(t, y_pred.data, color='r')\n",
    "plt.show()\n",
    "\n",
    "\n"
   ],
   "id": "c0df4134edf7630e",
   "outputs": [
    {
     "name": "stdout",
     "output_type": "stream",
     "text": [
      "variable(0.8473695850105871)\n",
      "variable([[ 0.01116761 -0.01095183 -0.0113574  -0.00434691 -0.00488941  0.01932679\n",
      "            0.0095788   0.00081124 -0.01235646  0.00851092]]) variable([-0.00054239 -0.00083768  0.00064423  0.00017187  0.00049935  0.00017284\n",
      "           0.00046463 -0.00035303 -0.00056084  0.00036961]) variable([[0.09856291]\n",
      "          [0.09289951]\n",
      "          [0.12022085]\n",
      "          [0.11158004]\n",
      "          [0.11761326]\n",
      "          [0.11183161]\n",
      "          [0.11711588]\n",
      "          [0.10195223]\n",
      "          [0.09799043]\n",
      "          [0.11535314]]) variable([0.21690767])\n",
      "variable(0.2514286285183606)\n",
      "variable([[ 0.02501899 -0.79870039 -1.79510312 -1.25590914 -1.47526543 -0.24827789\n",
      "           -0.95016383 -0.67784228 -1.05839651 -0.92249254]]) variable([ 0.03800681 -0.05590512  0.55674435  0.08760867  0.24855231 -0.01355955\n",
      "          -0.03370617 -0.06000938 -0.00389916 -0.03935218]) variable([[-0.41043921]\n",
      "          [ 0.43396078]\n",
      "          [ 1.56840494]\n",
      "          [ 0.9470266 ]\n",
      "          [ 1.20645774]\n",
      "          [-0.1328095 ]\n",
      "          [ 0.59836562]\n",
      "          [ 0.30673407]\n",
      "          [ 0.71877463]\n",
      "          [ 0.5679599 ]]) variable([-1.71478517])\n",
      "variable(0.2475948546674987)\n",
      "variable([[-0.04172538 -0.75317677 -2.24935977 -1.19714523 -1.49569951 -0.27250671\n",
      "           -0.89104901 -0.64511447 -0.99290422 -0.86556131]]) variable([ 3.66367030e-02 -4.10573761e-02  1.11505824e+00  2.14223588e-01\n",
      "           5.13370346e-01 -1.45478803e-02  2.52021127e-04 -5.34057845e-02\n",
      "           5.25543155e-02 -9.82175775e-03]) variable([[-0.40502675]\n",
      "          [ 0.32783332]\n",
      "          [ 1.67815605]\n",
      "          [ 0.81476172]\n",
      "          [ 1.10921793]\n",
      "          [-0.16749355]\n",
      "          [ 0.47701371]\n",
      "          [ 0.21468301]\n",
      "          [ 0.58930813]\n",
      "          [ 0.44911753]]) variable([-1.70148366])\n",
      "variable(0.2378612044705481)\n",
      "variable([[-0.19635027 -0.66690855 -3.24114298 -1.02271729 -1.38659516 -0.34146853\n",
      "           -0.76754402 -0.59019326 -0.84558977 -0.74860622]]) variable([ 0.01232052 -0.02733703  1.68014878  0.29681478  0.70568501 -0.02502688\n",
      "           0.0246974  -0.04537586  0.08968044  0.01219169]) variable([[-0.31946411]\n",
      "          [ 0.17867642]\n",
      "          [ 1.87706586]\n",
      "          [ 0.56535258]\n",
      "          [ 0.84861723]\n",
      "          [-0.1628175 ]\n",
      "          [ 0.29011498]\n",
      "          [ 0.09763941]\n",
      "          [ 0.37756453]\n",
      "          [ 0.2688799 ]]) variable([-1.42856275])\n",
      "variable(0.2122223133310291)\n",
      "variable([[-0.44763554 -0.61036148 -4.89622883 -0.73136744 -0.98902781 -0.49128714\n",
      "           -0.64373857 -0.58141273 -0.66807113 -0.6377407 ]]) variable([-0.03133595 -0.0194796   2.51744927  0.36565604  0.88086012 -0.0491065\n",
      "           0.04281012 -0.04405523  0.11866384  0.0281249 ]) variable([[-0.26661964]\n",
      "          [-0.03115025]\n",
      "          [ 2.03872866]\n",
      "          [ 0.21735293]\n",
      "          [ 0.37719214]\n",
      "          [-0.1932917 ]\n",
      "          [ 0.03367312]\n",
      "          [-0.07237863]\n",
      "          [ 0.08932761]\n",
      "          [ 0.02072183]]) variable([-0.70854433])\n",
      "variable(0.16742181117834126)\n",
      "variable([[-0.9477877  -0.8728241  -6.95263417 -0.62136772 -0.69560246 -0.9119497\n",
      "           -0.82828621 -0.88520813 -0.77462224 -0.83897455]]) variable([-0.0795363  -0.04510685  3.54508392  0.39107693  0.99257901 -0.08829813\n",
      "           0.02055439 -0.07163261  0.10279485  0.00497501]) variable([[-0.63395624]\n",
      "          [-0.44159221]\n",
      "          [ 2.34128657]\n",
      "          [-0.02756461]\n",
      "          [ 0.13809011]\n",
      "          [-0.56541333]\n",
      "          [-0.36001782]\n",
      "          [-0.47734339]\n",
      "          [-0.27284266]\n",
      "          [-0.37821615]]) variable([0.43000676])\n",
      "variable(0.09681932619992638)\n",
      "variable([[-1.69451268 -1.48348929 -8.98007671 -0.75169186 -0.53011363 -1.60845252\n",
      "           -1.37953144 -1.51908318 -1.24939795 -1.4043178 ]]) variable([ 0.01687943 -0.00686969  4.45672252  0.36185564  1.0526632  -0.00997706\n",
      "           0.02446917 -0.01856723  0.07566459  0.01629643]) variable([[-1.46856909]\n",
      "          [-1.16229733]\n",
      "          [ 3.66168883]\n",
      "          [-0.23573764]\n",
      "          [ 0.20014241]\n",
      "          [-1.3516116 ]\n",
      "          [-1.01789673]\n",
      "          [-1.21719701]\n",
      "          [-0.84550128]\n",
      "          [-1.05157423]]) variable([1.35905931])\n",
      "variable(0.07849528290602323)\n",
      "variable([[-1.96783904 -1.73860455 -9.82016858 -0.86227305 -0.43761938 -1.8753142\n",
      "           -1.62686165 -1.77711256 -1.48478025 -1.65357108]]) variable([0.14336155 0.08191667 4.79892976 0.34116543 1.0838284  0.10501522\n",
      "          0.08881383 0.07940138 0.11089549 0.08639036]) variable([[-1.86347205]\n",
      "          [-1.51414952]\n",
      "          [ 4.55234716]\n",
      "          [-0.35802372]\n",
      "          [ 0.28651086]\n",
      "          [-1.72861055]\n",
      "          [-1.34874926]\n",
      "          [-1.57572691]\n",
      "          [-1.14686656]\n",
      "          [-1.38760575]]) variable([1.70945688])\n",
      "variable(0.07749729552991154)\n",
      "variable([[-1.98037702 -1.76756843 -9.88638176 -0.90298028 -0.39617128 -1.8948865\n",
      "           -1.66314979 -1.80340044 -1.52919887 -1.6881703 ]]) variable([0.21239373 0.13368876 4.82782344 0.33546696 1.09772571 0.16750909\n",
      "          0.13149941 0.13432678 0.14173393 0.13127223]) variable([[-1.95269577]\n",
      "          [-1.59807635]\n",
      "          [ 4.79899732]\n",
      "          [-0.3916129 ]\n",
      "          [ 0.34168115]\n",
      "          [-1.8155288 ]\n",
      "          [-1.43027925]\n",
      "          [-1.66029167]\n",
      "          [-1.22440384]\n",
      "          [-1.46976079]]) variable([1.8499657])\n",
      "variable(0.07722132399559316)\n",
      "variable([[-1.95171515 -1.7581089  -9.79840586 -0.92644468 -0.36602436 -1.87428152\n",
      "           -1.66214327 -1.79082101 -1.53790186 -1.6852064 ]]) variable([0.26634415 0.17304735 4.79425228 0.33298337 1.10809661 0.21521028\n",
      "          0.16466381 0.1758236  0.1669434  0.16592105]) variable([[-1.98531725]\n",
      "          [-1.63054598]\n",
      "          [ 4.9070094 ]\n",
      "          [-0.40559596]\n",
      "          [ 0.38761645]\n",
      "          [-1.84791688]\n",
      "          [-1.46295077]\n",
      "          [-1.69257593]\n",
      "          [-1.25680581]\n",
      "          [-1.50241323]]) variable([1.94862528])\n"
     ]
    },
    {
     "data": {
      "text/plain": [
       "<Figure size 640x480 with 1 Axes>"
      ],
      "image/png": "[encoded data removed]"
     },
     "metadata": {},
     "output_type": "display_data"
    }
   ],
   "execution_count": 65
  },
  {
   "metadata": {},
   "cell_type": "markdown",
   "source": "### 매개변수를 모아두는 계층",
   "id": "f2506c49b6ddb20c"
  },
  {
   "metadata": {
    "ExecuteTime": {
     "end_time": "2025-04-10T16:52:31.924290Z",
     "start_time": "2025-04-10T16:52:31.920768Z"
    }
   },
   "cell_type": "code",
   "source": [
    "class Parameter(Variable):\n",
    "    pass"
   ],
   "id": "1e8c376cbb6a51c9",
   "outputs": [],
   "execution_count": 66
  },
  {
   "metadata": {
    "ExecuteTime": {
     "end_time": "2025-04-10T16:52:31.980233Z",
     "start_time": "2025-04-10T16:52:31.975564Z"
    }
   },
   "cell_type": "code",
   "source": [
    "import numpy as np\n",
    "from dezero import Variable, Parameter\n",
    "\n",
    "x = Variable(np.array(1.0))\n",
    "p = Parameter(np.array(1.0))\n",
    "y = x * p\n",
    "print(isinstance(p, Variable))\n",
    "print(isinstance(x, Parameter))\n",
    "print(isinstance(y, Variable))"
   ],
   "id": "8d7de72cc0496af",
   "outputs": [
    {
     "name": "stdout",
     "output_type": "stream",
     "text": [
      "True\n",
      "False\n",
      "True\n"
     ]
    }
   ],
   "execution_count": 67
  },
  {
   "metadata": {
    "ExecuteTime": {
     "end_time": "2025-04-10T16:52:32.053748Z",
     "start_time": "2025-04-10T16:52:32.049081Z"
    }
   },
   "cell_type": "code",
   "source": [
    "from dezero.core import Parameter\n",
    "\n",
    "class Layer:\n",
    "    def __init__(self):\n",
    "        self.params = set()\n",
    "\n",
    "    def __setattr__(self, name, value):\n",
    "        if isinstance(value, Parameter):\n",
    "            self.params.add(name)\n",
    "        super().__setattr__(name, value)"
   ],
   "id": "d2e775a6fe738cd0",
   "outputs": [],
   "execution_count": 68
  },
  {
   "metadata": {
    "ExecuteTime": {
     "end_time": "2025-04-10T16:52:32.103124Z",
     "start_time": "2025-04-10T16:52:32.098131Z"
    }
   },
   "cell_type": "code",
   "source": [
    "layer = Layer()\n",
    "\n",
    "layer.p1 = Parameter(np.array(1))\n",
    "layer.p2 = Parameter(np.array(2))\n",
    "layer.p3 = Variable(np.array(3))\n",
    "layer.p4 = 'test'\n",
    "\n",
    "print(layer.params)\n",
    "print('-------')\n",
    "\n",
    "for name in layer.params:\n",
    "    print(name, layer.__dict__[name])"
   ],
   "id": "b3a83991318ea4e4",
   "outputs": [
    {
     "name": "stdout",
     "output_type": "stream",
     "text": [
      "{'p1', 'p2'}\n",
      "-------\n",
      "p1 variable(1)\n",
      "p2 variable(2)\n"
     ]
    }
   ],
   "execution_count": 69
  },
  {
   "metadata": {
    "ExecuteTime": {
     "end_time": "2025-04-10T16:52:32.121418Z",
     "start_time": "2025-04-10T16:52:32.115227Z"
    }
   },
   "cell_type": "code",
   "source": [
    "import numpy as np\n",
    "import dezero.functions as F\n",
    "from dezero.core import Parameter\n",
    "\n",
    "\n",
    "class Linear(Layer):\n",
    "    def __init__(self, in_size, out_size, nobias=False, dtype=np.float32):\n",
    "        super().__init__()\n",
    "\n",
    "        I,O = in_size, out_size\n",
    "        W_data = np.random.randn(I,O).astype(dtype) * np.sqrt(1 / I)\n",
    "        self.W = Parameter(W_data, name = 'W')\n",
    "        if nobias:\n",
    "            self.b = None\n",
    "        else:\n",
    "            self.b = Parameter(np.zeros(O), name = 'b')\n",
    "\n",
    "def forward(self, x):\n",
    "    y = F.matmul(x, self.W, self.b)\n",
    "    return y\n",
    "\n"
   ],
   "id": "b402200fcd3a4d5e",
   "outputs": [],
   "execution_count": 70
  },
  {
   "metadata": {
    "ExecuteTime": {
     "end_time": "2025-04-10T16:52:34.788945Z",
     "start_time": "2025-04-10T16:52:32.175619Z"
    }
   },
   "cell_type": "code",
   "source": [
    "import numpy as np\n",
    "from dezero import Variable\n",
    "import dezero.functions as F\n",
    "import dezero.layers as L\n",
    "\n",
    "np.random.seed(0)\n",
    "x = np.random.rand(100, 1)\n",
    "y = np.sin(2 * np.pi * x) + np.random.rand(100, 1)\n",
    "\n",
    "l1 = L.Linear(10)\n",
    "l2 = L.Linear(1)\n",
    "\n",
    "def predict(x):\n",
    "    y = l1(x)\n",
    "    y = F.sigmoid(y)\n",
    "    y = l2(y)\n",
    "    return y\n",
    "\n",
    "lr = 0.2\n",
    "iters = 10000\n",
    "\n",
    "for i in range(iters):\n",
    "    y_pred = predict(x)\n",
    "    loss = F.mean_squared_error(y, y_pred)\n",
    "    l1.cleargrads()\n",
    "    l2.cleargrads()\n",
    "    loss.backward()\n",
    "\n",
    "    for l in [l1, l2]:\n",
    "        for p in l.params():\n",
    "            p.data -= lr * p.grad.data\n",
    "\n",
    "    if i % 1000 == 0:\n",
    "        print(loss)\n",
    "        print(l1.W, l1.b, l2.W, l2.b)"
   ],
   "id": "10e5f118001d6b89",
   "outputs": [
    {
     "name": "stdout",
     "output_type": "stream",
     "text": [
      "variable(0.8165178479901415)\n",
      "variable([[ 1.12461795 -1.08301928 -1.14506181 -0.4372511  -0.49636721  1.93027768\n",
      "            0.95109036  0.08641164 -1.22756376  0.84566517]]) variable([-0.01506845 -0.0232611   0.01790163  0.00474059  0.01378049  0.00481166\n",
      "           0.01288377 -0.0097204  -0.01559578  0.01023669]) variable([[-0.2153014 ]\n",
      "          [-0.40034925]\n",
      "          [ 0.46340847]\n",
      "          [ 0.19220751]\n",
      "          [ 0.38283954]\n",
      "          [ 0.20732449]\n",
      "          [ 0.37083702]\n",
      "          [-0.11096403]\n",
      "          [-0.23983926]\n",
      "          [ 0.31478154]]) variable([0.18884811])\n",
      "variable(0.2499028014603372)\n",
      "variable([[ 1.45064545 -1.04695876 -1.7654422  -0.67723019 -0.88161527  2.00114406\n",
      "            0.88506781  0.16517767 -1.29194816  0.79428554]]) variable([-0.38383013  0.00222203  0.70373905  0.05592795  0.13629414 -0.59775907\n",
      "           0.01846814 -0.01312148  0.13953714  0.01191833]) variable([[-0.97612365]\n",
      "          [ 0.26218907]\n",
      "          [ 1.43233821]\n",
      "          [ 0.57281943]\n",
      "          [ 0.84537054]\n",
      "          [-0.87953636]\n",
      "          [-0.14222134]\n",
      "          [-0.15372771]\n",
      "          [ 0.53715348]\n",
      "          [-0.14546934]]) variable([0.26798302])\n",
      "variable(0.24609874026436843)\n",
      "variable([[ 1.49272061 -1.02775608 -2.20572212 -0.60824949 -0.80169061  2.21961513\n",
      "            0.87399745  0.13722351 -1.26160239  0.78156428]]) variable([-0.55244464  0.0129839   1.0905969   0.05985837  0.16157575 -0.9802379\n",
      "           0.01547496 -0.01115366  0.19680743  0.009924  ]) variable([[-0.88148908]\n",
      "          [ 0.07814944]\n",
      "          [ 1.46671258]\n",
      "          [ 0.43851774]\n",
      "          [ 0.68840096]\n",
      "          [-0.96454324]\n",
      "          [-0.02970365]\n",
      "          [-0.15298703]\n",
      "          [ 0.34544503]\n",
      "          [-0.04477727]]) variable([0.21412884])\n",
      "variable(0.2372158611083361)\n",
      "variable([[ 1.49548386 -1.04231504 -3.06408881 -0.51869106 -0.67105703  2.64804698\n",
      "            0.89135974  0.09168961 -1.23641523  0.79389572]]) variable([-0.6525526   0.01340107  1.5338861   0.05669279  0.164527   -1.3039614\n",
      "           0.01450289 -0.00916362  0.21237774  0.00893856]) variable([[-0.62632545]\n",
      "          [-0.22315541]\n",
      "          [ 1.60763175]\n",
      "          [ 0.24541558]\n",
      "          [ 0.45172924]\n",
      "          [-1.01968421]\n",
      "          [ 0.18589873]\n",
      "          [-0.14429259]\n",
      "          [ 0.01473851]\n",
      "          [ 0.14935982]]) variable([0.16010429])\n",
      "variable(0.20793217994822144)\n",
      "variable([[ 1.43264465 -1.216316   -4.70712271 -0.47997232 -0.55550762  3.1594209\n",
      "            1.0274676   0.00650158 -1.32766823  0.91535922]]) variable([-6.79938138e-01  5.06610572e-02  2.34560466e+00  5.34524918e-02\n",
      "           1.54822037e-01 -1.58889794e+00 -1.49182025e-02 -1.75780721e-03\n",
      "           2.23861933e-01 -1.54376142e-02]) variable([[-0.12005948]\n",
      "          [-0.8107632 ]\n",
      "          [ 2.10953536]\n",
      "          [-0.08835289]\n",
      "          [ 0.06069038]\n",
      "          [-0.87078799]\n",
      "          [ 0.53742251]\n",
      "          [-0.2046941 ]\n",
      "          [-0.63014997]\n",
      "          [ 0.46089383]]) variable([-0.01465045])\n",
      "variable(0.12311919860580517)\n",
      "variable([[ 1.51763995 -1.72657069 -7.40048077 -0.69910876 -0.69716171  3.41593314\n",
      "            1.37509916 -0.20866659 -1.75667979  1.23577149]]) variable([-0.6948032   0.28733367  3.6821108   0.10638793  0.18701786 -1.7109556\n",
      "          -0.16695042  0.03522686  0.3897311  -0.14305581]) variable([[ 0.55082787]\n",
      "          [-1.86018226]\n",
      "          [ 3.56758038]\n",
      "          [-0.68037112]\n",
      "          [-0.56422522]\n",
      "          [-0.27433429]\n",
      "          [ 1.02574444]\n",
      "          [-0.48286402]\n",
      "          [-1.72814471]\n",
      "          [ 0.88869   ]]) variable([-0.4529791])\n",
      "variable(0.07888168390348675)\n",
      "variable([[ 1.66058931 -2.05935029 -9.06545142 -0.96240181 -0.93262664  3.42568187\n",
      "            1.60908816 -0.42174402 -2.05962451  1.45882385]]) variable([-0.74231577  0.5129138   4.5027847   0.20011579  0.26096678 -1.7150806\n",
      "          -0.3188484   0.08479273  0.57926905 -0.2753572 ]) variable([[ 0.93000781]\n",
      "          [-2.56882977]\n",
      "          [ 4.91310025]\n",
      "          [-1.12335677]\n",
      "          [-1.00927821]\n",
      "          [ 0.15291874]\n",
      "          [ 1.34066406]\n",
      "          [-0.74960747]\n",
      "          [-2.44718726]\n",
      "          [ 1.16883388]]) variable([-0.757591])\n",
      "variable(0.07656075297857308)\n",
      "variable([[ 1.66721208 -2.16457677 -9.36570615 -1.0770214  -1.04296238  3.38184409\n",
      "            1.63294617 -0.52819892 -2.15557997  1.48238604]]) variable([-0.84384555  0.50342685  4.644668    0.17629333  0.22956882 -1.7822586\n",
      "          -0.44722974  0.03721608  0.5702937  -0.39980358]) variable([[ 0.9957367 ]\n",
      "          [-2.68281129]\n",
      "          [ 5.22614941]\n",
      "          [-1.22124644]\n",
      "          [-1.11084781]\n",
      "          [ 0.25293909]\n",
      "          [ 1.37688478]\n",
      "          [-0.8128835 ]\n",
      "          [-2.56512043]\n",
      "          [ 1.20234045]]) variable([-0.85668194])\n",
      "variable(0.07643364647799143)\n",
      "variable([[ 1.65810959 -2.17976663 -9.33013835 -1.12384722 -1.08929904  3.35149462\n",
      "            1.62579336 -0.57773755 -2.16716697  1.47868365]]) variable([-0.90103334  0.48883262  4.628787    0.15898721  0.20935388 -1.8250458\n",
      "          -0.5131319   0.00840859  0.5600897  -0.46326128]) variable([[ 1.02140103]\n",
      "          [-2.70115529]\n",
      "          [ 5.31794698]\n",
      "          [-1.24964804]\n",
      "          [-1.14118715]\n",
      "          [ 0.28177931]\n",
      "          [ 1.38751974]\n",
      "          [-0.8307042 ]\n",
      "          [-2.58527726]\n",
      "          [ 1.2140929 ]]) variable([-0.8850944])\n",
      "variable(0.07619374494842991)\n",
      "variable([[ 1.66074622 -2.14846477 -9.24606161 -1.14082452 -1.10666739  3.33519347\n",
      "            1.62595086 -0.60105603 -2.13439233  1.48431001]]) variable([-0.91582304  0.51460993  4.595861    0.17311214  0.221518   -1.8381667\n",
      "          -0.53229666  0.01330301  0.5886493  -0.47908595]) variable([[ 1.06371716]\n",
      "          [-2.74052972]\n",
      "          [ 5.4311429 ]\n",
      "          [-1.28501585]\n",
      "          [-1.17660335]\n",
      "          [ 0.30433341]\n",
      "          [ 1.42438983]\n",
      "          [-0.85344008]\n",
      "          [-2.6255527 ]\n",
      "          [ 1.24994096]]) variable([-0.8914527])\n"
     ]
    }
   ],
   "execution_count": 71
  },
  {
   "metadata": {
    "ExecuteTime": {
     "end_time": "2025-04-10T16:52:34.804894Z",
     "start_time": "2025-04-10T16:52:34.799228Z"
    }
   },
   "cell_type": "code",
   "source": [
    "import dezero.layers as L\n",
    "import dezero.functions as F\n",
    "from dezero import Layer\n",
    "\n",
    "model = Layer()\n",
    "model.l1 = L.Linear(5)\n",
    "model.l2 = L.Linear(3)\n",
    "\n",
    "def predict(model, x):\n",
    "    y = model.l1(x)\n",
    "    y = F.sigmoid(y)\n",
    "    y = model.l2(y)\n",
    "    return y\n",
    "\n",
    "\n",
    "for p in model.params():\n",
    "    print(p)\n",
    "\n",
    "#model.clargrads()"
   ],
   "id": "235b9b8304e7b56f",
   "outputs": [
    {
     "name": "stdout",
     "output_type": "stream",
     "text": [
      "variable(None)\n",
      "variable([0. 0. 0. 0. 0.])\n",
      "variable(None)\n",
      "variable([0. 0. 0.])\n"
     ]
    }
   ],
   "execution_count": 72
  },
  {
   "metadata": {
    "ExecuteTime": {
     "end_time": "2025-04-10T16:52:36.037427Z",
     "start_time": "2025-04-10T16:52:34.832397Z"
    }
   },
   "cell_type": "code",
   "source": [
    "from dezero.models import Model\n",
    "import numpy as np\n",
    "from dezero import Variable, Model\n",
    "import dezero.layers as L\n",
    "import dezero.functions as F\n",
    "\n",
    "\n",
    "class TwoLayerNet(Model):\n",
    "    def __init__(self, hidden_size, out_size):\n",
    "        super().__init__()\n",
    "        self.l1 = L.Linear(hidden_size)\n",
    "        self.l2 = L.Linear(out_size)\n",
    "\n",
    "    def forward(self, x):\n",
    "\n",
    "        y = F.sigmoid(self.l1(x))\n",
    "        y = self.l2(y)\n",
    "        return y\n",
    "\n",
    "\n",
    "x = Variable(np.random.rand(5,10), name = 'x')\n",
    "model = TwoLayerNet(100, 10)\n",
    "model.plot(x)"
   ],
   "id": "6e7fef2ced66cd9",
   "outputs": [
    {
     "data": {
      "image/png": "[encoded data removed]",
      "text/plain": [
       "<IPython.core.display.Image object>"
      ]
     },
     "execution_count": 73,
     "metadata": {},
     "output_type": "execute_result"
    }
   ],
   "execution_count": 73
  },
  {
   "metadata": {
    "ExecuteTime": {
     "end_time": "2025-04-10T16:52:38.873228Z",
     "start_time": "2025-04-10T16:52:36.088479Z"
    }
   },
   "cell_type": "code",
   "source": [
    "import numpy as np\n",
    "from dezero import Variable, Model\n",
    "import dezero.layers as L\n",
    "import dezero.functions as F\n",
    "\n",
    "from dezero.models import MLP\n",
    "\n",
    "\n",
    "np.random.seed(0)\n",
    "x = np.random.rand(100, 1)\n",
    "y = np.sin(2 * np.pi * x) + np.random.rand(100, 1)\n",
    "\n",
    "lr = 0.2\n",
    "max_iter = 10000\n",
    "hidden_size = 10\n",
    "\n",
    "\n",
    "class TwoLayerNet(Model):\n",
    "    def __init__(self, hidden_size, out_size):\n",
    "        super().__init__()\n",
    "        self.l1 = L.Linear(hidden_size)\n",
    "        self.l2 = L.Linear(out_size)\n",
    "\n",
    "    def forward(self, x):\n",
    "\n",
    "        y = F.sigmoid(self.l1(x))\n",
    "        y = self.l2(y)\n",
    "        return y\n",
    "\n",
    "\n",
    "model = TwoLayerNet(hidden_size, 1)\n",
    "\n",
    "\n",
    "for i in range(max_iter):\n",
    "    y_pred = model(x)\n",
    "    loss = F.mean_squared_error(y, y_pred)\n",
    "\n",
    "    model.cleargrads()\n",
    "    loss.backward()\n",
    "\n",
    "    for p in model.params():\n",
    "        p.data -= lr * p.grad.data\n",
    "    if i% 1000 == 0:\n",
    "        print(loss)\n",
    "        print(model.l1.W, model.l1.b, model.l2.W, model.l2.b)\n",
    "model.plot(x)"
   ],
   "id": "5e49c7a00081c951",
   "outputs": [
    {
     "name": "stdout",
     "output_type": "stream",
     "text": [
      "variable(0.8165178479901415)\n",
      "variable([[ 1.12461795 -1.08301928 -1.14506181 -0.4372511  -0.49636721  1.93027768\n",
      "            0.95109036  0.08641164 -1.22756376  0.84566517]]) variable([-0.01506845 -0.0232611   0.01790163  0.00474059  0.01378049  0.00481166\n",
      "           0.01288377 -0.0097204  -0.01559578  0.01023669]) variable([[-0.2153014 ]\n",
      "          [-0.40034925]\n",
      "          [ 0.46340847]\n",
      "          [ 0.19220751]\n",
      "          [ 0.38283954]\n",
      "          [ 0.20732449]\n",
      "          [ 0.37083702]\n",
      "          [-0.11096403]\n",
      "          [-0.23983926]\n",
      "          [ 0.31478154]]) variable([0.18884811])\n",
      "variable(0.2499028014603372)\n",
      "variable([[ 1.45064545 -1.04695876 -1.7654422  -0.67723019 -0.88161527  2.00114406\n",
      "            0.88506781  0.16517767 -1.29194816  0.79428554]]) variable([-0.38383013  0.00222203  0.70373905  0.05592795  0.13629414 -0.59775907\n",
      "           0.01846814 -0.01312148  0.13953714  0.01191833]) variable([[-0.97612365]\n",
      "          [ 0.26218907]\n",
      "          [ 1.43233821]\n",
      "          [ 0.57281943]\n",
      "          [ 0.84537054]\n",
      "          [-0.87953636]\n",
      "          [-0.14222134]\n",
      "          [-0.15372771]\n",
      "          [ 0.53715348]\n",
      "          [-0.14546934]]) variable([0.26798302])\n",
      "variable(0.24609874026436843)\n",
      "variable([[ 1.49272061 -1.02775608 -2.20572212 -0.60824949 -0.80169061  2.21961513\n",
      "            0.87399745  0.13722351 -1.26160239  0.78156428]]) variable([-0.55244464  0.0129839   1.0905969   0.05985837  0.16157575 -0.9802379\n",
      "           0.01547496 -0.01115366  0.19680743  0.009924  ]) variable([[-0.88148908]\n",
      "          [ 0.07814944]\n",
      "          [ 1.46671258]\n",
      "          [ 0.43851774]\n",
      "          [ 0.68840096]\n",
      "          [-0.96454324]\n",
      "          [-0.02970365]\n",
      "          [-0.15298703]\n",
      "          [ 0.34544503]\n",
      "          [-0.04477727]]) variable([0.21412884])\n",
      "variable(0.2372158611083361)\n",
      "variable([[ 1.49548386 -1.04231504 -3.06408881 -0.51869106 -0.67105703  2.64804698\n",
      "            0.89135974  0.09168961 -1.23641523  0.79389572]]) variable([-0.6525526   0.01340107  1.5338861   0.05669279  0.164527   -1.3039614\n",
      "           0.01450289 -0.00916362  0.21237774  0.00893856]) variable([[-0.62632545]\n",
      "          [-0.22315541]\n",
      "          [ 1.60763175]\n",
      "          [ 0.24541558]\n",
      "          [ 0.45172924]\n",
      "          [-1.01968421]\n",
      "          [ 0.18589873]\n",
      "          [-0.14429259]\n",
      "          [ 0.01473851]\n",
      "          [ 0.14935982]]) variable([0.16010429])\n",
      "variable(0.20793217994822144)\n",
      "variable([[ 1.43264465 -1.216316   -4.70712271 -0.47997232 -0.55550762  3.1594209\n",
      "            1.0274676   0.00650158 -1.32766823  0.91535922]]) variable([-6.79938138e-01  5.06610572e-02  2.34560466e+00  5.34524918e-02\n",
      "           1.54822037e-01 -1.58889794e+00 -1.49182025e-02 -1.75780721e-03\n",
      "           2.23861933e-01 -1.54376142e-02]) variable([[-0.12005948]\n",
      "          [-0.8107632 ]\n",
      "          [ 2.10953536]\n",
      "          [-0.08835289]\n",
      "          [ 0.06069038]\n",
      "          [-0.87078799]\n",
      "          [ 0.53742251]\n",
      "          [-0.2046941 ]\n",
      "          [-0.63014997]\n",
      "          [ 0.46089383]]) variable([-0.01465045])\n",
      "variable(0.12311919860580517)\n",
      "variable([[ 1.51763995 -1.72657069 -7.40048077 -0.69910876 -0.69716171  3.41593314\n",
      "            1.37509916 -0.20866659 -1.75667979  1.23577149]]) variable([-0.6948032   0.28733367  3.6821108   0.10638793  0.18701786 -1.7109556\n",
      "          -0.16695042  0.03522686  0.3897311  -0.14305581]) variable([[ 0.55082787]\n",
      "          [-1.86018226]\n",
      "          [ 3.56758038]\n",
      "          [-0.68037112]\n",
      "          [-0.56422522]\n",
      "          [-0.27433429]\n",
      "          [ 1.02574444]\n",
      "          [-0.48286402]\n",
      "          [-1.72814471]\n",
      "          [ 0.88869   ]]) variable([-0.4529791])\n",
      "variable(0.07888168390348675)\n",
      "variable([[ 1.66058931 -2.05935029 -9.06545142 -0.96240181 -0.93262664  3.42568187\n",
      "            1.60908816 -0.42174402 -2.05962451  1.45882385]]) variable([-0.74231577  0.5129138   4.5027847   0.20011579  0.26096678 -1.7150806\n",
      "          -0.3188484   0.08479273  0.57926905 -0.2753572 ]) variable([[ 0.93000781]\n",
      "          [-2.56882977]\n",
      "          [ 4.91310025]\n",
      "          [-1.12335677]\n",
      "          [-1.00927821]\n",
      "          [ 0.15291874]\n",
      "          [ 1.34066406]\n",
      "          [-0.74960747]\n",
      "          [-2.44718726]\n",
      "          [ 1.16883388]]) variable([-0.757591])\n",
      "variable(0.07656075297857308)\n",
      "variable([[ 1.66721208 -2.16457677 -9.36570615 -1.0770214  -1.04296238  3.38184409\n",
      "            1.63294617 -0.52819892 -2.15557997  1.48238604]]) variable([-0.84384555  0.50342685  4.644668    0.17629333  0.22956882 -1.7822586\n",
      "          -0.44722974  0.03721608  0.5702937  -0.39980358]) variable([[ 0.9957367 ]\n",
      "          [-2.68281129]\n",
      "          [ 5.22614941]\n",
      "          [-1.22124644]\n",
      "          [-1.11084781]\n",
      "          [ 0.25293909]\n",
      "          [ 1.37688478]\n",
      "          [-0.8128835 ]\n",
      "          [-2.56512043]\n",
      "          [ 1.20234045]]) variable([-0.85668194])\n",
      "variable(0.07643364647799143)\n",
      "variable([[ 1.65810959 -2.17976663 -9.33013835 -1.12384722 -1.08929904  3.35149462\n",
      "            1.62579336 -0.57773755 -2.16716697  1.47868365]]) variable([-0.90103334  0.48883262  4.628787    0.15898721  0.20935388 -1.8250458\n",
      "          -0.5131319   0.00840859  0.5600897  -0.46326128]) variable([[ 1.02140103]\n",
      "          [-2.70115529]\n",
      "          [ 5.31794698]\n",
      "          [-1.24964804]\n",
      "          [-1.14118715]\n",
      "          [ 0.28177931]\n",
      "          [ 1.38751974]\n",
      "          [-0.8307042 ]\n",
      "          [-2.58527726]\n",
      "          [ 1.2140929 ]]) variable([-0.8850944])\n",
      "variable(0.07619374494842991)\n",
      "variable([[ 1.66074622 -2.14846477 -9.24606161 -1.14082452 -1.10666739  3.33519347\n",
      "            1.62595086 -0.60105603 -2.13439233  1.48431001]]) variable([-0.91582304  0.51460993  4.595861    0.17311214  0.221518   -1.8381667\n",
      "          -0.53229666  0.01330301  0.5886493  -0.47908595]) variable([[ 1.06371716]\n",
      "          [-2.74052972]\n",
      "          [ 5.4311429 ]\n",
      "          [-1.28501585]\n",
      "          [-1.17660335]\n",
      "          [ 0.30433341]\n",
      "          [ 1.42438983]\n",
      "          [-0.85344008]\n",
      "          [-2.6255527 ]\n",
      "          [ 1.24994096]]) variable([-0.8914527])\n"
     ]
    },
    {
     "data": {
      "image/png": "[encoded data removed]",
      "text/plain": [
       "<IPython.core.display.Image object>"
      ]
     },
     "execution_count": 74,
     "metadata": {},
     "output_type": "execute_result"
    }
   ],
   "execution_count": 74
  },
  {
   "metadata": {
    "ExecuteTime": {
     "end_time": "2025-04-10T16:52:39.375127Z",
     "start_time": "2025-04-10T16:52:38.893800Z"
    }
   },
   "cell_type": "code",
   "source": [
    "model2 = MLP((10, 1))\n",
    "model2.plot(x)\n",
    "model2 = MLP((10,20,30,40,1))\n",
    "model2.plot(x)"
   ],
   "id": "cf5a41dfe4ac7597",
   "outputs": [
    {
     "data": {
      "image/png": "[encoded data removed]",
      "text/plain": [
       "<IPython.core.display.Image object>"
      ]
     },
     "execution_count": 75,
     "metadata": {},
     "output_type": "execute_result"
    }
   ],
   "execution_count": 75
  },
  {
   "metadata": {},
   "cell_type": "markdown",
   "source": "### Optimizer로 수행하는 매개변수 갱신",
   "id": "b01a72e0737d94cc"
  },
  {
   "metadata": {
    "ExecuteTime": {
     "end_time": "2025-04-10T16:52:39.408483Z",
     "start_time": "2025-04-10T16:52:39.402191Z"
    }
   },
   "cell_type": "code",
   "source": [
    "class Optimizer:\n",
    "    def __init__(self):\n",
    "        self.target = None\n",
    "        self.hook = []\n",
    "\n",
    "    def setup(self, target):\n",
    "        self.target = target\n",
    "        return self\n",
    "\n",
    "    def update(self):\n",
    "        params = [p for p in self.target.params() if p.grad is not None]\n",
    "        for f in self.hooks:\n",
    "            f(params)\n",
    "\n",
    "        for param in params:\n",
    "            self.update_one(param)\n",
    "\n",
    "    def update_one(self, param):\n",
    "        raise NotImplementedError()\n",
    "\n",
    "    def add_hook(self, f):\n",
    "        self.hook.append(f)\n",
    "\n"
   ],
   "id": "4cf8817135c9a375",
   "outputs": [],
   "execution_count": 76
  },
  {
   "metadata": {
    "ExecuteTime": {
     "end_time": "2025-04-10T16:52:39.437707Z",
     "start_time": "2025-04-10T16:52:39.433636Z"
    }
   },
   "cell_type": "code",
   "source": [
    "class SGD(Optimizer):\n",
    "    def __init__(self, lr=0.01):\n",
    "        super().__init__()\n",
    "        self.lr = lr\n",
    "\n",
    "    def update_one(self, param):\n",
    "        param.data -= self.lr * param.grad.data"
   ],
   "id": "8c724049e65485ee",
   "outputs": [],
   "execution_count": 77
  },
  {
   "metadata": {
    "ExecuteTime": {
     "end_time": "2025-04-10T16:52:42.074564Z",
     "start_time": "2025-04-10T16:52:39.484043Z"
    }
   },
   "cell_type": "code",
   "source": [
    "import numpy as np\n",
    "from dezero import Variable\n",
    "from dezero import optimizers\n",
    "import dezero.functions as F\n",
    "from dezero.models import MLP\n",
    "\n",
    "np.random.seed(0)\n",
    "x = np.random.rand(100, 1)\n",
    "y = np.sin(2 * np.pi * x) + np.random.rand(100, 1)\n",
    "\n",
    "lr = 0.2\n",
    "max_iter = 10000\n",
    "hidden_size = 10\n",
    "\n",
    "model = MLP((hidden_size, 1))\n",
    "optimizer = optimizers.SGD(lr)\n",
    "optimizer.setup(model)\n",
    "\n",
    "for i in range(max_iter):\n",
    "    y_pred = model(x)\n",
    "    loss = F.mean_squared_error(y, y_pred)\n",
    "\n",
    "    model.cleargrads()\n",
    "    loss.backward()\n",
    "\n",
    "    optimizer.update()\n",
    "    if i % 1000 == 0:\n",
    "        print(loss)\n"
   ],
   "id": "84f223a547b7efc9",
   "outputs": [
    {
     "name": "stdout",
     "output_type": "stream",
     "text": [
      "variable(0.8165178479901415)\n",
      "variable(0.2499028014603372)\n",
      "variable(0.24609874026436843)\n",
      "variable(0.2372158611083361)\n",
      "variable(0.20793217994822144)\n",
      "variable(0.12311919860580517)\n",
      "variable(0.07888168390348675)\n",
      "variable(0.07656075297857308)\n",
      "variable(0.07643364647799143)\n",
      "variable(0.07619374494842991)\n"
     ]
    }
   ],
   "execution_count": 78
  },
  {
   "metadata": {},
   "cell_type": "markdown",
   "source": "### 소프트맥스 함수와 교차 엔트로피 오차",
   "id": "21bd29e8ac4aaf16"
  },
  {
   "metadata": {
    "ExecuteTime": {
     "end_time": "2025-04-10T16:52:42.088134Z",
     "start_time": "2025-04-10T16:52:42.082673Z"
    }
   },
   "cell_type": "code",
   "source": [
    "import numpy as np\n",
    "from dezero import Variable\n",
    "import dezero.functions as F\n",
    "\n",
    "x = Variable(np.array([[1,2,3], [4,5,6]]))\n",
    "y = F.softmax(x)\n",
    "print(y)"
   ],
   "id": "6c06cd2a50a5b151",
   "outputs": [
    {
     "name": "stdout",
     "output_type": "stream",
     "text": [
      "variable([[0.09003057 0.24472847 0.66524096]\n",
      "          [0.09003057 0.24472847 0.66524096]])\n"
     ]
    }
   ],
   "execution_count": 79
  },
  {
   "metadata": {
    "ExecuteTime": {
     "end_time": "2025-04-10T16:52:42.116942Z",
     "start_time": "2025-04-10T16:52:42.113183Z"
    }
   },
   "cell_type": "code",
   "source": [
    "x = Variable(np.array([[1,2,3], [4,5,6]]))\n",
    "indices = np.array([0,0,1])\n",
    "y = F.get_item(x, indices)\n",
    "print(y)"
   ],
   "id": "1340f793681b63ca",
   "outputs": [
    {
     "name": "stdout",
     "output_type": "stream",
     "text": [
      "variable([[1 2 3]\n",
      "          [1 2 3]\n",
      "          [4 5 6]])\n"
     ]
    }
   ],
   "execution_count": 80
  },
  {
   "metadata": {
    "ExecuteTime": {
     "end_time": "2025-04-10T16:52:42.159174Z",
     "start_time": "2025-04-10T16:52:42.154059Z"
    }
   },
   "cell_type": "code",
   "source": [
    "Variable.__getitem__ = F.get_item\n",
    "\n",
    "y = x[1]\n",
    "print(y)\n",
    "\n",
    "y = x[:,2]\n",
    "print(y)"
   ],
   "id": "868c8cb8f06356c5",
   "outputs": [
    {
     "name": "stdout",
     "output_type": "stream",
     "text": [
      "variable([4 5 6])\n",
      "variable([3 6])\n"
     ]
    }
   ],
   "execution_count": 81
  },
  {
   "metadata": {
    "ExecuteTime": {
     "end_time": "2025-04-10T16:52:42.236031Z",
     "start_time": "2025-04-10T16:52:42.231284Z"
    }
   },
   "cell_type": "code",
   "source": [
    "from dezero.models import MLP\n",
    "\n",
    "model = MLP((10, 3))\n",
    "\n",
    "x = np.array([[0.2, -0.4]])\n",
    "y = model(x)\n",
    "print(y)"
   ],
   "id": "d4f4e3f8a2011f42",
   "outputs": [
    {
     "name": "stdout",
     "output_type": "stream",
     "text": [
      "variable([[0.25337847 0.30853735 0.38821425]])\n"
     ]
    }
   ],
   "execution_count": 82
  },
  {
   "metadata": {
    "ExecuteTime": {
     "end_time": "2025-04-10T16:52:42.292628Z",
     "start_time": "2025-04-10T16:52:42.287943Z"
    }
   },
   "cell_type": "code",
   "source": [
    "from dezero import Variable, as_variable\n",
    "import dezero.functions as F\n",
    "\n",
    "def softmax1d(x):\n",
    "    x = as_variable(x)\n",
    "    y = F.exp(x)\n",
    "    sum_y = F.sum(y)\n",
    "    return y / sum_y"
   ],
   "id": "2cbabe215949cbf4",
   "outputs": [],
   "execution_count": 83
  },
  {
   "metadata": {
    "ExecuteTime": {
     "end_time": "2025-04-10T16:52:42.329892Z",
     "start_time": "2025-04-10T16:52:42.324729Z"
    }
   },
   "cell_type": "code",
   "source": [
    "model = MLP((10, 3))\n",
    "\n",
    "x = Variable(np.array([[0.2 -0.4]]))\n",
    "y = model(x)\n",
    "p = softmax1d(y)\n",
    "print(y)\n",
    "print(p)"
   ],
   "id": "a10a579783f4c208",
   "outputs": [
    {
     "name": "stdout",
     "output_type": "stream",
     "text": [
      "variable([[-0.51038322 -1.02080158  0.0629688 ]])\n",
      "variable([[0.29634471 0.17787925 0.52577604]])\n"
     ]
    }
   ],
   "execution_count": 84
  },
  {
   "metadata": {
    "ExecuteTime": {
     "end_time": "2025-04-10T16:52:42.379919Z",
     "start_time": "2025-04-10T16:52:42.374173Z"
    }
   },
   "cell_type": "code",
   "source": [
    "model = MLP((10, 3))\n",
    "x = np.array([[0.2, -0.4], [0.3, 0.5], [1.3, -3.2], [2.1, 0.3]])\n",
    "t = np.array([2, 0, 1, 0])\n",
    "y = model(x)\n",
    "loss = F.softmax_cross_entropy(y, t)\n",
    "print(loss)"
   ],
   "id": "29d5f0076665c746",
   "outputs": [
    {
     "name": "stdout",
     "output_type": "stream",
     "text": [
      "variable(1.3110249232057938)\n"
     ]
    }
   ],
   "execution_count": 85
  },
  {
   "metadata": {},
   "cell_type": "markdown",
   "source": "### 다중 클래스 분류",
   "id": "f9246a80ff108174"
  },
  {
   "metadata": {
    "ExecuteTime": {
     "end_time": "2025-04-10T16:52:42.429658Z",
     "start_time": "2025-04-10T16:52:42.421831Z"
    }
   },
   "cell_type": "code",
   "source": [
    "import numpy as np\n",
    "import matplotlib.pyplot as plt\n",
    "import dezero\n",
    "from dezero.datasets import Spiral\n",
    "\n",
    "\n",
    "import dezero.functions as F\n",
    "\n",
    "#x, t = dezero.datasets.get_spiral(train=True)\n",
    "\n",
    "dataset = Spiral(train=True)\n",
    "x, t = dataset.data, dataset.label\n",
    "\n",
    "\n",
    "print(x.shape)\n",
    "print(t.shape)\n",
    "\n",
    "print(x[10], t[10])\n",
    "print(x[110], t[110])"
   ],
   "id": "5c8fe1d79811452e",
   "outputs": [
    {
     "name": "stdout",
     "output_type": "stream",
     "text": [
      "(300, 2)\n",
      "(300,)\n",
      "[-0.12995958 -0.00324155] 1\n",
      "[ 0.3282343  -0.54941994] 0\n"
     ]
    }
   ],
   "execution_count": 86
  },
  {
   "metadata": {
    "ExecuteTime": {
     "end_time": "2025-04-10T16:52:46.355207Z",
     "start_time": "2025-04-10T16:52:42.480620Z"
    }
   },
   "cell_type": "code",
   "source": [
    "import math\n",
    "import numpy as np\n",
    "import matplotlib.pyplot as plt\n",
    "import dezero\n",
    "from dezero.datasets import Spiral\n",
    "from dezero import optimizers\n",
    "import dezero.functions as F\n",
    "from dezero.models import MLP\n",
    "\n",
    "# Hyperparameters\n",
    "max_epoch = 300\n",
    "batch_size = 30\n",
    "hidden_size = 10\n",
    "lr = 1.0\n",
    "\n",
    "#x, t = dezero.datasets.get_spiral(train=True)\n",
    "dataset = Spiral(train=True)\n",
    "x, t = dataset.data, dataset.label\n",
    "\n",
    "model = MLP((hidden_size, 3))\n",
    "optimizer = optimizers.SGD(lr).setup(model)\n",
    "\n",
    "data_size = len(x)\n",
    "max_iter = math.ceil(data_size / batch_size)\n",
    "\n",
    "for epoch in range(max_epoch):\n",
    "    # Shuffle index for data\n",
    "    index = np.random.permutation(data_size)\n",
    "    sum_loss = 0\n",
    "\n",
    "    for i in range(max_iter):\n",
    "        batch_index = index[i * batch_size:(i + 1) * batch_size]\n",
    "        batch_x = x[batch_index]\n",
    "        batch_t = t[batch_index]\n",
    "\n",
    "        y = model(batch_x)\n",
    "        loss = F.softmax_cross_entropy(y, batch_t)\n",
    "        model.cleargrads()\n",
    "        loss.backward()\n",
    "        optimizer.update()\n",
    "\n",
    "        sum_loss += float(loss.data) * len(batch_t)\n",
    "\n",
    "    # Print loss every epoch\n",
    "    avg_loss = sum_loss / data_size\n",
    "    print('epoch %d, loss %.2f' % (epoch + 1, avg_loss))\n",
    "\n",
    "# Plot boundary area the model predict\n",
    "h = 0.001\n",
    "x_min, x_max = x[:, 0].min() - .1, x[:, 0].max() + .1\n",
    "y_min, y_max = x[:, 1].min() - .1, x[:, 1].max() + .1\n",
    "xx, yy = np.meshgrid(np.arange(x_min, x_max, h), np.arange(y_min, y_max, h))\n",
    "X = np.c_[xx.ravel(), yy.ravel()]\n",
    "\n",
    "with dezero.no_grad():\n",
    "    score = model(X)\n",
    "predict_cls = np.argmax(score.data, axis=1)\n",
    "Z = predict_cls.reshape(xx.shape)\n",
    "plt.contourf(xx, yy, Z)\n",
    "\n",
    "# Plot data points of the dataset\n",
    "N, CLS_NUM = 100, 3\n",
    "markers = ['o', 'x', '^']\n",
    "colors = ['orange', 'blue', 'green']\n",
    "for i in range(len(x)):\n",
    "    c = t[i]\n",
    "    plt.scatter(x[i][0], x[i][1], s=40,  marker=markers[c], c=colors[c])\n",
    "plt.show()"
   ],
   "id": "4e0f6bdfb63aa882",
   "outputs": [
    {
     "name": "stdout",
     "output_type": "stream",
     "text": [
      "epoch 1, loss 1.13\n",
      "epoch 2, loss 1.05\n",
      "epoch 3, loss 0.95\n",
      "epoch 4, loss 0.92\n",
      "epoch 5, loss 0.87\n",
      "epoch 6, loss 0.89\n",
      "epoch 7, loss 0.84\n",
      "epoch 8, loss 0.78\n",
      "epoch 9, loss 0.80\n",
      "epoch 10, loss 0.79\n",
      "epoch 11, loss 0.78\n",
      "epoch 12, loss 0.76\n",
      "epoch 13, loss 0.77\n",
      "epoch 14, loss 0.76\n",
      "epoch 15, loss 0.76\n",
      "epoch 16, loss 0.77\n",
      "epoch 17, loss 0.78\n",
      "epoch 18, loss 0.74\n",
      "epoch 19, loss 0.74\n",
      "epoch 20, loss 0.72\n",
      "epoch 21, loss 0.73\n",
      "epoch 22, loss 0.74\n",
      "epoch 23, loss 0.77\n",
      "epoch 24, loss 0.73\n",
      "epoch 25, loss 0.74\n",
      "epoch 26, loss 0.74\n",
      "epoch 27, loss 0.72\n",
      "epoch 28, loss 0.72\n",
      "epoch 29, loss 0.72\n",
      "epoch 30, loss 0.73\n",
      "epoch 31, loss 0.71\n",
      "epoch 32, loss 0.72\n",
      "epoch 33, loss 0.72\n",
      "epoch 34, loss 0.71\n",
      "epoch 35, loss 0.72\n",
      "epoch 36, loss 0.71\n",
      "epoch 37, loss 0.71\n",
      "epoch 38, loss 0.70\n",
      "epoch 39, loss 0.71\n",
      "epoch 40, loss 0.70\n",
      "epoch 41, loss 0.71\n",
      "epoch 42, loss 0.70\n",
      "epoch 43, loss 0.70\n",
      "epoch 44, loss 0.70\n",
      "epoch 45, loss 0.69\n",
      "epoch 46, loss 0.69\n",
      "epoch 47, loss 0.71\n",
      "epoch 48, loss 0.70\n",
      "epoch 49, loss 0.69\n",
      "epoch 50, loss 0.69\n",
      "epoch 51, loss 0.68\n",
      "epoch 52, loss 0.67\n",
      "epoch 53, loss 0.68\n",
      "epoch 54, loss 0.70\n",
      "epoch 55, loss 0.68\n",
      "epoch 56, loss 0.66\n",
      "epoch 57, loss 0.67\n",
      "epoch 58, loss 0.66\n",
      "epoch 59, loss 0.64\n",
      "epoch 60, loss 0.64\n",
      "epoch 61, loss 0.64\n",
      "epoch 62, loss 0.63\n",
      "epoch 63, loss 0.63\n",
      "epoch 64, loss 0.61\n",
      "epoch 65, loss 0.61\n",
      "epoch 66, loss 0.60\n",
      "epoch 67, loss 0.62\n",
      "epoch 68, loss 0.59\n",
      "epoch 69, loss 0.60\n",
      "epoch 70, loss 0.57\n",
      "epoch 71, loss 0.58\n",
      "epoch 72, loss 0.57\n",
      "epoch 73, loss 0.56\n",
      "epoch 74, loss 0.56\n",
      "epoch 75, loss 0.55\n",
      "epoch 76, loss 0.55\n",
      "epoch 77, loss 0.55\n",
      "epoch 78, loss 0.54\n",
      "epoch 79, loss 0.53\n",
      "epoch 80, loss 0.53\n",
      "epoch 81, loss 0.52\n",
      "epoch 82, loss 0.53\n",
      "epoch 83, loss 0.52\n",
      "epoch 84, loss 0.49\n",
      "epoch 85, loss 0.50\n",
      "epoch 86, loss 0.49\n",
      "epoch 87, loss 0.49\n",
      "epoch 88, loss 0.48\n",
      "epoch 89, loss 0.47\n",
      "epoch 90, loss 0.47\n",
      "epoch 91, loss 0.46\n",
      "epoch 92, loss 0.46\n",
      "epoch 93, loss 0.45\n",
      "epoch 94, loss 0.44\n",
      "epoch 95, loss 0.45\n",
      "epoch 96, loss 0.44\n",
      "epoch 97, loss 0.43\n",
      "epoch 98, loss 0.43\n",
      "epoch 99, loss 0.42\n",
      "epoch 100, loss 0.43\n",
      "epoch 101, loss 0.42\n",
      "epoch 102, loss 0.41\n",
      "epoch 103, loss 0.42\n",
      "epoch 104, loss 0.41\n",
      "epoch 105, loss 0.40\n",
      "epoch 106, loss 0.40\n",
      "epoch 107, loss 0.40\n",
      "epoch 108, loss 0.39\n",
      "epoch 109, loss 0.38\n",
      "epoch 110, loss 0.39\n",
      "epoch 111, loss 0.38\n",
      "epoch 112, loss 0.38\n",
      "epoch 113, loss 0.38\n",
      "epoch 114, loss 0.36\n",
      "epoch 115, loss 0.36\n",
      "epoch 116, loss 0.36\n",
      "epoch 117, loss 0.36\n",
      "epoch 118, loss 0.36\n",
      "epoch 119, loss 0.35\n",
      "epoch 120, loss 0.35\n",
      "epoch 121, loss 0.36\n",
      "epoch 122, loss 0.34\n",
      "epoch 123, loss 0.35\n",
      "epoch 124, loss 0.33\n",
      "epoch 125, loss 0.33\n",
      "epoch 126, loss 0.32\n",
      "epoch 127, loss 0.34\n",
      "epoch 128, loss 0.32\n",
      "epoch 129, loss 0.33\n",
      "epoch 130, loss 0.31\n",
      "epoch 131, loss 0.30\n",
      "epoch 132, loss 0.31\n",
      "epoch 133, loss 0.31\n",
      "epoch 134, loss 0.30\n",
      "epoch 135, loss 0.29\n",
      "epoch 136, loss 0.29\n",
      "epoch 137, loss 0.29\n",
      "epoch 138, loss 0.28\n",
      "epoch 139, loss 0.29\n",
      "epoch 140, loss 0.28\n",
      "epoch 141, loss 0.27\n",
      "epoch 142, loss 0.27\n",
      "epoch 143, loss 0.28\n",
      "epoch 144, loss 0.27\n",
      "epoch 145, loss 0.27\n",
      "epoch 146, loss 0.26\n",
      "epoch 147, loss 0.26\n",
      "epoch 148, loss 0.26\n",
      "epoch 149, loss 0.26\n",
      "epoch 150, loss 0.25\n",
      "epoch 151, loss 0.25\n",
      "epoch 152, loss 0.25\n",
      "epoch 153, loss 0.24\n",
      "epoch 154, loss 0.24\n",
      "epoch 155, loss 0.24\n",
      "epoch 156, loss 0.24\n",
      "epoch 157, loss 0.24\n",
      "epoch 158, loss 0.24\n",
      "epoch 159, loss 0.23\n",
      "epoch 160, loss 0.23\n",
      "epoch 161, loss 0.23\n",
      "epoch 162, loss 0.23\n",
      "epoch 163, loss 0.23\n",
      "epoch 164, loss 0.22\n",
      "epoch 165, loss 0.22\n",
      "epoch 166, loss 0.22\n",
      "epoch 167, loss 0.21\n",
      "epoch 168, loss 0.22\n",
      "epoch 169, loss 0.22\n",
      "epoch 170, loss 0.21\n",
      "epoch 171, loss 0.21\n",
      "epoch 172, loss 0.22\n",
      "epoch 173, loss 0.22\n",
      "epoch 174, loss 0.21\n",
      "epoch 175, loss 0.21\n",
      "epoch 176, loss 0.20\n",
      "epoch 177, loss 0.21\n",
      "epoch 178, loss 0.20\n",
      "epoch 179, loss 0.20\n",
      "epoch 180, loss 0.20\n",
      "epoch 181, loss 0.20\n",
      "epoch 182, loss 0.19\n",
      "epoch 183, loss 0.20\n",
      "epoch 184, loss 0.19\n",
      "epoch 185, loss 0.19\n",
      "epoch 186, loss 0.19\n",
      "epoch 187, loss 0.19\n",
      "epoch 188, loss 0.19\n",
      "epoch 189, loss 0.19\n",
      "epoch 190, loss 0.19\n",
      "epoch 191, loss 0.19\n",
      "epoch 192, loss 0.19\n",
      "epoch 193, loss 0.18\n",
      "epoch 194, loss 0.19\n",
      "epoch 195, loss 0.18\n",
      "epoch 196, loss 0.18\n",
      "epoch 197, loss 0.18\n",
      "epoch 198, loss 0.18\n",
      "epoch 199, loss 0.19\n",
      "epoch 200, loss 0.18\n",
      "epoch 201, loss 0.17\n",
      "epoch 202, loss 0.18\n",
      "epoch 203, loss 0.18\n",
      "epoch 204, loss 0.17\n",
      "epoch 205, loss 0.18\n",
      "epoch 206, loss 0.17\n",
      "epoch 207, loss 0.17\n",
      "epoch 208, loss 0.17\n",
      "epoch 209, loss 0.17\n",
      "epoch 210, loss 0.17\n",
      "epoch 211, loss 0.17\n",
      "epoch 212, loss 0.17\n",
      "epoch 213, loss 0.18\n",
      "epoch 214, loss 0.17\n",
      "epoch 215, loss 0.17\n",
      "epoch 216, loss 0.17\n",
      "epoch 217, loss 0.17\n",
      "epoch 218, loss 0.17\n",
      "epoch 219, loss 0.16\n",
      "epoch 220, loss 0.17\n",
      "epoch 221, loss 0.16\n",
      "epoch 222, loss 0.16\n",
      "epoch 223, loss 0.16\n",
      "epoch 224, loss 0.16\n",
      "epoch 225, loss 0.16\n",
      "epoch 226, loss 0.16\n",
      "epoch 227, loss 0.17\n",
      "epoch 228, loss 0.18\n",
      "epoch 229, loss 0.16\n",
      "epoch 230, loss 0.16\n",
      "epoch 231, loss 0.15\n",
      "epoch 232, loss 0.16\n",
      "epoch 233, loss 0.17\n",
      "epoch 234, loss 0.16\n",
      "epoch 235, loss 0.16\n",
      "epoch 236, loss 0.15\n",
      "epoch 237, loss 0.16\n",
      "epoch 238, loss 0.16\n",
      "epoch 239, loss 0.16\n",
      "epoch 240, loss 0.16\n",
      "epoch 241, loss 0.15\n",
      "epoch 242, loss 0.15\n",
      "epoch 243, loss 0.15\n",
      "epoch 244, loss 0.15\n",
      "epoch 245, loss 0.15\n",
      "epoch 246, loss 0.15\n",
      "epoch 247, loss 0.15\n",
      "epoch 248, loss 0.15\n",
      "epoch 249, loss 0.15\n",
      "epoch 250, loss 0.15\n",
      "epoch 251, loss 0.15\n",
      "epoch 252, loss 0.15\n",
      "epoch 253, loss 0.15\n",
      "epoch 254, loss 0.15\n",
      "epoch 255, loss 0.15\n",
      "epoch 256, loss 0.15\n",
      "epoch 257, loss 0.14\n",
      "epoch 258, loss 0.15\n",
      "epoch 259, loss 0.14\n",
      "epoch 260, loss 0.15\n",
      "epoch 261, loss 0.15\n",
      "epoch 262, loss 0.15\n",
      "epoch 263, loss 0.14\n",
      "epoch 264, loss 0.14\n",
      "epoch 265, loss 0.14\n",
      "epoch 266, loss 0.14\n",
      "epoch 267, loss 0.14\n",
      "epoch 268, loss 0.14\n",
      "epoch 269, loss 0.14\n",
      "epoch 270, loss 0.14\n",
      "epoch 271, loss 0.14\n",
      "epoch 272, loss 0.14\n",
      "epoch 273, loss 0.14\n",
      "epoch 274, loss 0.14\n",
      "epoch 275, loss 0.14\n",
      "epoch 276, loss 0.14\n",
      "epoch 277, loss 0.14\n",
      "epoch 278, loss 0.14\n",
      "epoch 279, loss 0.14\n",
      "epoch 280, loss 0.13\n",
      "epoch 281, loss 0.13\n",
      "epoch 282, loss 0.14\n",
      "epoch 283, loss 0.13\n",
      "epoch 284, loss 0.13\n",
      "epoch 285, loss 0.13\n",
      "epoch 286, loss 0.13\n",
      "epoch 287, loss 0.14\n",
      "epoch 288, loss 0.13\n",
      "epoch 289, loss 0.13\n",
      "epoch 290, loss 0.13\n",
      "epoch 291, loss 0.13\n",
      "epoch 292, loss 0.13\n",
      "epoch 293, loss 0.14\n",
      "epoch 294, loss 0.13\n",
      "epoch 295, loss 0.13\n",
      "epoch 296, loss 0.13\n",
      "epoch 297, loss 0.13\n",
      "epoch 298, loss 0.12\n",
      "epoch 299, loss 0.13\n",
      "epoch 300, loss 0.13\n"
     ]
    },
    {
     "data": {
      "text/plain": [
       "<Figure size 640x480 with 1 Axes>"
      ],
      "image/png": "[encoded data removed]"
     },
     "metadata": {},
     "output_type": "display_data"
    }
   ],
   "execution_count": 87
  },
  {
   "metadata": {},
   "cell_type": "markdown",
   "source": "### Dataset 클래스와 전처리",
   "id": "b95fb19bb2f417c9"
  },
  {
   "metadata": {
    "ExecuteTime": {
     "end_time": "2025-04-10T16:52:46.390934Z",
     "start_time": "2025-04-10T16:52:46.384700Z"
    }
   },
   "cell_type": "code",
   "source": [
    "import dezero\n",
    "from dezero.datasets import Spiral\n",
    "\n",
    "#train_set = dezero.datasets.Spiral(train=True)\n",
    "\n",
    "train_set = Spiral(train=True)\n",
    "\n",
    "print(train_set[0])\n",
    "print(len(train_set))"
   ],
   "id": "db9f43c8653f75b3",
   "outputs": [
    {
     "name": "stdout",
     "output_type": "stream",
     "text": [
      "(array([-0.13981389, -0.00721657], dtype=float32), np.int64(1))\n",
      "300\n"
     ]
    }
   ],
   "execution_count": 88
  },
  {
   "metadata": {
    "ExecuteTime": {
     "end_time": "2025-04-10T16:52:46.449996Z",
     "start_time": "2025-04-10T16:52:46.445901Z"
    }
   },
   "cell_type": "code",
   "source": [
    "class BigData():\n",
    "    def __getitem__(self, index):\n",
    "        x = np.load('data/{}.npy'.format(index))\n",
    "        t = np.load('label/{}.npy'.format(index))\n",
    "\n",
    "        return x, t\n",
    "    def __len__(self):\n",
    "        return 10000"
   ],
   "id": "6b3c057072bfffb0",
   "outputs": [],
   "execution_count": 89
  },
  {
   "metadata": {
    "ExecuteTime": {
     "end_time": "2025-04-10T16:52:46.485060Z",
     "start_time": "2025-04-10T16:52:46.479250Z"
    }
   },
   "cell_type": "code",
   "source": [
    "train_set = Spiral(train=True)\n",
    "\n",
    "batch_index = [0, 1, 2]\n",
    "batch = [train_set[i] for i in batch_index]\n"
   ],
   "id": "8c0851fe028c3fa3",
   "outputs": [],
   "execution_count": 90
  },
  {
   "metadata": {
    "ExecuteTime": {
     "end_time": "2025-04-10T16:52:46.518340Z",
     "start_time": "2025-04-10T16:52:46.513589Z"
    }
   },
   "cell_type": "code",
   "source": [
    "x = np.array([example[0] for example in batch])\n",
    "t = np.array([example[1] for example in batch])\n",
    "\n",
    "print(x.shape)\n",
    "print(t.shape)"
   ],
   "id": "a6e6076b62027e24",
   "outputs": [
    {
     "name": "stdout",
     "output_type": "stream",
     "text": [
      "(3, 2)\n",
      "(3,)\n"
     ]
    }
   ],
   "execution_count": 91
  },
  {
   "metadata": {
    "ExecuteTime": {
     "end_time": "2025-04-10T16:52:47.704198Z",
     "start_time": "2025-04-10T16:52:46.544419Z"
    }
   },
   "cell_type": "code",
   "source": [
    "max_epoch = 300\n",
    "batch_size = 30\n",
    "hidden_size = 10\n",
    "lr = 1.0\n",
    "\n",
    "train_set = Spiral(train=True)\n",
    "model = MLP((hidden_size, 3))\n",
    "optimizer = optimizers.SGD(lr).setup(model)\n",
    "\n",
    "data_size = len(train_set)\n",
    "max_iter = math.ceil(data_size / batch_size)\n",
    "\n",
    "for epoch in range(max_epoch):\n",
    "    index = np.random.permutation(data_size)\n",
    "    sum_loss = 0\n",
    "    for i in range(max_iter):\n",
    "        batch_index = index[i * batch_size:(i + 1) * batch_size]\n",
    "        batch = [train_set[i] for i in batch_index]\n",
    "        x = np.array([example[0] for example in batch])\n",
    "        t = np.array([example[1] for example in batch])\n",
    "\n",
    "        y = model(x)\n",
    "        loss = F.softmax_cross_entropy(y, t)\n",
    "        model.cleargrads()\n",
    "        loss.backward()\n",
    "        optimizer.update()\n",
    "\n",
    "        sum_loss += float(loss.data) * len(t)\n",
    "\n",
    "    avg_loss = sum_loss / data_size\n",
    "    print('epoch %d, loss %.2f' % (epoch + 1, avg_loss))"
   ],
   "id": "3ea9040a9fe9bd5a",
   "outputs": [
    {
     "name": "stdout",
     "output_type": "stream",
     "text": [
      "epoch 1, loss 1.13\n",
      "epoch 2, loss 1.05\n",
      "epoch 3, loss 0.95\n",
      "epoch 4, loss 0.92\n",
      "epoch 5, loss 0.87\n",
      "epoch 6, loss 0.89\n",
      "epoch 7, loss 0.84\n",
      "epoch 8, loss 0.78\n",
      "epoch 9, loss 0.80\n",
      "epoch 10, loss 0.79\n",
      "epoch 11, loss 0.78\n",
      "epoch 12, loss 0.76\n",
      "epoch 13, loss 0.77\n",
      "epoch 14, loss 0.76\n",
      "epoch 15, loss 0.76\n",
      "epoch 16, loss 0.77\n",
      "epoch 17, loss 0.78\n",
      "epoch 18, loss 0.74\n",
      "epoch 19, loss 0.74\n",
      "epoch 20, loss 0.72\n",
      "epoch 21, loss 0.73\n",
      "epoch 22, loss 0.74\n",
      "epoch 23, loss 0.77\n",
      "epoch 24, loss 0.73\n",
      "epoch 25, loss 0.74\n",
      "epoch 26, loss 0.74\n",
      "epoch 27, loss 0.72\n",
      "epoch 28, loss 0.72\n",
      "epoch 29, loss 0.72\n",
      "epoch 30, loss 0.73\n",
      "epoch 31, loss 0.71\n",
      "epoch 32, loss 0.72\n",
      "epoch 33, loss 0.72\n",
      "epoch 34, loss 0.71\n",
      "epoch 35, loss 0.72\n",
      "epoch 36, loss 0.71\n",
      "epoch 37, loss 0.71\n",
      "epoch 38, loss 0.70\n",
      "epoch 39, loss 0.71\n",
      "epoch 40, loss 0.70\n",
      "epoch 41, loss 0.71\n",
      "epoch 42, loss 0.70\n",
      "epoch 43, loss 0.70\n",
      "epoch 44, loss 0.70\n",
      "epoch 45, loss 0.69\n",
      "epoch 46, loss 0.69\n",
      "epoch 47, loss 0.71\n",
      "epoch 48, loss 0.70\n",
      "epoch 49, loss 0.69\n",
      "epoch 50, loss 0.69\n",
      "epoch 51, loss 0.68\n",
      "epoch 52, loss 0.67\n",
      "epoch 53, loss 0.68\n",
      "epoch 54, loss 0.70\n",
      "epoch 55, loss 0.68\n",
      "epoch 56, loss 0.66\n",
      "epoch 57, loss 0.67\n",
      "epoch 58, loss 0.66\n",
      "epoch 59, loss 0.64\n",
      "epoch 60, loss 0.64\n",
      "epoch 61, loss 0.64\n",
      "epoch 62, loss 0.63\n",
      "epoch 63, loss 0.63\n",
      "epoch 64, loss 0.61\n",
      "epoch 65, loss 0.61\n",
      "epoch 66, loss 0.60\n",
      "epoch 67, loss 0.62\n",
      "epoch 68, loss 0.59\n",
      "epoch 69, loss 0.60\n",
      "epoch 70, loss 0.57\n",
      "epoch 71, loss 0.58\n",
      "epoch 72, loss 0.57\n",
      "epoch 73, loss 0.56\n",
      "epoch 74, loss 0.56\n",
      "epoch 75, loss 0.55\n",
      "epoch 76, loss 0.55\n",
      "epoch 77, loss 0.55\n",
      "epoch 78, loss 0.54\n",
      "epoch 79, loss 0.53\n",
      "epoch 80, loss 0.53\n",
      "epoch 81, loss 0.52\n",
      "epoch 82, loss 0.53\n",
      "epoch 83, loss 0.52\n",
      "epoch 84, loss 0.49\n",
      "epoch 85, loss 0.50\n",
      "epoch 86, loss 0.49\n",
      "epoch 87, loss 0.49\n",
      "epoch 88, loss 0.48\n",
      "epoch 89, loss 0.47\n",
      "epoch 90, loss 0.47\n",
      "epoch 91, loss 0.46\n",
      "epoch 92, loss 0.46\n",
      "epoch 93, loss 0.45\n",
      "epoch 94, loss 0.44\n",
      "epoch 95, loss 0.45\n",
      "epoch 96, loss 0.44\n",
      "epoch 97, loss 0.43\n",
      "epoch 98, loss 0.43\n",
      "epoch 99, loss 0.42\n",
      "epoch 100, loss 0.43\n",
      "epoch 101, loss 0.42\n",
      "epoch 102, loss 0.41\n",
      "epoch 103, loss 0.42\n",
      "epoch 104, loss 0.41\n",
      "epoch 105, loss 0.40\n",
      "epoch 106, loss 0.40\n",
      "epoch 107, loss 0.40\n",
      "epoch 108, loss 0.39\n",
      "epoch 109, loss 0.38\n",
      "epoch 110, loss 0.39\n",
      "epoch 111, loss 0.38\n",
      "epoch 112, loss 0.38\n",
      "epoch 113, loss 0.38\n",
      "epoch 114, loss 0.36\n",
      "epoch 115, loss 0.36\n",
      "epoch 116, loss 0.36\n",
      "epoch 117, loss 0.36\n",
      "epoch 118, loss 0.36\n",
      "epoch 119, loss 0.35\n",
      "epoch 120, loss 0.35\n",
      "epoch 121, loss 0.36\n",
      "epoch 122, loss 0.34\n",
      "epoch 123, loss 0.35\n",
      "epoch 124, loss 0.33\n",
      "epoch 125, loss 0.33\n",
      "epoch 126, loss 0.32\n",
      "epoch 127, loss 0.34\n",
      "epoch 128, loss 0.32\n",
      "epoch 129, loss 0.33\n",
      "epoch 130, loss 0.31\n",
      "epoch 131, loss 0.30\n",
      "epoch 132, loss 0.31\n",
      "epoch 133, loss 0.31\n",
      "epoch 134, loss 0.30\n",
      "epoch 135, loss 0.29\n",
      "epoch 136, loss 0.29\n",
      "epoch 137, loss 0.29\n",
      "epoch 138, loss 0.28\n",
      "epoch 139, loss 0.29\n",
      "epoch 140, loss 0.28\n",
      "epoch 141, loss 0.27\n",
      "epoch 142, loss 0.27\n",
      "epoch 143, loss 0.28\n",
      "epoch 144, loss 0.27\n",
      "epoch 145, loss 0.27\n",
      "epoch 146, loss 0.26\n",
      "epoch 147, loss 0.26\n",
      "epoch 148, loss 0.26\n",
      "epoch 149, loss 0.26\n",
      "epoch 150, loss 0.25\n",
      "epoch 151, loss 0.25\n",
      "epoch 152, loss 0.25\n",
      "epoch 153, loss 0.24\n",
      "epoch 154, loss 0.24\n",
      "epoch 155, loss 0.24\n",
      "epoch 156, loss 0.24\n",
      "epoch 157, loss 0.24\n",
      "epoch 158, loss 0.24\n",
      "epoch 159, loss 0.23\n",
      "epoch 160, loss 0.23\n",
      "epoch 161, loss 0.23\n",
      "epoch 162, loss 0.23\n",
      "epoch 163, loss 0.23\n",
      "epoch 164, loss 0.22\n",
      "epoch 165, loss 0.22\n",
      "epoch 166, loss 0.22\n",
      "epoch 167, loss 0.21\n",
      "epoch 168, loss 0.22\n",
      "epoch 169, loss 0.22\n",
      "epoch 170, loss 0.21\n",
      "epoch 171, loss 0.21\n",
      "epoch 172, loss 0.22\n",
      "epoch 173, loss 0.22\n",
      "epoch 174, loss 0.21\n",
      "epoch 175, loss 0.21\n",
      "epoch 176, loss 0.20\n",
      "epoch 177, loss 0.21\n",
      "epoch 178, loss 0.20\n",
      "epoch 179, loss 0.20\n",
      "epoch 180, loss 0.20\n",
      "epoch 181, loss 0.20\n",
      "epoch 182, loss 0.19\n",
      "epoch 183, loss 0.20\n",
      "epoch 184, loss 0.19\n",
      "epoch 185, loss 0.19\n",
      "epoch 186, loss 0.19\n",
      "epoch 187, loss 0.19\n",
      "epoch 188, loss 0.19\n",
      "epoch 189, loss 0.19\n",
      "epoch 190, loss 0.19\n",
      "epoch 191, loss 0.19\n",
      "epoch 192, loss 0.19\n",
      "epoch 193, loss 0.18\n",
      "epoch 194, loss 0.19\n",
      "epoch 195, loss 0.18\n",
      "epoch 196, loss 0.18\n",
      "epoch 197, loss 0.18\n",
      "epoch 198, loss 0.18\n",
      "epoch 199, loss 0.19\n",
      "epoch 200, loss 0.18\n",
      "epoch 201, loss 0.17\n",
      "epoch 202, loss 0.18\n",
      "epoch 203, loss 0.18\n",
      "epoch 204, loss 0.17\n",
      "epoch 205, loss 0.18\n",
      "epoch 206, loss 0.17\n",
      "epoch 207, loss 0.17\n",
      "epoch 208, loss 0.17\n",
      "epoch 209, loss 0.17\n",
      "epoch 210, loss 0.17\n",
      "epoch 211, loss 0.17\n",
      "epoch 212, loss 0.17\n",
      "epoch 213, loss 0.18\n",
      "epoch 214, loss 0.17\n",
      "epoch 215, loss 0.17\n",
      "epoch 216, loss 0.17\n",
      "epoch 217, loss 0.17\n",
      "epoch 218, loss 0.17\n",
      "epoch 219, loss 0.16\n",
      "epoch 220, loss 0.17\n",
      "epoch 221, loss 0.16\n",
      "epoch 222, loss 0.16\n",
      "epoch 223, loss 0.16\n",
      "epoch 224, loss 0.16\n",
      "epoch 225, loss 0.16\n",
      "epoch 226, loss 0.16\n",
      "epoch 227, loss 0.17\n",
      "epoch 228, loss 0.18\n",
      "epoch 229, loss 0.16\n",
      "epoch 230, loss 0.16\n",
      "epoch 231, loss 0.15\n",
      "epoch 232, loss 0.16\n",
      "epoch 233, loss 0.17\n",
      "epoch 234, loss 0.16\n",
      "epoch 235, loss 0.16\n",
      "epoch 236, loss 0.15\n",
      "epoch 237, loss 0.16\n",
      "epoch 238, loss 0.16\n",
      "epoch 239, loss 0.16\n",
      "epoch 240, loss 0.16\n",
      "epoch 241, loss 0.15\n",
      "epoch 242, loss 0.15\n",
      "epoch 243, loss 0.15\n",
      "epoch 244, loss 0.15\n",
      "epoch 245, loss 0.15\n",
      "epoch 246, loss 0.15\n",
      "epoch 247, loss 0.15\n",
      "epoch 248, loss 0.15\n",
      "epoch 249, loss 0.15\n",
      "epoch 250, loss 0.15\n",
      "epoch 251, loss 0.15\n",
      "epoch 252, loss 0.15\n",
      "epoch 253, loss 0.15\n",
      "epoch 254, loss 0.15\n",
      "epoch 255, loss 0.15\n",
      "epoch 256, loss 0.15\n",
      "epoch 257, loss 0.14\n",
      "epoch 258, loss 0.15\n",
      "epoch 259, loss 0.14\n",
      "epoch 260, loss 0.15\n",
      "epoch 261, loss 0.15\n",
      "epoch 262, loss 0.15\n",
      "epoch 263, loss 0.14\n",
      "epoch 264, loss 0.14\n",
      "epoch 265, loss 0.14\n",
      "epoch 266, loss 0.14\n",
      "epoch 267, loss 0.14\n",
      "epoch 268, loss 0.14\n",
      "epoch 269, loss 0.14\n",
      "epoch 270, loss 0.14\n",
      "epoch 271, loss 0.14\n",
      "epoch 272, loss 0.14\n",
      "epoch 273, loss 0.14\n",
      "epoch 274, loss 0.14\n",
      "epoch 275, loss 0.14\n",
      "epoch 276, loss 0.14\n",
      "epoch 277, loss 0.14\n",
      "epoch 278, loss 0.14\n",
      "epoch 279, loss 0.14\n",
      "epoch 280, loss 0.13\n",
      "epoch 281, loss 0.13\n",
      "epoch 282, loss 0.14\n",
      "epoch 283, loss 0.13\n",
      "epoch 284, loss 0.13\n",
      "epoch 285, loss 0.13\n",
      "epoch 286, loss 0.13\n",
      "epoch 287, loss 0.14\n",
      "epoch 288, loss 0.13\n",
      "epoch 289, loss 0.13\n",
      "epoch 290, loss 0.13\n",
      "epoch 291, loss 0.13\n",
      "epoch 292, loss 0.13\n",
      "epoch 293, loss 0.14\n",
      "epoch 294, loss 0.13\n",
      "epoch 295, loss 0.13\n",
      "epoch 296, loss 0.13\n",
      "epoch 297, loss 0.13\n",
      "epoch 298, loss 0.12\n",
      "epoch 299, loss 0.13\n",
      "epoch 300, loss 0.13\n"
     ]
    }
   ],
   "execution_count": 92
  },
  {
   "metadata": {
    "ExecuteTime": {
     "end_time": "2025-04-10T16:52:47.763095Z",
     "start_time": "2025-04-10T16:52:47.754735Z"
    }
   },
   "cell_type": "code",
   "source": [
    "class Dataset:\n",
    "    def __init__(self, train=True, transform=None, target_transform=None):\n",
    "        self.train = train\n",
    "        self.transform = transform\n",
    "        self.terget_transform = target_transform\n",
    "        if self.transform is None:\n",
    "            self.transform = lambda x: x\n",
    "        if self.terget_transform is None:\n",
    "            self.terget_transform = lambda x: x\n",
    "\n",
    "        self.data = None\n",
    "        self.target = None\n",
    "        self.prepare()\n",
    "\n",
    "    def __getitem__(self, index):\n",
    "        assert np.isscalar(index)\n",
    "        if self.label is None:\n",
    "            return self.transform(self.data[index]), None\n",
    "        else:\n",
    "            return self.transform(self.data[index]), self.target_transform(self.target[index])\n",
    "\n",
    "    def __len__(self):\n",
    "        return len(self.data)\n",
    "\n",
    "    def prepare(self):\n",
    "        pass\n"
   ],
   "id": "e5edc3edec42dee",
   "outputs": [],
   "execution_count": 93
  },
  {
   "metadata": {
    "ExecuteTime": {
     "end_time": "2025-04-10T16:52:47.799730Z",
     "start_time": "2025-04-10T16:52:47.794631Z"
    }
   },
   "cell_type": "code",
   "source": [
    "def f(x):\n",
    "    y = x / 2.0\n",
    "    return y\n",
    "\n",
    "train_set = Spiral(train=True)\n"
   ],
   "id": "630e7ad43e444661",
   "outputs": [],
   "execution_count": 94
  },
  {
   "metadata": {
    "ExecuteTime": {
     "end_time": "2025-04-10T16:52:47.830336Z",
     "start_time": "2025-04-10T16:52:47.825364Z"
    }
   },
   "cell_type": "code",
   "source": [
    "from dezero import transforms\n",
    "\n",
    "t = transforms.Normalize(mean=0.0, std=2.0)\n",
    "train_set = Spiral(transform=f)"
   ],
   "id": "fd59c3d1c3f2bba7",
   "outputs": [],
   "execution_count": 95
  },
  {
   "metadata": {
    "ExecuteTime": {
     "end_time": "2025-04-10T16:52:47.858608Z",
     "start_time": "2025-04-10T16:52:47.854938Z"
    }
   },
   "cell_type": "code",
   "source": [
    "t = transforms.Compose([transforms.Normalize(mean=0.0, std=2.0),\n",
    "                        transforms.AsType(np.float64)])\n"
   ],
   "id": "ecc3b41d1426901b",
   "outputs": [],
   "execution_count": 96
  },
  {
   "metadata": {},
   "cell_type": "markdown",
   "source": "### DataLoader",
   "id": "88584b5c1d709ed"
  },
  {
   "metadata": {
    "ExecuteTime": {
     "end_time": "2025-04-10T16:52:47.890823Z",
     "start_time": "2025-04-10T16:52:47.885148Z"
    }
   },
   "cell_type": "code",
   "source": [
    "t = [1,2,3]\n",
    "x = iter(t)\n",
    "next(x)"
   ],
   "id": "b8ad8d7ae6bbe356",
   "outputs": [
    {
     "data": {
      "text/plain": [
       "1"
      ]
     },
     "execution_count": 97,
     "metadata": {},
     "output_type": "execute_result"
    }
   ],
   "execution_count": 97
  },
  {
   "metadata": {
    "ExecuteTime": {
     "end_time": "2025-04-10T16:52:47.931586Z",
     "start_time": "2025-04-10T16:52:47.927198Z"
    }
   },
   "cell_type": "code",
   "source": "next(x)",
   "id": "4fecd22ffcd39912",
   "outputs": [
    {
     "data": {
      "text/plain": [
       "2"
      ]
     },
     "execution_count": 98,
     "metadata": {},
     "output_type": "execute_result"
    }
   ],
   "execution_count": 98
  },
  {
   "metadata": {
    "ExecuteTime": {
     "end_time": "2025-04-10T16:52:47.994524Z",
     "start_time": "2025-04-10T16:52:47.990184Z"
    }
   },
   "cell_type": "code",
   "source": "next(x)",
   "id": "209e78b330606e25",
   "outputs": [
    {
     "data": {
      "text/plain": [
       "3"
      ]
     },
     "execution_count": 99,
     "metadata": {},
     "output_type": "execute_result"
    }
   ],
   "execution_count": 99
  },
  {
   "metadata": {
    "ExecuteTime": {
     "end_time": "2025-04-10T16:52:48.074298Z",
     "start_time": "2025-04-10T16:52:48.069762Z"
    }
   },
   "cell_type": "code",
   "source": [
    "class MyIterator:\n",
    "    def __init__(self, data):\n",
    "        self.data = data\n",
    "        self.index = 0\n",
    "\n",
    "    def __iter__(self):\n",
    "        return self\n",
    "\n",
    "    def __next__(self):\n",
    "        if self.index == self.data:\n",
    "            raise StopIteration()\n",
    "\n",
    "        self.index += 1\n",
    "        return self.index"
   ],
   "id": "182e6e8c5bc46fe1",
   "outputs": [],
   "execution_count": 100
  },
  {
   "metadata": {
    "ExecuteTime": {
     "end_time": "2025-04-10T16:52:48.128028Z",
     "start_time": "2025-04-10T16:52:48.123914Z"
    }
   },
   "cell_type": "code",
   "source": [
    "obj = MyIterator(5)\n",
    "for x in obj:\n",
    "    print(x)"
   ],
   "id": "2dc7fc675b6a7c07",
   "outputs": [
    {
     "name": "stdout",
     "output_type": "stream",
     "text": [
      "1\n",
      "2\n",
      "3\n",
      "4\n",
      "5\n"
     ]
    }
   ],
   "execution_count": 101
  },
  {
   "metadata": {
    "ExecuteTime": {
     "end_time": "2025-04-10T16:52:48.159588Z",
     "start_time": "2025-04-10T16:52:48.150727Z"
    }
   },
   "cell_type": "code",
   "source": [
    "import math\n",
    "import random\n",
    "import numpy as np\n",
    "\n",
    "class DataLoader:\n",
    "    def __init__(self, dataset, batch_size, shuffle=True):\n",
    "        self.dataset = dataset\n",
    "        self.batch_size = batch_size\n",
    "        self.shuffle = shuffle\n",
    "        self.data_size = len(dataset)\n",
    "        self.max_iter = math.ceil(self.data_size / self.batch_size)\n",
    "\n",
    "        self.reset()\n",
    "\n",
    "    def reset(self):\n",
    "        self.iteration = 0\n",
    "        if self.shuffle:\n",
    "            self.index = np.random.permutation(len(self.dataset))\n",
    "        else:\n",
    "            self.index = np.arange(len(self.dataset))\n",
    "\n",
    "    def __iter__(self):\n",
    "        return self\n",
    "\n",
    "    def __next__(self):\n",
    "        if self.iteration >= self.max_iter:\n",
    "            self.reset()\n",
    "            raise StopIteration\n",
    "\n",
    "        i, batch_size = self.iteration, self.batch_size\n",
    "        batch_index = self.index[i * batch_size:(i + 1) * batch_size]\n",
    "        batch = [self.dataset[i] for i in batch_index]\n",
    "        x = np.array([example[0] for example in batch])\n",
    "        y = np.array([example[1] for example in batch])\n",
    "\n",
    "        self.iteration += 1\n",
    "        return x, y\n",
    "\n",
    "    def next(self):\n",
    "        return self.__next__()"
   ],
   "id": "bd37fd92bb1b5c95",
   "outputs": [],
   "execution_count": 102
  },
  {
   "metadata": {
    "ExecuteTime": {
     "end_time": "2025-04-10T16:52:48.201210Z",
     "start_time": "2025-04-10T16:52:48.192277Z"
    }
   },
   "cell_type": "code",
   "source": [
    "from dezero.datasets import Spiral\n",
    "from dezero import DataLoader\n",
    "\n",
    "batch_size = 10\n",
    "max_epoch = 1\n",
    "\n",
    "train_set = Spiral(train=True)\n",
    "test_set = Spiral(train=False)\n",
    "train_loader = DataLoader(train_set, batch_size)\n",
    "test_loader = DataLoader(test_set, batch_size, shuffle=False)\n",
    "\n",
    "for epoch in range(max_epoch):\n",
    "    for x, t in train_loader:\n",
    "        print(x.shape, t.shape)\n",
    "        break\n",
    "    for x, t in test_loader:\n",
    "        print(x.shape, t.shape)\n",
    "        break\n",
    "\n",
    "\n"
   ],
   "id": "962d8574b70f1654",
   "outputs": [
    {
     "name": "stdout",
     "output_type": "stream",
     "text": [
      "(10, 2) (10,)\n",
      "(10, 2) (10,)\n"
     ]
    }
   ],
   "execution_count": 103
  },
  {
   "metadata": {
    "ExecuteTime": {
     "end_time": "2025-04-10T16:52:48.249089Z",
     "start_time": "2025-04-10T16:52:48.244098Z"
    }
   },
   "cell_type": "code",
   "source": [
    "def accuracy(y, t):\n",
    "    y, t = as_variable(y), as_variable(t)\n",
    "\n",
    "    pred = y.data.argmax(axis=1).reshape(t.shape)\n",
    "    result = (pred == t.data)\n",
    "    acc = result.mean()\n",
    "    return Variable(as_array(acc))"
   ],
   "id": "3dca2cdf87dff936",
   "outputs": [],
   "execution_count": 104
  },
  {
   "metadata": {
    "ExecuteTime": {
     "end_time": "2025-04-10T16:52:48.281174Z",
     "start_time": "2025-04-10T16:52:48.276156Z"
    }
   },
   "cell_type": "code",
   "source": [
    "import numpy as np\n",
    "import dezero.functions as F\n",
    "\n",
    "y = np.array([[0.2, 0.8, 0], [0.1, 0.9, 0], [0.8, 0.1, 0.1]])\n",
    "t = np.array([1, 2, 0])\n",
    "acc = F.accuracy(y, t)\n",
    "print(acc)"
   ],
   "id": "9c2b22081a843a16",
   "outputs": [
    {
     "name": "stdout",
     "output_type": "stream",
     "text": [
      "variable(0.6666666666666666)\n"
     ]
    }
   ],
   "execution_count": 105
  },
  {
   "metadata": {
    "ExecuteTime": {
     "end_time": "2025-04-10T16:52:50.070217Z",
     "start_time": "2025-04-10T16:52:48.307819Z"
    }
   },
   "cell_type": "code",
   "source": [
    "import matplotlib.pyplot as plt\n",
    "\n",
    "\n",
    "max_epoch = 300\n",
    "batch_size = 30\n",
    "hidden_size = 10\n",
    "lr = 1.0\n",
    "\n",
    "train_set = Spiral(train=True)\n",
    "test_set = Spiral(train=False)\n",
    "train_loader = DataLoader(train_set, batch_size)\n",
    "test_loader = DataLoader(test_set, batch_size, shuffle=False)\n",
    "\n",
    "model = MLP((hidden_size, 3))\n",
    "optimizer = optimizers.SGD(lr).setup(model)\n",
    "\n",
    "for epoch in range(max_epoch):\n",
    "    sum_loss, sum_acc = 0, 0\n",
    "\n",
    "    for x, t in train_loader:\n",
    "        y = model(x)\n",
    "        loss = F.softmax_cross_entropy(y, t)\n",
    "        acc = F.accuracy(y, t)\n",
    "\n",
    "        model.cleargrads()\n",
    "        loss.backward()\n",
    "        optimizer.update()\n",
    "\n",
    "        sum_loss += float(loss.data) * len(t)\n",
    "        sum_acc += float(acc.data) * len(t)\n",
    "\n",
    "    print('epoch :{}'.format(epoch+1))\n",
    "    print('train loss: {:.4f}, acc: {:.4f}'.format(sum_loss / len(train_set), sum_acc / len(train_set)))\n",
    "\n",
    "    sum_loss, sum_acc = 0, 0\n",
    "    with dezero.no_grad():\n",
    "        for x, t in test_loader:\n",
    "            y = model(x)\n",
    "            loss = F.softmax_cross_entropy(y, t)\n",
    "            acc = F.accuracy(y, t)\n",
    "\n",
    "            sum_loss += float(loss.data) * len(t)\n",
    "            sum_acc += float(acc.data) * len(t)\n",
    "    print('test loss: {:.4f}, acc: {:.4f}'.format(sum_loss / len(test_set), sum_acc / len(test_set)))"
   ],
   "id": "f22ba93fefef8b8",
   "outputs": [
    {
     "name": "stdout",
     "output_type": "stream",
     "text": [
      "epoch :1\n",
      "train loss: 1.0944, acc: 0.4033\n",
      "test loss: 1.0468, acc: 0.3267\n",
      "epoch :2\n",
      "train loss: 0.9882, acc: 0.4933\n",
      "test loss: 0.9729, acc: 0.4333\n",
      "epoch :3\n",
      "train loss: 0.9403, acc: 0.5133\n",
      "test loss: 0.8965, acc: 0.6233\n",
      "epoch :4\n",
      "train loss: 0.8820, acc: 0.5700\n",
      "test loss: 0.8771, acc: 0.5967\n",
      "epoch :5\n",
      "train loss: 0.8617, acc: 0.5600\n",
      "test loss: 0.8670, acc: 0.5867\n",
      "epoch :6\n",
      "train loss: 0.8313, acc: 0.5300\n",
      "test loss: 0.8654, acc: 0.6000\n",
      "epoch :7\n",
      "train loss: 0.8086, acc: 0.5833\n",
      "test loss: 0.7950, acc: 0.5600\n",
      "epoch :8\n",
      "train loss: 0.7948, acc: 0.5733\n",
      "test loss: 0.7921, acc: 0.5900\n",
      "epoch :9\n",
      "train loss: 0.7728, acc: 0.5500\n",
      "test loss: 0.7718, acc: 0.5300\n",
      "epoch :10\n",
      "train loss: 0.7643, acc: 0.5633\n",
      "test loss: 0.7796, acc: 0.5800\n",
      "epoch :11\n",
      "train loss: 0.7862, acc: 0.5600\n",
      "test loss: 0.7701, acc: 0.5633\n",
      "epoch :12\n",
      "train loss: 0.7914, acc: 0.5500\n",
      "test loss: 0.8218, acc: 0.6067\n",
      "epoch :13\n",
      "train loss: 0.7633, acc: 0.5567\n",
      "test loss: 0.7757, acc: 0.5800\n",
      "epoch :14\n",
      "train loss: 0.7612, acc: 0.5833\n",
      "test loss: 0.7800, acc: 0.5667\n",
      "epoch :15\n",
      "train loss: 0.7408, acc: 0.5667\n",
      "test loss: 0.7654, acc: 0.5867\n",
      "epoch :16\n",
      "train loss: 0.7453, acc: 0.5733\n",
      "test loss: 0.7648, acc: 0.6033\n",
      "epoch :17\n",
      "train loss: 0.7843, acc: 0.5667\n",
      "test loss: 0.7415, acc: 0.5267\n",
      "epoch :18\n",
      "train loss: 0.7592, acc: 0.5633\n",
      "test loss: 0.7388, acc: 0.5267\n",
      "epoch :19\n",
      "train loss: 0.7396, acc: 0.5567\n",
      "test loss: 0.7791, acc: 0.5667\n",
      "epoch :20\n",
      "train loss: 0.7376, acc: 0.5533\n",
      "test loss: 0.7478, acc: 0.5200\n",
      "epoch :21\n",
      "train loss: 0.7469, acc: 0.5600\n",
      "test loss: 0.7617, acc: 0.6100\n",
      "epoch :22\n",
      "train loss: 0.7349, acc: 0.5667\n",
      "test loss: 0.7476, acc: 0.5967\n",
      "epoch :23\n",
      "train loss: 0.7650, acc: 0.5600\n",
      "test loss: 0.7336, acc: 0.5433\n",
      "epoch :24\n",
      "train loss: 0.7495, acc: 0.5667\n",
      "test loss: 0.7366, acc: 0.5500\n",
      "epoch :25\n",
      "train loss: 0.7414, acc: 0.5700\n",
      "test loss: 0.7516, acc: 0.6133\n",
      "epoch :26\n",
      "train loss: 0.7298, acc: 0.5900\n",
      "test loss: 0.7327, acc: 0.5533\n",
      "epoch :27\n",
      "train loss: 0.7297, acc: 0.5700\n",
      "test loss: 0.7356, acc: 0.5933\n",
      "epoch :28\n",
      "train loss: 0.7267, acc: 0.5900\n",
      "test loss: 0.7240, acc: 0.5233\n",
      "epoch :29\n",
      "train loss: 0.7359, acc: 0.5800\n",
      "test loss: 0.7203, acc: 0.5533\n",
      "epoch :30\n",
      "train loss: 0.7273, acc: 0.5600\n",
      "test loss: 0.7382, acc: 0.5433\n",
      "epoch :31\n",
      "train loss: 0.7338, acc: 0.5867\n",
      "test loss: 0.7492, acc: 0.5933\n",
      "epoch :32\n",
      "train loss: 0.7092, acc: 0.5900\n",
      "test loss: 0.7241, acc: 0.5500\n",
      "epoch :33\n",
      "train loss: 0.6970, acc: 0.5767\n",
      "test loss: 0.7483, acc: 0.6167\n",
      "epoch :34\n",
      "train loss: 0.7048, acc: 0.5967\n",
      "test loss: 0.7170, acc: 0.5433\n",
      "epoch :35\n",
      "train loss: 0.7069, acc: 0.5967\n",
      "test loss: 0.7164, acc: 0.5467\n",
      "epoch :36\n",
      "train loss: 0.7199, acc: 0.5800\n",
      "test loss: 0.7318, acc: 0.6133\n",
      "epoch :37\n",
      "train loss: 0.7035, acc: 0.6167\n",
      "test loss: 0.7266, acc: 0.5900\n",
      "epoch :38\n",
      "train loss: 0.6992, acc: 0.5767\n",
      "test loss: 0.7419, acc: 0.6000\n",
      "epoch :39\n",
      "train loss: 0.7103, acc: 0.6000\n",
      "test loss: 0.7077, acc: 0.5333\n",
      "epoch :40\n",
      "train loss: 0.7064, acc: 0.5733\n",
      "test loss: 0.7335, acc: 0.5900\n",
      "epoch :41\n",
      "train loss: 0.7022, acc: 0.5767\n",
      "test loss: 0.7087, acc: 0.6100\n",
      "epoch :42\n",
      "train loss: 0.7047, acc: 0.6000\n",
      "test loss: 0.6951, acc: 0.5800\n",
      "epoch :43\n",
      "train loss: 0.7071, acc: 0.6000\n",
      "test loss: 0.7009, acc: 0.6133\n",
      "epoch :44\n",
      "train loss: 0.7041, acc: 0.6033\n",
      "test loss: 0.6914, acc: 0.5833\n",
      "epoch :45\n",
      "train loss: 0.6854, acc: 0.5767\n",
      "test loss: 0.7122, acc: 0.6100\n",
      "epoch :46\n",
      "train loss: 0.6771, acc: 0.6067\n",
      "test loss: 0.6874, acc: 0.5600\n",
      "epoch :47\n",
      "train loss: 0.6781, acc: 0.5900\n",
      "test loss: 0.6995, acc: 0.6467\n",
      "epoch :48\n",
      "train loss: 0.6875, acc: 0.5933\n",
      "test loss: 0.7021, acc: 0.6300\n",
      "epoch :49\n",
      "train loss: 0.6641, acc: 0.6000\n",
      "test loss: 0.6897, acc: 0.6000\n",
      "epoch :50\n",
      "train loss: 0.6683, acc: 0.6200\n",
      "test loss: 0.6850, acc: 0.5867\n",
      "epoch :51\n",
      "train loss: 0.6554, acc: 0.6033\n",
      "test loss: 0.6698, acc: 0.6367\n",
      "epoch :52\n",
      "train loss: 0.6528, acc: 0.6200\n",
      "test loss: 0.6789, acc: 0.5800\n",
      "epoch :53\n",
      "train loss: 0.6500, acc: 0.6467\n",
      "test loss: 0.6691, acc: 0.6467\n",
      "epoch :54\n",
      "train loss: 0.6449, acc: 0.6267\n",
      "test loss: 0.6562, acc: 0.6633\n",
      "epoch :55\n",
      "train loss: 0.6549, acc: 0.6500\n",
      "test loss: 0.6892, acc: 0.6467\n",
      "epoch :56\n",
      "train loss: 0.6504, acc: 0.6400\n",
      "test loss: 0.6421, acc: 0.6167\n",
      "epoch :57\n",
      "train loss: 0.6396, acc: 0.6667\n",
      "test loss: 0.6451, acc: 0.6167\n",
      "epoch :58\n",
      "train loss: 0.6251, acc: 0.6733\n",
      "test loss: 0.6415, acc: 0.6200\n",
      "epoch :59\n",
      "train loss: 0.6150, acc: 0.6433\n",
      "test loss: 0.6285, acc: 0.6267\n",
      "epoch :60\n",
      "train loss: 0.6122, acc: 0.6633\n",
      "test loss: 0.6169, acc: 0.6400\n",
      "epoch :61\n",
      "train loss: 0.5987, acc: 0.6767\n",
      "test loss: 0.6183, acc: 0.6167\n",
      "epoch :62\n",
      "train loss: 0.5920, acc: 0.6667\n",
      "test loss: 0.6076, acc: 0.6967\n",
      "epoch :63\n",
      "train loss: 0.5914, acc: 0.6700\n",
      "test loss: 0.6020, acc: 0.6300\n",
      "epoch :64\n",
      "train loss: 0.5911, acc: 0.6867\n",
      "test loss: 0.5981, acc: 0.6533\n",
      "epoch :65\n",
      "train loss: 0.5626, acc: 0.7000\n",
      "test loss: 0.6124, acc: 0.7100\n",
      "epoch :66\n",
      "train loss: 0.5707, acc: 0.7067\n",
      "test loss: 0.5760, acc: 0.6567\n",
      "epoch :67\n",
      "train loss: 0.5574, acc: 0.6900\n",
      "test loss: 0.5834, acc: 0.6967\n",
      "epoch :68\n",
      "train loss: 0.5560, acc: 0.7133\n",
      "test loss: 0.5589, acc: 0.6933\n",
      "epoch :69\n",
      "train loss: 0.5355, acc: 0.7267\n",
      "test loss: 0.5530, acc: 0.6967\n",
      "epoch :70\n",
      "train loss: 0.5303, acc: 0.7300\n",
      "test loss: 0.5380, acc: 0.7267\n",
      "epoch :71\n",
      "train loss: 0.5207, acc: 0.7167\n",
      "test loss: 0.5315, acc: 0.7367\n",
      "epoch :72\n",
      "train loss: 0.5094, acc: 0.7533\n",
      "test loss: 0.5340, acc: 0.7367\n",
      "epoch :73\n",
      "train loss: 0.5110, acc: 0.7400\n",
      "test loss: 0.5127, acc: 0.7433\n",
      "epoch :74\n",
      "train loss: 0.4921, acc: 0.7500\n",
      "test loss: 0.5051, acc: 0.7400\n",
      "epoch :75\n",
      "train loss: 0.4882, acc: 0.7700\n",
      "test loss: 0.5268, acc: 0.7467\n",
      "epoch :76\n",
      "train loss: 0.4859, acc: 0.7533\n",
      "test loss: 0.4997, acc: 0.7400\n",
      "epoch :77\n",
      "train loss: 0.4701, acc: 0.7767\n",
      "test loss: 0.4814, acc: 0.7800\n",
      "epoch :78\n",
      "train loss: 0.4574, acc: 0.7733\n",
      "test loss: 0.4736, acc: 0.7700\n",
      "epoch :79\n",
      "train loss: 0.4547, acc: 0.7533\n",
      "test loss: 0.4665, acc: 0.7900\n",
      "epoch :80\n",
      "train loss: 0.4533, acc: 0.7667\n",
      "test loss: 0.4601, acc: 0.7900\n",
      "epoch :81\n",
      "train loss: 0.4431, acc: 0.7967\n",
      "test loss: 0.4496, acc: 0.7900\n",
      "epoch :82\n",
      "train loss: 0.4309, acc: 0.8167\n",
      "test loss: 0.4421, acc: 0.7867\n",
      "epoch :83\n",
      "train loss: 0.4282, acc: 0.8167\n",
      "test loss: 0.4431, acc: 0.7833\n",
      "epoch :84\n",
      "train loss: 0.4132, acc: 0.8167\n",
      "test loss: 0.4353, acc: 0.8200\n",
      "epoch :85\n",
      "train loss: 0.4132, acc: 0.8167\n",
      "test loss: 0.4260, acc: 0.8367\n",
      "epoch :86\n",
      "train loss: 0.4047, acc: 0.8167\n",
      "test loss: 0.4248, acc: 0.8400\n",
      "epoch :87\n",
      "train loss: 0.3968, acc: 0.8367\n",
      "test loss: 0.4031, acc: 0.8333\n",
      "epoch :88\n",
      "train loss: 0.3942, acc: 0.8267\n",
      "test loss: 0.4091, acc: 0.8333\n",
      "epoch :89\n",
      "train loss: 0.3746, acc: 0.8333\n",
      "test loss: 0.3962, acc: 0.8100\n",
      "epoch :90\n",
      "train loss: 0.3772, acc: 0.8333\n",
      "test loss: 0.3831, acc: 0.8300\n",
      "epoch :91\n",
      "train loss: 0.3669, acc: 0.8467\n",
      "test loss: 0.3844, acc: 0.8433\n",
      "epoch :92\n",
      "train loss: 0.3554, acc: 0.8600\n",
      "test loss: 0.3752, acc: 0.8567\n",
      "epoch :93\n",
      "train loss: 0.3491, acc: 0.8700\n",
      "test loss: 0.3720, acc: 0.8400\n",
      "epoch :94\n",
      "train loss: 0.3440, acc: 0.8533\n",
      "test loss: 0.3595, acc: 0.8600\n",
      "epoch :95\n",
      "train loss: 0.3408, acc: 0.8633\n",
      "test loss: 0.3533, acc: 0.8700\n",
      "epoch :96\n",
      "train loss: 0.3336, acc: 0.8600\n",
      "test loss: 0.3515, acc: 0.8800\n",
      "epoch :97\n",
      "train loss: 0.3295, acc: 0.8700\n",
      "test loss: 0.3437, acc: 0.8933\n",
      "epoch :98\n",
      "train loss: 0.3208, acc: 0.9133\n",
      "test loss: 0.3433, acc: 0.8533\n",
      "epoch :99\n",
      "train loss: 0.3212, acc: 0.8667\n",
      "test loss: 0.3302, acc: 0.8633\n",
      "epoch :100\n",
      "train loss: 0.3146, acc: 0.8700\n",
      "test loss: 0.3248, acc: 0.8600\n",
      "epoch :101\n",
      "train loss: 0.3090, acc: 0.8633\n",
      "test loss: 0.3268, acc: 0.8833\n",
      "epoch :102\n",
      "train loss: 0.3024, acc: 0.8933\n",
      "test loss: 0.3195, acc: 0.8533\n",
      "epoch :103\n",
      "train loss: 0.3009, acc: 0.8933\n",
      "test loss: 0.3122, acc: 0.8900\n",
      "epoch :104\n",
      "train loss: 0.2930, acc: 0.9067\n",
      "test loss: 0.3087, acc: 0.8633\n",
      "epoch :105\n",
      "train loss: 0.2881, acc: 0.9067\n",
      "test loss: 0.3111, acc: 0.8567\n",
      "epoch :106\n",
      "train loss: 0.2785, acc: 0.9167\n",
      "test loss: 0.3026, acc: 0.8867\n",
      "epoch :107\n",
      "train loss: 0.2786, acc: 0.8933\n",
      "test loss: 0.2952, acc: 0.8833\n",
      "epoch :108\n",
      "train loss: 0.2756, acc: 0.9100\n",
      "test loss: 0.2912, acc: 0.8800\n",
      "epoch :109\n",
      "train loss: 0.2744, acc: 0.9200\n",
      "test loss: 0.2965, acc: 0.8667\n",
      "epoch :110\n",
      "train loss: 0.2705, acc: 0.9267\n",
      "test loss: 0.2856, acc: 0.8933\n",
      "epoch :111\n",
      "train loss: 0.2645, acc: 0.9067\n",
      "test loss: 0.2814, acc: 0.8867\n",
      "epoch :112\n",
      "train loss: 0.2624, acc: 0.9100\n",
      "test loss: 0.2835, acc: 0.8700\n",
      "epoch :113\n",
      "train loss: 0.2608, acc: 0.9067\n",
      "test loss: 0.2752, acc: 0.8933\n",
      "epoch :114\n",
      "train loss: 0.2524, acc: 0.9167\n",
      "test loss: 0.2740, acc: 0.9033\n",
      "epoch :115\n",
      "train loss: 0.2484, acc: 0.9167\n",
      "test loss: 0.2688, acc: 0.8967\n",
      "epoch :116\n",
      "train loss: 0.2480, acc: 0.9200\n",
      "test loss: 0.2768, acc: 0.8600\n",
      "epoch :117\n",
      "train loss: 0.2445, acc: 0.9133\n",
      "test loss: 0.2635, acc: 0.9067\n",
      "epoch :118\n",
      "train loss: 0.2444, acc: 0.9267\n",
      "test loss: 0.2593, acc: 0.8967\n",
      "epoch :119\n",
      "train loss: 0.2379, acc: 0.9267\n",
      "test loss: 0.2576, acc: 0.8867\n",
      "epoch :120\n",
      "train loss: 0.2361, acc: 0.9200\n",
      "test loss: 0.2573, acc: 0.9200\n",
      "epoch :121\n",
      "train loss: 0.2372, acc: 0.9333\n",
      "test loss: 0.2534, acc: 0.9067\n",
      "epoch :122\n",
      "train loss: 0.2305, acc: 0.9333\n",
      "test loss: 0.2511, acc: 0.8867\n",
      "epoch :123\n",
      "train loss: 0.2277, acc: 0.9367\n",
      "test loss: 0.2531, acc: 0.9000\n",
      "epoch :124\n",
      "train loss: 0.2318, acc: 0.9233\n",
      "test loss: 0.2456, acc: 0.9067\n",
      "epoch :125\n",
      "train loss: 0.2248, acc: 0.9400\n",
      "test loss: 0.2454, acc: 0.9133\n",
      "epoch :126\n",
      "train loss: 0.2229, acc: 0.9433\n",
      "test loss: 0.2427, acc: 0.9033\n",
      "epoch :127\n",
      "train loss: 0.2264, acc: 0.9167\n",
      "test loss: 0.2433, acc: 0.9000\n",
      "epoch :128\n",
      "train loss: 0.2152, acc: 0.9333\n",
      "test loss: 0.2373, acc: 0.9133\n",
      "epoch :129\n",
      "train loss: 0.2176, acc: 0.9367\n",
      "test loss: 0.2402, acc: 0.8967\n",
      "epoch :130\n",
      "train loss: 0.2149, acc: 0.9200\n",
      "test loss: 0.2332, acc: 0.9033\n",
      "epoch :131\n",
      "train loss: 0.2136, acc: 0.9333\n",
      "test loss: 0.2377, acc: 0.8933\n",
      "epoch :132\n",
      "train loss: 0.2143, acc: 0.9200\n",
      "test loss: 0.2304, acc: 0.9167\n",
      "epoch :133\n",
      "train loss: 0.2141, acc: 0.9267\n",
      "test loss: 0.2449, acc: 0.8833\n",
      "epoch :134\n",
      "train loss: 0.2088, acc: 0.9133\n",
      "test loss: 0.2362, acc: 0.8900\n",
      "epoch :135\n",
      "train loss: 0.2046, acc: 0.9333\n",
      "test loss: 0.2278, acc: 0.9133\n",
      "epoch :136\n",
      "train loss: 0.2021, acc: 0.9333\n",
      "test loss: 0.2275, acc: 0.9200\n",
      "epoch :137\n",
      "train loss: 0.2046, acc: 0.9333\n",
      "test loss: 0.2236, acc: 0.9167\n",
      "epoch :138\n",
      "train loss: 0.1991, acc: 0.9267\n",
      "test loss: 0.2207, acc: 0.9233\n",
      "epoch :139\n",
      "train loss: 0.1960, acc: 0.9433\n",
      "test loss: 0.2216, acc: 0.9267\n",
      "epoch :140\n",
      "train loss: 0.1981, acc: 0.9333\n",
      "test loss: 0.2178, acc: 0.9233\n",
      "epoch :141\n",
      "train loss: 0.1945, acc: 0.9367\n",
      "test loss: 0.2194, acc: 0.9200\n",
      "epoch :142\n",
      "train loss: 0.1969, acc: 0.9233\n",
      "test loss: 0.2158, acc: 0.9233\n",
      "epoch :143\n",
      "train loss: 0.1942, acc: 0.9333\n",
      "test loss: 0.2127, acc: 0.9167\n",
      "epoch :144\n",
      "train loss: 0.1886, acc: 0.9433\n",
      "test loss: 0.2288, acc: 0.8933\n",
      "epoch :145\n",
      "train loss: 0.1966, acc: 0.9133\n",
      "test loss: 0.2103, acc: 0.9167\n",
      "epoch :146\n",
      "train loss: 0.1899, acc: 0.9300\n",
      "test loss: 0.2124, acc: 0.9100\n",
      "epoch :147\n",
      "train loss: 0.1890, acc: 0.9400\n",
      "test loss: 0.2104, acc: 0.9200\n",
      "epoch :148\n",
      "train loss: 0.1865, acc: 0.9333\n",
      "test loss: 0.2080, acc: 0.9267\n",
      "epoch :149\n",
      "train loss: 0.1825, acc: 0.9367\n",
      "test loss: 0.2285, acc: 0.8967\n",
      "epoch :150\n",
      "train loss: 0.1890, acc: 0.9233\n",
      "test loss: 0.2152, acc: 0.9067\n",
      "epoch :151\n",
      "train loss: 0.1828, acc: 0.9400\n",
      "test loss: 0.2042, acc: 0.9300\n",
      "epoch :152\n",
      "train loss: 0.1807, acc: 0.9467\n",
      "test loss: 0.2136, acc: 0.9067\n",
      "epoch :153\n",
      "train loss: 0.1795, acc: 0.9333\n",
      "test loss: 0.2076, acc: 0.9033\n",
      "epoch :154\n",
      "train loss: 0.1797, acc: 0.9300\n",
      "test loss: 0.2052, acc: 0.9200\n",
      "epoch :155\n",
      "train loss: 0.1816, acc: 0.9400\n",
      "test loss: 0.2015, acc: 0.9233\n",
      "epoch :156\n",
      "train loss: 0.1791, acc: 0.9300\n",
      "test loss: 0.2012, acc: 0.9333\n",
      "epoch :157\n",
      "train loss: 0.1791, acc: 0.9367\n",
      "test loss: 0.1978, acc: 0.9267\n",
      "epoch :158\n",
      "train loss: 0.1751, acc: 0.9400\n",
      "test loss: 0.2046, acc: 0.9033\n",
      "epoch :159\n",
      "train loss: 0.1719, acc: 0.9433\n",
      "test loss: 0.2039, acc: 0.9067\n",
      "epoch :160\n",
      "train loss: 0.1730, acc: 0.9433\n",
      "test loss: 0.1963, acc: 0.9300\n",
      "epoch :161\n",
      "train loss: 0.1690, acc: 0.9467\n",
      "test loss: 0.1973, acc: 0.9267\n",
      "epoch :162\n",
      "train loss: 0.1676, acc: 0.9567\n",
      "test loss: 0.1951, acc: 0.9400\n",
      "epoch :163\n",
      "train loss: 0.1734, acc: 0.9433\n",
      "test loss: 0.1941, acc: 0.9300\n",
      "epoch :164\n",
      "train loss: 0.1725, acc: 0.9233\n",
      "test loss: 0.1922, acc: 0.9367\n",
      "epoch :165\n",
      "train loss: 0.1665, acc: 0.9433\n",
      "test loss: 0.1951, acc: 0.9233\n",
      "epoch :166\n",
      "train loss: 0.1698, acc: 0.9433\n",
      "test loss: 0.1907, acc: 0.9333\n",
      "epoch :167\n",
      "train loss: 0.1737, acc: 0.9300\n",
      "test loss: 0.1923, acc: 0.9300\n",
      "epoch :168\n",
      "train loss: 0.1661, acc: 0.9367\n",
      "test loss: 0.1944, acc: 0.9300\n",
      "epoch :169\n",
      "train loss: 0.1635, acc: 0.9567\n",
      "test loss: 0.1894, acc: 0.9233\n",
      "epoch :170\n",
      "train loss: 0.1688, acc: 0.9400\n",
      "test loss: 0.1878, acc: 0.9300\n",
      "epoch :171\n",
      "train loss: 0.1675, acc: 0.9300\n",
      "test loss: 0.1899, acc: 0.9367\n",
      "epoch :172\n",
      "train loss: 0.1602, acc: 0.9500\n",
      "test loss: 0.1859, acc: 0.9400\n",
      "epoch :173\n",
      "train loss: 0.1644, acc: 0.9433\n",
      "test loss: 0.1901, acc: 0.9267\n",
      "epoch :174\n",
      "train loss: 0.1597, acc: 0.9500\n",
      "test loss: 0.1878, acc: 0.9267\n",
      "epoch :175\n",
      "train loss: 0.1599, acc: 0.9400\n",
      "test loss: 0.1840, acc: 0.9367\n",
      "epoch :176\n",
      "train loss: 0.1612, acc: 0.9533\n",
      "test loss: 0.1909, acc: 0.9200\n",
      "epoch :177\n",
      "train loss: 0.1582, acc: 0.9500\n",
      "test loss: 0.1829, acc: 0.9433\n",
      "epoch :178\n",
      "train loss: 0.1599, acc: 0.9433\n",
      "test loss: 0.1847, acc: 0.9333\n",
      "epoch :179\n",
      "train loss: 0.1541, acc: 0.9400\n",
      "test loss: 0.1892, acc: 0.9267\n",
      "epoch :180\n",
      "train loss: 0.1539, acc: 0.9500\n",
      "test loss: 0.1814, acc: 0.9367\n",
      "epoch :181\n",
      "train loss: 0.1572, acc: 0.9400\n",
      "test loss: 0.1960, acc: 0.9333\n",
      "epoch :182\n",
      "train loss: 0.1612, acc: 0.9400\n",
      "test loss: 0.1824, acc: 0.9367\n",
      "epoch :183\n",
      "train loss: 0.1533, acc: 0.9533\n",
      "test loss: 0.1836, acc: 0.9233\n",
      "epoch :184\n",
      "train loss: 0.1526, acc: 0.9533\n",
      "test loss: 0.1787, acc: 0.9433\n",
      "epoch :185\n",
      "train loss: 0.1530, acc: 0.9533\n",
      "test loss: 0.1892, acc: 0.9100\n",
      "epoch :186\n",
      "train loss: 0.1558, acc: 0.9433\n",
      "test loss: 0.1840, acc: 0.9267\n",
      "epoch :187\n",
      "train loss: 0.1559, acc: 0.9400\n",
      "test loss: 0.1775, acc: 0.9367\n",
      "epoch :188\n",
      "train loss: 0.1513, acc: 0.9500\n",
      "test loss: 0.1775, acc: 0.9367\n",
      "epoch :189\n",
      "train loss: 0.1491, acc: 0.9533\n",
      "test loss: 0.1850, acc: 0.9267\n",
      "epoch :190\n",
      "train loss: 0.1488, acc: 0.9500\n",
      "test loss: 0.1790, acc: 0.9333\n",
      "epoch :191\n",
      "train loss: 0.1499, acc: 0.9467\n",
      "test loss: 0.1755, acc: 0.9400\n",
      "epoch :192\n",
      "train loss: 0.1469, acc: 0.9433\n",
      "test loss: 0.1788, acc: 0.9267\n",
      "epoch :193\n",
      "train loss: 0.1528, acc: 0.9433\n",
      "test loss: 0.1769, acc: 0.9367\n",
      "epoch :194\n",
      "train loss: 0.1482, acc: 0.9433\n",
      "test loss: 0.1737, acc: 0.9467\n",
      "epoch :195\n",
      "train loss: 0.1425, acc: 0.9533\n",
      "test loss: 0.1770, acc: 0.9333\n",
      "epoch :196\n",
      "train loss: 0.1493, acc: 0.9433\n",
      "test loss: 0.1757, acc: 0.9300\n",
      "epoch :197\n",
      "train loss: 0.1436, acc: 0.9467\n",
      "test loss: 0.1752, acc: 0.9300\n",
      "epoch :198\n",
      "train loss: 0.1449, acc: 0.9433\n",
      "test loss: 0.1721, acc: 0.9433\n",
      "epoch :199\n",
      "train loss: 0.1456, acc: 0.9467\n",
      "test loss: 0.1734, acc: 0.9300\n",
      "epoch :200\n",
      "train loss: 0.1447, acc: 0.9500\n",
      "test loss: 0.1710, acc: 0.9433\n",
      "epoch :201\n",
      "train loss: 0.1426, acc: 0.9500\n",
      "test loss: 0.1707, acc: 0.9433\n",
      "epoch :202\n",
      "train loss: 0.1406, acc: 0.9600\n",
      "test loss: 0.1733, acc: 0.9400\n",
      "epoch :203\n",
      "train loss: 0.1388, acc: 0.9667\n",
      "test loss: 0.1760, acc: 0.9333\n",
      "epoch :204\n",
      "train loss: 0.1427, acc: 0.9433\n",
      "test loss: 0.1696, acc: 0.9467\n",
      "epoch :205\n",
      "train loss: 0.1403, acc: 0.9567\n",
      "test loss: 0.1754, acc: 0.9433\n",
      "epoch :206\n",
      "train loss: 0.1436, acc: 0.9400\n",
      "test loss: 0.1698, acc: 0.9433\n",
      "epoch :207\n",
      "train loss: 0.1410, acc: 0.9567\n",
      "test loss: 0.1723, acc: 0.9333\n",
      "epoch :208\n",
      "train loss: 0.1418, acc: 0.9567\n",
      "test loss: 0.1685, acc: 0.9400\n",
      "epoch :209\n",
      "train loss: 0.1408, acc: 0.9467\n",
      "test loss: 0.1695, acc: 0.9367\n",
      "epoch :210\n",
      "train loss: 0.1382, acc: 0.9533\n",
      "test loss: 0.1676, acc: 0.9467\n",
      "epoch :211\n",
      "train loss: 0.1359, acc: 0.9633\n",
      "test loss: 0.1815, acc: 0.9367\n",
      "epoch :212\n",
      "train loss: 0.1377, acc: 0.9600\n",
      "test loss: 0.1677, acc: 0.9433\n",
      "epoch :213\n",
      "train loss: 0.1350, acc: 0.9467\n",
      "test loss: 0.1669, acc: 0.9467\n",
      "epoch :214\n",
      "train loss: 0.1340, acc: 0.9600\n",
      "test loss: 0.1727, acc: 0.9367\n",
      "epoch :215\n",
      "train loss: 0.1425, acc: 0.9567\n",
      "test loss: 0.1654, acc: 0.9467\n",
      "epoch :216\n",
      "train loss: 0.1404, acc: 0.9533\n",
      "test loss: 0.1685, acc: 0.9333\n",
      "epoch :217\n",
      "train loss: 0.1349, acc: 0.9567\n",
      "test loss: 0.1688, acc: 0.9367\n",
      "epoch :218\n",
      "train loss: 0.1410, acc: 0.9533\n",
      "test loss: 0.1678, acc: 0.9300\n",
      "epoch :219\n",
      "train loss: 0.1342, acc: 0.9533\n",
      "test loss: 0.1663, acc: 0.9400\n",
      "epoch :220\n",
      "train loss: 0.1361, acc: 0.9500\n",
      "test loss: 0.1649, acc: 0.9433\n",
      "epoch :221\n",
      "train loss: 0.1361, acc: 0.9500\n",
      "test loss: 0.1632, acc: 0.9533\n",
      "epoch :222\n",
      "train loss: 0.1318, acc: 0.9633\n",
      "test loss: 0.1661, acc: 0.9433\n",
      "epoch :223\n",
      "train loss: 0.1345, acc: 0.9567\n",
      "test loss: 0.1629, acc: 0.9467\n",
      "epoch :224\n",
      "train loss: 0.1319, acc: 0.9600\n",
      "test loss: 0.1629, acc: 0.9533\n",
      "epoch :225\n",
      "train loss: 0.1334, acc: 0.9533\n",
      "test loss: 0.1620, acc: 0.9500\n",
      "epoch :226\n",
      "train loss: 0.1339, acc: 0.9633\n",
      "test loss: 0.1675, acc: 0.9367\n",
      "epoch :227\n",
      "train loss: 0.1364, acc: 0.9467\n",
      "test loss: 0.1613, acc: 0.9467\n",
      "epoch :228\n",
      "train loss: 0.1319, acc: 0.9533\n",
      "test loss: 0.1616, acc: 0.9467\n",
      "epoch :229\n",
      "train loss: 0.1301, acc: 0.9600\n",
      "test loss: 0.1640, acc: 0.9300\n",
      "epoch :230\n",
      "train loss: 0.1298, acc: 0.9467\n",
      "test loss: 0.1656, acc: 0.9333\n",
      "epoch :231\n",
      "train loss: 0.1289, acc: 0.9567\n",
      "test loss: 0.1633, acc: 0.9500\n",
      "epoch :232\n",
      "train loss: 0.1276, acc: 0.9600\n",
      "test loss: 0.1632, acc: 0.9433\n",
      "epoch :233\n",
      "train loss: 0.1269, acc: 0.9567\n",
      "test loss: 0.1675, acc: 0.9333\n",
      "epoch :234\n",
      "train loss: 0.1311, acc: 0.9600\n",
      "test loss: 0.1630, acc: 0.9433\n",
      "epoch :235\n",
      "train loss: 0.1335, acc: 0.9500\n",
      "test loss: 0.1602, acc: 0.9467\n",
      "epoch :236\n",
      "train loss: 0.1275, acc: 0.9633\n",
      "test loss: 0.1596, acc: 0.9500\n",
      "epoch :237\n",
      "train loss: 0.1227, acc: 0.9633\n",
      "test loss: 0.1619, acc: 0.9467\n",
      "epoch :238\n",
      "train loss: 0.1275, acc: 0.9600\n",
      "test loss: 0.1588, acc: 0.9433\n",
      "epoch :239\n",
      "train loss: 0.1270, acc: 0.9533\n",
      "test loss: 0.1657, acc: 0.9367\n",
      "epoch :240\n",
      "train loss: 0.1251, acc: 0.9500\n",
      "test loss: 0.1583, acc: 0.9433\n",
      "epoch :241\n",
      "train loss: 0.1273, acc: 0.9533\n",
      "test loss: 0.1589, acc: 0.9500\n",
      "epoch :242\n",
      "train loss: 0.1268, acc: 0.9567\n",
      "test loss: 0.1584, acc: 0.9500\n",
      "epoch :243\n",
      "train loss: 0.1242, acc: 0.9633\n",
      "test loss: 0.1580, acc: 0.9433\n",
      "epoch :244\n",
      "train loss: 0.1232, acc: 0.9633\n",
      "test loss: 0.1642, acc: 0.9433\n",
      "epoch :245\n",
      "train loss: 0.1247, acc: 0.9600\n",
      "test loss: 0.1562, acc: 0.9500\n",
      "epoch :246\n",
      "train loss: 0.1273, acc: 0.9567\n",
      "test loss: 0.1555, acc: 0.9500\n",
      "epoch :247\n",
      "train loss: 0.1305, acc: 0.9500\n",
      "test loss: 0.1552, acc: 0.9533\n",
      "epoch :248\n",
      "train loss: 0.1274, acc: 0.9500\n",
      "test loss: 0.1579, acc: 0.9467\n",
      "epoch :249\n",
      "train loss: 0.1282, acc: 0.9500\n",
      "test loss: 0.1589, acc: 0.9500\n",
      "epoch :250\n",
      "train loss: 0.1286, acc: 0.9600\n",
      "test loss: 0.1548, acc: 0.9533\n",
      "epoch :251\n",
      "train loss: 0.1251, acc: 0.9667\n",
      "test loss: 0.1566, acc: 0.9400\n",
      "epoch :252\n",
      "train loss: 0.1213, acc: 0.9533\n",
      "test loss: 0.1615, acc: 0.9167\n",
      "epoch :253\n",
      "train loss: 0.1232, acc: 0.9633\n",
      "test loss: 0.1588, acc: 0.9433\n",
      "epoch :254\n",
      "train loss: 0.1238, acc: 0.9567\n",
      "test loss: 0.1564, acc: 0.9400\n",
      "epoch :255\n",
      "train loss: 0.1212, acc: 0.9633\n",
      "test loss: 0.1571, acc: 0.9533\n",
      "epoch :256\n",
      "train loss: 0.1261, acc: 0.9600\n",
      "test loss: 0.1546, acc: 0.9433\n",
      "epoch :257\n",
      "train loss: 0.1238, acc: 0.9600\n",
      "test loss: 0.1575, acc: 0.9533\n",
      "epoch :258\n",
      "train loss: 0.1224, acc: 0.9633\n",
      "test loss: 0.1583, acc: 0.9333\n",
      "epoch :259\n",
      "train loss: 0.1239, acc: 0.9533\n",
      "test loss: 0.1534, acc: 0.9467\n",
      "epoch :260\n",
      "train loss: 0.1288, acc: 0.9567\n",
      "test loss: 0.1522, acc: 0.9500\n",
      "epoch :261\n",
      "train loss: 0.1245, acc: 0.9567\n",
      "test loss: 0.1530, acc: 0.9500\n",
      "epoch :262\n",
      "train loss: 0.1225, acc: 0.9600\n",
      "test loss: 0.1549, acc: 0.9433\n",
      "epoch :263\n",
      "train loss: 0.1193, acc: 0.9533\n",
      "test loss: 0.1523, acc: 0.9533\n",
      "epoch :264\n",
      "train loss: 0.1177, acc: 0.9633\n",
      "test loss: 0.1553, acc: 0.9433\n",
      "epoch :265\n",
      "train loss: 0.1140, acc: 0.9633\n",
      "test loss: 0.1566, acc: 0.9500\n",
      "epoch :266\n",
      "train loss: 0.1210, acc: 0.9500\n",
      "test loss: 0.1507, acc: 0.9533\n",
      "epoch :267\n",
      "train loss: 0.1224, acc: 0.9567\n",
      "test loss: 0.1511, acc: 0.9500\n",
      "epoch :268\n",
      "train loss: 0.1234, acc: 0.9500\n",
      "test loss: 0.1504, acc: 0.9533\n",
      "epoch :269\n",
      "train loss: 0.1163, acc: 0.9567\n",
      "test loss: 0.1511, acc: 0.9500\n",
      "epoch :270\n",
      "train loss: 0.1191, acc: 0.9567\n",
      "test loss: 0.1507, acc: 0.9533\n",
      "epoch :271\n",
      "train loss: 0.1187, acc: 0.9567\n",
      "test loss: 0.1543, acc: 0.9367\n",
      "epoch :272\n",
      "train loss: 0.1182, acc: 0.9633\n",
      "test loss: 0.1567, acc: 0.9267\n",
      "epoch :273\n",
      "train loss: 0.1137, acc: 0.9567\n",
      "test loss: 0.1490, acc: 0.9533\n",
      "epoch :274\n",
      "train loss: 0.1205, acc: 0.9467\n",
      "test loss: 0.1541, acc: 0.9400\n",
      "epoch :275\n",
      "train loss: 0.1159, acc: 0.9633\n",
      "test loss: 0.1508, acc: 0.9467\n",
      "epoch :276\n",
      "train loss: 0.1151, acc: 0.9633\n",
      "test loss: 0.1518, acc: 0.9533\n",
      "epoch :277\n",
      "train loss: 0.1166, acc: 0.9633\n",
      "test loss: 0.1578, acc: 0.9233\n",
      "epoch :278\n",
      "train loss: 0.1172, acc: 0.9667\n",
      "test loss: 0.1548, acc: 0.9400\n",
      "epoch :279\n",
      "train loss: 0.1134, acc: 0.9633\n",
      "test loss: 0.1499, acc: 0.9533\n",
      "epoch :280\n",
      "train loss: 0.1162, acc: 0.9533\n",
      "test loss: 0.1506, acc: 0.9500\n",
      "epoch :281\n",
      "train loss: 0.1189, acc: 0.9700\n",
      "test loss: 0.1478, acc: 0.9567\n",
      "epoch :282\n",
      "train loss: 0.1188, acc: 0.9600\n",
      "test loss: 0.1484, acc: 0.9533\n",
      "epoch :283\n",
      "train loss: 0.1142, acc: 0.9667\n",
      "test loss: 0.1524, acc: 0.9433\n",
      "epoch :284\n",
      "train loss: 0.1123, acc: 0.9700\n",
      "test loss: 0.1500, acc: 0.9433\n",
      "epoch :285\n",
      "train loss: 0.1192, acc: 0.9600\n",
      "test loss: 0.1508, acc: 0.9467\n",
      "epoch :286\n",
      "train loss: 0.1114, acc: 0.9600\n",
      "test loss: 0.1471, acc: 0.9533\n",
      "epoch :287\n",
      "train loss: 0.1109, acc: 0.9633\n",
      "test loss: 0.1481, acc: 0.9567\n",
      "epoch :288\n",
      "train loss: 0.1143, acc: 0.9533\n",
      "test loss: 0.1534, acc: 0.9467\n",
      "epoch :289\n",
      "train loss: 0.1126, acc: 0.9600\n",
      "test loss: 0.1486, acc: 0.9500\n",
      "epoch :290\n",
      "train loss: 0.1125, acc: 0.9733\n",
      "test loss: 0.1485, acc: 0.9533\n",
      "epoch :291\n",
      "train loss: 0.1136, acc: 0.9700\n",
      "test loss: 0.1472, acc: 0.9500\n",
      "epoch :292\n",
      "train loss: 0.1130, acc: 0.9600\n",
      "test loss: 0.1495, acc: 0.9433\n",
      "epoch :293\n",
      "train loss: 0.1118, acc: 0.9700\n",
      "test loss: 0.1456, acc: 0.9533\n",
      "epoch :294\n",
      "train loss: 0.1111, acc: 0.9600\n",
      "test loss: 0.1591, acc: 0.9367\n",
      "epoch :295\n",
      "train loss: 0.1170, acc: 0.9533\n",
      "test loss: 0.1451, acc: 0.9533\n",
      "epoch :296\n",
      "train loss: 0.1115, acc: 0.9567\n",
      "test loss: 0.1459, acc: 0.9567\n",
      "epoch :297\n",
      "train loss: 0.1096, acc: 0.9667\n",
      "test loss: 0.1464, acc: 0.9533\n",
      "epoch :298\n",
      "train loss: 0.1128, acc: 0.9500\n",
      "test loss: 0.1476, acc: 0.9533\n",
      "epoch :299\n",
      "train loss: 0.1090, acc: 0.9633\n",
      "test loss: 0.1471, acc: 0.9467\n",
      "epoch :300\n",
      "train loss: 0.1082, acc: 0.9667\n",
      "test loss: 0.1458, acc: 0.9600\n"
     ]
    }
   ],
   "execution_count": 106
  },
  {
   "metadata": {},
   "cell_type": "markdown",
   "source": "###",
   "id": "396e289bd042e491"
  },
  {
   "metadata": {},
   "cell_type": "markdown",
   "source": "### MNIST 학습",
   "id": "e98bd629804e82a8"
  },
  {
   "metadata": {
    "ExecuteTime": {
     "end_time": "2025-04-10T16:52:50.148208Z",
     "start_time": "2025-04-10T16:52:50.094977Z"
    }
   },
   "cell_type": "code",
   "source": [
    "import torch\n",
    "import torchvision.datasets as datasets\n",
    "import torchvision.transforms as transforms\n",
    "\n",
    "train_set = datasets.MNIST(root='./data', train=True, transform=transforms.ToTensor(), download=True)\n",
    "test_set = datasets.MNIST(root='./data', train=False, transform=transforms.ToTensor(), download=True)\n",
    "\n",
    "#\n",
    "print(len(train_set))\n",
    "print(len(test_set))"
   ],
   "id": "a59a985eeeb33efc",
   "outputs": [
    {
     "name": "stdout",
     "output_type": "stream",
     "text": [
      "60000\n",
      "10000\n"
     ]
    }
   ],
   "execution_count": 107
  },
  {
   "metadata": {
    "ExecuteTime": {
     "end_time": "2025-04-10T16:52:50.204521Z",
     "start_time": "2025-04-10T16:52:50.196631Z"
    }
   },
   "cell_type": "code",
   "source": [
    "x, t = train_set[0]\n",
    "print(type(x), x.shape)\n",
    "print(x)"
   ],
   "id": "f3d3c68666c567a8",
   "outputs": [
    {
     "name": "stdout",
     "output_type": "stream",
     "text": [
      "<class 'torch.Tensor'> torch.Size([1, 28, 28])\n",
      "tensor([[[0.0000, 0.0000, 0.0000, 0.0000, 0.0000, 0.0000, 0.0000, 0.0000,\n",
      "          0.0000, 0.0000, 0.0000, 0.0000, 0.0000, 0.0000, 0.0000, 0.0000,\n",
      "          0.0000, 0.0000, 0.0000, 0.0000, 0.0000, 0.0000, 0.0000, 0.0000,\n",
      "          0.0000, 0.0000, 0.0000, 0.0000],\n",
      "         [0.0000, 0.0000, 0.0000, 0.0000, 0.0000, 0.0000, 0.0000, 0.0000,\n",
      "          0.0000, 0.0000, 0.0000, 0.0000, 0.0000, 0.0000, 0.0000, 0.0000,\n",
      "          0.0000, 0.0000, 0.0000, 0.0000, 0.0000, 0.0000, 0.0000, 0.0000,\n",
      "          0.0000, 0.0000, 0.0000, 0.0000],\n",
      "         [0.0000, 0.0000, 0.0000, 0.0000, 0.0000, 0.0000, 0.0000, 0.0000,\n",
      "          0.0000, 0.0000, 0.0000, 0.0000, 0.0000, 0.0000, 0.0000, 0.0000,\n",
      "          0.0000, 0.0000, 0.0000, 0.0000, 0.0000, 0.0000, 0.0000, 0.0000,\n",
      "          0.0000, 0.0000, 0.0000, 0.0000],\n",
      "         [0.0000, 0.0000, 0.0000, 0.0000, 0.0000, 0.0000, 0.0000, 0.0000,\n",
      "          0.0000, 0.0000, 0.0000, 0.0000, 0.0000, 0.0000, 0.0000, 0.0000,\n",
      "          0.0000, 0.0000, 0.0000, 0.0000, 0.0000, 0.0000, 0.0000, 0.0000,\n",
      "          0.0000, 0.0000, 0.0000, 0.0000],\n",
      "         [0.0000, 0.0000, 0.0000, 0.0000, 0.0000, 0.0000, 0.0000, 0.0000,\n",
      "          0.0000, 0.0000, 0.0000, 0.0000, 0.0000, 0.0000, 0.0000, 0.0000,\n",
      "          0.0000, 0.0000, 0.0000, 0.0000, 0.0000, 0.0000, 0.0000, 0.0000,\n",
      "          0.0000, 0.0000, 0.0000, 0.0000],\n",
      "         [0.0000, 0.0000, 0.0000, 0.0000, 0.0000, 0.0000, 0.0000, 0.0000,\n",
      "          0.0000, 0.0000, 0.0000, 0.0000, 0.0118, 0.0706, 0.0706, 0.0706,\n",
      "          0.4941, 0.5333, 0.6863, 0.1020, 0.6510, 1.0000, 0.9686, 0.4980,\n",
      "          0.0000, 0.0000, 0.0000, 0.0000],\n",
      "         [0.0000, 0.0000, 0.0000, 0.0000, 0.0000, 0.0000, 0.0000, 0.0000,\n",
      "          0.1176, 0.1412, 0.3686, 0.6039, 0.6667, 0.9922, 0.9922, 0.9922,\n",
      "          0.9922, 0.9922, 0.8824, 0.6745, 0.9922, 0.9490, 0.7647, 0.2510,\n",
      "          0.0000, 0.0000, 0.0000, 0.0000],\n",
      "         [0.0000, 0.0000, 0.0000, 0.0000, 0.0000, 0.0000, 0.0000, 0.1922,\n",
      "          0.9333, 0.9922, 0.9922, 0.9922, 0.9922, 0.9922, 0.9922, 0.9922,\n",
      "          0.9922, 0.9843, 0.3647, 0.3216, 0.3216, 0.2196, 0.1529, 0.0000,\n",
      "          0.0000, 0.0000, 0.0000, 0.0000],\n",
      "         [0.0000, 0.0000, 0.0000, 0.0000, 0.0000, 0.0000, 0.0000, 0.0706,\n",
      "          0.8588, 0.9922, 0.9922, 0.9922, 0.9922, 0.9922, 0.7765, 0.7137,\n",
      "          0.9686, 0.9451, 0.0000, 0.0000, 0.0000, 0.0000, 0.0000, 0.0000,\n",
      "          0.0000, 0.0000, 0.0000, 0.0000],\n",
      "         [0.0000, 0.0000, 0.0000, 0.0000, 0.0000, 0.0000, 0.0000, 0.0000,\n",
      "          0.3137, 0.6118, 0.4196, 0.9922, 0.9922, 0.8039, 0.0431, 0.0000,\n",
      "          0.1686, 0.6039, 0.0000, 0.0000, 0.0000, 0.0000, 0.0000, 0.0000,\n",
      "          0.0000, 0.0000, 0.0000, 0.0000],\n",
      "         [0.0000, 0.0000, 0.0000, 0.0000, 0.0000, 0.0000, 0.0000, 0.0000,\n",
      "          0.0000, 0.0549, 0.0039, 0.6039, 0.9922, 0.3529, 0.0000, 0.0000,\n",
      "          0.0000, 0.0000, 0.0000, 0.0000, 0.0000, 0.0000, 0.0000, 0.0000,\n",
      "          0.0000, 0.0000, 0.0000, 0.0000],\n",
      "         [0.0000, 0.0000, 0.0000, 0.0000, 0.0000, 0.0000, 0.0000, 0.0000,\n",
      "          0.0000, 0.0000, 0.0000, 0.5451, 0.9922, 0.7451, 0.0078, 0.0000,\n",
      "          0.0000, 0.0000, 0.0000, 0.0000, 0.0000, 0.0000, 0.0000, 0.0000,\n",
      "          0.0000, 0.0000, 0.0000, 0.0000],\n",
      "         [0.0000, 0.0000, 0.0000, 0.0000, 0.0000, 0.0000, 0.0000, 0.0000,\n",
      "          0.0000, 0.0000, 0.0000, 0.0431, 0.7451, 0.9922, 0.2745, 0.0000,\n",
      "          0.0000, 0.0000, 0.0000, 0.0000, 0.0000, 0.0000, 0.0000, 0.0000,\n",
      "          0.0000, 0.0000, 0.0000, 0.0000],\n",
      "         [0.0000, 0.0000, 0.0000, 0.0000, 0.0000, 0.0000, 0.0000, 0.0000,\n",
      "          0.0000, 0.0000, 0.0000, 0.0000, 0.1373, 0.9451, 0.8824, 0.6275,\n",
      "          0.4235, 0.0039, 0.0000, 0.0000, 0.0000, 0.0000, 0.0000, 0.0000,\n",
      "          0.0000, 0.0000, 0.0000, 0.0000],\n",
      "         [0.0000, 0.0000, 0.0000, 0.0000, 0.0000, 0.0000, 0.0000, 0.0000,\n",
      "          0.0000, 0.0000, 0.0000, 0.0000, 0.0000, 0.3176, 0.9412, 0.9922,\n",
      "          0.9922, 0.4667, 0.0980, 0.0000, 0.0000, 0.0000, 0.0000, 0.0000,\n",
      "          0.0000, 0.0000, 0.0000, 0.0000],\n",
      "         [0.0000, 0.0000, 0.0000, 0.0000, 0.0000, 0.0000, 0.0000, 0.0000,\n",
      "          0.0000, 0.0000, 0.0000, 0.0000, 0.0000, 0.0000, 0.1765, 0.7294,\n",
      "          0.9922, 0.9922, 0.5882, 0.1059, 0.0000, 0.0000, 0.0000, 0.0000,\n",
      "          0.0000, 0.0000, 0.0000, 0.0000],\n",
      "         [0.0000, 0.0000, 0.0000, 0.0000, 0.0000, 0.0000, 0.0000, 0.0000,\n",
      "          0.0000, 0.0000, 0.0000, 0.0000, 0.0000, 0.0000, 0.0000, 0.0627,\n",
      "          0.3647, 0.9882, 0.9922, 0.7333, 0.0000, 0.0000, 0.0000, 0.0000,\n",
      "          0.0000, 0.0000, 0.0000, 0.0000],\n",
      "         [0.0000, 0.0000, 0.0000, 0.0000, 0.0000, 0.0000, 0.0000, 0.0000,\n",
      "          0.0000, 0.0000, 0.0000, 0.0000, 0.0000, 0.0000, 0.0000, 0.0000,\n",
      "          0.0000, 0.9765, 0.9922, 0.9765, 0.2510, 0.0000, 0.0000, 0.0000,\n",
      "          0.0000, 0.0000, 0.0000, 0.0000],\n",
      "         [0.0000, 0.0000, 0.0000, 0.0000, 0.0000, 0.0000, 0.0000, 0.0000,\n",
      "          0.0000, 0.0000, 0.0000, 0.0000, 0.0000, 0.0000, 0.1804, 0.5098,\n",
      "          0.7176, 0.9922, 0.9922, 0.8118, 0.0078, 0.0000, 0.0000, 0.0000,\n",
      "          0.0000, 0.0000, 0.0000, 0.0000],\n",
      "         [0.0000, 0.0000, 0.0000, 0.0000, 0.0000, 0.0000, 0.0000, 0.0000,\n",
      "          0.0000, 0.0000, 0.0000, 0.0000, 0.1529, 0.5804, 0.8980, 0.9922,\n",
      "          0.9922, 0.9922, 0.9804, 0.7137, 0.0000, 0.0000, 0.0000, 0.0000,\n",
      "          0.0000, 0.0000, 0.0000, 0.0000],\n",
      "         [0.0000, 0.0000, 0.0000, 0.0000, 0.0000, 0.0000, 0.0000, 0.0000,\n",
      "          0.0000, 0.0000, 0.0941, 0.4471, 0.8667, 0.9922, 0.9922, 0.9922,\n",
      "          0.9922, 0.7882, 0.3059, 0.0000, 0.0000, 0.0000, 0.0000, 0.0000,\n",
      "          0.0000, 0.0000, 0.0000, 0.0000],\n",
      "         [0.0000, 0.0000, 0.0000, 0.0000, 0.0000, 0.0000, 0.0000, 0.0000,\n",
      "          0.0902, 0.2588, 0.8353, 0.9922, 0.9922, 0.9922, 0.9922, 0.7765,\n",
      "          0.3176, 0.0078, 0.0000, 0.0000, 0.0000, 0.0000, 0.0000, 0.0000,\n",
      "          0.0000, 0.0000, 0.0000, 0.0000],\n",
      "         [0.0000, 0.0000, 0.0000, 0.0000, 0.0000, 0.0000, 0.0706, 0.6706,\n",
      "          0.8588, 0.9922, 0.9922, 0.9922, 0.9922, 0.7647, 0.3137, 0.0353,\n",
      "          0.0000, 0.0000, 0.0000, 0.0000, 0.0000, 0.0000, 0.0000, 0.0000,\n",
      "          0.0000, 0.0000, 0.0000, 0.0000],\n",
      "         [0.0000, 0.0000, 0.0000, 0.0000, 0.2157, 0.6745, 0.8863, 0.9922,\n",
      "          0.9922, 0.9922, 0.9922, 0.9569, 0.5216, 0.0431, 0.0000, 0.0000,\n",
      "          0.0000, 0.0000, 0.0000, 0.0000, 0.0000, 0.0000, 0.0000, 0.0000,\n",
      "          0.0000, 0.0000, 0.0000, 0.0000],\n",
      "         [0.0000, 0.0000, 0.0000, 0.0000, 0.5333, 0.9922, 0.9922, 0.9922,\n",
      "          0.8314, 0.5294, 0.5176, 0.0627, 0.0000, 0.0000, 0.0000, 0.0000,\n",
      "          0.0000, 0.0000, 0.0000, 0.0000, 0.0000, 0.0000, 0.0000, 0.0000,\n",
      "          0.0000, 0.0000, 0.0000, 0.0000],\n",
      "         [0.0000, 0.0000, 0.0000, 0.0000, 0.0000, 0.0000, 0.0000, 0.0000,\n",
      "          0.0000, 0.0000, 0.0000, 0.0000, 0.0000, 0.0000, 0.0000, 0.0000,\n",
      "          0.0000, 0.0000, 0.0000, 0.0000, 0.0000, 0.0000, 0.0000, 0.0000,\n",
      "          0.0000, 0.0000, 0.0000, 0.0000],\n",
      "         [0.0000, 0.0000, 0.0000, 0.0000, 0.0000, 0.0000, 0.0000, 0.0000,\n",
      "          0.0000, 0.0000, 0.0000, 0.0000, 0.0000, 0.0000, 0.0000, 0.0000,\n",
      "          0.0000, 0.0000, 0.0000, 0.0000, 0.0000, 0.0000, 0.0000, 0.0000,\n",
      "          0.0000, 0.0000, 0.0000, 0.0000],\n",
      "         [0.0000, 0.0000, 0.0000, 0.0000, 0.0000, 0.0000, 0.0000, 0.0000,\n",
      "          0.0000, 0.0000, 0.0000, 0.0000, 0.0000, 0.0000, 0.0000, 0.0000,\n",
      "          0.0000, 0.0000, 0.0000, 0.0000, 0.0000, 0.0000, 0.0000, 0.0000,\n",
      "          0.0000, 0.0000, 0.0000, 0.0000]]])\n"
     ]
    }
   ],
   "execution_count": 108
  },
  {
   "metadata": {
    "ExecuteTime": {
     "end_time": "2025-04-10T16:52:50.274724Z",
     "start_time": "2025-04-10T16:52:50.218368Z"
    }
   },
   "cell_type": "code",
   "source": [
    "import matplotlib.pyplot as plt\n",
    "\n",
    "x, t = train_set[0]\n",
    "plt.imshow(x.reshape(28, 28), cmap='gray')\n",
    "plt.axis('off')\n",
    "plt.show()\n",
    "print('label:', t)"
   ],
   "id": "56025ce03ca84432",
   "outputs": [
    {
     "data": {
      "text/plain": [
       "<Figure size 640x480 with 1 Axes>"
      ],
      "image/png": "[encoded data removed]"
     },
     "metadata": {},
     "output_type": "display_data"
    },
    {
     "name": "stdout",
     "output_type": "stream",
     "text": [
      "label: 5\n"
     ]
    }
   ],
   "execution_count": 109
  },
  {
   "metadata": {
    "ExecuteTime": {
     "end_time": "2025-04-10T16:52:50.332368Z",
     "start_time": "2025-04-10T16:52:50.303497Z"
    }
   },
   "cell_type": "code",
   "source": [
    "\n",
    "def f(x):\n",
    "    x = x.flatten()\n",
    "    x = x.astype(np.float32)\n",
    "    x /= 255.0\n",
    "    return x\n",
    "\n",
    "train_set = datasets.MNIST(root='./data', train=True, transform=transforms.ToTensor(), download=True)\n",
    "test_set = datasets.MNIST(root='./data', train=False, transform=transforms.ToTensor(), download=True)\n"
   ],
   "id": "d0ee36fb44bbda7d",
   "outputs": [],
   "execution_count": 110
  },
  {
   "metadata": {
    "ExecuteTime": {
     "end_time": "2025-04-10T16:53:44.127612Z",
     "start_time": "2025-04-10T16:52:50.361094Z"
    }
   },
   "cell_type": "code",
   "source": [
    "max_epoch = 5\n",
    "batch_index = 100\n",
    "hidden_size = 1000\n",
    "\n",
    "train_set = datasets.MNIST(root='./data', train=True, transform=transforms.ToTensor(), download=True)\n",
    "test_set = datasets.MNIST(root='./data', train=False, transform=transforms.ToTensor(), download=True)\n",
    "\n",
    "train_loader = DataLoader(train_set, batch_size=100)\n",
    "test_loader = DataLoader(test_set, batch_size=100, shuffle=False)\n",
    "\n",
    "model = MLP((hidden_size, 10))\n",
    "optimizer = optimizers.SGD().setup(model)\n",
    "\n",
    "for epoch in range(max_epoch):\n",
    "    sum_loss, sum_acc = 0, 0\n",
    "\n",
    "    for x, t in train_loader:\n",
    "        y = model(x)\n",
    "        loss = F.softmax_cross_entropy(y, t)\n",
    "        acc = F.accuracy(y, t)\n",
    "\n",
    "        model.cleargrads()\n",
    "        loss.backward()\n",
    "        optimizer.update()\n",
    "\n",
    "        sum_loss += float(loss.data) * len(t)\n",
    "        sum_acc += float(acc.data) * len(t)\n",
    "\n",
    "    print('epoch :{}'.format(epoch + 1))\n",
    "    print('train loss: {:.4f}, acc: {:.4f}'.format(sum_loss / len(train_set), sum_acc / len(train_set)))\n",
    "\n",
    "    sum_loss, sum_acc = 0, 0\n",
    "    with dezero.no_grad():\n",
    "        for x, t in test_loader:\n",
    "            y = model(x)\n",
    "            loss = F.softmax_cross_entropy(y, t)\n",
    "            acc = F.accuracy(y, t)\n",
    "\n",
    "            sum_loss += float(loss.data) * len(t)\n",
    "            sum_acc += float(acc.data) * len(t)\n",
    "    print('test loss: {:.4f}, acc: {:.4f}'.format(sum_loss / len(test_set), sum_acc / len(test_set)))\n",
    "\n"
   ],
   "id": "a65dd10812850897",
   "outputs": [
    {
     "name": "stdout",
     "output_type": "stream",
     "text": [
      "epoch :1\n",
      "train loss: 1.9252, acc: 0.5451\n",
      "test loss: 1.5439, acc: 0.7565\n",
      "epoch :2\n",
      "train loss: 1.2908, acc: 0.7674\n",
      "test loss: 1.0488, acc: 0.8139\n",
      "epoch :3\n",
      "train loss: 0.9300, acc: 0.8174\n",
      "test loss: 0.7945, acc: 0.8368\n",
      "epoch :4\n",
      "train loss: 0.7438, acc: 0.8402\n",
      "test loss: 0.6588, acc: 0.8587\n",
      "epoch :5\n",
      "train loss: 0.6382, acc: 0.8527\n",
      "test loss: 0.5780, acc: 0.8697\n"
     ]
    }
   ],
   "execution_count": 111
  }
 ],
 "metadata": {
  "kernelspec": {
   "display_name": "Python 3",
   "language": "python",
   "name": "python3"
  },
  "language_info": {
   "codemirror_mode": {
    "name": "ipython",
    "version": 2
   },
   "file_extension": ".py",
   "mimetype": "text/x-python",
   "name": "python",
   "nbconvert_exporter": "python",
   "pygments_lexer": "ipython2",
   "version": "2.7.6"
  }
 },
 "nbformat": 4,
 "nbformat_minor": 5
}
