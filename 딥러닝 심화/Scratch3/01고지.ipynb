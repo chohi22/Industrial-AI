{
 "cells": [
  {
   "metadata": {},
   "cell_type": "markdown",
   "source": "### Variable 클래스",
   "id": "561840f07f2b944a"
  },
  {
   "metadata": {
    "ExecuteTime": {
     "end_time": "2025-04-06T06:34:42.348398Z",
     "start_time": "2025-04-06T06:34:42.343724Z"
    }
   },
   "cell_type": "code",
   "source": [
    "from skimage.morphology.misc import funcs\n",
    "\n",
    "\n",
    "class Variable:\n",
    "    def __init__(self, data):\n",
    "        self.data = data\n"
   ],
   "id": "1d303d770f4f5270",
   "outputs": [],
   "execution_count": 22
  },
  {
   "metadata": {
    "ExecuteTime": {
     "end_time": "2025-04-06T06:34:43.909395Z",
     "start_time": "2025-04-06T06:34:43.905606Z"
    }
   },
   "cell_type": "code",
   "source": [
    "import numpy as np\n",
    "\n",
    "data = np.array(1.0)\n",
    "x = Variable(data)\n",
    "print(x.data)\n",
    "\n",
    "x.data = np.array(2.0)\n",
    "print(x.data)\n"
   ],
   "id": "f9bb0568c3415d95",
   "outputs": [
    {
     "name": "stdout",
     "output_type": "stream",
     "text": [
      "1.0\n",
      "2.0\n"
     ]
    }
   ],
   "execution_count": 23
  },
  {
   "metadata": {
    "ExecuteTime": {
     "end_time": "2025-04-06T06:34:45.680573Z",
     "start_time": "2025-04-06T06:34:45.667774Z"
    }
   },
   "cell_type": "code",
   "source": [
    "import numpy as np\n",
    "x = np.array(1)\n",
    "x.ndim"
   ],
   "id": "18c2c54a53628fc",
   "outputs": [
    {
     "data": {
      "text/plain": [
       "0"
      ]
     },
     "execution_count": 24,
     "metadata": {},
     "output_type": "execute_result"
    }
   ],
   "execution_count": 24
  },
  {
   "metadata": {
    "ExecuteTime": {
     "end_time": "2025-04-06T06:34:47.177425Z",
     "start_time": "2025-04-06T06:34:47.172040Z"
    }
   },
   "cell_type": "code",
   "source": [
    "x = np.array([1, 2, 3])\n",
    "x.ndim"
   ],
   "id": "feda1ae6c69ec38",
   "outputs": [
    {
     "data": {
      "text/plain": [
       "1"
      ]
     },
     "execution_count": 25,
     "metadata": {},
     "output_type": "execute_result"
    }
   ],
   "execution_count": 25
  },
  {
   "metadata": {
    "ExecuteTime": {
     "end_time": "2025-04-06T06:34:48.539478Z",
     "start_time": "2025-04-06T06:34:48.533864Z"
    }
   },
   "cell_type": "code",
   "source": [
    "x = np.array([[1, 2, 3], [4, 5, 6]])\n",
    "x.ndim"
   ],
   "id": "44841b849510b448",
   "outputs": [
    {
     "data": {
      "text/plain": [
       "2"
      ]
     },
     "execution_count": 26,
     "metadata": {},
     "output_type": "execute_result"
    }
   ],
   "execution_count": 26
  },
  {
   "metadata": {},
   "cell_type": "markdown",
   "source": "### Function 클래스 구현",
   "id": "356e2bb21b487edd"
  },
  {
   "metadata": {
    "ExecuteTime": {
     "end_time": "2025-04-06T06:37:01.684767Z",
     "start_time": "2025-04-06T06:37:01.680387Z"
    }
   },
   "cell_type": "code",
   "source": [
    "class Function:\n",
    "    def __call__(self, input):\n",
    "        x = input.data\n",
    "        y = self.forward(x)\n",
    "        output = Variable(y)\n",
    "        return output\n",
    "\n",
    "    def forward(self, x):\n",
    "        raise NotImplementedError()\n"
   ],
   "id": "8b075e017816d9f1",
   "outputs": [],
   "execution_count": 34
  },
  {
   "metadata": {
    "ExecuteTime": {
     "end_time": "2025-04-06T06:37:45.142168Z",
     "start_time": "2025-04-06T06:37:45.127726Z"
    }
   },
   "cell_type": "code",
   "source": [
    "class Square(Function):\n",
    "    def forward(self, x):\n",
    "        return x ** 2"
   ],
   "id": "933d4a0b9131db99",
   "outputs": [],
   "execution_count": 36
  },
  {
   "metadata": {
    "ExecuteTime": {
     "end_time": "2025-04-06T06:38:08.702146Z",
     "start_time": "2025-04-06T06:38:08.696562Z"
    }
   },
   "cell_type": "code",
   "source": [
    "x = Variable(np.array(10))\n",
    "f = Square()\n",
    "y = f(x)\n",
    "\n",
    "print(type(x))\n",
    "print(y.data)"
   ],
   "id": "ce879242520aaa21",
   "outputs": [
    {
     "name": "stdout",
     "output_type": "stream",
     "text": [
      "<class '__main__.Variable'>\n",
      "100\n"
     ]
    }
   ],
   "execution_count": 37
  },
  {
   "metadata": {},
   "cell_type": "markdown",
   "source": "### Exp 함수 구현",
   "id": "ba2d6d22f5ed4a5f"
  },
  {
   "metadata": {
    "ExecuteTime": {
     "end_time": "2025-04-06T06:42:05.736005Z",
     "start_time": "2025-04-06T06:42:05.730932Z"
    }
   },
   "cell_type": "code",
   "source": [
    "class Exp(Function):\n",
    "    def forward(self, x):\n",
    "        return np.exp(x)\n",
    "\n"
   ],
   "id": "486c58f2572ffdc3",
   "outputs": [],
   "execution_count": 38
  },
  {
   "metadata": {
    "ExecuteTime": {
     "end_time": "2025-04-06T06:43:04.385743Z",
     "start_time": "2025-04-06T06:43:04.382289Z"
    }
   },
   "cell_type": "code",
   "source": [
    "A = Square()\n",
    "B = Exp()\n",
    "C = Square()\n",
    "\n",
    "x = Variable(np.array(0.5))\n",
    "a = A(x)\n",
    "b = B(a)\n",
    "y = C(b)\n",
    "print(y.data)"
   ],
   "id": "22ce546500d83a69",
   "outputs": [
    {
     "name": "stdout",
     "output_type": "stream",
     "text": [
      "1.648721270700128\n"
     ]
    }
   ],
   "execution_count": 40
  },
  {
   "metadata": {},
   "cell_type": "markdown",
   "source": "### 미분",
   "id": "2462fdeab6bd4626"
  },
  {
   "metadata": {
    "ExecuteTime": {
     "end_time": "2025-04-06T06:48:10.804976Z",
     "start_time": "2025-04-06T06:48:10.800505Z"
    }
   },
   "cell_type": "code",
   "source": [
    "def numerical_diff(f, x, eps=1e-4):\n",
    "    x0 = Variable(x.data - eps)\n",
    "    x1 = Variable(x.data + eps)\n",
    "    y0 = f(x0)\n",
    "    y1 = f(x1)\n",
    "    return (y1.data - y0.data) / (2 * eps)"
   ],
   "id": "d52e3e63f11adf76",
   "outputs": [],
   "execution_count": 42
  },
  {
   "metadata": {
    "ExecuteTime": {
     "end_time": "2025-04-06T06:48:35.025707Z",
     "start_time": "2025-04-06T06:48:35.020798Z"
    }
   },
   "cell_type": "code",
   "source": [
    "f = Square()\n",
    "x = Variable(np.array(2.0))\n",
    "dy = numerical_diff(f, x)\n",
    "print(dy)"
   ],
   "id": "8af048a74f78fa2",
   "outputs": [
    {
     "name": "stdout",
     "output_type": "stream",
     "text": [
      "4.000000000004\n"
     ]
    }
   ],
   "execution_count": 43
  },
  {
   "metadata": {
    "ExecuteTime": {
     "end_time": "2025-04-06T06:52:11.293183Z",
     "start_time": "2025-04-06T06:52:11.290165Z"
    }
   },
   "cell_type": "code",
   "source": [
    "def f(x):\n",
    "    A = Square()\n",
    "    B = Exp()\n",
    "    C = Square()\n",
    "    return C(B(A(x)))\n",
    "\n",
    "x = Variable(np.array(0.5))\n",
    "dy = numerical_diff(f, x)\n",
    "print(dy)"
   ],
   "id": "e243a6d71d1e9565",
   "outputs": [
    {
     "name": "stdout",
     "output_type": "stream",
     "text": [
      "3.2974426293330694\n"
     ]
    }
   ],
   "execution_count": 46
  },
  {
   "metadata": {},
   "cell_type": "markdown",
   "source": "### 수동 역전파",
   "id": "9e10b98407db7f55"
  },
  {
   "metadata": {
    "ExecuteTime": {
     "end_time": "2025-04-06T07:10:56.017431Z",
     "start_time": "2025-04-06T07:10:56.011069Z"
    }
   },
   "cell_type": "code",
   "source": [
    "class Variable:\n",
    "    def __init__(self, data):\n",
    "        self.data = data\n",
    "        self.grad = None\n"
   ],
   "id": "3009ad29179537d9",
   "outputs": [],
   "execution_count": 47
  },
  {
   "metadata": {
    "ExecuteTime": {
     "end_time": "2025-04-06T07:11:58.111990Z",
     "start_time": "2025-04-06T07:11:58.104724Z"
    }
   },
   "cell_type": "code",
   "source": [
    "class Function:\n",
    "    def __call__(self, input):\n",
    "        x = input.data\n",
    "        y = self.forward(x)\n",
    "        output = Variable(y)\n",
    "        self.input = input\n",
    "        return output\n",
    "\n",
    "    def forward(self, x):\n",
    "        raise NotImplementedError()\n",
    "\n",
    "    def backward(self, gy):\n",
    "        raise NotImplementedError()\n"
   ],
   "id": "c021bd3dbb212454",
   "outputs": [],
   "execution_count": 48
  },
  {
   "metadata": {
    "ExecuteTime": {
     "end_time": "2025-04-06T07:13:04.544785Z",
     "start_time": "2025-04-06T07:13:04.540823Z"
    }
   },
   "cell_type": "code",
   "source": [
    "class Square(Function):\n",
    "    def forward(self, x):\n",
    "        y =  x ** 2\n",
    "        return y\n",
    "\n",
    "    def backward(self, gy):\n",
    "        x = self.input.data\n",
    "        gx = 2 * x * gy\n",
    "        return gx\n"
   ],
   "id": "e30dbbeda210785e",
   "outputs": [],
   "execution_count": 49
  },
  {
   "metadata": {
    "ExecuteTime": {
     "end_time": "2025-04-06T07:14:34.637302Z",
     "start_time": "2025-04-06T07:14:34.632561Z"
    }
   },
   "cell_type": "code",
   "source": [
    "class Exp(Function):\n",
    "    def forward(self, x):\n",
    "        y = np.exp(x)\n",
    "        return y\n",
    "\n",
    "    def backward(self, gy):\n",
    "        x = self.input.data\n",
    "        gx = np.exp(x) * gy\n",
    "        return gx"
   ],
   "id": "344fd3bbe6acafc8",
   "outputs": [],
   "execution_count": 51
  },
  {
   "metadata": {
    "ExecuteTime": {
     "end_time": "2025-04-06T07:15:21.744794Z",
     "start_time": "2025-04-06T07:15:21.740949Z"
    }
   },
   "cell_type": "code",
   "source": [
    "A = Square()\n",
    "B = Exp()\n",
    "C = Square()\n",
    "\n",
    "x = Variable(np.array(0.5))\n",
    "a = A(x)\n",
    "b = B(a)\n",
    "y = C(b)"
   ],
   "id": "bc30856357fbb01b",
   "outputs": [],
   "execution_count": 52
  },
  {
   "metadata": {
    "ExecuteTime": {
     "end_time": "2025-04-06T07:16:22.529547Z",
     "start_time": "2025-04-06T07:16:22.525232Z"
    }
   },
   "cell_type": "code",
   "source": [
    "y.grad = np.array(1.0)\n",
    "b.grad = C.backward(y.grad)\n",
    "a.grad = B.backward(b.grad)\n",
    "x.grad = A.backward(a.grad)\n",
    "print(x.grad)"
   ],
   "id": "7854012ad24c0e26",
   "outputs": [
    {
     "name": "stdout",
     "output_type": "stream",
     "text": [
      "3.297442541400256\n"
     ]
    }
   ],
   "execution_count": 53
  },
  {
   "metadata": {},
   "cell_type": "markdown",
   "source": "### 역전파 자동하",
   "id": "e3e64ffe2e57a060"
  },
  {
   "metadata": {
    "ExecuteTime": {
     "end_time": "2025-04-06T07:31:13.052599Z",
     "start_time": "2025-04-06T07:31:13.045257Z"
    }
   },
   "cell_type": "code",
   "source": [
    "class Variable:\n",
    "    def __init__(self, data):\n",
    "        self.data = data\n",
    "        self.grad = None\n",
    "        self.creator = None\n",
    "\n",
    "    def set_creator(self, func):\n",
    "        self.creator = func\n",
    "\n",
    "    def backward(self):\n",
    "        f = self.creator  # 1. Get a function\n",
    "        if f is not None:\n",
    "            x = f.input  # 2. Get the function's input\n",
    "            x.grad = f.backward(self.grad)  # 3. Call the function's backward\n",
    "            x.backward()"
   ],
   "id": "d783bb76b8241954",
   "outputs": [],
   "execution_count": 76
  },
  {
   "metadata": {
    "ExecuteTime": {
     "end_time": "2025-04-06T07:31:15.044771Z",
     "start_time": "2025-04-06T07:31:15.039003Z"
    }
   },
   "cell_type": "code",
   "source": [
    "class Function:\n",
    "    def __call__(self, input):\n",
    "        x = input.data\n",
    "        y = self.forward(x)\n",
    "        output = Variable(y)\n",
    "        output.set_creator(self)  # Set parent(function)\n",
    "        self.input = input\n",
    "        self.output = output  # Set output\n",
    "        return output\n",
    "\n",
    "    def forward(self, x):\n",
    "        raise NotImplementedError()\n",
    "\n",
    "    def backward(self, gy):\n",
    "        raise NotImplementedError()"
   ],
   "id": "1c773876258484ef",
   "outputs": [],
   "execution_count": 77
  },
  {
   "metadata": {
    "ExecuteTime": {
     "end_time": "2025-04-06T07:31:27.908903Z",
     "start_time": "2025-04-06T07:31:27.904808Z"
    }
   },
   "cell_type": "code",
   "source": [
    "class Square(Function):\n",
    "    def forward(self, x):\n",
    "        y = x ** 2\n",
    "        return y\n",
    "\n",
    "    def backward(self, gy):\n",
    "        x = self.input.data\n",
    "        gx = 2 * x * gy\n",
    "        return gx"
   ],
   "id": "91e1bd363e137c17",
   "outputs": [],
   "execution_count": 78
  },
  {
   "metadata": {
    "ExecuteTime": {
     "end_time": "2025-04-06T07:31:37.100846Z",
     "start_time": "2025-04-06T07:31:37.097691Z"
    }
   },
   "cell_type": "code",
   "source": [
    "class Exp(Function):\n",
    "    def forward(self, x):\n",
    "        y = np.exp(x)\n",
    "        return y\n",
    "\n",
    "    def backward(self, gy):\n",
    "        x = self.input.data\n",
    "        gx = np.exp(x) * gy\n",
    "        return gx\n"
   ],
   "id": "a167e490e79f451e",
   "outputs": [],
   "execution_count": 79
  },
  {
   "metadata": {
    "ExecuteTime": {
     "end_time": "2025-04-06T07:32:23.451901Z",
     "start_time": "2025-04-06T07:32:23.445497Z"
    }
   },
   "cell_type": "code",
   "source": [
    "A = Square()\n",
    "B = Exp()\n",
    "C = Square()\n",
    "\n",
    "x = Variable(np.array(0.5))\n",
    "a = A(x)\n",
    "b = B(a)\n",
    "y = C(b)\n",
    "\n",
    "assert y.creator == C\n",
    "assert y.creator.input == b\n",
    "assert y.creator.input.creator == B\n",
    "assert y.creator.input.creator.input == a\n",
    "assert y.creator.input.creator.input.creator == A\n",
    "assert y.creator.input.creator.input.creator.input == x"
   ],
   "id": "c6db37b6d3e30eb",
   "outputs": [],
   "execution_count": 81
  },
  {
   "metadata": {
    "ExecuteTime": {
     "end_time": "2025-04-06T07:34:32.704322Z",
     "start_time": "2025-04-06T07:34:32.697497Z"
    }
   },
   "cell_type": "code",
   "source": [
    "y.grad = np.array(1.0)\n",
    "\n",
    "C = y.creator\n",
    "b = C.input\n",
    "b.grad = C.backward(y.grad)"
   ],
   "id": "ee88351b4d40c853",
   "outputs": [],
   "execution_count": 82
  },
  {
   "metadata": {
    "ExecuteTime": {
     "end_time": "2025-04-06T07:35:26.929852Z",
     "start_time": "2025-04-06T07:35:26.925319Z"
    }
   },
   "cell_type": "code",
   "source": [
    "B = b.creator\n",
    "a = B.input\n",
    "a.grad = B.backward(b.grad)"
   ],
   "id": "8a8d463a99957b83",
   "outputs": [],
   "execution_count": 83
  },
  {
   "metadata": {
    "ExecuteTime": {
     "end_time": "2025-04-06T07:36:00.859521Z",
     "start_time": "2025-04-06T07:36:00.856603Z"
    }
   },
   "cell_type": "code",
   "source": [
    "A = a.creator\n",
    "x = A.input\n",
    "x.grad = A.backward(a.grad)\n",
    "print(x.grad)"
   ],
   "id": "c01569a956c2f079",
   "outputs": [
    {
     "name": "stdout",
     "output_type": "stream",
     "text": [
      "3.297442541400256\n"
     ]
    }
   ],
   "execution_count": 84
  },
  {
   "metadata": {
    "ExecuteTime": {
     "end_time": "2025-04-06T07:37:34.199498Z",
     "start_time": "2025-04-06T07:37:34.192433Z"
    }
   },
   "cell_type": "code",
   "source": [
    "A = Square()\n",
    "B = Exp()\n",
    "C = Square()\n",
    "\n",
    "x = Variable(np.array(0.5))\n",
    "a = A(x)\n",
    "b = B(a)\n",
    "y = C(b)\n",
    "\n",
    "y.grad = np.array(1.0)\n",
    "y.backward()\n",
    "print(x.grad)"
   ],
   "id": "52cc9695a55f211c",
   "outputs": [
    {
     "name": "stdout",
     "output_type": "stream",
     "text": [
      "3.297442541400256\n"
     ]
    }
   ],
   "execution_count": 85
  },
  {
   "metadata": {},
   "cell_type": "markdown",
   "source": "### 재귀에서 반복문으로",
   "id": "dd97cd040136f421"
  },
  {
   "metadata": {
    "ExecuteTime": {
     "end_time": "2025-04-06T07:42:51.006319Z",
     "start_time": "2025-04-06T07:42:50.998559Z"
    }
   },
   "cell_type": "code",
   "source": [
    "class Variable:\n",
    "    def __init__(self, data):\n",
    "        self.data = data\n",
    "        self.grad = None\n",
    "        self.creator = None\n",
    "\n",
    "    def set_creator(self, func):\n",
    "        self.creator = func\n",
    "\n",
    "    def backward(self):\n",
    "        funcs = [self.creator]\n",
    "        while funcs:\n",
    "            f = funcs.pop()\n",
    "            x, y = f.input, f.output\n",
    "            x.grad = f.backward(y.grad)\n",
    "\n",
    "            if x.creator is not None:\n",
    "                funcs.append(x.creator)\n"
   ],
   "id": "b30321b494286549",
   "outputs": [],
   "execution_count": 86
  },
  {
   "metadata": {
    "ExecuteTime": {
     "end_time": "2025-04-06T07:43:22.675813Z",
     "start_time": "2025-04-06T07:43:22.672591Z"
    }
   },
   "cell_type": "code",
   "source": [
    "A = Square()\n",
    "B = Exp()\n",
    "C = Square()\n",
    "\n",
    "x = Variable(np.array(0.5))\n",
    "a = A(x)\n",
    "b = B(a)\n",
    "y = C(b)\n",
    "\n",
    "y.grad = np.array(1.0)\n",
    "y.backward()\n",
    "print(x.grad)"
   ],
   "id": "60d3a352ef4d5054",
   "outputs": [
    {
     "name": "stdout",
     "output_type": "stream",
     "text": [
      "3.297442541400256\n"
     ]
    }
   ],
   "execution_count": 87
  },
  {
   "metadata": {},
   "cell_type": "markdown",
   "source": "### 함수를 더 편리하게",
   "id": "fc146d595db381d1"
  },
  {
   "metadata": {
    "ExecuteTime": {
     "end_time": "2025-04-06T07:45:11.378337Z",
     "start_time": "2025-04-06T07:45:11.372522Z"
    }
   },
   "cell_type": "code",
   "source": [
    "x = Variable(np.array(0.5))\n",
    "f = Square()\n",
    "y = f(x)\n",
    "y"
   ],
   "id": "7b915a5d3f4cc0d6",
   "outputs": [
    {
     "data": {
      "text/plain": [
       "<__main__.Variable at 0x105079490>"
      ]
     },
     "execution_count": 90,
     "metadata": {},
     "output_type": "execute_result"
    }
   ],
   "execution_count": 90
  },
  {
   "metadata": {
    "ExecuteTime": {
     "end_time": "2025-04-06T07:46:30.305347Z",
     "start_time": "2025-04-06T07:46:30.299247Z"
    }
   },
   "cell_type": "code",
   "source": [
    "def square(x):\n",
    "    f = Square()\n",
    "    return f(x)\n",
    "\n",
    "def exp(x):\n",
    "    f = Exp()\n",
    "    return f(x)"
   ],
   "id": "b124127acc40c9d7",
   "outputs": [],
   "execution_count": 91
  },
  {
   "metadata": {
    "ExecuteTime": {
     "end_time": "2025-04-06T07:47:22.994681Z",
     "start_time": "2025-04-06T07:47:22.990316Z"
    }
   },
   "cell_type": "code",
   "source": [
    "x = Variable(np.array(0.5))\n",
    "a = square(x)\n",
    "b = exp(a)\n",
    "y = square(b)\n",
    "\n",
    "y.grad = np.array(1.0)\n",
    "y.backward()\n",
    "print(x.grad)"
   ],
   "id": "282fef49786e0edd",
   "outputs": [
    {
     "name": "stdout",
     "output_type": "stream",
     "text": [
      "3.297442541400256\n"
     ]
    }
   ],
   "execution_count": 92
  },
  {
   "metadata": {
    "ExecuteTime": {
     "end_time": "2025-04-06T07:48:21.540165Z",
     "start_time": "2025-04-06T07:48:21.534609Z"
    }
   },
   "cell_type": "code",
   "source": [
    "x = Variable(np.array(0.5))\n",
    "y = square(exp(square(x)))\n",
    "\n",
    "y.grad = np.array(1.0)\n",
    "y.backward()\n",
    "print(x.grad)"
   ],
   "id": "b251e5552aa9f956",
   "outputs": [
    {
     "name": "stdout",
     "output_type": "stream",
     "text": [
      "3.297442541400256\n"
     ]
    }
   ],
   "execution_count": 93
  },
  {
   "metadata": {},
   "cell_type": "markdown",
   "source": "### backward 메소드 간소화",
   "id": "694853f08140c2ab"
  },
  {
   "metadata": {
    "ExecuteTime": {
     "end_time": "2025-04-06T07:51:14.165952Z",
     "start_time": "2025-04-06T07:51:14.157726Z"
    }
   },
   "cell_type": "code",
   "source": [
    "class Variable:\n",
    "    def __init__(self, data):\n",
    "        if data is not None:\n",
    "            if not isinstance(data, np.ndarray):\n",
    "                raise TypeError(f'{type(data)} is not supported')\n",
    "\n",
    "        self.data = data\n",
    "        self.grad = None\n",
    "        self.creator = None\n",
    "\n",
    "    def set_creator(self, func):\n",
    "        self.creator = func\n",
    "\n",
    "    def backward(self):\n",
    "        if self.grad is None:\n",
    "            self.grad = np.ones_like(self.data)\n",
    "\n",
    "        funcs = [self.creator]\n",
    "        while funcs:\n",
    "            f = funcs.pop()\n",
    "            x, y = f.input, f.output\n",
    "            x.grad = f.backward(y.grad)\n",
    "\n",
    "            if x.creator is not None:\n",
    "                funcs.append(x.creator)\n"
   ],
   "id": "c551d644b11dc521",
   "outputs": [],
   "execution_count": 96
  },
  {
   "metadata": {
    "ExecuteTime": {
     "end_time": "2025-04-06T07:51:17.022405Z",
     "start_time": "2025-04-06T07:51:16.975568Z"
    }
   },
   "cell_type": "code",
   "source": [
    "x = Variable(np.array(0.5))\n",
    "y = square(exp(square(x)))\n",
    "y.backward()\n",
    "print(x.grad)"
   ],
   "id": "53f748cb226b230",
   "outputs": [
    {
     "ename": "TypeError",
     "evalue": "<class 'numpy.float64'> is not supported",
     "output_type": "error",
     "traceback": [
      "\u001B[0;31m---------------------------------------------------------------------------\u001B[0m",
      "\u001B[0;31mTypeError\u001B[0m                                 Traceback (most recent call last)",
      "Cell \u001B[0;32mIn[97], line 2\u001B[0m\n\u001B[1;32m      1\u001B[0m x \u001B[38;5;241m=\u001B[39m Variable(np\u001B[38;5;241m.\u001B[39marray(\u001B[38;5;241m0.5\u001B[39m))\n\u001B[0;32m----> 2\u001B[0m y \u001B[38;5;241m=\u001B[39m square(exp(\u001B[43msquare\u001B[49m\u001B[43m(\u001B[49m\u001B[43mx\u001B[49m\u001B[43m)\u001B[49m))\n\u001B[1;32m      3\u001B[0m y\u001B[38;5;241m.\u001B[39mbackward()\n\u001B[1;32m      4\u001B[0m \u001B[38;5;28mprint\u001B[39m(x\u001B[38;5;241m.\u001B[39mgrad)\n",
      "Cell \u001B[0;32mIn[91], line 3\u001B[0m, in \u001B[0;36msquare\u001B[0;34m(x)\u001B[0m\n\u001B[1;32m      1\u001B[0m \u001B[38;5;28;01mdef\u001B[39;00m\u001B[38;5;250m \u001B[39m\u001B[38;5;21msquare\u001B[39m(x):\n\u001B[1;32m      2\u001B[0m     f \u001B[38;5;241m=\u001B[39m Square()\n\u001B[0;32m----> 3\u001B[0m     \u001B[38;5;28;01mreturn\u001B[39;00m \u001B[43mf\u001B[49m\u001B[43m(\u001B[49m\u001B[43mx\u001B[49m\u001B[43m)\u001B[49m\n",
      "Cell \u001B[0;32mIn[77], line 5\u001B[0m, in \u001B[0;36mFunction.__call__\u001B[0;34m(self, input)\u001B[0m\n\u001B[1;32m      3\u001B[0m x \u001B[38;5;241m=\u001B[39m \u001B[38;5;28minput\u001B[39m\u001B[38;5;241m.\u001B[39mdata\n\u001B[1;32m      4\u001B[0m y \u001B[38;5;241m=\u001B[39m \u001B[38;5;28mself\u001B[39m\u001B[38;5;241m.\u001B[39mforward(x)\n\u001B[0;32m----> 5\u001B[0m output \u001B[38;5;241m=\u001B[39m \u001B[43mVariable\u001B[49m\u001B[43m(\u001B[49m\u001B[43my\u001B[49m\u001B[43m)\u001B[49m\n\u001B[1;32m      6\u001B[0m output\u001B[38;5;241m.\u001B[39mset_creator(\u001B[38;5;28mself\u001B[39m)  \u001B[38;5;66;03m# Set parent(function)\u001B[39;00m\n\u001B[1;32m      7\u001B[0m \u001B[38;5;28mself\u001B[39m\u001B[38;5;241m.\u001B[39minput \u001B[38;5;241m=\u001B[39m \u001B[38;5;28minput\u001B[39m\n",
      "Cell \u001B[0;32mIn[96], line 5\u001B[0m, in \u001B[0;36mVariable.__init__\u001B[0;34m(self, data)\u001B[0m\n\u001B[1;32m      3\u001B[0m \u001B[38;5;28;01mif\u001B[39;00m data \u001B[38;5;129;01mis\u001B[39;00m \u001B[38;5;129;01mnot\u001B[39;00m \u001B[38;5;28;01mNone\u001B[39;00m:\n\u001B[1;32m      4\u001B[0m     \u001B[38;5;28;01mif\u001B[39;00m \u001B[38;5;129;01mnot\u001B[39;00m \u001B[38;5;28misinstance\u001B[39m(data, np\u001B[38;5;241m.\u001B[39mndarray):\n\u001B[0;32m----> 5\u001B[0m         \u001B[38;5;28;01mraise\u001B[39;00m \u001B[38;5;167;01mTypeError\u001B[39;00m(\u001B[38;5;124mf\u001B[39m\u001B[38;5;124m'\u001B[39m\u001B[38;5;132;01m{\u001B[39;00m\u001B[38;5;28mtype\u001B[39m(data)\u001B[38;5;132;01m}\u001B[39;00m\u001B[38;5;124m is not supported\u001B[39m\u001B[38;5;124m'\u001B[39m)\n\u001B[1;32m      7\u001B[0m \u001B[38;5;28mself\u001B[39m\u001B[38;5;241m.\u001B[39mdata \u001B[38;5;241m=\u001B[39m data\n\u001B[1;32m      8\u001B[0m \u001B[38;5;28mself\u001B[39m\u001B[38;5;241m.\u001B[39mgrad \u001B[38;5;241m=\u001B[39m \u001B[38;5;28;01mNone\u001B[39;00m\n",
      "\u001B[0;31mTypeError\u001B[0m: <class 'numpy.float64'> is not supported"
     ]
    }
   ],
   "execution_count": 97
  },
  {
   "metadata": {
    "ExecuteTime": {
     "end_time": "2025-04-06T07:52:12.110594Z",
     "start_time": "2025-04-06T07:52:12.104160Z"
    }
   },
   "cell_type": "code",
   "source": [
    "x = np.array([1.0])\n",
    "y = x ** 2\n",
    "print(type(x), x.ndim)\n",
    "print(type(y), y.ndim)"
   ],
   "id": "ea3e96fd5796018f",
   "outputs": [
    {
     "name": "stdout",
     "output_type": "stream",
     "text": [
      "<class 'numpy.ndarray'> 1\n",
      "<class 'numpy.ndarray'> 1\n"
     ]
    }
   ],
   "execution_count": 98
  },
  {
   "metadata": {
    "ExecuteTime": {
     "end_time": "2025-04-06T07:52:38.790191Z",
     "start_time": "2025-04-06T07:52:38.784581Z"
    }
   },
   "cell_type": "code",
   "source": [
    "x = np.array(1.0)\n",
    "y = x ** 2\n",
    "print(type(x), x.ndim)\n",
    "print(type(y), y.ndim)"
   ],
   "id": "b60e0a10e42d9e3a",
   "outputs": [
    {
     "name": "stdout",
     "output_type": "stream",
     "text": [
      "<class 'numpy.ndarray'> 0\n",
      "<class 'numpy.float64'> 0\n"
     ]
    }
   ],
   "execution_count": 99
  },
  {
   "metadata": {
    "ExecuteTime": {
     "end_time": "2025-04-06T07:53:29.714805Z",
     "start_time": "2025-04-06T07:53:29.709163Z"
    }
   },
   "cell_type": "code",
   "source": [
    "def as_array(x):\n",
    "    if np.isscalar(x):\n",
    "        return np.array(x)\n",
    "    return x"
   ],
   "id": "cd04aa44f1beff76",
   "outputs": [],
   "execution_count": 100
  },
  {
   "metadata": {
    "ExecuteTime": {
     "end_time": "2025-04-06T07:53:56.870477Z",
     "start_time": "2025-04-06T07:53:56.864077Z"
    }
   },
   "cell_type": "code",
   "source": [
    "import numpy as np\n",
    "np.isscalar(np.float32(1.0))"
   ],
   "id": "dd1e07eaf362bd76",
   "outputs": [
    {
     "data": {
      "text/plain": [
       "True"
      ]
     },
     "execution_count": 101,
     "metadata": {},
     "output_type": "execute_result"
    }
   ],
   "execution_count": 101
  },
  {
   "metadata": {
    "ExecuteTime": {
     "end_time": "2025-04-06T07:54:49.801515Z",
     "start_time": "2025-04-06T07:54:49.798209Z"
    }
   },
   "cell_type": "code",
   "source": [
    "np.isscalar(2.0)\n",
    "\n"
   ],
   "id": "7a2a8574d53c34e6",
   "outputs": [
    {
     "data": {
      "text/plain": [
       "True"
      ]
     },
     "execution_count": 103,
     "metadata": {},
     "output_type": "execute_result"
    }
   ],
   "execution_count": 103
  },
  {
   "metadata": {
    "ExecuteTime": {
     "end_time": "2025-04-06T07:54:56.678958Z",
     "start_time": "2025-04-06T07:54:56.673876Z"
    }
   },
   "cell_type": "code",
   "source": [
    "np.isscalar(np.array(2.0))\n",
    "\n"
   ],
   "id": "9822757f1ee30747",
   "outputs": [
    {
     "data": {
      "text/plain": [
       "False"
      ]
     },
     "execution_count": 104,
     "metadata": {},
     "output_type": "execute_result"
    }
   ],
   "execution_count": 104
  },
  {
   "metadata": {
    "ExecuteTime": {
     "end_time": "2025-04-06T07:55:11.568736Z",
     "start_time": "2025-04-06T07:55:11.564480Z"
    }
   },
   "cell_type": "code",
   "source": "np.isscalar(np.array([1, 2, 3]))",
   "id": "ad560139076b14ae",
   "outputs": [
    {
     "data": {
      "text/plain": [
       "False"
      ]
     },
     "execution_count": 106,
     "metadata": {},
     "output_type": "execute_result"
    }
   ],
   "execution_count": 106
  },
  {
   "metadata": {},
   "cell_type": "markdown",
   "source": "### 테스트",
   "id": "4ff5d444ab7f5524"
  },
  {
   "metadata": {
    "ExecuteTime": {
     "end_time": "2025-04-06T07:57:27.793198Z",
     "start_time": "2025-04-06T07:57:27.761946Z"
    }
   },
   "cell_type": "code",
   "source": [
    "import unittest\n",
    "\n",
    "class SquareTest(unittest.TestCase):\n",
    "    def test_forward(self):\n",
    "        x = Variable(np.array(2.0))\n",
    "        y = square(x)\n",
    "        expected = np.array(4.0)\n",
    "        self.assertEqual(y.data, expected)\n"
   ],
   "id": "5001cc62bae39f8b",
   "outputs": [],
   "execution_count": 107
  },
  {
   "metadata": {
    "ExecuteTime": {
     "end_time": "2025-04-06T08:01:16.783091Z",
     "start_time": "2025-04-06T08:01:16.772927Z"
    }
   },
   "cell_type": "code",
   "source": "unittest.main()",
   "id": "4f320a5c08d7df3c",
   "outputs": [
    {
     "name": "stderr",
     "output_type": "stream",
     "text": [
      "E\n",
      "======================================================================\n",
      "ERROR: /Users/chohi/Library/Jupyter/runtime/kernel-33bdc7e0-f158-430a-854d-9133fd288aa8 (unittest.loader._FailedTest)\n",
      "----------------------------------------------------------------------\n",
      "AttributeError: module '__main__' has no attribute '/Users/chohi/Library/Jupyter/runtime/kernel-33bdc7e0-f158-430a-854d-9133fd288aa8'\n",
      "\n",
      "----------------------------------------------------------------------\n",
      "Ran 1 test in 0.001s\n",
      "\n",
      "FAILED (errors=1)\n"
     ]
    },
    {
     "ename": "SystemExit",
     "evalue": "True",
     "output_type": "error",
     "traceback": [
      "An exception has occurred, use %tb to see the full traceback.\n",
      "\u001B[0;31mSystemExit\u001B[0m\u001B[0;31m:\u001B[0m True\n"
     ]
    },
    {
     "name": "stderr",
     "output_type": "stream",
     "text": [
      "/Users/chohi/project/ai/DeepLearningDeepen/DeepLearningAdv/.venv/lib/python3.9/site-packages/IPython/core/interactiveshell.py:3558: UserWarning: To exit: use 'exit', 'quit', or Ctrl-D.\n",
      "  warn(\"To exit: use 'exit', 'quit', or Ctrl-D.\", stacklevel=1)\n"
     ]
    }
   ],
   "execution_count": 109
  }
 ],
 "metadata": {
  "kernelspec": {
   "display_name": "Python 3",
   "language": "python",
   "name": "python3"
  },
  "language_info": {
   "codemirror_mode": {
    "name": "ipython",
    "version": 2
   },
   "file_extension": ".py",
   "mimetype": "text/x-python",
   "name": "python",
   "nbconvert_exporter": "python",
   "pygments_lexer": "ipython2",
   "version": "2.7.6"
  }
 },
 "nbformat": 4,
 "nbformat_minor": 5
}
