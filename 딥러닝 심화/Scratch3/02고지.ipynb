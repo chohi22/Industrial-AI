{
 "cells": [
  {
   "metadata": {},
   "cell_type": "markdown",
   "source": "### 가변 길이 인수(순전파 편)",
   "id": "1dacfe132967aed1"
  },
  {
   "metadata": {
    "ExecuteTime": {
     "end_time": "2025-04-06T09:37:15.086854Z",
     "start_time": "2025-04-06T09:37:14.966996Z"
    }
   },
   "cell_type": "code",
   "source": [
    "import numpy as np\n",
    "from scipy.special import y1_zeros\n",
    "\n",
    "from Scratch3.step10 import square\n",
    "from plot import output\n",
    "\n",
    "\n",
    "class Variable:\n",
    "    def __init__(self, data):\n",
    "        if data is not None:\n",
    "            if not isinstance(data, np.ndarray):\n",
    "                raise TypeError('{} is not supported'.format(type(data)))\n",
    "\n",
    "        self.data = data\n",
    "        self.grad = None\n",
    "        self.creator = None\n",
    "\n",
    "    def set_creator(self, func):\n",
    "        self.creator = func\n",
    "\n",
    "    def backward(self):\n",
    "        if self.grad is None:\n",
    "            self.grad = np.ones_like(self.data)\n",
    "\n",
    "        funcs = [self.creator]\n",
    "        while funcs:\n",
    "            f = funcs.pop()\n",
    "            x, y = f.input, f.output\n",
    "            x.grad = f.backward(y.grad)\n",
    "\n",
    "            if x.creator is not None:\n",
    "                funcs.append(x.creator)\n",
    "\n",
    "\n",
    "def as_array(x):\n",
    "    if np.isscalar(x):\n",
    "        return np.array(x)\n",
    "    return x\n"
   ],
   "id": "dcad4c0ca42a800d",
   "outputs": [],
   "execution_count": 4
  },
  {
   "metadata": {
    "ExecuteTime": {
     "end_time": "2025-04-06T09:37:18.158690Z",
     "start_time": "2025-04-06T09:37:18.155224Z"
    }
   },
   "cell_type": "code",
   "source": [
    "class Function:\n",
    "    def __call__(self, inputs):\n",
    "        xs = [x.data for x in inputs]\n",
    "        ys = self.forward(xs)\n",
    "        outputs = [Variable(as_array(y)) for y in ys]\n",
    "\n",
    "        for output in outputs:\n",
    "            output.set_creator(self)\n",
    "        self.inputs = inputs\n",
    "        self.outputs = outputs\n",
    "        return outputs\n",
    "\n",
    "    def forward(self, x):\n",
    "        raise NotImplementedError()\n",
    "\n",
    "    def backward(self, gy):\n",
    "        raise NotImplementedError()"
   ],
   "id": "3eb77556d57da348",
   "outputs": [],
   "execution_count": 5
  },
  {
   "metadata": {
    "ExecuteTime": {
     "end_time": "2025-04-06T09:37:20.303814Z",
     "start_time": "2025-04-06T09:37:20.300139Z"
    }
   },
   "cell_type": "code",
   "source": [
    "class Add(Function):\n",
    "    def forward(self, xs):\n",
    "        x0, x1 = xs\n",
    "        y = x0 + x1\n",
    "        return (y,)"
   ],
   "id": "ceb96065bad18a64",
   "outputs": [],
   "execution_count": 6
  },
  {
   "metadata": {
    "ExecuteTime": {
     "end_time": "2025-04-06T09:37:22.431875Z",
     "start_time": "2025-04-06T09:37:22.425279Z"
    }
   },
   "cell_type": "code",
   "source": [
    "xs = [Variable(np.array(2)), Variable(np.array(3))]\n",
    "f = Add()\n",
    "ys = f(xs)\n",
    "y = ys[0]\n",
    "print(y.data)\n"
   ],
   "id": "dfe0ff8d349cba14",
   "outputs": [
    {
     "name": "stdout",
     "output_type": "stream",
     "text": [
      "5\n"
     ]
    }
   ],
   "execution_count": 7
  },
  {
   "metadata": {},
   "cell_type": "markdown",
   "source": "### 가변 길이 인수(개선)",
   "id": "d800613d81764489"
  },
  {
   "metadata": {
    "ExecuteTime": {
     "end_time": "2025-04-06T09:38:53.293622Z",
     "start_time": "2025-04-06T09:38:53.287223Z"
    }
   },
   "cell_type": "code",
   "source": [
    "import numpy as np\n",
    "\n",
    "\n",
    "class Variable:\n",
    "    def __init__(self, data):\n",
    "        if data is not None:\n",
    "            if not isinstance(data, np.ndarray):\n",
    "                raise TypeError('{} is not supported'.format(type(data)))\n",
    "\n",
    "        self.data = data\n",
    "        self.grad = None\n",
    "        self.creator = None\n",
    "\n",
    "    def set_creator(self, func):\n",
    "        self.creator = func\n",
    "\n",
    "    def backward(self):\n",
    "        if self.grad is None:\n",
    "            self.grad = np.ones_like(self.data)\n",
    "\n",
    "        funcs = [self.creator]\n",
    "        while funcs:\n",
    "            f = funcs.pop()\n",
    "            x, y = f.input, f.output\n",
    "            x.grad = f.backward(y.grad)\n",
    "\n",
    "            if x.creator is not None:\n",
    "                funcs.append(x.creator)\n",
    "\n",
    "\n",
    "def as_array(x):\n",
    "    if np.isscalar(x):\n",
    "        return np.array(x)\n",
    "    return x"
   ],
   "id": "79c1d778f1318535",
   "outputs": [],
   "execution_count": 12
  },
  {
   "metadata": {
    "ExecuteTime": {
     "end_time": "2025-04-06T09:38:55.960856Z",
     "start_time": "2025-04-06T09:38:55.955310Z"
    }
   },
   "cell_type": "code",
   "source": [
    "class Function:\n",
    "    def __call__(self, *inputs):\n",
    "        xs = [x.data for x in inputs]\n",
    "        ys = self.forward(xs)\n",
    "        outputs = [Variable(as_array(y)) for y in ys]\n",
    "\n",
    "        for output in outputs:\n",
    "            output.set_creator(self)\n",
    "        self.inputs = inputs\n",
    "        self.outputs = outputs\n",
    "        return outputs if len(outputs) > 1 else outputs[0]\n",
    "\n",
    "    def forward(self, x):\n",
    "        raise NotImplementedError()\n",
    "\n",
    "    def backward(self, gy):\n",
    "        raise NotImplementedError()"
   ],
   "id": "5b1667ea55430bc2",
   "outputs": [],
   "execution_count": 13
  },
  {
   "metadata": {
    "ExecuteTime": {
     "end_time": "2025-04-06T09:38:58.509525Z",
     "start_time": "2025-04-06T09:38:58.504817Z"
    }
   },
   "cell_type": "code",
   "source": [
    "def f(*x):\n",
    "    print(x)\n",
    "\n",
    "\n",
    "f(1,2,3)\n",
    "\n",
    "f(1,2,3,4,5,6)"
   ],
   "id": "1f9deae7f1970f3e",
   "outputs": [
    {
     "name": "stdout",
     "output_type": "stream",
     "text": [
      "(1, 2, 3)\n",
      "(1, 2, 3, 4, 5, 6)\n"
     ]
    }
   ],
   "execution_count": 14
  },
  {
   "metadata": {
    "ExecuteTime": {
     "end_time": "2025-04-06T09:39:44.767474Z",
     "start_time": "2025-04-06T09:39:44.763064Z"
    }
   },
   "cell_type": "code",
   "source": [
    "class Add(Function):\n",
    "    def forward(self, xs):\n",
    "        x0, x1 = xs\n",
    "        y = x0 + x1\n",
    "        return (y,)"
   ],
   "id": "5865457d0b1831c0",
   "outputs": [],
   "execution_count": 16
  },
  {
   "metadata": {
    "ExecuteTime": {
     "end_time": "2025-04-06T09:39:46.896477Z",
     "start_time": "2025-04-06T09:39:46.892299Z"
    }
   },
   "cell_type": "code",
   "source": [
    "x0 = Variable(np.array(2))\n",
    "x1 = Variable(np.array(3))\n",
    "f = Add()\n",
    "y = f(x0, x1)\n",
    "print(y.data)"
   ],
   "id": "be95acbcf87447ba",
   "outputs": [
    {
     "name": "stdout",
     "output_type": "stream",
     "text": [
      "5\n"
     ]
    }
   ],
   "execution_count": 17
  },
  {
   "metadata": {
    "ExecuteTime": {
     "end_time": "2025-04-06T09:41:25.529785Z",
     "start_time": "2025-04-06T09:41:25.522008Z"
    }
   },
   "cell_type": "code",
   "source": [
    "class Function:\n",
    "    def __call__(self, *inputs):\n",
    "        xs = [x.data for x in inputs]\n",
    "        ys = self.forward(*xs)\n",
    "        if not isinstance(ys, tuple):\n",
    "            ys = (ys,)\n",
    "        outputs = [Variable(as_array(y)) for y in ys]\n",
    "\n",
    "        for output in outputs:\n",
    "            output.set_creator(self)\n",
    "        self.inputs = inputs\n",
    "        self.outputs = outputs\n",
    "        return outputs if len(outputs) > 1 else outputs[0]\n",
    "\n",
    "    def forward(self, x):\n",
    "        raise NotImplementedError()\n",
    "\n",
    "    def backward(self, gy):\n",
    "        raise NotImplementedError()"
   ],
   "id": "f175fe3c8ab9d3a9",
   "outputs": [],
   "execution_count": 18
  },
  {
   "metadata": {
    "ExecuteTime": {
     "end_time": "2025-04-06T09:41:49.499431Z",
     "start_time": "2025-04-06T09:41:49.495904Z"
    }
   },
   "cell_type": "code",
   "source": [
    "class Add(Function):\n",
    "    def forward(self, x0, x1):\n",
    "        y = x0 + x1\n",
    "        return y"
   ],
   "id": "f0f8c70e32600047",
   "outputs": [],
   "execution_count": 19
  },
  {
   "metadata": {
    "ExecuteTime": {
     "end_time": "2025-04-06T09:43:01.171756Z",
     "start_time": "2025-04-06T09:43:01.168761Z"
    }
   },
   "cell_type": "code",
   "source": [
    "def add(x0, x1):\n",
    "    return Add()(x0, x1)"
   ],
   "id": "5b1d4eac64345208",
   "outputs": [],
   "execution_count": 20
  },
  {
   "metadata": {
    "ExecuteTime": {
     "end_time": "2025-04-06T09:43:27.791302Z",
     "start_time": "2025-04-06T09:43:27.787941Z"
    }
   },
   "cell_type": "code",
   "source": [
    "x0 = Variable(np.array(2))\n",
    "x1 = Variable(np.array(3))\n",
    "y = add(x0, x1)\n",
    "print(y.data)"
   ],
   "id": "8b31ebd13fcb7fa7",
   "outputs": [
    {
     "name": "stdout",
     "output_type": "stream",
     "text": [
      "5\n"
     ]
    }
   ],
   "execution_count": 21
  },
  {
   "metadata": {},
   "cell_type": "markdown",
   "source": "### 가변 길이 인수 - 역전파",
   "id": "ee6227d45f2dc114"
  },
  {
   "metadata": {
    "ExecuteTime": {
     "end_time": "2025-04-06T09:46:06.877750Z",
     "start_time": "2025-04-06T09:46:06.874437Z"
    }
   },
   "cell_type": "code",
   "source": [
    "class Add(Function):\n",
    "    def forward(self, x0, x1):\n",
    "        y = x0 + x1\n",
    "        return y\n",
    "\n",
    "    def backward(self, gy):\n",
    "        return gy, gy"
   ],
   "id": "334efc0132682acc",
   "outputs": [],
   "execution_count": 22
  },
  {
   "metadata": {
    "ExecuteTime": {
     "end_time": "2025-04-06T09:48:56.544313Z",
     "start_time": "2025-04-06T09:48:56.536700Z"
    }
   },
   "cell_type": "code",
   "source": [
    "import numpy as np\n",
    "\n",
    "\n",
    "class Variable:\n",
    "    def __init__(self, data):\n",
    "        if data is not None:\n",
    "            if not isinstance(data, np.ndarray):\n",
    "                raise TypeError('{} is not supported'.format(type(data)))\n",
    "\n",
    "        self.data = data\n",
    "        self.grad = None\n",
    "        self.creator = None\n",
    "\n",
    "    def set_creator(self, func):\n",
    "        self.creator = func\n",
    "\n",
    "    def backward(self):\n",
    "        if self.grad is None:\n",
    "            self.grad = np.ones_like(self.data)\n",
    "\n",
    "        funcs = [self.creator]\n",
    "        while funcs:\n",
    "            f = funcs.pop()\n",
    "            gys = [output.grad for output in f.outputs]\n",
    "            gxs = f.backward(*gys)\n",
    "            if not isinstance(gxs, tuple):\n",
    "                gxs = (gxs,)\n",
    "\n",
    "            for x, gx in zip(f.inputs, gxs):\n",
    "                x.grad = gx\n",
    "\n",
    "                if x.creator is not None:\n",
    "                    funcs.append(x.creator)\n",
    "\n",
    "def as_array(x):\n",
    "    if np.isscalar(x):\n",
    "        return np.array(x)\n",
    "    return x"
   ],
   "id": "3bfda2ad04c2b84c",
   "outputs": [],
   "execution_count": 24
  },
  {
   "metadata": {},
   "cell_type": "code",
   "outputs": [],
   "execution_count": null,
   "source": [
    "class Function:\n",
    "    def __call__(self, *inputs):\n",
    "        xs = [x.data for x in inputs]\n",
    "        ys = self.forward(xs)\n",
    "        outputs = [Variable(as_array(y)) for y in ys]\n",
    "\n",
    "        for output in outputs:\n",
    "            output.set_creator(self)\n",
    "        self.inputs = inputs\n",
    "        self.outputs = outputs\n",
    "        return outputs if len(outputs) > 1 else outputs[0]\n",
    "\n",
    "    def forward(self, x):\n",
    "        raise NotImplementedError()\n",
    "\n",
    "    def backward(self, gy):\n",
    "        raise NotImplementedError()"
   ],
   "id": "741bc95036f7cb47"
  },
  {
   "metadata": {
    "ExecuteTime": {
     "end_time": "2025-04-06T10:17:32.951982Z",
     "start_time": "2025-04-06T10:17:32.947843Z"
    }
   },
   "cell_type": "code",
   "source": [
    "class Square(Function):\n",
    "    def forward(self, x):\n",
    "        y = x ** 2\n",
    "        return y\n",
    "\n",
    "    def backward(self, gy):\n",
    "        x = self.inputs[0].data\n",
    "        gx = 2 * x * gy\n",
    "        return gx"
   ],
   "id": "23819743c3a329f8",
   "outputs": [],
   "execution_count": 48
  },
  {
   "metadata": {
    "ExecuteTime": {
     "end_time": "2025-04-06T10:17:35.111509Z",
     "start_time": "2025-04-06T10:17:35.108420Z"
    }
   },
   "cell_type": "code",
   "source": [
    "def square(x):\n",
    "    f = Square()\n",
    "    return f(x)\n"
   ],
   "id": "ea92c12cdbeee9e4",
   "outputs": [],
   "execution_count": 49
  },
  {
   "metadata": {},
   "cell_type": "code",
   "outputs": [],
   "execution_count": null,
   "source": [
    "x = Variable(np.array(2.0))\n",
    "y = Variable(np.array(3.0))\n",
    "\n",
    "z = add(square(x), square(y))\n",
    "z.backward()\n",
    "print(z.data)\n",
    "print(x.grad)\n",
    "print(y.grad)"
   ],
   "id": "f624fe9dd897fea2"
  },
  {
   "metadata": {},
   "cell_type": "markdown",
   "source": "### 같은 변수 반복 사용",
   "id": "b5d7332e3901a9e9"
  },
  {
   "metadata": {
    "ExecuteTime": {
     "end_time": "2025-04-06T09:55:58.103286Z",
     "start_time": "2025-04-06T09:55:58.098373Z"
    }
   },
   "cell_type": "code",
   "source": [
    "x = Variable(np.array(3.0))\n",
    "y = add(x, x)\n",
    "print('y', y.data)\n",
    "\n",
    "y.backward()\n",
    "print('x.grad', x.grad)"
   ],
   "id": "775174031f98d2aa",
   "outputs": [
    {
     "name": "stdout",
     "output_type": "stream",
     "text": [
      "y 6.0\n",
      "x.grad 1.0\n"
     ]
    }
   ],
   "execution_count": 33
  },
  {
   "metadata": {
    "ExecuteTime": {
     "end_time": "2025-04-06T09:57:47.999692Z",
     "start_time": "2025-04-06T09:57:47.991923Z"
    }
   },
   "cell_type": "code",
   "source": [
    "import numpy as np\n",
    "\n",
    "\n",
    "class Variable:\n",
    "    def __init__(self, data):\n",
    "        if data is not None:\n",
    "            if not isinstance(data, np.ndarray):\n",
    "                raise TypeError('{} is not supported'.format(type(data)))\n",
    "\n",
    "        self.data = data\n",
    "        self.grad = None\n",
    "        self.creator = None\n",
    "\n",
    "    def set_creator(self, func):\n",
    "        self.creator = func\n",
    "\n",
    "    def backward(self):\n",
    "        if self.grad is None:\n",
    "            self.grad = np.ones_like(self.data)\n",
    "\n",
    "        funcs = [self.creator]\n",
    "        while funcs:\n",
    "            f = funcs.pop()\n",
    "            gys = [output.grad for output in f.outputs]\n",
    "            gxs = f.backward(*gys)\n",
    "            if not isinstance(gxs, tuple):\n",
    "                gxs = (gxs,)\n",
    "\n",
    "            for x, gx in zip(f.inputs, gxs):\n",
    "                #x.grad = gx\n",
    "                if x.grad is None:\n",
    "                    x.grad = gx\n",
    "                else:\n",
    "                    x.grad = x.grad + gx\n",
    "\n",
    "                if x.creator is not None:\n",
    "                    funcs.append(x.creator)\n",
    "\n",
    "def as_array(x):\n",
    "    if np.isscalar(x):\n",
    "        return np.array(x)\n",
    "    return x"
   ],
   "id": "98cabb7cc2c441dc",
   "outputs": [],
   "execution_count": 34
  },
  {
   "metadata": {
    "ExecuteTime": {
     "end_time": "2025-04-06T09:58:12.435740Z",
     "start_time": "2025-04-06T09:58:12.432872Z"
    }
   },
   "cell_type": "code",
   "source": [
    "x = Variable(np.array(3.0))\n",
    "y = add(x, x)\n",
    "print('y', y.data)\n",
    "\n",
    "y.backward()\n",
    "print('x.grad', x.grad)"
   ],
   "id": "8dbde608a481fcd4",
   "outputs": [
    {
     "name": "stdout",
     "output_type": "stream",
     "text": [
      "y 6.0\n",
      "x.grad 2.0\n"
     ]
    }
   ],
   "execution_count": 35
  },
  {
   "metadata": {
    "ExecuteTime": {
     "end_time": "2025-04-06T09:58:39.142356Z",
     "start_time": "2025-04-06T09:58:39.137248Z"
    }
   },
   "cell_type": "code",
   "source": [
    "x = Variable(np.array(3.0))\n",
    "y = add(add(x, x), x)\n",
    "print('y', y.data)\n",
    "\n",
    "y.backward()\n",
    "x = Variable(np.array(3.0))\n",
    "y = add(add(x, x), x)\n",
    "print('y', y.data)\n",
    "print('x.grad', x.grad)"
   ],
   "id": "2e270b11cf89eee0",
   "outputs": [
    {
     "name": "stdout",
     "output_type": "stream",
     "text": [
      "y 9.0\n",
      "x.grad 3.0\n"
     ]
    }
   ],
   "execution_count": 36
  },
  {
   "metadata": {
    "ExecuteTime": {
     "end_time": "2025-04-06T10:00:38.434909Z",
     "start_time": "2025-04-06T10:00:38.428428Z"
    }
   },
   "cell_type": "code",
   "source": [
    "x = Variable(np.array(3.0))\n",
    "y = add(x, x)\n",
    "y.backward()\n",
    "print('x.grad', x.grad)\n",
    "\n",
    "y = add(add(x, x), x)\n",
    "y.backward()\n",
    "print('x.grad', x.grad)"
   ],
   "id": "6134c34e506cf818",
   "outputs": [
    {
     "name": "stdout",
     "output_type": "stream",
     "text": [
      "x.grad 2.0\n",
      "x.grad 5.0\n"
     ]
    }
   ],
   "execution_count": 37
  },
  {
   "metadata": {
    "ExecuteTime": {
     "end_time": "2025-04-06T10:01:38.602843Z",
     "start_time": "2025-04-06T10:01:38.594340Z"
    }
   },
   "cell_type": "code",
   "source": [
    "import numpy as np\n",
    "\n",
    "\n",
    "class Variable:\n",
    "    def __init__(self, data):\n",
    "        if data is not None:\n",
    "            if not isinstance(data, np.ndarray):\n",
    "                raise TypeError('{} is not supported'.format(type(data)))\n",
    "\n",
    "        self.data = data\n",
    "        self.grad = None\n",
    "        self.creator = None\n",
    "\n",
    "    def cleargrad(self):\n",
    "        self.grad = None\n",
    "\n",
    "    def set_creator(self, func):\n",
    "        self.creator = func\n",
    "\n",
    "    def backward(self):\n",
    "        if self.grad is None:\n",
    "            self.grad = np.ones_like(self.data)\n",
    "\n",
    "        funcs = [self.creator]\n",
    "        while funcs:\n",
    "            f = funcs.pop()\n",
    "            gys = [output.grad for output in f.outputs]\n",
    "            gxs = f.backward(*gys)\n",
    "            if not isinstance(gxs, tuple):\n",
    "                gxs = (gxs,)\n",
    "\n",
    "            for x, gx in zip(f.inputs, gxs):\n",
    "                #x.grad = gx\n",
    "                if x.grad is None:\n",
    "                    x.grad = gx\n",
    "                else:\n",
    "                    x.grad = x.grad + gx\n",
    "\n",
    "                if x.creator is not None:\n",
    "                    funcs.append(x.creator)\n",
    "\n",
    "def as_array(x):\n",
    "    if np.isscalar(x):\n",
    "        return np.array(x)\n",
    "    return x"
   ],
   "id": "edf6937f18e3c8ed",
   "outputs": [],
   "execution_count": 38
  },
  {
   "metadata": {
    "ExecuteTime": {
     "end_time": "2025-04-06T10:02:13.556982Z",
     "start_time": "2025-04-06T10:02:13.553786Z"
    }
   },
   "cell_type": "code",
   "source": [
    "x = Variable(np.array(3.0))\n",
    "y = add(x, x)\n",
    "y.backward()\n",
    "print('x.grad', x.grad)\n",
    "\n",
    "x.cleargrad()\n",
    "y = add(add(x, x), x)\n",
    "y.backward()\n",
    "print('x.grad', x.grad)"
   ],
   "id": "bba4c4bebd10c6c7",
   "outputs": [
    {
     "name": "stdout",
     "output_type": "stream",
     "text": [
      "x.grad 2.0\n",
      "x.grad 3.0\n"
     ]
    }
   ],
   "execution_count": 40
  },
  {
   "metadata": {},
   "cell_type": "markdown",
   "source": "### 복잡한 계산 그래프",
   "id": "bb0e681ad05654fb"
  },
  {
   "metadata": {
    "ExecuteTime": {
     "end_time": "2025-04-06T10:09:43.197139Z",
     "start_time": "2025-04-06T10:09:43.188407Z"
    }
   },
   "cell_type": "code",
   "source": [
    "import numpy as np\n",
    "\n",
    "\n",
    "class Variable:\n",
    "    def __init__(self, data):\n",
    "        if data is not None:\n",
    "            if not isinstance(data, np.ndarray):\n",
    "                raise TypeError('{} is not supported'.format(type(data)))\n",
    "\n",
    "        self.data = data\n",
    "        self.grad = None\n",
    "        self.creator = None\n",
    "        self.generation = 0\n",
    "\n",
    "    def cleargrad(self):\n",
    "        self.grad = None\n",
    "\n",
    "    def set_creator(self, func):\n",
    "        self.creator = func\n",
    "        self.generation = func.generation + 1\n",
    "\n",
    "    def backward(self):\n",
    "        if self.grad is None:\n",
    "            self.grad = np.ones_like(self.data)\n",
    "\n",
    "        funcs = [self.creator]\n",
    "        while funcs:\n",
    "            f = funcs.pop()\n",
    "            gys = [output.grad for output in f.outputs]\n",
    "            gxs = f.backward(*gys)\n",
    "            if not isinstance(gxs, tuple):\n",
    "                gxs = (gxs,)\n",
    "\n",
    "            for x, gx in zip(f.inputs, gxs):\n",
    "                #x.grad = gx\n",
    "                if x.grad is None:\n",
    "                    x.grad = gx\n",
    "                else:\n",
    "                    x.grad = x.grad + gx\n",
    "\n",
    "                if x.creator is not None:\n",
    "                    funcs.append(x.creator)\n",
    "\n",
    "def as_array(x):\n",
    "    if np.isscalar(x):\n",
    "        return np.array(x)\n",
    "    return x"
   ],
   "id": "8ad11e5b576c6fcc",
   "outputs": [],
   "execution_count": 42
  },
  {
   "metadata": {
    "ExecuteTime": {
     "end_time": "2025-04-06T10:09:46.157883Z",
     "start_time": "2025-04-06T10:09:46.151723Z"
    }
   },
   "cell_type": "code",
   "source": [
    "class Function:\n",
    "    def __call__(self, *inputs):\n",
    "        xs = [x.data for x in inputs]\n",
    "        ys = self.forward(*xs)\n",
    "        if not isinstance(ys, tuple):\n",
    "            ys = (ys,)\n",
    "\n",
    "        outputs = [Variable(as_array(y)) for y in ys]\n",
    "\n",
    "        self.generation = max([x.generation for x in inputs])\n",
    "\n",
    "        for output in outputs:\n",
    "            output.set_creator(self)\n",
    "        self.inputs = inputs\n",
    "        self.outputs = outputs\n",
    "        return outputs if len(outputs) > 1 else outputs[0]\n",
    "\n",
    "    def forward(self, x):\n",
    "        raise NotImplementedError()\n",
    "\n",
    "    def backward(self, gy):\n",
    "        raise NotImplementedError()"
   ],
   "id": "d91b6d15ed682679",
   "outputs": [],
   "execution_count": 43
  },
  {
   "metadata": {
    "ExecuteTime": {
     "end_time": "2025-04-06T10:11:23.499848Z",
     "start_time": "2025-04-06T10:11:23.494896Z"
    }
   },
   "cell_type": "code",
   "source": [
    "generations = [2, 0, 1, 4, 2]\n",
    "funcs = []\n",
    "\n",
    "for g in generations:\n",
    "    f = Function()\n",
    "    f.generation = g\n",
    "    funcs.append(f)\n",
    "\n",
    "[f.generation for f in funcs]"
   ],
   "id": "eba535a4d483f20",
   "outputs": [
    {
     "data": {
      "text/plain": [
       "[2, 0, 1, 4, 2]"
      ]
     },
     "execution_count": 44,
     "metadata": {},
     "output_type": "execute_result"
    }
   ],
   "execution_count": 44
  },
  {
   "metadata": {
    "ExecuteTime": {
     "end_time": "2025-04-06T10:11:55.096341Z",
     "start_time": "2025-04-06T10:11:55.090857Z"
    }
   },
   "cell_type": "code",
   "source": [
    "funcs.sort(key=lambda x: x.generation)\n",
    "[f.generation for f in funcs]"
   ],
   "id": "ed6fd3f3665d8ba2",
   "outputs": [
    {
     "data": {
      "text/plain": [
       "[0, 1, 2, 2, 4]"
      ]
     },
     "execution_count": 45,
     "metadata": {},
     "output_type": "execute_result"
    }
   ],
   "execution_count": 45
  },
  {
   "metadata": {
    "ExecuteTime": {
     "end_time": "2025-04-06T10:12:18.850722Z",
     "start_time": "2025-04-06T10:12:18.845059Z"
    }
   },
   "cell_type": "code",
   "source": [
    "f = funcs.pop()\n",
    "f.generation"
   ],
   "id": "cae8eb5ec021e44c",
   "outputs": [
    {
     "data": {
      "text/plain": [
       "4"
      ]
     },
     "execution_count": 46,
     "metadata": {},
     "output_type": "execute_result"
    }
   ],
   "execution_count": 46
  },
  {
   "metadata": {
    "ExecuteTime": {
     "end_time": "2025-04-06T10:17:46.647856Z",
     "start_time": "2025-04-06T10:17:46.638643Z"
    }
   },
   "cell_type": "code",
   "source": [
    "import numpy as np\n",
    "\n",
    "\n",
    "class Variable:\n",
    "    def __init__(self, data):\n",
    "        if data is not None:\n",
    "            if not isinstance(data, np.ndarray):\n",
    "                raise TypeError('{} is not supported'.format(type(data)))\n",
    "\n",
    "        self.data = data\n",
    "        self.grad = None\n",
    "        self.creator = None\n",
    "        self.generation = 0\n",
    "\n",
    "    def cleargrad(self):\n",
    "        self.grad = None\n",
    "\n",
    "    def set_creator(self, func):\n",
    "        self.creator = func\n",
    "        self.generation = func.generation + 1\n",
    "\n",
    "    def backward(self):\n",
    "        if self.grad is None:\n",
    "            self.grad = np.ones_like(self.data)\n",
    "\n",
    "        funcs = []\n",
    "        seen_set = set()\n",
    "\n",
    "        def add_func(f):\n",
    "            if f not in seen_set:\n",
    "                funcs.append(f)\n",
    "                seen_set.add(f)\n",
    "                funcs.sort(key=lambda x: x.generation)\n",
    "\n",
    "        add_func(self.creator)\n",
    "\n",
    "        while funcs:\n",
    "            f = funcs.pop()\n",
    "            gys = [output.grad for output in f.outputs]\n",
    "            gxs = f.backward(*gys)\n",
    "            if not isinstance(gxs, tuple):\n",
    "                gxs = (gxs,)\n",
    "\n",
    "            for x, gx in zip(f.inputs, gxs):\n",
    "                #x.grad = gx\n",
    "                if x.grad is None:\n",
    "                    x.grad = gx\n",
    "                else:\n",
    "                    x.grad = x.grad + gx\n",
    "\n",
    "                if x.creator is not None:\n",
    "                    add_func(x.creator)\n",
    "\n",
    "def as_array(x):\n",
    "    if np.isscalar(x):\n",
    "        return np.array(x)\n",
    "    return x"
   ],
   "id": "3f7ab5c3b12115c5",
   "outputs": [],
   "execution_count": 50
  },
  {
   "metadata": {
    "ExecuteTime": {
     "end_time": "2025-04-06T10:18:41.813107Z",
     "start_time": "2025-04-06T10:18:41.810453Z"
    }
   },
   "cell_type": "code",
   "source": [
    "class Square(Function):\n",
    "    def forward(self, x):\n",
    "        y = x ** 2\n",
    "        return y\n",
    "\n",
    "    def backward(self, gy):\n",
    "        x = self.inputs[0].data\n",
    "        gx = 2 * x * gy\n",
    "        return gx\n",
    "\n",
    "\n",
    "def square(x):\n",
    "    return Square()(x)\n"
   ],
   "id": "abaf707ecfc79b64",
   "outputs": [],
   "execution_count": 54
  },
  {
   "metadata": {
    "ExecuteTime": {
     "end_time": "2025-04-06T10:19:08.548572Z",
     "start_time": "2025-04-06T10:19:08.545410Z"
    }
   },
   "cell_type": "code",
   "source": [
    "class Add(Function):\n",
    "    def forward(self, x0, x1):\n",
    "        y = x0 + x1\n",
    "        return y\n",
    "\n",
    "    def backward(self, gy):\n",
    "        return gy, gy\n",
    "\n",
    "\n",
    "def add(x0, x1):\n",
    "    return Add()(x0, x1)\n"
   ],
   "id": "6601b2987dc92419",
   "outputs": [],
   "execution_count": 56
  },
  {
   "metadata": {
    "ExecuteTime": {
     "end_time": "2025-04-06T10:19:10.829289Z",
     "start_time": "2025-04-06T10:19:10.824458Z"
    }
   },
   "cell_type": "code",
   "source": [
    "x = Variable(np.array(2.0))\n",
    "a = square(x)\n",
    "y = add(square(a), square(a))\n",
    "y.backward()\n",
    "\n",
    "print(y.data)\n",
    "print(x.grad)"
   ],
   "id": "e8b4c403c3ff7215",
   "outputs": [
    {
     "name": "stdout",
     "output_type": "stream",
     "text": [
      "32.0\n",
      "64.0\n"
     ]
    }
   ],
   "execution_count": 57
  },
  {
   "metadata": {},
   "cell_type": "markdown",
   "source": "### 메모리 관리와 순환 참조",
   "id": "b417517f824f8e26"
  },
  {
   "metadata": {
    "ExecuteTime": {
     "end_time": "2025-04-06T10:35:16.739653Z",
     "start_time": "2025-04-06T10:35:16.734892Z"
    }
   },
   "cell_type": "code",
   "source": [
    "import weakref\n",
    "import numpy as np\n",
    "\n",
    "a = np.array([1, 2, 3])\n",
    "b = weakref.ref(a)\n",
    "print(b)\n",
    "print(b())"
   ],
   "id": "f6001c5dd27bf181",
   "outputs": [
    {
     "name": "stdout",
     "output_type": "stream",
     "text": [
      "<weakref at 0x108e77270; to 'numpy.ndarray' at 0x10904fb10>\n",
      "[1 2 3]\n"
     ]
    }
   ],
   "execution_count": 71
  },
  {
   "metadata": {
    "ExecuteTime": {
     "end_time": "2025-04-06T10:25:20.039321Z",
     "start_time": "2025-04-06T10:25:20.034744Z"
    }
   },
   "cell_type": "code",
   "source": [
    "a = None\n",
    "b"
   ],
   "id": "9cddaf05c73a274b",
   "outputs": [
    {
     "data": {
      "text/plain": [
       "<weakref at 0x108e9a3b0; dead>"
      ]
     },
     "execution_count": 59,
     "metadata": {},
     "output_type": "execute_result"
    }
   ],
   "execution_count": 59
  },
  {
   "metadata": {
    "ExecuteTime": {
     "end_time": "2025-04-06T10:35:19.284412Z",
     "start_time": "2025-04-06T10:35:19.278455Z"
    }
   },
   "cell_type": "code",
   "source": [
    "import weakref\n",
    "\n",
    "class Function:\n",
    "    def __call__(self, *inputs):\n",
    "        xs = [x.data for x in inputs]\n",
    "        ys = self.forward(*xs)\n",
    "        if not isinstance(ys, tuple):\n",
    "            ys = (ys,)\n",
    "\n",
    "        outputs = [Variable(as_array(y)) for y in ys]\n",
    "\n",
    "        self.generation = max([x.generation for x in inputs])\n",
    "\n",
    "        for output in outputs:\n",
    "            output.set_creator(self)\n",
    "        self.inputs = inputs\n",
    "        self.outputs = [weakref.ref(output) for output in outputs]\n",
    "        return outputs if len(outputs) > 1 else outputs[0]\n",
    "\n",
    "    def forward(self, x):\n",
    "        raise NotImplementedError()\n",
    "\n",
    "    def backward(self, gy):\n",
    "        raise NotImplementedError()"
   ],
   "id": "e698be3eceb5ae37",
   "outputs": [],
   "execution_count": 72
  },
  {
   "metadata": {
    "ExecuteTime": {
     "end_time": "2025-04-06T10:35:55.216729Z",
     "start_time": "2025-04-06T10:35:55.211595Z"
    }
   },
   "cell_type": "code",
   "source": [
    "import numpy as np\n",
    "\n",
    "\n",
    "class Variable:\n",
    "    def __init__(self, data):\n",
    "        if data is not None:\n",
    "            if not isinstance(data, np.ndarray):\n",
    "                raise TypeError('{} is not supported'.format(type(data)))\n",
    "\n",
    "        self.data = data\n",
    "        self.grad = None\n",
    "        self.creator = None\n",
    "        self.generation = 0\n",
    "\n",
    "    def cleargrad(self):\n",
    "        self.grad = None\n",
    "\n",
    "    def set_creator(self, func):\n",
    "        self.creator = func\n",
    "        self.generation = func.generation + 1\n",
    "\n",
    "    def backward(self):\n",
    "        if self.grad is None:\n",
    "            self.grad = np.ones_like(self.data)\n",
    "\n",
    "        funcs = []\n",
    "        seen_set = set()\n",
    "\n",
    "        def add_func(f):\n",
    "            if f not in seen_set:\n",
    "                funcs.append(f)\n",
    "                seen_set.add(f)\n",
    "                funcs.sort(key=lambda x: x.generation)\n",
    "\n",
    "        add_func(self.creator)\n",
    "\n",
    "        while funcs:\n",
    "            f = funcs.pop()\n",
    "            gys = [output.grad for output in f.outputs]\n",
    "\n",
    "            gxs = f.backward(*gys)\n",
    "            if not isinstance(gxs, tuple):\n",
    "                gxs = (gxs,)\n",
    "\n",
    "            for x, gx in zip(f.inputs, gxs):\n",
    "                #x.grad = gx\n",
    "                if x.grad is None:\n",
    "                    x.grad = gx\n",
    "                else:\n",
    "                    x.grad = x.grad + gx\n",
    "\n",
    "                if x.creator is not None:\n",
    "                    add_func(x.creator)\n",
    "\n",
    "def as_array(x):\n",
    "    if np.isscalar(x):\n",
    "        return np.array(x)\n",
    "    return x"
   ],
   "id": "4edb0c677f670f71",
   "outputs": [],
   "execution_count": 76
  },
  {
   "metadata": {
    "ExecuteTime": {
     "end_time": "2025-04-06T10:35:59.640171Z",
     "start_time": "2025-04-06T10:35:59.632307Z"
    }
   },
   "cell_type": "code",
   "source": [
    "for i in range(10):\n",
    "    x = Variable(np.random.randn(10000))\n",
    "    y = square(square(square(x)))"
   ],
   "id": "d326af329777bcd5",
   "outputs": [],
   "execution_count": 77
  },
  {
   "metadata": {},
   "cell_type": "markdown",
   "source": "### 메모리 절약 모드",
   "id": "c4d381c9fdb07fdc"
  },
  {
   "metadata": {
    "ExecuteTime": {
     "end_time": "2025-04-06T10:36:01.583305Z",
     "start_time": "2025-04-06T10:36:01.578844Z"
    }
   },
   "cell_type": "code",
   "source": [
    "x0 = Variable(np.array(1.0))\n",
    "x1 = Variable(np.array(1.0))\n",
    "t = add(x0, x1)\n",
    "y = add(x0, t)\n",
    "y.backward()\n",
    "\n",
    "print(y.grad, t.grad)\n",
    "print(x0.grad, x1.grad)"
   ],
   "id": "c74ce62a48a7f89e",
   "outputs": [
    {
     "name": "stdout",
     "output_type": "stream",
     "text": [
      "1.0 1.0\n",
      "2.0 1.0\n"
     ]
    }
   ],
   "execution_count": 78
  },
  {
   "metadata": {
    "ExecuteTime": {
     "end_time": "2025-04-06T10:39:21.341248Z",
     "start_time": "2025-04-06T10:39:21.329519Z"
    }
   },
   "cell_type": "code",
   "source": [
    "class Variable:\n",
    "    def __init__(self, data):\n",
    "        if data is not None:\n",
    "            if not isinstance(data, np.ndarray):\n",
    "                raise TypeError('{} is not supported'.format(type(data)))\n",
    "\n",
    "        self.data = data\n",
    "        self.grad = None\n",
    "        self.creator = None\n",
    "        self.generation = 0\n",
    "\n",
    "    def set_creator(self, func):\n",
    "        self.creator = func\n",
    "        self.generation = func.generation + 1\n",
    "\n",
    "    def cleargrad(self):\n",
    "        self.grad = None\n",
    "\n",
    "    def backward(self, retain_grad=False):\n",
    "        if self.grad is None:\n",
    "            self.grad = np.ones_like(self.data)\n",
    "\n",
    "        funcs = []\n",
    "        seen_set = set()\n",
    "\n",
    "        def add_func(f):\n",
    "            if f not in seen_set:\n",
    "                funcs.append(f)\n",
    "                seen_set.add(f)\n",
    "                funcs.sort(key=lambda x: x.generation)\n",
    "\n",
    "        add_func(self.creator)\n",
    "\n",
    "        while funcs:\n",
    "            f = funcs.pop()\n",
    "            gys = [output().grad for output in f.outputs]  # output is weakref\n",
    "            gxs = f.backward(*gys)\n",
    "            if not isinstance(gxs, tuple):\n",
    "                gxs = (gxs,)\n",
    "\n",
    "            for x, gx in zip(f.inputs, gxs):\n",
    "                if x.grad is None:\n",
    "                    x.grad = gx\n",
    "                else:\n",
    "                    x.grad = x.grad + gx\n",
    "\n",
    "                if x.creator is not None:\n",
    "                    add_func(x.creator)\n",
    "\n",
    "            if not retain_grad:\n",
    "                for y in f.outputs:\n",
    "                    y().grad = None  # y is weakref\n",
    "\n",
    "\n",
    "def as_array(x):\n",
    "    if np.isscalar(x):\n",
    "        return np.array(x)\n",
    "    return x"
   ],
   "id": "f2179668795ad553",
   "outputs": [],
   "execution_count": 83
  },
  {
   "metadata": {
    "ExecuteTime": {
     "end_time": "2025-04-06T10:40:16.379188Z",
     "start_time": "2025-04-06T10:40:16.375637Z"
    }
   },
   "cell_type": "code",
   "source": [
    "class Square(Function):\n",
    "    def forward(self, x):\n",
    "        y = x ** 2\n",
    "        return y\n",
    "\n",
    "    def backward(self, gy):\n",
    "        x = self.inputs[0].data\n",
    "        gx = 2 * x * gy\n",
    "        return gx\n",
    "\n",
    "\n",
    "def square(x):\n",
    "    return Square()(x)\n",
    "\n",
    "\n",
    "class Add(Function):\n",
    "    def forward(self, x0, x1):\n",
    "        y = x0 + x1\n",
    "        return y\n",
    "\n",
    "    def backward(self, gy):\n",
    "        return gy, gy\n",
    "\n",
    "\n",
    "def add(x0, x1):\n",
    "    return Add()(x0, x1)"
   ],
   "id": "615c6065156e021d",
   "outputs": [],
   "execution_count": 86
  },
  {
   "metadata": {
    "ExecuteTime": {
     "end_time": "2025-04-06T10:40:19.270280Z",
     "start_time": "2025-04-06T10:40:19.264894Z"
    }
   },
   "cell_type": "code",
   "source": [
    "x0 = Variable(np.array(1.0))\n",
    "x1 = Variable(np.array(1.0))\n",
    "t = add(x0, x1)\n",
    "y = add(x0, t)\n",
    "y.backward()\n",
    "\n",
    "print(y.grad, t.grad)  # None None\n",
    "print(x0.grad, x1.grad)  # 2.0 1.0"
   ],
   "id": "e0675d30801582ec",
   "outputs": [
    {
     "name": "stdout",
     "output_type": "stream",
     "text": [
      "None None\n",
      "2.0 1.0\n"
     ]
    }
   ],
   "execution_count": 87
  },
  {
   "metadata": {
    "ExecuteTime": {
     "end_time": "2025-04-06T10:43:39.308725Z",
     "start_time": "2025-04-06T10:43:39.305799Z"
    }
   },
   "cell_type": "code",
   "source": [
    "class Config:\n",
    "    enable_backprop = True"
   ],
   "id": "ce354c6545d31078",
   "outputs": [],
   "execution_count": 90
  },
  {
   "metadata": {
    "ExecuteTime": {
     "end_time": "2025-04-06T10:46:05.753452Z",
     "start_time": "2025-04-06T10:46:05.748852Z"
    }
   },
   "cell_type": "code",
   "source": [
    "import weakref\n",
    "\n",
    "class Function:\n",
    "    def __call__(self, *inputs):\n",
    "        xs = [x.data for x in inputs]\n",
    "        ys = self.forward(*xs)\n",
    "        if not isinstance(ys, tuple):\n",
    "            ys = (ys,)\n",
    "\n",
    "        outputs = [Variable(as_array(y)) for y in ys]\n",
    "\n",
    "        if Config.enable_backprop:\n",
    "            self.generation = max([x.generation for x in inputs])\n",
    "            for output in outputs:\n",
    "                output.set_creator(self)\n",
    "            self.inputs = inputs\n",
    "            self.outputs = [weakref.ref(output) for output in outputs]\n",
    "\n",
    "        return outputs if len(outputs) > 1 else outputs[0]\n",
    "\n",
    "    def forward(self, x):\n",
    "        raise NotImplementedError()\n",
    "\n",
    "    def backward(self, gy):\n",
    "        raise NotImplementedError()"
   ],
   "id": "a58793d394bfd824",
   "outputs": [],
   "execution_count": 92
  },
  {
   "metadata": {
    "ExecuteTime": {
     "end_time": "2025-04-06T10:46:07.542561Z",
     "start_time": "2025-04-06T10:46:07.524253Z"
    }
   },
   "cell_type": "code",
   "source": [
    "Config.enable_backprop = True\n",
    "x = Variable(np.ones((100, 100, 100)))\n",
    "y = square(square(square(x)))\n",
    "y.backward()\n",
    "\n",
    "Config.enable_backprop = False\n",
    "x = Variable(np.ones((100, 100, 100)))\n",
    "y = square(square(square(x)))"
   ],
   "id": "8673f145f19bb60c",
   "outputs": [],
   "execution_count": 93
  },
  {
   "metadata": {
    "ExecuteTime": {
     "end_time": "2025-04-06T10:48:55.636235Z",
     "start_time": "2025-04-06T10:48:55.632500Z"
    }
   },
   "cell_type": "code",
   "source": [
    "import contextlib\n",
    "\n",
    "@contextlib.contextmanager\n",
    "def config_test():\n",
    "    print('start')\n",
    "    try:\n",
    "        yield\n",
    "    finally:\n",
    "        print('done')\n",
    "\n",
    "with config_test():\n",
    "    print('success...')"
   ],
   "id": "b374774e50646f27",
   "outputs": [
    {
     "name": "stdout",
     "output_type": "stream",
     "text": [
      "start\n",
      "success...\n",
      "done\n"
     ]
    }
   ],
   "execution_count": 94
  },
  {
   "metadata": {
    "ExecuteTime": {
     "end_time": "2025-04-06T10:50:51.242331Z",
     "start_time": "2025-04-06T10:50:51.235485Z"
    }
   },
   "cell_type": "code",
   "source": [
    "import contextlib\n",
    "\n",
    "@contextlib.contextmanager\n",
    "def using_config(name, value):\n",
    "    old_value = getattr(Config, name)\n",
    "    setattr(Config, name, value)\n",
    "    try:\n",
    "        yield\n",
    "    finally:\n",
    "        setattr(Config, name, old_value)\n",
    "\n",
    "with using_config('enable_backprop', False):\n",
    "    x = Variable(np.array(2.0))\n",
    "    y = square(x)"
   ],
   "id": "3d626363d5f7359e",
   "outputs": [],
   "execution_count": 95
  },
  {
   "metadata": {
    "ExecuteTime": {
     "end_time": "2025-04-06T10:51:58.412964Z",
     "start_time": "2025-04-06T10:51:58.408108Z"
    }
   },
   "cell_type": "code",
   "source": [
    "def no_grad():\n",
    "    return using_config('enable_backprop', False)\n",
    "\n",
    "with no_grad():\n",
    "    x = Variable(np.array(2.0))\n",
    "    y = square(x)"
   ],
   "id": "241ab1dd26b9372e",
   "outputs": [],
   "execution_count": 96
  },
  {
   "metadata": {},
   "cell_type": "markdown",
   "source": "### 변수 사용성 개선",
   "id": "27cfad58af84619e"
  },
  {
   "metadata": {
    "ExecuteTime": {
     "end_time": "2025-04-06T11:09:35.006629Z",
     "start_time": "2025-04-06T11:09:34.996494Z"
    }
   },
   "cell_type": "code",
   "source": [
    "class Variable:\n",
    "    def __init__(self, data, name=None):\n",
    "        if data is not None:\n",
    "            if not isinstance(data, np.ndarray):\n",
    "                raise TypeError('{} is not supported'.format(type(data)))\n",
    "\n",
    "        self.data = data\n",
    "        self.name = name\n",
    "        self.grad = None\n",
    "        self.creator = None\n",
    "        self.generation = 0\n",
    "\n",
    "    def __len__(self):\n",
    "        return len(self.data)\n",
    "\n",
    "    def __repr__(self):\n",
    "        if self.name is None:\n",
    "            return 'Variable containing:\\n{}'.format(self.data)\n",
    "        return 'Variable (name={}) containing:\\n{}'.format(self.name, self.data)\n",
    "\n",
    "    @property\n",
    "    def shape(self):\n",
    "        return self.data.shape\n",
    "\n",
    "    @property\n",
    "    def ndim(self):\n",
    "        return self.data.ndim\n",
    "\n",
    "    @property\n",
    "    def size(self):\n",
    "        return self.data.size\n",
    "\n",
    "    @property\n",
    "    def dtype(self):\n",
    "        return self.data.dtype\n",
    "\n",
    "    def set_creator(self, func):\n",
    "        self.creator = func\n",
    "        self.generation = func.generation + 1\n",
    "\n",
    "    def cleargrad(self):\n",
    "        self.grad = None\n",
    "\n",
    "    def backward(self, retain_grad=False):\n",
    "        if self.grad is None:\n",
    "            self.grad = np.ones_like(self.data)\n",
    "\n",
    "        funcs = []\n",
    "        seen_set = set()\n",
    "\n",
    "        def add_func(f):\n",
    "            if f not in seen_set:\n",
    "                funcs.append(f)\n",
    "                seen_set.add(f)\n",
    "                funcs.sort(key=lambda x: x.generation)\n",
    "\n",
    "        add_func(self.creator)\n",
    "\n",
    "        while funcs:\n",
    "            f = funcs.pop()\n",
    "            gys = [output().grad for output in f.outputs]  # output is weakref\n",
    "            gxs = f.backward(*gys)\n",
    "            if not isinstance(gxs, tuple):\n",
    "                gxs = (gxs,)\n",
    "\n",
    "            for x, gx in zip(f.inputs, gxs):\n",
    "                if x.grad is None:\n",
    "                    x.grad = gx\n",
    "                else:\n",
    "                    x.grad = x.grad + gx\n",
    "\n",
    "                if x.creator is not None:\n",
    "                    add_func(x.creator)\n",
    "\n",
    "            if not retain_grad:\n",
    "                for y in f.outputs:\n",
    "                    y().grad = None  # y is weakref\n",
    "\n",
    "\n",
    "def as_array(x):\n",
    "    if np.isscalar(x):\n",
    "        return np.array(x)\n",
    "    return x"
   ],
   "id": "f5be005f42439e4b",
   "outputs": [],
   "execution_count": 124
  },
  {
   "metadata": {
    "ExecuteTime": {
     "end_time": "2025-04-06T11:09:38.734611Z",
     "start_time": "2025-04-06T11:09:38.730710Z"
    }
   },
   "cell_type": "code",
   "source": [
    "x = Variable(np.array([[1,2,3],[4,5,6]]))\n",
    "print(x.shape)\n",
    "print(len(x))"
   ],
   "id": "9326416660f08a8",
   "outputs": [
    {
     "name": "stdout",
     "output_type": "stream",
     "text": [
      "(2, 3)\n",
      "2\n"
     ]
    }
   ],
   "execution_count": 125
  },
  {
   "metadata": {
    "ExecuteTime": {
     "end_time": "2025-04-06T11:09:40.741643Z",
     "start_time": "2025-04-06T11:09:40.736976Z"
    }
   },
   "cell_type": "code",
   "source": [
    "x = Variable(np.array([1,2,3]))\n",
    "print(x)\n",
    "\n",
    "x = Variable(None)\n",
    "print(x)\n",
    "\n",
    "x = Variable(np.array([[1,2,3],[4,5,6]]))\n",
    "print(x)"
   ],
   "id": "36651a129491c7c8",
   "outputs": [
    {
     "name": "stdout",
     "output_type": "stream",
     "text": [
      "Variable containing:\n",
      "[1 2 3]\n",
      "Variable containing:\n",
      "None\n",
      "Variable containing:\n",
      "[[1 2 3]\n",
      " [4 5 6]]\n"
     ]
    }
   ],
   "execution_count": 126
  },
  {
   "metadata": {},
   "cell_type": "markdown",
   "source": "### 연산자 오버로드",
   "id": "7c116537a64bd70e"
  },
  {
   "metadata": {
    "ExecuteTime": {
     "end_time": "2025-04-06T11:20:47.033577Z",
     "start_time": "2025-04-06T11:20:47.023563Z"
    }
   },
   "cell_type": "code",
   "source": [
    "import weakref\n",
    "import numpy as np\n",
    "import contextlib\n",
    "\n",
    "\n",
    "class Config:\n",
    "    enable_backprop = True\n",
    "\n",
    "\n",
    "@contextlib.contextmanager\n",
    "def using_config(name, value):\n",
    "    old_value = getattr(Config, name)\n",
    "    setattr(Config, name, value)\n",
    "    try:\n",
    "        yield\n",
    "    finally:\n",
    "        setattr(Config, name, old_value)\n",
    "\n",
    "\n",
    "def no_grad():\n",
    "    return using_config('enable_backprop', False)\n",
    "\n",
    "\n",
    "class Variable:\n",
    "    def __init__(self, data, name=None):\n",
    "        if data is not None:\n",
    "            if not isinstance(data, np.ndarray):\n",
    "                raise TypeError('{} is not supported'.format(type(data)))\n",
    "\n",
    "        self.data = data\n",
    "        self.name = name\n",
    "        self.grad = None\n",
    "        self.creator = None\n",
    "        self.generation = 0\n",
    "\n",
    "    @property\n",
    "    def shape(self):\n",
    "        return self.data.shape\n",
    "\n",
    "    @property\n",
    "    def ndim(self):\n",
    "        return self.data.ndim\n",
    "\n",
    "    @property\n",
    "    def size(self):\n",
    "        return self.data.size\n",
    "\n",
    "    @property\n",
    "    def dtype(self):\n",
    "        return self.data.dtype\n",
    "\n",
    "\n",
    "    def __mul__(self, other):\n",
    "        return mul(self, other)\n",
    "\n",
    "    def __len__(self):\n",
    "        return len(self.data)\n",
    "\n",
    "    def __repr__(self):\n",
    "        if self.data is None:\n",
    "            return 'variable(None)'\n",
    "        p = str(self.data).replace('\\n', '\\n' + ' ' * 9)\n",
    "        return 'variable(' + p + ')'\n",
    "\n",
    "    def set_creator(self, func):\n",
    "        self.creator = func\n",
    "        self.generation = func.generation + 1\n",
    "\n",
    "    def cleargrad(self):\n",
    "        self.grad = None\n",
    "\n",
    "    def backward(self, retain_grad=False):\n",
    "        if self.grad is None:\n",
    "            self.grad = np.ones_like(self.data)\n",
    "\n",
    "        funcs = []\n",
    "        seen_set = set()\n",
    "\n",
    "        def add_func(f):\n",
    "            if f not in seen_set:\n",
    "                funcs.append(f)\n",
    "                seen_set.add(f)\n",
    "                funcs.sort(key=lambda x: x.generation)\n",
    "\n",
    "        add_func(self.creator)\n",
    "\n",
    "        while funcs:\n",
    "            f = funcs.pop()\n",
    "            gys = [output().grad for output in f.outputs]  # output is weakref\n",
    "            gxs = f.backward(*gys)\n",
    "            if not isinstance(gxs, tuple):\n",
    "                gxs = (gxs,)\n",
    "\n",
    "            for x, gx in zip(f.inputs, gxs):\n",
    "                if x.grad is None:\n",
    "                    x.grad = gx\n",
    "                else:\n",
    "                    x.grad = x.grad + gx\n",
    "\n",
    "                if x.creator is not None:\n",
    "                    add_func(x.creator)\n",
    "\n",
    "            if not retain_grad:\n",
    "                for y in f.outputs:\n",
    "                    y().grad = None  # y is weakref\n",
    "\n",
    "\n",
    "def as_array(x):\n",
    "    if np.isscalar(x):\n",
    "        return np.array(x)\n",
    "    return x\n",
    "\n",
    "\n",
    "class Function:\n",
    "    def __call__(self, *inputs):\n",
    "        xs = [x.data for x in inputs]\n",
    "        ys = self.forward(*xs)\n",
    "        if not isinstance(ys, tuple):\n",
    "            ys = (ys,)\n",
    "        outputs = [Variable(as_array(y)) for y in ys]\n",
    "\n",
    "        if Config.enable_backprop:\n",
    "            self.generation = max([x.generation for x in inputs])\n",
    "            for output in outputs:\n",
    "                output.set_creator(self)\n",
    "            self.inputs = inputs\n",
    "            self.outputs = [weakref.ref(output) for output in outputs]\n",
    "\n",
    "        return outputs if len(outputs) > 1 else outputs[0]\n",
    "\n",
    "    def forward(self, xs):\n",
    "        raise NotImplementedError()\n",
    "\n",
    "    def backward(self, gys):\n",
    "        raise NotImplementedError()\n",
    "\n",
    "\n",
    "class Add(Function):\n",
    "    def forward(self, x0, x1):\n",
    "        y = x0 + x1\n",
    "        return y\n",
    "\n",
    "    def backward(self, gy):\n",
    "        return gy, gy\n",
    "\n",
    "\n",
    "def add(x0, x1):\n",
    "    return Add()(x0, x1)\n",
    "\n",
    "\n",
    "class Mul(Function):\n",
    "    def forward(self, x0, x1):\n",
    "        y = x0 * x1\n",
    "        return y\n",
    "\n",
    "    def backward(self, gy):\n",
    "        x0, x1 = self.inputs[0].data, self.inputs[1].data\n",
    "        return gy * x1, gy * x0\n",
    "\n",
    "\n",
    "def mul(x0, x1):\n",
    "    return Mul()(x0, x1)\n"
   ],
   "id": "c4041cb635b29a98",
   "outputs": [],
   "execution_count": 167
  },
  {
   "metadata": {
    "ExecuteTime": {
     "end_time": "2025-04-06T11:21:52.248631Z",
     "start_time": "2025-04-06T11:21:52.245201Z"
    }
   },
   "cell_type": "code",
   "source": [
    "\n",
    "Variable.__add__ = add\n",
    "Variable.__mul__ = mul\n",
    "\n",
    "a = Variable(np.array(3.0))\n",
    "b = Variable(np.array(2.0))\n",
    "c = Variable(np.array(1.0))\n",
    "\n",
    "#y = add(mul(a, b), c)\n",
    "y = a * b + c\n",
    "y.backward()\n",
    "\n",
    "print(y)\n",
    "print(a.grad)\n",
    "print(b.grad)"
   ],
   "id": "c984935099ddef17",
   "outputs": [
    {
     "name": "stdout",
     "output_type": "stream",
     "text": [
      "variable(7.0)\n",
      "2.0\n",
      "3.0\n"
     ]
    }
   ],
   "execution_count": 171
  },
  {
   "metadata": {
    "ExecuteTime": {
     "end_time": "2025-04-06T11:23:28.653476Z",
     "start_time": "2025-04-06T11:23:28.649813Z"
    }
   },
   "cell_type": "code",
   "source": [
    "def as_variable(obj):\n",
    "    if isinstance(obj, Variable):\n",
    "        return obj\n",
    "    return Variable(obj)"
   ],
   "id": "1340ad0df4e7d429",
   "outputs": [],
   "execution_count": 172
  },
  {
   "metadata": {
    "ExecuteTime": {
     "end_time": "2025-04-06T11:25:30.541278Z",
     "start_time": "2025-04-06T11:25:30.534793Z"
    }
   },
   "cell_type": "code",
   "source": [
    "class Function:\n",
    "    def __call__(self, *inputs):\n",
    "        inputs = [as_variable(x) for x in inputs]\n",
    "\n",
    "        xs = [x.data for x in inputs]\n",
    "        ys = self.forward(*xs)\n",
    "        if not isinstance(ys, tuple):\n",
    "            ys = (ys,)\n",
    "        outputs = [Variable(as_array(y)) for y in ys]\n",
    "\n",
    "        if Config.enable_backprop:\n",
    "            self.generation = max([x.generation for x in inputs])\n",
    "            for output in outputs:\n",
    "                output.set_creator(self)\n",
    "            self.inputs = inputs\n",
    "            self.outputs = [weakref.ref(output) for output in outputs]\n",
    "\n",
    "        return outputs if len(outputs) > 1 else outputs[0]\n",
    "\n",
    "    def forward(self, xs):\n",
    "        raise NotImplementedError()\n",
    "\n",
    "    def backward(self, gys):\n",
    "        raise NotImplementedError()\n"
   ],
   "id": "67dd9a25bc64874d",
   "outputs": [],
   "execution_count": 175
  },
  {
   "metadata": {
    "ExecuteTime": {
     "end_time": "2025-04-06T11:26:33.476558Z",
     "start_time": "2025-04-06T11:26:33.474053Z"
    }
   },
   "cell_type": "code",
   "source": [
    "class Add(Function):\n",
    "    def forward(self, x0, x1):\n",
    "        y = x0 + x1\n",
    "        return y\n",
    "\n",
    "    def backward(self, gy):\n",
    "        return gy, gy\n",
    "\n",
    "\n",
    "def add(x0, x1):\n",
    "    x1 = as_array(x1)\n",
    "    return Add()(x0, x1)\n"
   ],
   "id": "a4879c259386df3f",
   "outputs": [],
   "execution_count": 177
  },
  {
   "metadata": {
    "ExecuteTime": {
     "end_time": "2025-04-06T11:26:35.827141Z",
     "start_time": "2025-04-06T11:26:35.822375Z"
    }
   },
   "cell_type": "code",
   "source": [
    "x = Variable(np.array(2.0))\n",
    "y = x + np.array(3.0)\n",
    "print(y)"
   ],
   "id": "2e2604f4c8c7e1c9",
   "outputs": [
    {
     "name": "stdout",
     "output_type": "stream",
     "text": [
      "variable(5.0)\n"
     ]
    }
   ],
   "execution_count": 178
  },
  {
   "metadata": {
    "ExecuteTime": {
     "end_time": "2025-04-06T11:28:58.725891Z",
     "start_time": "2025-04-06T11:28:58.722160Z"
    }
   },
   "cell_type": "code",
   "source": [
    "x = Variable(np.array(2.0))\n",
    "y = x + 3.0\n",
    "print(y)"
   ],
   "id": "7d0d5527f105e1ea",
   "outputs": [
    {
     "name": "stdout",
     "output_type": "stream",
     "text": [
      "variable(5.0)\n"
     ]
    }
   ],
   "execution_count": 182
  },
  {
   "metadata": {
    "ExecuteTime": {
     "end_time": "2025-04-06T11:28:21.951708Z",
     "start_time": "2025-04-06T11:28:21.947858Z"
    }
   },
   "cell_type": "code",
   "source": [
    "class Mul(Function):\n",
    "    def forward(self, x0, x1):\n",
    "        y = x0 * x1\n",
    "        return y\n",
    "\n",
    "    def backward(self, gy):\n",
    "        x0, x1 = self.inputs[0].data, self.inputs[1].data\n",
    "        return gy * x1, gy * x0\n",
    "\n",
    "\n",
    "def mul(x0, x1):\n",
    "    x1 = as_array(x1)\n",
    "    return Mul()(x0, x1)\n",
    "\n",
    "\n",
    "Variable.__add__ = add\n",
    "Variable.__radd__ = add\n",
    "Variable.__mul__ = mul\n",
    "Variable.__rmul__ = mul"
   ],
   "id": "ce22cf8342932ca0",
   "outputs": [],
   "execution_count": 180
  },
  {
   "metadata": {
    "ExecuteTime": {
     "end_time": "2025-04-06T11:28:50.804480Z",
     "start_time": "2025-04-06T11:28:50.799108Z"
    }
   },
   "cell_type": "code",
   "source": [
    "x = Variable(np.array(2.0))\n",
    "y = 3.0 * x + 1.0\n",
    "print(y)"
   ],
   "id": "6661ef999c37f914",
   "outputs": [
    {
     "name": "stdout",
     "output_type": "stream",
     "text": [
      "variable(7.0)\n"
     ]
    }
   ],
   "execution_count": 181
  },
  {
   "metadata": {
    "ExecuteTime": {
     "end_time": "2025-04-06T11:29:46.694943Z",
     "start_time": "2025-04-06T11:29:46.691409Z"
    }
   },
   "cell_type": "code",
   "source": [
    "x = Variable(np.array(1.0))\n",
    "y = np.array([2.0]) + x\n",
    "print(y)"
   ],
   "id": "773d111a47fa241e",
   "outputs": [
    {
     "name": "stdout",
     "output_type": "stream",
     "text": [
      "[variable(3.0)]\n"
     ]
    }
   ],
   "execution_count": 183
  },
  {
   "metadata": {
    "ExecuteTime": {
     "end_time": "2025-04-06T11:31:40.231047Z",
     "start_time": "2025-04-06T11:31:40.226310Z"
    }
   },
   "cell_type": "code",
   "source": [
    "class Neg(Function):\n",
    "    def forward(self, x):\n",
    "        return -x\n",
    "\n",
    "    def backward(self, gy):\n",
    "        return -gy\n",
    "\n",
    "def neg(x):\n",
    "    return Neg()(x)\n",
    "\n",
    "Variable.__neg__ = neg"
   ],
   "id": "7a6d107109925924",
   "outputs": [],
   "execution_count": 184
  },
  {
   "metadata": {
    "ExecuteTime": {
     "end_time": "2025-04-06T11:32:06.979231Z",
     "start_time": "2025-04-06T11:32:06.975645Z"
    }
   },
   "cell_type": "code",
   "source": [
    "x = Variable(np.array(2.0))\n",
    "y = -x\n",
    "print(y)"
   ],
   "id": "5c6f1a01de037988",
   "outputs": [
    {
     "name": "stdout",
     "output_type": "stream",
     "text": [
      "variable(-2.0)\n"
     ]
    }
   ],
   "execution_count": 185
  },
  {
   "metadata": {
    "ExecuteTime": {
     "end_time": "2025-04-06T11:33:27.316252Z",
     "start_time": "2025-04-06T11:33:27.313792Z"
    }
   },
   "cell_type": "code",
   "source": [
    "class Sub(Function):\n",
    "    def forward(self, x0, x1):\n",
    "        return x0 - x1\n",
    "\n",
    "    def backward(self, gy):\n",
    "        return gy, -gy\n",
    "\n",
    "def sub(x0, x1):\n",
    "    x1= as_array(x1)\n",
    "    return Sub()(x0, x1)\n",
    "\n",
    "Variable.__sub__ = sub"
   ],
   "id": "b845c61fccb9972c",
   "outputs": [],
   "execution_count": 186
  },
  {
   "metadata": {
    "ExecuteTime": {
     "end_time": "2025-04-06T11:34:19.082681Z",
     "start_time": "2025-04-06T11:34:19.078909Z"
    }
   },
   "cell_type": "code",
   "source": [
    "def rsub(x0, x1):\n",
    "    x1 = as_array(x1)\n",
    "    return Sub()(x1, x0)\n",
    "\n",
    "Variable.__rsub__ = rsub"
   ],
   "id": "195dc619521ecadb",
   "outputs": [],
   "execution_count": 187
  },
  {
   "metadata": {
    "ExecuteTime": {
     "end_time": "2025-04-06T11:35:00.441373Z",
     "start_time": "2025-04-06T11:35:00.438555Z"
    }
   },
   "cell_type": "code",
   "source": [
    "x = Variable(np.array(2.0))\n",
    "y1 = 2.0 - x\n",
    "y2 = x - 1.0\n",
    "print(y1)\n",
    "print(y2)"
   ],
   "id": "74e2713439b9df66",
   "outputs": [
    {
     "name": "stdout",
     "output_type": "stream",
     "text": [
      "variable(0.0)\n",
      "variable(1.0)\n"
     ]
    }
   ],
   "execution_count": 188
  },
  {
   "metadata": {
    "ExecuteTime": {
     "end_time": "2025-04-06T11:37:46.353085Z",
     "start_time": "2025-04-06T11:37:46.337756Z"
    }
   },
   "cell_type": "code",
   "source": [
    "class Div(Function):\n",
    "    def forward(self, x0, x1):\n",
    "        y = x0/x1\n",
    "        return y\n",
    "\n",
    "    def backward(self, gy):\n",
    "        x0, x1 = self.inputs[0].data, self.inputs[1].data\n",
    "        gx0 = gy / x1\n",
    "        gx1 = gy * (-x0 / x1 ** 2)\n",
    "        return gx0, gx1\n",
    "\n",
    "def div(x0, x1):\n",
    "    x1 = as_array(x1)\n",
    "    return Div()(x0, x1)\n",
    "\n",
    "def rdiv(x0, x1):\n",
    "    x1 = as_variable(x1)\n",
    "    return Div()(x1, x0)\n",
    "\n",
    "Variable.__truediv__ = div\n",
    "Variable.__rtruediv__ = rdiv "
   ],
   "id": "54a7afd4992e6c0a",
   "outputs": [],
   "execution_count": 189
  },
  {
   "metadata": {
    "ExecuteTime": {
     "end_time": "2025-04-06T11:40:06.912428Z",
     "start_time": "2025-04-06T11:40:06.909148Z"
    }
   },
   "cell_type": "code",
   "source": [
    "class Pow(Function):\n",
    "    def __init__(self, c):\n",
    "        self.c = c\n",
    "\n",
    "    def forward(self, x):\n",
    "        y = x ** self.c\n",
    "        return y\n",
    "\n",
    "    def backward(self, gy):\n",
    "        x = self.inputs[0].data\n",
    "        c = self.c\n",
    "        gx = c * x ** (c -1) * gy\n",
    "        return gx\n",
    "\n",
    "def pow(x,c):\n",
    "    return Pow(c)(x)\n",
    "\n",
    "Variable.__pow__ = pow\n"
   ],
   "id": "87d00ef05775f872",
   "outputs": [],
   "execution_count": 190
  },
  {
   "metadata": {
    "ExecuteTime": {
     "end_time": "2025-04-06T11:40:27.951710Z",
     "start_time": "2025-04-06T11:40:27.949598Z"
    }
   },
   "cell_type": "code",
   "source": [
    "x = Variable(np.array(2.0))\n",
    "y = x ** 3\n",
    "print(y)"
   ],
   "id": "a7fea2cb785a90a3",
   "outputs": [
    {
     "name": "stdout",
     "output_type": "stream",
     "text": [
      "variable(8.0)\n"
     ]
    }
   ],
   "execution_count": 191
  },
  {
   "metadata": {},
   "cell_type": "markdown",
   "source": "### 패키지로 정리",
   "id": "2a1fef8dae75684b"
  },
  {
   "metadata": {
    "ExecuteTime": {
     "end_time": "2025-04-06T11:47:53.292525Z",
     "start_time": "2025-04-06T11:47:53.288151Z"
    }
   },
   "cell_type": "code",
   "source": [
    "import numpy as np\n",
    "from dezero.core_simple import Variable\n",
    "\n",
    "x = Variable(np.array(1.0))\n",
    "print(x)"
   ],
   "id": "11de5239f5f080b9",
   "outputs": [
    {
     "name": "stdout",
     "output_type": "stream",
     "text": [
      "variable(1.0)\n"
     ]
    }
   ],
   "execution_count": 196
  },
  {
   "metadata": {
    "ExecuteTime": {
     "end_time": "2025-04-06T11:49:15.611556Z",
     "start_time": "2025-04-06T11:49:15.605205Z"
    }
   },
   "cell_type": "code",
   "source": [
    "if '__file__' in globals():\n",
    "    import os, sys\n",
    "    sys.path.append(os.path.join(os.path.dirname(__file__), '..'))\n",
    "\n",
    "import numpy as np\n",
    "from dezero import Variable\n",
    "\n",
    "\n",
    "x = Variable(np.array(1.0))\n",
    "y = (x + 3) ** 2\n",
    "y.backward()\n",
    "\n",
    "print(y)\n",
    "print(x.grad)"
   ],
   "id": "a9bcb13b089784fd",
   "outputs": [
    {
     "name": "stdout",
     "output_type": "stream",
     "text": [
      "variable(16.0)\n",
      "variable(8.0)\n"
     ]
    }
   ],
   "execution_count": 197
  },
  {
   "metadata": {},
   "cell_type": "markdown",
   "source": "### 복장합 함수의 미분",
   "id": "8586caec3e1e5761"
  },
  {
   "metadata": {
    "ExecuteTime": {
     "end_time": "2025-04-06T11:52:01.371260Z",
     "start_time": "2025-04-06T11:52:01.366041Z"
    }
   },
   "cell_type": "code",
   "source": [
    "import numpy as np\n",
    "from dezero import Variable\n",
    "\n",
    "def sphere(x, y):\n",
    "    z = x ** 2 + y ** 2\n",
    "    return z\n",
    "\n",
    "x = Variable(np.array(1.0))\n",
    "y = Variable(np.array(1.0))\n",
    "z = sphere(x, y)\n",
    "z.backward()\n",
    "print(x.grad, y.grad)"
   ],
   "id": "343e4215d87fa378",
   "outputs": [
    {
     "name": "stdout",
     "output_type": "stream",
     "text": [
      "variable(2.0) variable(2.0)\n"
     ]
    }
   ],
   "execution_count": 198
  },
  {
   "metadata": {
    "ExecuteTime": {
     "end_time": "2025-04-06T11:52:52.148696Z",
     "start_time": "2025-04-06T11:52:52.145999Z"
    }
   },
   "cell_type": "code",
   "source": [
    "def matyas(x, y):\n",
    "    z = 0.26 * (x ** 2 + y ** 2) - 0.48 * x * y\n",
    "    return z"
   ],
   "id": "74311c3893f53b43",
   "outputs": [],
   "execution_count": 201
  },
  {
   "metadata": {
    "ExecuteTime": {
     "end_time": "2025-04-06T11:53:58.638682Z",
     "start_time": "2025-04-06T11:53:58.634019Z"
    }
   },
   "cell_type": "code",
   "source": [
    "x = Variable(np.array(1.0))\n",
    "y = Variable(np.array(1.0))\n",
    "z = matyas(x, y)\n",
    "z.backward()\n",
    "print(x.grad, y.grad)"
   ],
   "id": "599d959fb617d927",
   "outputs": [
    {
     "name": "stdout",
     "output_type": "stream",
     "text": [
      "variable(0.040000000000000036) variable(0.040000000000000036)\n"
     ]
    }
   ],
   "execution_count": 203
  },
  {
   "metadata": {
    "ExecuteTime": {
     "end_time": "2025-04-06T11:54:53.064450Z",
     "start_time": "2025-04-06T11:54:53.059479Z"
    }
   },
   "cell_type": "code",
   "source": [
    "def goldstein(x, y):\n",
    "    z = (1 + (x + y + 1)**2 * (19 - 14*x + 3*x**2 - 14*y + 6*x*y + 3*y**2)) * \\\n",
    "        (30 + (2*x - 3*y)**2 * (18 - 32*x + 12*x**2 + 48*y - 36*x*y + 27*y**2))\n",
    "    return z"
   ],
   "id": "7d2d2528b58e5d7a",
   "outputs": [],
   "execution_count": 204
  },
  {
   "metadata": {
    "ExecuteTime": {
     "end_time": "2025-04-06T11:55:03.446516Z",
     "start_time": "2025-04-06T11:55:03.443538Z"
    }
   },
   "cell_type": "code",
   "source": [
    "x = Variable(np.array(1.0))\n",
    "y = Variable(np.array(1.0))\n",
    "z = goldstein(x, y)  # sphere(x, y) / matyas(x, y)\n",
    "z.backward()\n",
    "print(x.grad, y.grad)"
   ],
   "id": "439d203af7c58608",
   "outputs": [
    {
     "name": "stdout",
     "output_type": "stream",
     "text": [
      "variable(-5376.0) variable(8064.0)\n"
     ]
    }
   ],
   "execution_count": 205
  }
 ],
 "metadata": {
  "kernelspec": {
   "display_name": "Python 3",
   "language": "python",
   "name": "python3"
  },
  "language_info": {
   "codemirror_mode": {
    "name": "ipython",
    "version": 2
   },
   "file_extension": ".py",
   "mimetype": "text/x-python",
   "name": "python",
   "nbconvert_exporter": "python",
   "pygments_lexer": "ipython2",
   "version": "2.7.6"
  }
 },
 "nbformat": 4,
 "nbformat_minor": 5
}
