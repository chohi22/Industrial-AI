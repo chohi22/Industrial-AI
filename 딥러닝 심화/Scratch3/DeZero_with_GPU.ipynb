{
 "nbformat": 4,
 "nbformat_minor": 0,
 "metadata": {
  "colab": {
   "name": "DeZero with GPU",
   "provenance": []
  },
  "kernelspec": {
   "name": "python3",
   "language": "python",
   "display_name": "Python 3"
  },
  "accelerator": "GPU",
  "pycharm": {
   "stem_cell": {
    "cell_type": "raw",
    "source": [],
    "metadata": {
     "collapsed": false
    }
   }
  }
 },
 "cells": [
  {
   "cell_type": "markdown",
   "metadata": {
    "id": "6KTc8kk5pmyL"
   },
   "source": [
    "# DeZero with GPU\n",
    "\n",
    "구글 콜랩을 이용하면 DeZero를 GPU에서 구동해볼 수 있습니다(구글 콜랩에서 GPU를 무료로 이용할 수 있습니다). 이제부터 DeZero에서 간단한 계산을 CPU와 GPU 양쪽에서 실행해보며, GPU가 속도를 얼마나 개선해주는지 살펴보겠습니다."
   ]
  },
  {
   "cell_type": "markdown",
   "metadata": {
    "id": "g3vUgNs7o__1"
   },
   "source": [
    "# DeZero 설치하기\n",
    "\n",
    "먼저 DeZero를 설치합니다. DeZero는 [PyPI](https://pypi.org/project/dezero/)에 등록되어 있으므로 pip install dezero 명령으로 설치할 수 있습니다."
   ]
  },
  {
   "cell_type": "code",
   "metadata": {
    "id": "4Zh1CsPofLTs",
    "outputId": "0c18c375-6b2d-4d86-9482-eaeca6451c91",
    "colab": {
     "base_uri": "https://localhost:8080/",
     "height": 121
    }
   },
   "source": [
    "pip install dezero"
   ],
   "execution_count": null,
   "outputs": [
    {
     "output_type": "stream",
     "text": [
      "Collecting dezero\n",
      "  Downloading https://files.pythonhosted.org/packages/1c/d0/bdc1949ff8bcba4a1cf572174e17cc7971daf30989f278c904f97c91ff3a/dezero-0.0.11-py3-none-any.whl\n",
      "Requirement already satisfied: numpy in /usr/local/lib/python3.6/dist-packages (from dezero) (1.17.4)\n",
      "Installing collected packages: dezero\n",
      "Successfully installed dezero-0.0.11\n"
     ],
     "name": "stdout"
    }
   ]
  },
  {
   "cell_type": "markdown",
   "metadata": {
    "id": "4hgp3XrwuDen"
   },
   "source": [
    "설치가 완료되면 이어서 DeZero에서 GPU를 사용할 수 있는지 확인해봅니다."
   ]
  },
  {
   "cell_type": "code",
   "metadata": {
    "id": "a2UkMP1Sftsn",
    "outputId": "4df0740a-6713-4377-e6d1-d1ea18be6ef1",
    "colab": {
     "base_uri": "https://localhost:8080/",
     "height": 34
    },
    "ExecuteTime": {
     "end_time": "2025-04-11T22:06:22.583441Z",
     "start_time": "2025-04-11T22:06:22.164956Z"
    }
   },
   "source": [
    "import dezero\n",
    "dezero.cuda.gpu_enable"
   ],
   "outputs": [
    {
     "name": "stderr",
     "output_type": "stream",
     "text": [
      "/Users/chohi/project/ai/DeepLearningDeepen/DeepLearningAdv/Scratch3/dezero/datasets.py:235: SyntaxWarning: \"is\" with a literal. Did you mean \"==\"?\n",
      "  return fine_labels if label_type is 'fine' else coarse_labels\n"
     ]
    },
    {
     "data": {
      "text/plain": [
       "False"
      ]
     },
     "execution_count": 1,
     "metadata": {},
     "output_type": "execute_result"
    }
   ],
   "execution_count": 1
  },
  {
   "cell_type": "markdown",
   "metadata": {
    "id": "B8nmX5jaudDz"
   },
   "source": [
    "True가 나오면 GPU를 사용할 수 있는 상태입니다.\n",
    "\n",
    "False가 뜨면 구글 콜랩에서 GPU 설정을 손봐줘야 합니다. 다음 순서로 진행합니다.\n",
    "\n",
    "* ‘런타임’ 메뉴에서 ‘런타임 유형 변경’을 선택합니다.\n",
    "* ‘하드웨어 가속기’ 드롭다운 메뉴에서 ‘GPU’를 선택합니다.\n",
    "* ‘저장’ 버튼을 눌러 설정을 완료합니다."
   ]
  },
  {
   "cell_type": "markdown",
   "metadata": {
    "id": "z9NkCfZygLb4"
   },
   "source": [
    "# Train MNIST with CPU\n",
    "이어서 DeZero에서 MNIST를 학습해보겠습니다.\n",
    "우선은 CPU로 실행해보죠."
   ]
  },
  {
   "cell_type": "code",
   "metadata": {
    "id": "TavUkl90f83D",
    "outputId": "1593a9b6-c4fd-4068-ec3b-c7ac207e7bfd",
    "colab": {
     "base_uri": "https://localhost:8080/",
     "height": 101
    },
    "ExecuteTime": {
     "end_time": "2025-04-11T23:20:08.588231Z",
     "start_time": "2025-04-11T23:18:24.566337Z"
    }
   },
   "source": [
    "import time\n",
    "import dezero\n",
    "import dezero.functions as F\n",
    "from dezero import optimizers\n",
    "from dezero import DataLoader\n",
    "from dezero.models import MLP\n",
    "from dezero.datasets import MNIST\n",
    "import matplotlib.pyplot as plt\n",
    "\n",
    "max_epoch = 40\n",
    "batch_size = 100\n",
    "cpu_times = []\n",
    "\n",
    "#train_set = dezero.datasets.MNIST(train=True)\n",
    "train_set = MNIST(train=True)\n",
    "train_loader = DataLoader(train_set, batch_size)\n",
    "model = MLP((1000, 10))\n",
    "optimizer = optimizers.SGD().setup(model)\n",
    "\n",
    "epochs = []\n",
    "losses = []\n",
    "for epoch in range(max_epoch):\n",
    "    start = time.time()\n",
    "    sum_loss = 0\n",
    "\n",
    "    for x, t in train_loader:\n",
    "        y = model(x)\n",
    "        loss = F.softmax_cross_entropy(y, t)\n",
    "        model.cleargrads()\n",
    "        loss.backward()\n",
    "        optimizer.update()\n",
    "        sum_loss += float(loss.data) * len(t)\n",
    "\n",
    "    elapsed_time = time.time() - start\n",
    "    cpu_times.append(elapsed_time)\n",
    "    epochs.append(epoch)\n",
    "    losses.append(sum_loss)\n",
    "    print('epoch: {}, loss: {:.4f}, time: {:.4f}[sec]'.format(\n",
    "        epoch + 1, sum_loss / len(train_set), elapsed_time))\n",
    "\n",
    "\n",
    "\n",
    "# Loss 플롯\n",
    "plt.figure(figsize=(10, 5))\n",
    "plt.subplot(1, 2, 1)\n",
    "plt.plot(epochs, losses, marker='o', label='Training Loss')\n",
    "plt.title('Loss per Epoch')\n",
    "plt.xlabel('Epoch')\n",
    "plt.ylabel('Loss')\n",
    "plt.legend()\n",
    "plt.grid()\n"
   ],
   "outputs": [
    {
     "name": "stderr",
     "output_type": "stream",
     "text": [
      "/Users/chohi/project/ai/DeepLearningDeepen/DeepLearningAdv/Scratch3/dezero/datasets.py:235: SyntaxWarning: \"is\" with a literal. Did you mean \"==\"?\n",
      "  return fine_labels if label_type is 'fine' else coarse_labels\n"
     ]
    },
    {
     "name": "stdout",
     "output_type": "stream",
     "text": [
      "epoch: 1, loss: 1.9098, time: 3.5204[sec]\n",
      "epoch: 2, loss: 1.2765, time: 2.8532[sec]\n",
      "epoch: 3, loss: 0.9208, time: 2.9086[sec]\n",
      "epoch: 4, loss: 0.7384, time: 2.4325[sec]\n",
      "epoch: 5, loss: 0.6348, time: 2.5199[sec]\n",
      "epoch: 6, loss: 0.5689, time: 2.4968[sec]\n",
      "epoch: 7, loss: 0.5235, time: 2.4385[sec]\n",
      "epoch: 8, loss: 0.4906, time: 2.4394[sec]\n",
      "epoch: 9, loss: 0.4653, time: 2.4339[sec]\n",
      "epoch: 10, loss: 0.4455, time: 2.5281[sec]\n",
      "epoch: 11, loss: 0.4293, time: 2.4563[sec]\n",
      "epoch: 12, loss: 0.4162, time: 2.4835[sec]\n",
      "epoch: 13, loss: 0.4051, time: 2.4487[sec]\n",
      "epoch: 14, loss: 0.3955, time: 2.4697[sec]\n",
      "epoch: 15, loss: 0.3874, time: 2.4608[sec]\n",
      "epoch: 16, loss: 0.3802, time: 2.4330[sec]\n",
      "epoch: 17, loss: 0.3739, time: 2.4420[sec]\n",
      "epoch: 18, loss: 0.3682, time: 2.6461[sec]\n",
      "epoch: 19, loss: 0.3630, time: 2.4922[sec]\n",
      "epoch: 20, loss: 0.3585, time: 2.5800[sec]\n",
      "epoch: 21, loss: 0.3543, time: 2.5651[sec]\n",
      "epoch: 22, loss: 0.3505, time: 2.7456[sec]\n",
      "epoch: 23, loss: 0.3470, time: 3.1294[sec]\n",
      "epoch: 24, loss: 0.3438, time: 2.4909[sec]\n",
      "epoch: 25, loss: 0.3407, time: 2.5140[sec]\n",
      "epoch: 26, loss: 0.3380, time: 2.4991[sec]\n",
      "epoch: 27, loss: 0.3352, time: 2.4653[sec]\n",
      "epoch: 28, loss: 0.3330, time: 2.5413[sec]\n",
      "epoch: 29, loss: 0.3307, time: 2.5110[sec]\n",
      "epoch: 30, loss: 0.3286, time: 2.5542[sec]\n",
      "epoch: 31, loss: 0.3265, time: 2.5253[sec]\n",
      "epoch: 32, loss: 0.3245, time: 2.5233[sec]\n",
      "epoch: 33, loss: 0.3228, time: 2.5348[sec]\n",
      "epoch: 34, loss: 0.3209, time: 2.5749[sec]\n",
      "epoch: 35, loss: 0.3194, time: 2.5755[sec]\n",
      "epoch: 36, loss: 0.3179, time: 2.5469[sec]\n",
      "epoch: 37, loss: 0.3163, time: 2.5781[sec]\n",
      "epoch: 38, loss: 0.3149, time: 2.5930[sec]\n",
      "epoch: 39, loss: 0.3135, time: 2.5630[sec]\n",
      "epoch: 40, loss: 0.3123, time: 2.5785[sec]\n"
     ]
    },
    {
     "data": {
      "text/plain": [
       "<Figure size 1000x500 with 1 Axes>"
      ],
      "image/png": "[encoded data removed]"
     },
     "metadata": {},
     "output_type": "display_data"
    }
   ],
   "execution_count": 1
  },
  {
   "cell_type": "markdown",
   "metadata": {
    "id": "4Xg1lxq3g6nS"
   },
   "source": [
    "# Train MNIST on GPU\n",
    "다음은 GPU를 사용해볼 차례입니다."
   ]
  },
  {
   "cell_type": "code",
   "metadata": {
    "id": "lXLb6TPZg1zO",
    "outputId": "e7340e63-d531-4aa3-b721-74c47bc2ce62",
    "colab": {
     "base_uri": "https://localhost:8080/",
     "height": 101
    },
    "ExecuteTime": {
     "end_time": "2025-04-11T22:07:42.172108Z",
     "start_time": "2025-04-11T22:07:42.088068Z"
    }
   },
   "source": [
    "gpu_times = []\n",
    "\n",
    "# GPU mode\n",
    "train_loader.to_gpu()\n",
    "model.to_gpu()\n",
    "\n",
    "for epoch in range(max_epoch):\n",
    "    start = time.time()\n",
    "    sum_loss = 0\n",
    "\n",
    "    for x, t in train_loader:\n",
    "        y = model(x)\n",
    "        loss = F.softmax_cross_entropy(y, t)\n",
    "        model.cleargrads()\n",
    "        loss.backward()\n",
    "        optimizer.update()\n",
    "        sum_loss += float(loss.data) * len(t)\n",
    "\n",
    "    elapsed_time = time.time() - start\n",
    "    gpu_times.append(elapsed_time)\n",
    "    print('epoch: {}, loss: {:.4f}, time: {:.4f}[sec]'.format(\n",
    "        epoch + 1, sum_loss / len(train_set), elapsed_time))"
   ],
   "outputs": [
    {
     "ename": "Exception",
     "evalue": "CuPy cannot be loaded. Install CuPy!",
     "output_type": "error",
     "traceback": [
      "\u001B[0;31m---------------------------------------------------------------------------\u001B[0m",
      "\u001B[0;31mException\u001B[0m                                 Traceback (most recent call last)",
      "Cell \u001B[0;32mIn[4], line 5\u001B[0m\n\u001B[1;32m      3\u001B[0m \u001B[38;5;66;03m# GPU mode\u001B[39;00m\n\u001B[1;32m      4\u001B[0m train_loader\u001B[38;5;241m.\u001B[39mto_gpu()\n\u001B[0;32m----> 5\u001B[0m \u001B[43mmodel\u001B[49m\u001B[38;5;241;43m.\u001B[39;49m\u001B[43mto_gpu\u001B[49m\u001B[43m(\u001B[49m\u001B[43m)\u001B[49m\n\u001B[1;32m      7\u001B[0m \u001B[38;5;28;01mfor\u001B[39;00m epoch \u001B[38;5;129;01min\u001B[39;00m \u001B[38;5;28mrange\u001B[39m(max_epoch):\n\u001B[1;32m      8\u001B[0m     start \u001B[38;5;241m=\u001B[39m time\u001B[38;5;241m.\u001B[39mtime()\n",
      "File \u001B[0;32m~/project/ai/DeepLearningDeepen/DeepLearningAdv/Scratch3/dezero/layers.py:52\u001B[0m, in \u001B[0;36mLayer.to_gpu\u001B[0;34m(self)\u001B[0m\n\u001B[1;32m     50\u001B[0m \u001B[38;5;28;01mdef\u001B[39;00m\u001B[38;5;250m \u001B[39m\u001B[38;5;21mto_gpu\u001B[39m(\u001B[38;5;28mself\u001B[39m):\n\u001B[1;32m     51\u001B[0m     \u001B[38;5;28;01mfor\u001B[39;00m param \u001B[38;5;129;01min\u001B[39;00m \u001B[38;5;28mself\u001B[39m\u001B[38;5;241m.\u001B[39mparams():\n\u001B[0;32m---> 52\u001B[0m         \u001B[43mparam\u001B[49m\u001B[38;5;241;43m.\u001B[39;49m\u001B[43mto_gpu\u001B[49m\u001B[43m(\u001B[49m\u001B[43m)\u001B[49m\n",
      "File \u001B[0;32m~/project/ai/DeepLearningDeepen/DeepLearningAdv/Scratch3/dezero/core.py:164\u001B[0m, in \u001B[0;36mVariable.to_gpu\u001B[0;34m(self)\u001B[0m\n\u001B[1;32m    162\u001B[0m \u001B[38;5;28;01mdef\u001B[39;00m\u001B[38;5;250m \u001B[39m\u001B[38;5;21mto_gpu\u001B[39m(\u001B[38;5;28mself\u001B[39m):\n\u001B[1;32m    163\u001B[0m     \u001B[38;5;28;01mif\u001B[39;00m \u001B[38;5;28mself\u001B[39m\u001B[38;5;241m.\u001B[39mdata \u001B[38;5;129;01mis\u001B[39;00m \u001B[38;5;129;01mnot\u001B[39;00m \u001B[38;5;28;01mNone\u001B[39;00m:\n\u001B[0;32m--> 164\u001B[0m         \u001B[38;5;28mself\u001B[39m\u001B[38;5;241m.\u001B[39mdata \u001B[38;5;241m=\u001B[39m \u001B[43mdezero\u001B[49m\u001B[38;5;241;43m.\u001B[39;49m\u001B[43mcuda\u001B[49m\u001B[38;5;241;43m.\u001B[39;49m\u001B[43mas_cupy\u001B[49m\u001B[43m(\u001B[49m\u001B[38;5;28;43mself\u001B[39;49m\u001B[38;5;241;43m.\u001B[39;49m\u001B[43mdata\u001B[49m\u001B[43m)\u001B[49m\n",
      "File \u001B[0;32m~/project/ai/DeepLearningDeepen/DeepLearningAdv/Scratch3/dezero/cuda.py:62\u001B[0m, in \u001B[0;36mas_cupy\u001B[0;34m(x)\u001B[0m\n\u001B[1;32m     59\u001B[0m     x \u001B[38;5;241m=\u001B[39m x\u001B[38;5;241m.\u001B[39mdata\n\u001B[1;32m     61\u001B[0m \u001B[38;5;28;01mif\u001B[39;00m \u001B[38;5;129;01mnot\u001B[39;00m gpu_enable:\n\u001B[0;32m---> 62\u001B[0m     \u001B[38;5;28;01mraise\u001B[39;00m \u001B[38;5;167;01mException\u001B[39;00m(\u001B[38;5;124m'\u001B[39m\u001B[38;5;124mCuPy cannot be loaded. Install CuPy!\u001B[39m\u001B[38;5;124m'\u001B[39m)\n\u001B[1;32m     63\u001B[0m \u001B[38;5;28;01mreturn\u001B[39;00m cp\u001B[38;5;241m.\u001B[39masarray(x)\n",
      "\u001B[0;31mException\u001B[0m: CuPy cannot be loaded. Install CuPy!"
     ]
    }
   ],
   "execution_count": 4
  },
  {
   "cell_type": "markdown",
   "metadata": {
    "id": "nlVfg7bux2w9"
   },
   "source": [
    "마지막으로 참고삼아 CPU와 GPU의 속도를 비교해봅니다."
   ]
  },
  {
   "cell_type": "code",
   "metadata": {
    "id": "X8bf_VA6v2Fy",
    "outputId": "2a11c0c9-83ae-4a46-9b56-3bf64062d84a",
    "colab": {
     "base_uri": "https://localhost:8080/",
     "height": 67
    },
    "ExecuteTime": {
     "end_time": "2025-04-11T22:07:49.613560Z",
     "start_time": "2025-04-11T22:07:49.595883Z"
    }
   },
   "source": [
    "cpu_avg_time = sum(cpu_times) / len(cpu_times)\n",
    "gpu_avg_time = sum(gpu_times) / len(gpu_times)\n",
    "\n",
    "print('CPU: {:.2f}[sec]'.format(cpu_avg_time))\n",
    "print('GPU: {:.2f}[sec]'.format(gpu_avg_time))\n",
    "print('GPU speedup over CPU: {:.1f}x'.format(cpu_avg_time/gpu_avg_time))"
   ],
   "outputs": [
    {
     "ename": "ZeroDivisionError",
     "evalue": "division by zero",
     "output_type": "error",
     "traceback": [
      "\u001B[0;31m---------------------------------------------------------------------------\u001B[0m",
      "\u001B[0;31mZeroDivisionError\u001B[0m                         Traceback (most recent call last)",
      "Cell \u001B[0;32mIn[5], line 2\u001B[0m\n\u001B[1;32m      1\u001B[0m cpu_avg_time \u001B[38;5;241m=\u001B[39m \u001B[38;5;28msum\u001B[39m(cpu_times) \u001B[38;5;241m/\u001B[39m \u001B[38;5;28mlen\u001B[39m(cpu_times)\n\u001B[0;32m----> 2\u001B[0m gpu_avg_time \u001B[38;5;241m=\u001B[39m \u001B[38;5;28;43msum\u001B[39;49m\u001B[43m(\u001B[49m\u001B[43mgpu_times\u001B[49m\u001B[43m)\u001B[49m\u001B[43m \u001B[49m\u001B[38;5;241;43m/\u001B[39;49m\u001B[43m \u001B[49m\u001B[38;5;28;43mlen\u001B[39;49m\u001B[43m(\u001B[49m\u001B[43mgpu_times\u001B[49m\u001B[43m)\u001B[49m\n\u001B[1;32m      4\u001B[0m \u001B[38;5;28mprint\u001B[39m(\u001B[38;5;124m'\u001B[39m\u001B[38;5;124mCPU: \u001B[39m\u001B[38;5;132;01m{:.2f}\u001B[39;00m\u001B[38;5;124m[sec]\u001B[39m\u001B[38;5;124m'\u001B[39m\u001B[38;5;241m.\u001B[39mformat(cpu_avg_time))\n\u001B[1;32m      5\u001B[0m \u001B[38;5;28mprint\u001B[39m(\u001B[38;5;124m'\u001B[39m\u001B[38;5;124mGPU: \u001B[39m\u001B[38;5;132;01m{:.2f}\u001B[39;00m\u001B[38;5;124m[sec]\u001B[39m\u001B[38;5;124m'\u001B[39m\u001B[38;5;241m.\u001B[39mformat(gpu_avg_time))\n",
      "\u001B[0;31mZeroDivisionError\u001B[0m: division by zero"
     ]
    }
   ],
   "execution_count": 5
  }
 ]
}
