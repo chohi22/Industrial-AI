{
 "cells": [
  {
   "metadata": {},
   "cell_type": "markdown",
   "source": "## 03장 파이토치 기초",
   "id": "7cd24f79778ff43"
  },
  {
   "metadata": {},
   "cell_type": "markdown",
   "source": "### 3.24 단순 선형 회귀(파이토치)",
   "id": "fab28cdd79e1c273"
  },
  {
   "cell_type": "code",
   "id": "initial_id",
   "metadata": {
    "collapsed": true,
    "ExecuteTime": {
     "end_time": "2025-03-20T10:13:58.198874Z",
     "start_time": "2025-03-20T10:13:53.855970Z"
    }
   },
   "source": [
    "import torch\n",
    "from sympy import print_tree\n",
    "from torch import optim\n",
    "from torch.utils.checkpoint import checkpoint"
   ],
   "outputs": [
    {
     "name": "stderr",
     "output_type": "stream",
     "text": [
      "/Users/chohi/project/ai/DeepLearningDeepen/DeepLearningAdv/.venv/lib/python3.9/site-packages/torch/_subclasses/functional_tensor.py:275: UserWarning: Failed to initialize NumPy: No module named 'numpy' (Triggered internally at /Users/runner/work/pytorch/pytorch/pytorch/torch/csrc/utils/tensor_numpy.cpp:81.)\n",
      "  cpu = _conversion_method_template(device=torch.device(\"cpu\"))\n"
     ]
    }
   ],
   "execution_count": 2
  },
  {
   "metadata": {
    "ExecuteTime": {
     "end_time": "2025-03-20T10:14:07.089595Z",
     "start_time": "2025-03-20T10:14:07.083638Z"
    }
   },
   "cell_type": "code",
   "source": [
    "x = torch.FloatTensor([\n",
    "    [1], [2], [3], [4], [5], [6], [7], [8], [9], [10],\n",
    "    [11], [12], [13], [14], [15], [16], [17], [18], [19], [20],\n",
    "    [21], [22], [23], [24], [25], [26], [27], [28], [29], [30]\n",
    "])\n",
    "y = torch.FloatTensor([\n",
    "    [0.94], [1.98], [2.88], [3.92], [3.96], [4.55], [5.64], [6.3], [7.44], [9.1],\n",
    "    [8.46], [9.5], [10.67], [11.16], [14], [11.83], [14.4], [14.25], [16.2], [16.32],\n",
    "    [17.46], [19.8], [18], [21.34], [22], [22.5], [24.57], [26.04], [21.6], [28.8]\n",
    "])"
   ],
   "id": "7c01310da48023e9",
   "outputs": [],
   "execution_count": 4
  },
  {
   "metadata": {
    "ExecuteTime": {
     "end_time": "2025-03-20T10:14:09.635013Z",
     "start_time": "2025-03-20T10:14:09.631728Z"
    }
   },
   "cell_type": "code",
   "source": [
    "weight = torch.zeros(1, requires_grad=True)\n",
    "bias = torch.zeros(1, requires_grad=True)\n",
    "learning_rate = 0.001"
   ],
   "id": "b9886c4df87f4f8d",
   "outputs": [],
   "execution_count": 5
  },
  {
   "metadata": {
    "ExecuteTime": {
     "end_time": "2025-03-20T10:14:12.357308Z",
     "start_time": "2025-03-20T10:14:11.758590Z"
    }
   },
   "cell_type": "code",
   "source": "optimizer = optim.SGD([weight, bias], lr=learning_rate)",
   "id": "aa08d0a938b6020c",
   "outputs": [],
   "execution_count": 6
  },
  {
   "metadata": {
    "ExecuteTime": {
     "end_time": "2025-03-20T10:14:14.275070Z",
     "start_time": "2025-03-20T10:14:13.600312Z"
    }
   },
   "cell_type": "code",
   "source": [
    "for epoch in range(10000):\n",
    "    hypothesis = weight * x + bias\n",
    "    cost = torch.mean((hypothesis - y) ** 2)\n",
    "\n",
    "    optimizer.zero_grad()\n",
    "    cost.backward()\n",
    "    optimizer.step()\n",
    "\n",
    "    if (epoch + 1) % 1000 == 0:\n",
    "        print(f\"Epoch : {epoch+1:4d}, Weight : {weight.item():.3f}, Bias : {bias.item():.3f}, Cost : {cost:.3f}\")"
   ],
   "id": "184ebf611608e7b3",
   "outputs": [
    {
     "name": "stdout",
     "output_type": "stream",
     "text": [
      "Epoch : 1000, Weight : 0.864, Bias : -0.138, Cost : 1.393\n",
      "Epoch : 2000, Weight : 0.870, Bias : -0.251, Cost : 1.380\n",
      "Epoch : 3000, Weight : 0.873, Bias : -0.321, Cost : 1.375\n",
      "Epoch : 4000, Weight : 0.875, Bias : -0.364, Cost : 1.373\n",
      "Epoch : 5000, Weight : 0.877, Bias : -0.391, Cost : 1.373\n",
      "Epoch : 6000, Weight : 0.878, Bias : -0.408, Cost : 1.372\n",
      "Epoch : 7000, Weight : 0.878, Bias : -0.419, Cost : 1.372\n",
      "Epoch : 8000, Weight : 0.878, Bias : -0.425, Cost : 1.372\n",
      "Epoch : 9000, Weight : 0.879, Bias : -0.429, Cost : 1.372\n",
      "Epoch : 10000, Weight : 0.879, Bias : -0.432, Cost : 1.372\n"
     ]
    }
   ],
   "execution_count": 7
  },
  {
   "metadata": {},
   "cell_type": "markdown",
   "source": "### 3.25 zero_grad() 함수",
   "id": "ab8f5ade588b7197"
  },
  {
   "metadata": {
    "ExecuteTime": {
     "end_time": "2025-03-20T10:18:58.335752Z",
     "start_time": "2025-03-20T10:18:58.322408Z"
    }
   },
   "cell_type": "code",
   "source": [
    "import torch\n",
    "from torch import optim\n",
    "\n",
    "\n",
    "x = torch.FloatTensor([\n",
    "    [1], [2], [3], [4], [5], [6], [7], [8], [9], [10],\n",
    "    [11], [12], [13], [14], [15], [16], [17], [18], [19], [20],\n",
    "    [21], [22], [23], [24], [25], [26], [27], [28], [29], [30]\n",
    "])\n",
    "y = torch.FloatTensor([\n",
    "    [0.94], [1.98], [2.88], [3.92], [3.96], [4.55], [5.64], [6.3], [7.44], [9.1],\n",
    "    [8.46], [9.5], [10.67], [11.16], [14], [11.83], [14.4], [14.25], [16.2], [16.32],\n",
    "    [17.46], [19.8], [18], [21.34], [22], [22.5], [24.57], [26.04], [21.6], [28.8]\n",
    "])\n",
    "\n",
    "weight = torch.zeros(1, requires_grad=True)\n",
    "bias = torch.zeros(1, requires_grad=True)\n",
    "learning_rate = 0.001\n",
    "\n",
    "optimizer = optim.SGD([weight, bias], lr=learning_rate)\n",
    "\n",
    "for epoch in range(10000):\n",
    "    hypothesis = weight * x + bias\n",
    "    cost = torch.mean((hypothesis - y) ** 2)\n",
    "\n",
    "    print(f\"Epoch : {epoch+1:4d}\")\n",
    "    print(f\"Step [1] : Gradient : {weight.grad}, Weight : {weight.item():.5f}\")\n",
    "\n",
    "    optimizer.zero_grad()\n",
    "    print(f\"Step [2] : Gradient : {weight.grad}, Weight : {weight.item():.5f}\")\n",
    "\n",
    "    cost.backward()\n",
    "    print(f\"Step [3] : Gradient : {weight.grad}, Weight : {weight.item():.5f}\")\n",
    "\n",
    "    optimizer.step()\n",
    "    print(f\"Step [4] : Gradient : {weight.grad}, Weight : {weight.item():.5f}\")\n",
    "\n",
    "    if epoch == 3:\n",
    "        break"
   ],
   "id": "e433139302b9a814",
   "outputs": [
    {
     "name": "stdout",
     "output_type": "stream",
     "text": [
      "Epoch :    1\n",
      "Step [1] : Gradient : None, Weight : 0.00000\n",
      "Step [2] : Gradient : None, Weight : 0.00000\n",
      "Step [3] : Gradient : tensor([-540.4854]), Weight : 0.00000\n",
      "Step [4] : Gradient : tensor([-540.4854]), Weight : 0.54049\n",
      "Epoch :    2\n",
      "Step [1] : Gradient : tensor([-540.4854]), Weight : 0.54049\n",
      "Step [2] : Gradient : None, Weight : 0.54049\n",
      "Step [3] : Gradient : tensor([-198.9818]), Weight : 0.54049\n",
      "Step [4] : Gradient : tensor([-198.9818]), Weight : 0.73947\n",
      "Epoch :    3\n",
      "Step [1] : Gradient : tensor([-198.9818]), Weight : 0.73947\n",
      "Step [2] : Gradient : None, Weight : 0.73947\n",
      "Step [3] : Gradient : tensor([-73.2604]), Weight : 0.73947\n",
      "Step [4] : Gradient : tensor([-73.2604]), Weight : 0.81273\n",
      "Epoch :    4\n",
      "Step [1] : Gradient : tensor([-73.2604]), Weight : 0.81273\n",
      "Step [2] : Gradient : None, Weight : 0.81273\n",
      "Step [3] : Gradient : tensor([-26.9772]), Weight : 0.81273\n",
      "Step [4] : Gradient : tensor([-26.9772]), Weight : 0.83970\n"
     ]
    }
   ],
   "execution_count": 13
  },
  {
   "metadata": {},
   "cell_type": "markdown",
   "source": "### 3.26 모델선언",
   "id": "3d80d902f12a41b7"
  },
  {
   "metadata": {
    "ExecuteTime": {
     "end_time": "2025-03-20T10:21:34.471149Z",
     "start_time": "2025-03-20T10:21:34.464310Z"
    }
   },
   "cell_type": "code",
   "source": [
    "model = nn.Linear(1, 1)\n",
    "criterion = nn.MSELoss()\n",
    "optimizer = optim.SGD(model.parameters(), lr=0.001)\n",
    "learning_rate = 0.001"
   ],
   "id": "eb84399ef6639eea",
   "outputs": [],
   "execution_count": 14
  },
  {
   "metadata": {},
   "cell_type": "markdown",
   "source": "### 3.27 순방향 연산",
   "id": "d4ac98cae97e80c3"
  },
  {
   "metadata": {
    "ExecuteTime": {
     "end_time": "2025-03-20T10:22:05.563444Z",
     "start_time": "2025-03-20T10:22:05.425931Z"
    }
   },
   "cell_type": "code",
   "source": [
    "for epoch in range(10000):\n",
    "    output= model(x)\n",
    "    cost = criterion(output, y)\n"
   ],
   "id": "79faec9bfbf2350d",
   "outputs": [],
   "execution_count": 15
  },
  {
   "metadata": {},
   "cell_type": "markdown",
   "source": "### 3.28 신경망 패치지 적용",
   "id": "82553e6cf18dac91"
  },
  {
   "metadata": {
    "ExecuteTime": {
     "end_time": "2025-03-20T10:59:37.870343Z",
     "start_time": "2025-03-20T10:59:36.714418Z"
    }
   },
   "cell_type": "code",
   "source": [
    "import torch\n",
    "from torch import optim\n",
    "from torch import nn\n",
    "import matplotlib.pyplot as plt"
   ],
   "id": "1b3a60025ed603eb",
   "outputs": [],
   "execution_count": 1
  },
  {
   "metadata": {
    "ExecuteTime": {
     "end_time": "2025-03-20T10:59:39.149046Z",
     "start_time": "2025-03-20T10:59:37.874730Z"
    }
   },
   "cell_type": "code",
   "source": [
    "x = torch.FloatTensor([\n",
    "    [1], [2], [3], [4], [5], [6], [7], [8], [9], [10],\n",
    "    [11], [12], [13], [14], [15], [16], [17], [18], [19], [20],\n",
    "    [21], [22], [23], [24], [25], [26], [27], [28], [29], [30]\n",
    "])\n",
    "y = torch.FloatTensor([\n",
    "    [0.94], [1.98], [2.88], [3.92], [3.96], [4.55], [5.64], [6.3], [7.44], [9.1],\n",
    "    [8.46], [9.5], [10.67], [11.16], [14], [11.83], [14.4], [14.25], [16.2], [16.32],\n",
    "    [17.46], [19.8], [18], [21.34], [22], [22.5], [24.57], [26.04], [21.6], [28.8]\n",
    "])\n",
    "\n",
    "model = nn.Linear(1, 1)\n",
    "criterion = nn.MSELoss()\n",
    "optimizer = optim.SGD(model.parameters(), lr=0.001)\n",
    "\n",
    "\n",
    "for epoch in range(10000):\n",
    "    output= model(x)\n",
    "    cost = criterion(output, y)\n",
    "\n",
    "    optimizer.zero_grad()\n",
    "    cost.backward()\n",
    "    optimizer.step()\n",
    "\n",
    "    if (epoch + 1) % 1000 == 0:\n",
    "        print(f\"Epoch : {epoch+1:4d}, Model:{list(model.parameters())} Cost : {cost.item():.6f}\")\n",
    "\n"
   ],
   "id": "51c85a989928f577",
   "outputs": [
    {
     "name": "stdout",
     "output_type": "stream",
     "text": [
      "Epoch : 1000, Model:[Parameter containing:\n",
      "tensor([[0.8560]], requires_grad=True), Parameter containing:\n",
      "tensor([0.0286], requires_grad=True)] Cost : 1.423547\n",
      "Epoch : 2000, Model:[Parameter containing:\n",
      "tensor([[0.8647]], requires_grad=True), Parameter containing:\n",
      "tensor([-0.1468], requires_grad=True)] Cost : 1.392081\n",
      "Epoch : 3000, Model:[Parameter containing:\n",
      "tensor([[0.8700]], requires_grad=True), Parameter containing:\n",
      "tensor([-0.2560], requires_grad=True)] Cost : 1.379896\n",
      "Epoch : 4000, Model:[Parameter containing:\n",
      "tensor([[0.8734]], requires_grad=True), Parameter containing:\n",
      "tensor([-0.3240], requires_grad=True)] Cost : 1.375178\n",
      "Epoch : 5000, Model:[Parameter containing:\n",
      "tensor([[0.8755]], requires_grad=True), Parameter containing:\n",
      "tensor([-0.3663], requires_grad=True)] Cost : 1.373352\n",
      "Epoch : 6000, Model:[Parameter containing:\n",
      "tensor([[0.8768]], requires_grad=True), Parameter containing:\n",
      "tensor([-0.3926], requires_grad=True)] Cost : 1.372644\n",
      "Epoch : 7000, Model:[Parameter containing:\n",
      "tensor([[0.8776]], requires_grad=True), Parameter containing:\n",
      "tensor([-0.4090], requires_grad=True)] Cost : 1.372370\n",
      "Epoch : 8000, Model:[Parameter containing:\n",
      "tensor([[0.8781]], requires_grad=True), Parameter containing:\n",
      "tensor([-0.4191], requires_grad=True)] Cost : 1.372264\n",
      "Epoch : 9000, Model:[Parameter containing:\n",
      "tensor([[0.8784]], requires_grad=True), Parameter containing:\n",
      "tensor([-0.4255], requires_grad=True)] Cost : 1.372223\n",
      "Epoch : 10000, Model:[Parameter containing:\n",
      "tensor([[0.8786]], requires_grad=True), Parameter containing:\n",
      "tensor([-0.4294], requires_grad=True)] Cost : 1.372207\n"
     ]
    }
   ],
   "execution_count": 2
  },
  {
   "metadata": {
    "ExecuteTime": {
     "end_time": "2025-03-20T10:59:41.480558Z",
     "start_time": "2025-03-20T10:59:41.400888Z"
    }
   },
   "cell_type": "code",
   "source": [
    "\n",
    "# PyTorch Tensor를 리스트로 변환\n",
    "x_list = x.flatten().tolist()  # 1D 리스트로 변환\n",
    "y_list = y.flatten().tolist()  # 1D 리스트로 변환\n",
    "\n",
    "# 산점도 그리기\n",
    "plt.scatter(x_list, y_list, color='blue', label='Data Points')\n",
    "plt.xlabel('X Values')\n",
    "plt.ylabel('Y Values')\n",
    "plt.title('Scatter Plot of X and Y')\n",
    "plt.legend()\n",
    "plt.show()\n"
   ],
   "id": "9f15c867530c4df8",
   "outputs": [
    {
     "data": {
      "text/plain": [
       "<Figure size 640x480 with 1 Axes>"
      ],
      "image/png": "[encoded data removed]"
     },
     "metadata": {},
     "output_type": "display_data"
    }
   ],
   "execution_count": 3
  },
  {
   "metadata": {
    "ExecuteTime": {
     "end_time": "2025-03-20T10:59:44.822698Z",
     "start_time": "2025-03-20T10:59:44.755962Z"
    }
   },
   "cell_type": "code",
   "source": [
    "# 학습된 직선 예측\n",
    "predicted = model(x).detach().numpy()  # 학습된 모델로 예측값 계산\n",
    "\n",
    "# 그래프 출력\n",
    "x_numpy = x.numpy().flatten()  # x를 NumPy로 변환 (1D로)\n",
    "y_numpy = y.numpy().flatten()  # y를 NumPy로 변환 (1D로)\n",
    "\n",
    "plt.scatter(x_numpy, y_numpy, color='blue', label='Data Points')  # 실제 데이터\n",
    "plt.plot(x_numpy, predicted, color='red', label='Fitted Line')  # 학습한 모델의 직선\n",
    "plt.xlabel('X Values')\n",
    "plt.ylabel('Y Values')\n",
    "plt.title('Scatter Plot of X and Y with Fitted Line')\n",
    "plt.legend()\n",
    "plt.show()\n",
    "\n"
   ],
   "id": "d527232e2eb80866",
   "outputs": [
    {
     "data": {
      "text/plain": [
       "<Figure size 640x480 with 1 Axes>"
      ],
      "image/png": "[encoded data removed]"
     },
     "metadata": {},
     "output_type": "display_data"
    }
   ],
   "execution_count": 4
  },
  {
   "metadata": {},
   "cell_type": "markdown",
   "source": "### 3.29 기본 구조 선언",
   "id": "7c1af788cb3c2077"
  },
  {
   "metadata": {
    "ExecuteTime": {
     "end_time": "2025-03-20T10:44:57.945098Z",
     "start_time": "2025-03-20T10:44:57.936977Z"
    }
   },
   "cell_type": "code",
   "source": [
    "import torch\n",
    "from torch import nn\n",
    "from torch import optim\n",
    "from torch.utils.data import TensorDataset, DataLoader\n",
    "\n",
    "\n",
    "train_x = torch.FloatTensor([\n",
    "    [1, 2], [2, 3], [3, 4], [4, 5], [5, 6], [6, 7]\n",
    "])\n",
    "train_y = torch.FloatTensor([\n",
    "    [0.1, 1.5], [1, 2.8], [1.9, 4.1], [2.8, 5.4], [3.7, 6.7], [4.6, 8]\n",
    "])"
   ],
   "id": "2fb6e5b51b1ce2ae",
   "outputs": [],
   "execution_count": 34
  },
  {
   "metadata": {},
   "cell_type": "markdown",
   "source": "### 3.33 다중 선형 회귀",
   "id": "1853a98ef84cad5e"
  },
  {
   "metadata": {
    "ExecuteTime": {
     "end_time": "2025-03-20T10:42:23.262169Z",
     "start_time": "2025-03-20T10:42:23.253813Z"
    }
   },
   "cell_type": "code",
   "source": [
    "import torch\n",
    "from torch import nn\n",
    "from torch import optim\n",
    "from torch.utils.data import DataLoader, TensorDataset\n",
    "\n",
    "train_x = torch.FloatTensor([\n",
    "    [1, 2], [2, 3], [3, 4], [4, 5], [5, 6], [6, 7]\n",
    "])\n",
    "train_y = torch.FloatTensor([\n",
    "    [0.1, 1.5], [1, 2.8], [1.9, 4.1], [2.8, 5.4], [3.7, 6.7], [4.6, 8]\n",
    "])\n",
    "\n",
    "train_dataset = TensorDataset(train_x, train_y)\n",
    "train_dataloader = DataLoader(train_dataset, batch_size=2, shuffle=True, drop_last=True)"
   ],
   "id": "a2a6c9e104d601d7",
   "outputs": [],
   "execution_count": 30
  },
  {
   "metadata": {
    "ExecuteTime": {
     "end_time": "2025-03-20T10:44:12.126497Z",
     "start_time": "2025-03-20T10:44:09.040249Z"
    }
   },
   "cell_type": "code",
   "source": [
    "model = nn.Linear(2, 2, bias=True)\n",
    "criterion = nn.MSELoss()\n",
    "optimizer = optim.SGD(model.parameters(), lr=0.001)\n",
    "\n",
    "for epoch in range(10000):\n",
    "    cost = 0.0\n",
    "    for batch in train_dataloader:\n",
    "        x, y = batch\n",
    "        output = model(x)\n",
    "\n",
    "        loss = criterion(output, y)\n",
    "\n",
    "        optimizer.zero_grad()\n",
    "        loss.backward()\n",
    "        optimizer.step()\n",
    "\n",
    "        cost += loss\n",
    "\n",
    "    cost = cost / len(train_dataloader)\n",
    "\n",
    "    if (epoch + 1) % 1000 == 0:\n",
    "        print(f\"Epoch : {epoch+1:4d}, Model : {list(model.parameters())}, Cost : {cost:.3f}\")"
   ],
   "id": "2cd52881bde4b498",
   "outputs": [
    {
     "name": "stdout",
     "output_type": "stream",
     "text": [
      "Epoch : 1000, Model : [Parameter containing:\n",
      "tensor([[0.4023, 0.4179],\n",
      "        [0.6685, 0.4806]], requires_grad=True), Parameter containing:\n",
      "tensor([-0.8827,  0.3531], requires_grad=True)], Cost : 0.050\n",
      "Epoch : 2000, Model : [Parameter containing:\n",
      "tensor([[0.4833, 0.3762],\n",
      "        [0.8216, 0.4018]], requires_grad=True), Parameter containing:\n",
      "tensor([-1.0053,  0.1212], requires_grad=True)], Cost : 0.013\n",
      "Epoch : 3000, Model : [Parameter containing:\n",
      "tensor([[0.5244, 0.3549],\n",
      "        [0.8994, 0.3614]], requires_grad=True), Parameter containing:\n",
      "tensor([-1.0679,  0.0030], requires_grad=True)], Cost : 0.003\n",
      "Epoch : 4000, Model : [Parameter containing:\n",
      "tensor([[0.5454, 0.3440],\n",
      "        [0.9391, 0.3410]], requires_grad=True), Parameter containing:\n",
      "tensor([-1.0997, -0.0572], requires_grad=True)], Cost : 0.001\n",
      "Epoch : 5000, Model : [Parameter containing:\n",
      "tensor([[0.5561, 0.3385],\n",
      "        [0.9593, 0.3305]], requires_grad=True), Parameter containing:\n",
      "tensor([-1.1159, -0.0878], requires_grad=True)], Cost : 0.000\n",
      "Epoch : 6000, Model : [Parameter containing:\n",
      "tensor([[0.5616, 0.3357],\n",
      "        [0.9696, 0.3252]], requires_grad=True), Parameter containing:\n",
      "tensor([-1.1242, -0.1034], requires_grad=True)], Cost : 0.000\n",
      "Epoch : 7000, Model : [Parameter containing:\n",
      "tensor([[0.5644, 0.3343],\n",
      "        [0.9749, 0.3225]], requires_grad=True), Parameter containing:\n",
      "tensor([-1.1284, -0.1114], requires_grad=True)], Cost : 0.000\n",
      "Epoch : 8000, Model : [Parameter containing:\n",
      "tensor([[0.5658, 0.3335],\n",
      "        [0.9775, 0.3211]], requires_grad=True), Parameter containing:\n",
      "tensor([-1.1305, -0.1155], requires_grad=True)], Cost : 0.000\n",
      "Epoch : 9000, Model : [Parameter containing:\n",
      "tensor([[0.5665, 0.3332],\n",
      "        [0.9789, 0.3204]], requires_grad=True), Parameter containing:\n",
      "tensor([-1.1316, -0.1175], requires_grad=True)], Cost : 0.000\n",
      "Epoch : 10000, Model : [Parameter containing:\n",
      "tensor([[0.5669, 0.3330],\n",
      "        [0.9796, 0.3200]], requires_grad=True), Parameter containing:\n",
      "tensor([-1.1322, -0.1186], requires_grad=True)], Cost : 0.000\n"
     ]
    }
   ],
   "execution_count": 32
  },
  {
   "metadata": {},
   "cell_type": "markdown",
   "source": "### 3.43 비선형 회귀에 대한 전체 코드",
   "id": "529dd25ab2a13036"
  },
  {
   "metadata": {
    "ExecuteTime": {
     "end_time": "2025-03-20T11:34:02.392033Z",
     "start_time": "2025-03-20T11:33:55.492042Z"
    }
   },
   "cell_type": "code",
   "source": [
    "import torch\n",
    "import pandas as pd\n",
    "from torch import nn\n",
    "from torch import optim\n",
    "from torch.utils.data import DataLoader, Dataset\n",
    "\n",
    "class CustomDataset(Dataset):\n",
    "    def __init__(self, file_path):\n",
    "        df = pd.read_csv(file_path)\n",
    "        self.x = df.iloc[:, 0].values\n",
    "        self.y = df.iloc[:, 1].values\n",
    "        self.length = len(df)\n",
    "\n",
    "    def __len__(self):\n",
    "        return self.length\n",
    "\n",
    "    def __getitem__(self, index):\n",
    "        x = torch.FloatTensor([self.x[index] ** 2, self.x[index]])\n",
    "        y = torch.FloatTensor([self.y[index]])\n",
    "        return x, y\n",
    "\n",
    "class CustomModel(nn.Module):\n",
    "    def __init__(self):\n",
    "        super().__init__()\n",
    "        self.layer = nn.Linear(2, 1)\n",
    "\n",
    "    def forward(self, x):\n",
    "        x = self.layer(x)\n",
    "        return x\n",
    "\n",
    "train_dataset = CustomDataset('../datasets/non_linear.csv')\n",
    "train_dataloader = DataLoader(train_dataset, batch_size=128, shuffle=True, drop_last=True)\n",
    "\n",
    "device = torch.device('cuda' if torch.cuda.is_available() else 'cpu')\n",
    "model = CustomModel().to(device)\n",
    "criterion = nn.MSELoss().to(device)\n",
    "optimizer = optim.SGD(model.parameters(), lr=0.0001)\n",
    "\n",
    "\n",
    "for epoch in range(10000):\n",
    "    cost = 0.0\n",
    "\n",
    "    for x, y in train_dataloader:\n",
    "        x = x.to(device)\n",
    "        y = y.to(device)\n",
    "\n",
    "        output = model(x)\n",
    "        loss = criterion(output, y)\n",
    "\n",
    "        optimizer.zero_grad()\n",
    "        loss.backward()\n",
    "        optimizer.step()\n",
    "\n",
    "        cost += loss\n",
    "\n",
    "    cost = cost / len(train_dataloader)\n",
    "\n",
    "    if (epoch + 1) % 1000 == 0:\n",
    "        print(f\"Epoch : {epoch+1:4d}, Model : {list(model.parameters())}, Cost : {cost:.3f}\")\n",
    "\n",
    "\n",
    "with torch.no_grad():\n",
    "    model.eval()\n",
    "    inputs = torch.FloatTensor(\n",
    "        [\n",
    "            [1 **1, 1],\n",
    "            [5 **2, 5],\n",
    "            [11 **2, 11]\n",
    "        ]\n",
    "    ).to(device)\n",
    "    outputs = model(inputs)\n",
    "    print(outputs)\n",
    "\n",
    "torch.save(\n",
    "    model,\n",
    "    \"../models/model_03_43.pt\")\n",
    "\n",
    "torch.save(\n",
    "    model.state_dict(),\n",
    "    \"../models/model_03_43_state_dict.pt\")\n"
   ],
   "id": "98dd052c8293307e",
   "outputs": [
    {
     "name": "stdout",
     "output_type": "stream",
     "text": [
      "Epoch : 1000, Model : [Parameter containing:\n",
      "tensor([[ 3.1114, -1.7001]], requires_grad=True), Parameter containing:\n",
      "tensor([-0.1680], requires_grad=True)], Cost : 0.277\n",
      "Epoch : 2000, Model : [Parameter containing:\n",
      "tensor([[ 3.1097, -1.7026]], requires_grad=True), Parameter containing:\n",
      "tensor([-0.1117], requires_grad=True)], Cost : 0.193\n",
      "Epoch : 3000, Model : [Parameter containing:\n",
      "tensor([[ 3.1094, -1.7026]], requires_grad=True), Parameter containing:\n",
      "tensor([-0.0602], requires_grad=True)], Cost : 0.194\n",
      "Epoch : 4000, Model : [Parameter containing:\n",
      "tensor([[ 3.1084, -1.7029]], requires_grad=True), Parameter containing:\n",
      "tensor([-0.0131], requires_grad=True)], Cost : 0.194\n",
      "Epoch : 5000, Model : [Parameter containing:\n",
      "tensor([[ 3.1075, -1.7028]], requires_grad=True), Parameter containing:\n",
      "tensor([0.0301], requires_grad=True)], Cost : 0.166\n",
      "Epoch : 6000, Model : [Parameter containing:\n",
      "tensor([[ 3.1069, -1.7028]], requires_grad=True), Parameter containing:\n",
      "tensor([0.0695], requires_grad=True)], Cost : 0.158\n",
      "Epoch : 7000, Model : [Parameter containing:\n",
      "tensor([[ 3.1064, -1.7031]], requires_grad=True), Parameter containing:\n",
      "tensor([0.1056], requires_grad=True)], Cost : 0.136\n",
      "Epoch : 8000, Model : [Parameter containing:\n",
      "tensor([[ 3.1057, -1.7030]], requires_grad=True), Parameter containing:\n",
      "tensor([0.1387], requires_grad=True)], Cost : 0.128\n",
      "Epoch : 9000, Model : [Parameter containing:\n",
      "tensor([[ 3.1051, -1.7028]], requires_grad=True), Parameter containing:\n",
      "tensor([0.1690], requires_grad=True)], Cost : 0.134\n",
      "Epoch : 10000, Model : [Parameter containing:\n",
      "tensor([[ 3.1049, -1.7029]], requires_grad=True), Parameter containing:\n",
      "tensor([0.1967], requires_grad=True)], Cost : 0.121\n",
      "tensor([[  1.5988],\n",
      "        [ 69.3052],\n",
      "        [357.1598]])\n"
     ]
    }
   ],
   "execution_count": 13
  },
  {
   "metadata": {},
   "cell_type": "markdown",
   "source": "### 3.47 모델 불러오기",
   "id": "31c13aa6d0a43ec0"
  },
  {
   "metadata": {
    "ExecuteTime": {
     "end_time": "2025-03-20T11:49:55.447077Z",
     "start_time": "2025-03-20T11:49:55.426422Z"
    }
   },
   "cell_type": "code",
   "source": [
    "import torch\n",
    "from torch import nn\n",
    "\n",
    "\n",
    "class CustomModel(nn.Module):\n",
    "    def __init__(self):\n",
    "        super().__init__()\n",
    "        self.layer = nn.Linear(2, 1)\n",
    "\n",
    "    def forward(self, x):\n",
    "        x = self.layer(x)\n",
    "        return x\n",
    "\n",
    "device = torch.device('cuda' if torch.cuda.is_available() else 'cpu')\n",
    "#model = torch.load(\"../models/model_03_43.pt\", map_location=device)\n",
    "model = torch.load(\"../models/model_03_43.pt\", map_location=device, weights_only=False)\n",
    "\n",
    "print(model)\n",
    "\n",
    "with torch.no_grad():\n",
    "    model.eval()\n",
    "    inputs = torch.FloatTensor(\n",
    "        [\n",
    "            [1 ** 2, 1],\n",
    "            [5 ** 2, 5],\n",
    "            [11 ** 2, 11]\n",
    "        ]\n",
    "    ).to(device)\n",
    "    outputs = model(inputs)\n",
    "    print(outputs)\n"
   ],
   "id": "c235360a4848cd00",
   "outputs": [
    {
     "name": "stdout",
     "output_type": "stream",
     "text": [
      "CustomModel(\n",
      "  (layer): Linear(in_features=2, out_features=1, bias=True)\n",
      ")\n",
      "tensor([[  1.5988],\n",
      "        [ 69.3052],\n",
      "        [357.1598]])\n"
     ]
    }
   ],
   "execution_count": 18
  },
  {
   "metadata": {},
   "cell_type": "markdown",
   "source": "### 3.48 모델 구조 확인",
   "id": "ece3cbb9fbe64b92"
  },
  {
   "metadata": {
    "ExecuteTime": {
     "end_time": "2025-03-20T11:51:26.121231Z",
     "start_time": "2025-03-20T11:51:26.114545Z"
    }
   },
   "cell_type": "code",
   "source": [
    "import torch\n",
    "from torch import nn\n",
    "\n",
    "\n",
    "class CustomModel(nn.Module):\n",
    "    pass\n",
    "\n",
    "device = torch.device('cuda' if torch.cuda.is_available() else 'cpu')\n",
    "#model = torch.load(\"../models/model_03_43.pt\", map_location=device)\n",
    "model = torch.load(\"../models/model_03_43.pt\", map_location=device, weights_only=False)\n",
    "\n",
    "print(model)"
   ],
   "id": "697d5a4c4ed549ad",
   "outputs": [
    {
     "name": "stdout",
     "output_type": "stream",
     "text": [
      "CustomModel(\n",
      "  (layer): Linear(in_features=2, out_features=1, bias=True)\n",
      ")\n"
     ]
    }
   ],
   "execution_count": 19
  },
  {
   "metadata": {},
   "cell_type": "markdown",
   "source": "### 3.50 모델 상태 불러오기",
   "id": "183e29a554cd339"
  },
  {
   "metadata": {
    "ExecuteTime": {
     "end_time": "2025-03-20T11:54:28.153110Z",
     "start_time": "2025-03-20T11:54:28.136117Z"
    }
   },
   "cell_type": "code",
   "source": [
    "import torch\n",
    "from torch import nn\n",
    "\n",
    "\n",
    "class CustomModel(nn.Module):\n",
    "    def __init__(self):\n",
    "        super().__init__()\n",
    "        self.layer = nn.Linear(2, 1)\n",
    "\n",
    "    def forward(self, x):\n",
    "        x = self.layer(x)\n",
    "        return x\n",
    "\n",
    "device = torch.device('cuda' if torch.cuda.is_available() else 'cpu')\n",
    "model = CustomModel().to(device)\n",
    "\n",
    "model_state_dict = torch.load(\"../models/model_03_43_state_dict.pt\", map_location=device,  weights_only=False)\n",
    "model.load_state_dict(model_state_dict)\n",
    "\n",
    "\n",
    "with torch.no_grad():\n",
    "    model.eval()\n",
    "    inputs = torch.FloatTensor(\n",
    "        [\n",
    "            [1 ** 2, 1],\n",
    "            [5 ** 2, 5],\n",
    "            [11 ** 2, 11]\n",
    "        ]\n",
    "    ).to(device)\n",
    "    outputs = model(inputs)\n",
    "    print(outputs)"
   ],
   "id": "6796e0814b6de522",
   "outputs": [
    {
     "name": "stdout",
     "output_type": "stream",
     "text": [
      "tensor([[  1.5988],\n",
      "        [ 69.3052],\n",
      "        [357.1598]])\n"
     ]
    }
   ],
   "execution_count": 20
  },
  {
   "metadata": {},
   "cell_type": "markdown",
   "source": "### 3.51 체크포인트 저장",
   "id": "8f6fc36668928280"
  },
  {
   "metadata": {
    "ExecuteTime": {
     "end_time": "2025-03-20T11:58:36.563233Z",
     "start_time": "2025-03-20T11:58:29.649980Z"
    }
   },
   "cell_type": "code",
   "source": [
    "import torch\n",
    "import pandas as pd\n",
    "from torch import nn\n",
    "from torch import optim\n",
    "from torch.utils.data import DataLoader, Dataset\n",
    "\n",
    "class CustomDataset(Dataset):\n",
    "    def __init__(self, file_path):\n",
    "        df = pd.read_csv(file_path)\n",
    "        self.x = df.iloc[:, 0].values\n",
    "        self.y = df.iloc[:, 1].values\n",
    "        self.length = len(df)\n",
    "\n",
    "    def __len__(self):\n",
    "        return self.length\n",
    "\n",
    "    def __getitem__(self, index):\n",
    "        x = torch.FloatTensor([self.x[index] ** 2, self.x[index]])\n",
    "        y = torch.FloatTensor([self.y[index]])\n",
    "        return x, y\n",
    "\n",
    "class CustomModel(nn.Module):\n",
    "    def __init__(self):\n",
    "        super().__init__()\n",
    "        self.layer = nn.Linear(2, 1)\n",
    "\n",
    "    def forward(self, x):\n",
    "        x = self.layer(x)\n",
    "        return x\n",
    "\n",
    "train_dataset = CustomDataset('../datasets/non_linear.csv')\n",
    "train_dataloader = DataLoader(train_dataset, batch_size=128, shuffle=True, drop_last=True)\n",
    "\n",
    "device = torch.device('cuda' if torch.cuda.is_available() else 'cpu')\n",
    "model = CustomModel().to(device)\n",
    "criterion = nn.MSELoss().to(device)\n",
    "optimizer = optim.SGD(model.parameters(), lr=0.0001)\n",
    "\n",
    "checkpoint = 1\n",
    "for epoch in range(10000):\n",
    "    cost = 0.0\n",
    "\n",
    "    for x, y in train_dataloader:\n",
    "        x = x.to(device)\n",
    "        y = y.to(device)\n",
    "\n",
    "        output = model(x)\n",
    "        loss = criterion(output, y)\n",
    "\n",
    "        optimizer.zero_grad()\n",
    "        loss.backward()\n",
    "        optimizer.step()\n",
    "\n",
    "        cost += loss\n",
    "\n",
    "    cost = cost / len(train_dataloader)\n",
    "\n",
    "    if (epoch + 1) % 1000 == 0:\n",
    "        torch.save(\n",
    "            {\n",
    "                \"model\":\"CustomModel\",\n",
    "                \"epoch\":epoch,\n",
    "                \"model_state_dict\":model.state_dict(),\n",
    "                \"optimizer_state_dict\":optimizer.state_dict(),\n",
    "                \"loss\":cost,\n",
    "                \"description\":f\"CustomModel 체크포인트-{checkpoint}\",\n",
    "            },\n",
    "            f\"../models/model_03_51_checkpoint_{checkpoint}.pt\"\n",
    "        )\n",
    "        checkpoint += 1\n",
    "        print(f\"Epoch : {epoch+1:4d}, Model : {list(model.parameters())}, Cost : {cost:.3f}\")\n",
    "\n"
   ],
   "id": "27599e30bcf4402",
   "outputs": [
    {
     "name": "stdout",
     "output_type": "stream",
     "text": [
      "Epoch : 1000, Model : [Parameter containing:\n",
      "tensor([[ 3.1030, -1.7015]], requires_grad=True), Parameter containing:\n",
      "tensor([0.2945], requires_grad=True)], Cost : 0.092\n",
      "Epoch : 2000, Model : [Parameter containing:\n",
      "tensor([[ 3.1030, -1.7029]], requires_grad=True), Parameter containing:\n",
      "tensor([0.3116], requires_grad=True)], Cost : 0.090\n",
      "Epoch : 3000, Model : [Parameter containing:\n",
      "tensor([[ 3.1027, -1.7031]], requires_grad=True), Parameter containing:\n",
      "tensor([0.3271], requires_grad=True)], Cost : 0.096\n",
      "Epoch : 4000, Model : [Parameter containing:\n",
      "tensor([[ 3.1023, -1.7029]], requires_grad=True), Parameter containing:\n",
      "tensor([0.3413], requires_grad=True)], Cost : 0.086\n",
      "Epoch : 5000, Model : [Parameter containing:\n",
      "tensor([[ 3.1023, -1.7030]], requires_grad=True), Parameter containing:\n",
      "tensor([0.3543], requires_grad=True)], Cost : 0.079\n",
      "Epoch : 6000, Model : [Parameter containing:\n",
      "tensor([[ 3.1022, -1.7031]], requires_grad=True), Parameter containing:\n",
      "tensor([0.3663], requires_grad=True)], Cost : 0.080\n",
      "Epoch : 7000, Model : [Parameter containing:\n",
      "tensor([[ 3.1019, -1.7032]], requires_grad=True), Parameter containing:\n",
      "tensor([0.3771], requires_grad=True)], Cost : 0.085\n",
      "Epoch : 8000, Model : [Parameter containing:\n",
      "tensor([[ 3.1014, -1.7030]], requires_grad=True), Parameter containing:\n",
      "tensor([0.3871], requires_grad=True)], Cost : 0.081\n",
      "Epoch : 9000, Model : [Parameter containing:\n",
      "tensor([[ 3.1017, -1.7033]], requires_grad=True), Parameter containing:\n",
      "tensor([0.3962], requires_grad=True)], Cost : 0.083\n",
      "Epoch : 10000, Model : [Parameter containing:\n",
      "tensor([[ 3.1015, -1.7029]], requires_grad=True), Parameter containing:\n",
      "tensor([0.4045], requires_grad=True)], Cost : 0.076\n"
     ]
    }
   ],
   "execution_count": 22
  },
  {
   "metadata": {},
   "cell_type": "markdown",
   "source": "### 3.52 체크포인트 불러오기",
   "id": "3d6404eb33afb082"
  },
  {
   "metadata": {
    "ExecuteTime": {
     "end_time": "2025-03-20T12:10:03.920364Z",
     "start_time": "2025-03-20T12:09:56.994174Z"
    }
   },
   "cell_type": "code",
   "source": [
    "import torch\n",
    "import pandas as pd\n",
    "from torch import nn\n",
    "from torch import optim\n",
    "from torch.utils.data import DataLoader, Dataset\n",
    "\n",
    "class CustomDataset(Dataset):\n",
    "    def __init__(self, file_path):\n",
    "        df = pd.read_csv(file_path)\n",
    "        self.x = df.iloc[:, 0].values\n",
    "        self.y = df.iloc[:, 1].values\n",
    "        self.length = len(df)\n",
    "\n",
    "    def __len__(self):\n",
    "        return self.length\n",
    "\n",
    "    def __getitem__(self, index):\n",
    "        x = torch.FloatTensor([self.x[index] ** 2, self.x[index]])\n",
    "        y = torch.FloatTensor([self.y[index]])\n",
    "        return x, y\n",
    "\n",
    "class CustomModel(nn.Module):\n",
    "    def __init__(self):\n",
    "        super().__init__()\n",
    "        self.layer = nn.Linear(2, 1)\n",
    "\n",
    "    def forward(self, x):\n",
    "        x = self.layer(x)\n",
    "        return x\n",
    "\n",
    "train_dataset = CustomDataset('../datasets/non_linear.csv')\n",
    "train_dataloader = DataLoader(train_dataset, batch_size=128, shuffle=True, drop_last=True)\n",
    "\n",
    "device = torch.device('cuda' if torch.cuda.is_available() else 'cpu')\n",
    "\n",
    "checkpoint = torch.load(\"../models/model_03_51_checkpoint_6.pt\")\n",
    "model.load_state_dict(checkpoint[\"model_state_dict\"])\n",
    "optimizer.load_state_dict(checkpoint[\"optimizer_state_dict\"])\n",
    "checkpoint_epoch = checkpoint[\"epoch\"]\n",
    "checkpoint_description = checkpoint[\"description\"]\n",
    "\n",
    "print(\"-------\")\n",
    "print(checkpoint_description)\n",
    "\n",
    "for epoch in range(10000):\n",
    "    cost = 0.0\n",
    "\n",
    "    for x, y in train_dataloader:\n",
    "        x = x.to(device)\n",
    "        y = y.to(device)\n",
    "\n",
    "        output = model(x)\n",
    "        loss = criterion(output, y)\n",
    "\n",
    "        optimizer.zero_grad()\n",
    "        loss.backward()\n",
    "        optimizer.step()\n",
    "\n",
    "        cost += loss\n",
    "\n",
    "    cost = cost / len(train_dataloader)\n",
    "\n",
    "    if (epoch + 1) % 1000 == 0:\n",
    "        print(f\"Epoch : {epoch+1:4d}, Model : {list(model.parameters())}, Cost : {cost:.3f}\")\n",
    "\n"
   ],
   "id": "8785b8822c99ba2e",
   "outputs": [
    {
     "name": "stdout",
     "output_type": "stream",
     "text": [
      "-------\n",
      "CustomModel 체크포인트-6\n",
      "Epoch : 1000, Model : [Parameter containing:\n",
      "tensor([[ 3.1016, -1.7031]], requires_grad=True), Parameter containing:\n",
      "tensor([0.3772], requires_grad=True)], Cost : 0.077\n",
      "Epoch : 2000, Model : [Parameter containing:\n",
      "tensor([[ 3.1014, -1.7031]], requires_grad=True), Parameter containing:\n",
      "tensor([0.3872], requires_grad=True)], Cost : 0.083\n",
      "Epoch : 3000, Model : [Parameter containing:\n",
      "tensor([[ 3.1015, -1.7031]], requires_grad=True), Parameter containing:\n",
      "tensor([0.3961], requires_grad=True)], Cost : 0.084\n",
      "Epoch : 4000, Model : [Parameter containing:\n",
      "tensor([[ 3.1015, -1.7028]], requires_grad=True), Parameter containing:\n",
      "tensor([0.4045], requires_grad=True)], Cost : 0.084\n",
      "Epoch : 5000, Model : [Parameter containing:\n",
      "tensor([[ 3.1014, -1.7032]], requires_grad=True), Parameter containing:\n",
      "tensor([0.4121], requires_grad=True)], Cost : 0.082\n",
      "Epoch : 6000, Model : [Parameter containing:\n",
      "tensor([[ 3.1012, -1.7029]], requires_grad=True), Parameter containing:\n",
      "tensor([0.4191], requires_grad=True)], Cost : 0.080\n",
      "Epoch : 7000, Model : [Parameter containing:\n",
      "tensor([[ 3.1012, -1.7033]], requires_grad=True), Parameter containing:\n",
      "tensor([0.4254], requires_grad=True)], Cost : 0.080\n",
      "Epoch : 8000, Model : [Parameter containing:\n",
      "tensor([[ 3.1010, -1.7034]], requires_grad=True), Parameter containing:\n",
      "tensor([0.4312], requires_grad=True)], Cost : 0.078\n",
      "Epoch : 9000, Model : [Parameter containing:\n",
      "tensor([[ 3.1009, -1.7028]], requires_grad=True), Parameter containing:\n",
      "tensor([0.4366], requires_grad=True)], Cost : 0.077\n",
      "Epoch : 10000, Model : [Parameter containing:\n",
      "tensor([[ 3.1008, -1.7030]], requires_grad=True), Parameter containing:\n",
      "tensor([0.4414], requires_grad=True)], Cost : 0.079\n"
     ]
    }
   ],
   "execution_count": 24
  },
  {
   "metadata": {},
   "cell_type": "markdown",
   "source": "### 3.56 이진분류",
   "id": "7b0c24b2a4cf1ced"
  },
  {
   "metadata": {
    "ExecuteTime": {
     "end_time": "2025-03-20T12:40:58.348330Z",
     "start_time": "2025-03-20T12:40:14.262880Z"
    }
   },
   "cell_type": "code",
   "source": [
    "import torch\n",
    "import pandas as pd\n",
    "from torch import nn\n",
    "from torch import optim\n",
    "from torch.utils.data import DataLoader, Dataset, random_split\n",
    "\n",
    "class CustomDataset(Dataset):\n",
    "    def __init__(self, file_path):\n",
    "        df = pd.read_csv(file_path)\n",
    "        self.x1 = df.iloc[:, 0].values\n",
    "        self.x2 = df.iloc[:, 1].values\n",
    "        self.x3 = df.iloc[:, 2].values\n",
    "        self.y = df.iloc[:, 3].values\n",
    "        self.length = len(df)\n",
    "\n",
    "    def __len__(self):\n",
    "        return self.length\n",
    "\n",
    "    def __getitem__(self, index):\n",
    "        x = torch.FloatTensor([self.x1[index] , self.x2[index], self.x3[index]])\n",
    "        y = torch.FloatTensor([self.y[index]])\n",
    "        return x, y\n",
    "\n",
    "class CustomModel(nn.Module):\n",
    "    def __init__(self):\n",
    "        super().__init__()\n",
    "        self.layer = nn.Sequential(\n",
    "            nn.Linear(3, 1),\n",
    "            nn.Sigmoid()\n",
    "            )\n",
    "\n",
    "    def forward(self, x):\n",
    "        x = self.layer(x)\n",
    "        return x\n",
    "\n",
    "dataset = CustomDataset('../datasets/binary.csv')\n",
    "dataset_size = len(dataset)\n",
    "train_size = int(dataset_size * 0.8)\n",
    "validation_size = int(dataset_size * 0.1)\n",
    "test_size = dataset_size - train_size - validation_size\n",
    "\n",
    "train_dataset, validation_dataset, test_dataset = random_split(dataset, [train_size, validation_size, test_size])\n",
    "\n",
    "train_dataloader = DataLoader(train_dataset, batch_size=64, shuffle=True, drop_last=True)\n",
    "validation_dataloader = DataLoader(validation_dataset, batch_size=4, shuffle=True, drop_last=True)\n",
    "test_dataloader = DataLoader(test_dataset, batch_size=4, shuffle=True, drop_last=True)\n",
    "\n",
    "device = torch.device('cuda' if torch.cuda.is_available() else 'cpu')\n",
    "model = CustomModel().to(device)\n",
    "criterion = nn.MSELoss().to(device)\n",
    "optimizer = optim.SGD(model.parameters(), lr=0.0001)\n",
    "\n",
    "\n",
    "for epoch in range(10000):\n",
    "    cost = 0.0\n",
    "\n",
    "    for x, y in train_dataloader:\n",
    "        x = x.to(device)\n",
    "        y = y.to(device)\n",
    "\n",
    "        output = model(x)\n",
    "        loss = criterion(output, y)\n",
    "\n",
    "        optimizer.zero_grad()\n",
    "        loss.backward()\n",
    "        optimizer.step()\n",
    "\n",
    "        cost += loss\n",
    "\n",
    "    cost = cost / len(train_dataloader)\n",
    "\n",
    "    if (epoch + 1) % 1000 == 0:\n",
    "        print(f\"Epoch : {epoch+1:4d}, Model : {list(model.parameters())}, Cost : {cost:.3f}\")\n",
    "\n",
    "\n",
    "with torch.no_grad():\n",
    "    model.eval()\n",
    "    for x, y in validation_dataloader:\n",
    "        x = x.to(device)\n",
    "        y = y.to(device)\n",
    "\n",
    "        output = model(x)\n",
    "        #loss = criterion(output, y)\n",
    "\n",
    "        #print(f\"Validation Loss : {loss:.3f}\")\n",
    "        print(output)\n",
    "        print(outputs >= torch.tensor([0.5]).to(device))\n",
    "        print(\"--------------------\")\n"
   ],
   "id": "b81290782921e829",
   "outputs": [
    {
     "name": "stderr",
     "output_type": "stream",
     "text": [
      "/var/folders/8l/dq9nhgmx5gj01xrwhwzb41s40000gn/T/ipykernel_63822/978094312.py:21: DeprecationWarning: In future, it will be an error for 'np.bool' scalars to be interpreted as an index\n",
      "  y = torch.FloatTensor([self.y[index]])\n"
     ]
    },
    {
     "name": "stdout",
     "output_type": "stream",
     "text": [
      "Epoch : 1000, Model : [Parameter containing:\n",
      "tensor([[-0.5338, -0.5675, -0.3765]], requires_grad=True), Parameter containing:\n",
      "tensor([0.3279], requires_grad=True)], Cost : 0.512\n",
      "Epoch : 2000, Model : [Parameter containing:\n",
      "tensor([[-0.5338, -0.5675, -0.3765]], requires_grad=True), Parameter containing:\n",
      "tensor([0.3279], requires_grad=True)], Cost : 0.508\n",
      "Epoch : 3000, Model : [Parameter containing:\n",
      "tensor([[-0.5338, -0.5675, -0.3765]], requires_grad=True), Parameter containing:\n",
      "tensor([0.3279], requires_grad=True)], Cost : 0.514\n",
      "Epoch : 4000, Model : [Parameter containing:\n",
      "tensor([[-0.5338, -0.5675, -0.3765]], requires_grad=True), Parameter containing:\n",
      "tensor([0.3279], requires_grad=True)], Cost : 0.514\n",
      "Epoch : 5000, Model : [Parameter containing:\n",
      "tensor([[-0.5338, -0.5675, -0.3765]], requires_grad=True), Parameter containing:\n",
      "tensor([0.3279], requires_grad=True)], Cost : 0.514\n",
      "Epoch : 6000, Model : [Parameter containing:\n",
      "tensor([[-0.5338, -0.5675, -0.3765]], requires_grad=True), Parameter containing:\n",
      "tensor([0.3279], requires_grad=True)], Cost : 0.516\n",
      "Epoch : 7000, Model : [Parameter containing:\n",
      "tensor([[-0.5338, -0.5675, -0.3765]], requires_grad=True), Parameter containing:\n",
      "tensor([0.3279], requires_grad=True)], Cost : 0.522\n",
      "Epoch : 8000, Model : [Parameter containing:\n",
      "tensor([[-0.5338, -0.5675, -0.3765]], requires_grad=True), Parameter containing:\n",
      "tensor([0.3279], requires_grad=True)], Cost : 0.510\n",
      "Epoch : 9000, Model : [Parameter containing:\n",
      "tensor([[-0.5338, -0.5675, -0.3765]], requires_grad=True), Parameter containing:\n",
      "tensor([0.3279], requires_grad=True)], Cost : 0.507\n",
      "Epoch : 10000, Model : [Parameter containing:\n",
      "tensor([[-0.5338, -0.5675, -0.3765]], requires_grad=True), Parameter containing:\n",
      "tensor([0.3279], requires_grad=True)], Cost : 0.510\n",
      "tensor([[7.9383e-22],\n",
      "        [8.8586e-39],\n",
      "        [2.3275e-32],\n",
      "        [0.0000e+00]])\n",
      "tensor([[True],\n",
      "        [True],\n",
      "        [True]])\n",
      "--------------------\n",
      "tensor([[1.1830e-33],\n",
      "        [1.3279e-34],\n",
      "        [0.0000e+00],\n",
      "        [0.0000e+00]])\n",
      "tensor([[True],\n",
      "        [True],\n",
      "        [True]])\n",
      "--------------------\n",
      "tensor([[1.5337e-21],\n",
      "        [5.7861e-16],\n",
      "        [3.0665e-26],\n",
      "        [0.0000e+00]])\n",
      "tensor([[True],\n",
      "        [True],\n",
      "        [True]])\n",
      "--------------------\n",
      "tensor([[0.0000e+00],\n",
      "        [6.8099e-26],\n",
      "        [0.0000e+00],\n",
      "        [0.0000e+00]])\n",
      "tensor([[True],\n",
      "        [True],\n",
      "        [True]])\n",
      "--------------------\n",
      "tensor([[4.3293e-27],\n",
      "        [1.5889e-32],\n",
      "        [0.0000e+00],\n",
      "        [0.0000e+00]])\n",
      "tensor([[True],\n",
      "        [True],\n",
      "        [True]])\n",
      "--------------------\n",
      "tensor([[9.3848e-25],\n",
      "        [2.3690e-28],\n",
      "        [2.9759e-25],\n",
      "        [3.3263e-28]])\n",
      "tensor([[True],\n",
      "        [True],\n",
      "        [True]])\n",
      "--------------------\n",
      "tensor([[0.],\n",
      "        [0.],\n",
      "        [0.],\n",
      "        [0.]])\n",
      "tensor([[True],\n",
      "        [True],\n",
      "        [True]])\n",
      "--------------------\n",
      "tensor([[5.0966e-19],\n",
      "        [3.5400e-35],\n",
      "        [0.0000e+00],\n",
      "        [0.0000e+00]])\n",
      "tensor([[True],\n",
      "        [True],\n",
      "        [True]])\n",
      "--------------------\n",
      "tensor([[0.],\n",
      "        [0.],\n",
      "        [0.],\n",
      "        [0.]])\n",
      "tensor([[True],\n",
      "        [True],\n",
      "        [True]])\n",
      "--------------------\n",
      "tensor([[0.0000e+00],\n",
      "        [9.4769e-13],\n",
      "        [0.0000e+00],\n",
      "        [4.5384e-33]])\n",
      "tensor([[True],\n",
      "        [True],\n",
      "        [True]])\n",
      "--------------------\n",
      "tensor([[0.0000e+00],\n",
      "        [0.0000e+00],\n",
      "        [1.4637e-17],\n",
      "        [7.6763e-38]])\n",
      "tensor([[True],\n",
      "        [True],\n",
      "        [True]])\n",
      "--------------------\n",
      "tensor([[1.8119e-12],\n",
      "        [2.2655e-24],\n",
      "        [5.1803e-31],\n",
      "        [8.0922e-11]])\n",
      "tensor([[True],\n",
      "        [True],\n",
      "        [True]])\n",
      "--------------------\n",
      "tensor([[0.0000e+00],\n",
      "        [6.0088e-26],\n",
      "        [1.4395e-27],\n",
      "        [0.0000e+00]])\n",
      "tensor([[True],\n",
      "        [True],\n",
      "        [True]])\n",
      "--------------------\n",
      "tensor([[0.0000e+00],\n",
      "        [1.8273e-25],\n",
      "        [6.6093e-28],\n",
      "        [0.0000e+00]])\n",
      "tensor([[True],\n",
      "        [True],\n",
      "        [True]])\n",
      "--------------------\n",
      "tensor([[0.0000e+00],\n",
      "        [3.7571e-33],\n",
      "        [3.7524e-39],\n",
      "        [0.0000e+00]])\n",
      "tensor([[True],\n",
      "        [True],\n",
      "        [True]])\n",
      "--------------------\n",
      "tensor([[4.4725e-28],\n",
      "        [0.0000e+00],\n",
      "        [0.0000e+00],\n",
      "        [0.0000e+00]])\n",
      "tensor([[True],\n",
      "        [True],\n",
      "        [True]])\n",
      "--------------------\n",
      "tensor([[4.4262e-31],\n",
      "        [0.0000e+00],\n",
      "        [3.6817e-34],\n",
      "        [0.0000e+00]])\n",
      "tensor([[True],\n",
      "        [True],\n",
      "        [True]])\n",
      "--------------------\n",
      "tensor([[5.7566e-20],\n",
      "        [9.4027e-26],\n",
      "        [2.1945e-14],\n",
      "        [0.0000e+00]])\n",
      "tensor([[True],\n",
      "        [True],\n",
      "        [True]])\n",
      "--------------------\n",
      "tensor([[0.0000e+00],\n",
      "        [0.0000e+00],\n",
      "        [0.0000e+00],\n",
      "        [1.3966e-36]])\n",
      "tensor([[True],\n",
      "        [True],\n",
      "        [True]])\n",
      "--------------------\n",
      "tensor([[1.6782e-37],\n",
      "        [2.6846e-38],\n",
      "        [1.3310e-38],\n",
      "        [0.0000e+00]])\n",
      "tensor([[True],\n",
      "        [True],\n",
      "        [True]])\n",
      "--------------------\n",
      "tensor([[1.5607e-38],\n",
      "        [0.0000e+00],\n",
      "        [8.2458e-18],\n",
      "        [4.8741e-32]])\n",
      "tensor([[True],\n",
      "        [True],\n",
      "        [True]])\n",
      "--------------------\n",
      "tensor([[2.5726e-37],\n",
      "        [0.0000e+00],\n",
      "        [1.4164e-37],\n",
      "        [4.2135e-22]])\n",
      "tensor([[True],\n",
      "        [True],\n",
      "        [True]])\n",
      "--------------------\n",
      "tensor([[6.4870e-35],\n",
      "        [0.0000e+00],\n",
      "        [0.0000e+00],\n",
      "        [0.0000e+00]])\n",
      "tensor([[True],\n",
      "        [True],\n",
      "        [True]])\n",
      "--------------------\n",
      "tensor([[1.4714e-19],\n",
      "        [0.0000e+00],\n",
      "        [0.0000e+00],\n",
      "        [0.0000e+00]])\n",
      "tensor([[True],\n",
      "        [True],\n",
      "        [True]])\n",
      "--------------------\n",
      "tensor([[2.1824e-38],\n",
      "        [0.0000e+00],\n",
      "        [0.0000e+00],\n",
      "        [0.0000e+00]])\n",
      "tensor([[True],\n",
      "        [True],\n",
      "        [True]])\n",
      "--------------------\n"
     ]
    }
   ],
   "execution_count": 29
  }
 ],
 "metadata": {
  "kernelspec": {
   "display_name": "Python 3",
   "language": "python",
   "name": "python3"
  },
  "language_info": {
   "codemirror_mode": {
    "name": "ipython",
    "version": 2
   },
   "file_extension": ".py",
   "mimetype": "text/x-python",
   "name": "python",
   "nbconvert_exporter": "python",
   "pygments_lexer": "ipython2",
   "version": "2.7.6"
  }
 },
 "nbformat": 4,
 "nbformat_minor": 5
}
