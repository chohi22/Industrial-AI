{
 "cells": [
  {
   "metadata": {},
   "cell_type": "markdown",
   "source": "### Deep Q-Network(DQN)",
   "id": "4184a0efa9594c45"
  },
  {
   "metadata": {
    "ExecuteTime": {
     "end_time": "2025-05-07T10:22:57.716959Z",
     "start_time": "2025-05-07T10:22:57.711717Z"
    }
   },
   "cell_type": "code",
   "source": [
    "import gym\n",
    "\n",
    "env = gym.make(\"CartPole-v0\", render_mode=\"human\")"
   ],
   "id": "d953a00be6dec029",
   "outputs": [
    {
     "name": "stderr",
     "output_type": "stream",
     "text": [
      "/Users/chohi/project/ai/Reinforcement-Learning/PythonPrj/.venv/lib/python3.9/site-packages/gym/envs/registration.py:555: UserWarning: \u001B[33mWARN: The environment CartPole-v0 is out of date. You should consider upgrading to version `v1`.\u001B[0m\n",
      "  logger.warn(\n"
     ]
    }
   ],
   "execution_count": 2
  },
  {
   "metadata": {
    "ExecuteTime": {
     "end_time": "2025-05-07T10:26:10.243784Z",
     "start_time": "2025-05-07T10:26:09.371373Z"
    }
   },
   "cell_type": "code",
   "source": [
    "state = env.reset()[0]\n",
    "print('상태:', state)\n",
    "\n",
    "action_space = env.action_space\n",
    "print('행동의 차원 수:', action_space.n)"
   ],
   "id": "40843710115b37f7",
   "outputs": [
    {
     "name": "stdout",
     "output_type": "stream",
     "text": [
      "상태: [ 0.02000814 -0.0393481  -0.04406412  0.01341085]\n",
      "행동의 차원 수: 2\n"
     ]
    }
   ],
   "execution_count": 3
  },
  {
   "metadata": {
    "ExecuteTime": {
     "end_time": "2025-05-07T10:43:40.888846Z",
     "start_time": "2025-05-07T10:43:39.888808Z"
    }
   },
   "cell_type": "code",
   "source": [
    "import gym\n",
    "import numpy as np\n",
    "\n",
    "env = gym.make(\"CartPole-v0\", render_mode=\"human\")\n",
    "state = env.reset()[0]\n",
    "done = False\n",
    "\n",
    "while not done:\n",
    "    env.render()\n",
    "    action = np.random.choice([0, 1])\n",
    "    next_state, reward, terminated, truncated, info = env.step(action)\n",
    "    done = terminated | truncated\n",
    "env.close()"
   ],
   "id": "80157c0d1f8889f2",
   "outputs": [],
   "execution_count": 7
  },
  {
   "metadata": {},
   "cell_type": "markdown",
   "source": "### 실습 #1 Reply_buffer.py",
   "id": "4cf72f7b6d236920"
  },
  {
   "metadata": {
    "ExecuteTime": {
     "end_time": "2025-05-07T11:02:50.263643Z",
     "start_time": "2025-05-07T11:02:50.259408Z"
    }
   },
   "cell_type": "code",
   "source": [
    "from collections import deque\n",
    "import random\n",
    "import numpy as np\n",
    "\n",
    "class ReplayBuffer:\n",
    "    def __init__(self, buffer_size, batch_size):\n",
    "        self.buffer = deque(maxlen=buffer_size)\n",
    "        self.batch_size = batch_size\n",
    "\n",
    "    def add(self, state, action, reward, next_state, done):\n",
    "        data = (state, action, reward, next_state, done)\n",
    "        self.buffer.append(data)\n",
    "\n",
    "    def __len__(self):\n",
    "        return len(self.buffer)\n",
    "\n",
    "    def get_batch(self):\n",
    "        data = random.sample(self.buffer, self.batch_size)\n",
    "\n",
    "        state = np.stack([x[0] for x in data])\n",
    "        action = np.array([x[1] for x in data])\n",
    "        reward = np.array([x[2] for x in data])\n",
    "        next_state = np.stack([x[3] for x in data])\n",
    "        done = np.array([x[4] for x in data]).astype(np.int32)\n",
    "        return state, action, reward, next_state, done"
   ],
   "id": "befcdb0f99edf89a",
   "outputs": [],
   "execution_count": 24
  },
  {
   "metadata": {
    "ExecuteTime": {
     "end_time": "2025-05-07T11:05:38.223491Z",
     "start_time": "2025-05-07T11:05:36.104750Z"
    }
   },
   "cell_type": "code",
   "source": [
    "import gym\n",
    "\n",
    "env = gym.make(\"CartPole-v0\", render_mode=\"human\")\n",
    "replay_buffer = ReplayBuffer(buffer_size=10000, batch_size=32)\n",
    "\n",
    "for episode in range(10):\n",
    "    state = env.reset()[0]\n",
    "    done = False\n",
    "\n",
    "    while not done:\n",
    "        action = 0\n",
    "\n",
    "        next_state, reward, terminated, truncated, info = env.step(action)\n",
    "        done = terminated | truncated\n",
    "\n",
    "        replay_buffer.add(state, action, reward, next_state, done)\n",
    "        state = next_state\n",
    "\n",
    "state, action, reward, next_state, done = replay_buffer.get_batch()\n",
    "\n",
    "print(state.shape)\n",
    "print(action.shape)\n",
    "print(reward.shape)\n",
    "print(next_state.shape)\n",
    "print(done.shape)"
   ],
   "id": "41b399640e6792bd",
   "outputs": [
    {
     "name": "stdout",
     "output_type": "stream",
     "text": [
      "(32, 4)\n",
      "(32,)\n",
      "(32,)\n",
      "(32, 4)\n",
      "(32,)\n"
     ]
    }
   ],
   "execution_count": 28
  },
  {
   "metadata": {},
   "cell_type": "markdown",
   "source": "### 실습 #2 dqn2.py",
   "id": "fcf60043d73d36cd"
  },
  {
   "metadata": {
    "ExecuteTime": {
     "end_time": "2025-05-07T14:38:03.283163Z",
     "start_time": "2025-05-07T14:38:03.275706Z"
    }
   },
   "cell_type": "code",
   "source": [
    "import copy\n",
    "from collections import deque\n",
    "import random\n",
    "import numpy as np\n",
    "import matplotlib.pyplot as plt\n",
    "import gym\n",
    "from dezero import Model\n",
    "from dezero import optimizers\n",
    "import dezero.functions as F\n",
    "import dezero.layers as L\n",
    "\n",
    "class ReplayBuffer:\n",
    "    def __init__(self, buffer_size, batch_size):\n",
    "        self.buffer = deque(maxlen=buffer_size)\n",
    "        self.batch_size = batch_size\n",
    "\n",
    "    def add(self, state, action, reward, next_state, done):\n",
    "        data = (state, action, reward, next_state, done)\n",
    "        self.buffer.append(data)\n",
    "\n",
    "    def __len__(self):\n",
    "        return len(self.buffer)\n",
    "\n",
    "    def get_batch(self):\n",
    "        data = random.sample(self.buffer, self.batch_size)\n",
    "\n",
    "        state = np.stack([x[0] for x in data])\n",
    "        action = np.array([x[1] for x in data])\n",
    "        reward = np.array([x[2] for x in data])\n",
    "        next_state = np.stack([x[3] for x in data])\n",
    "        done = np.array([x[4] for x in data]).astype(np.int32)\n",
    "        return state, action, reward, next_state, done"
   ],
   "id": "bc3fd711852f4ea3",
   "outputs": [],
   "execution_count": 17
  },
  {
   "metadata": {
    "ExecuteTime": {
     "end_time": "2025-05-07T14:38:05.769192Z",
     "start_time": "2025-05-07T14:38:05.765332Z"
    }
   },
   "cell_type": "code",
   "source": [
    "class QNet(Model):\n",
    "    def __init__(self, acton_size):\n",
    "        super().__init__()\n",
    "        self.l1 = L.Linear(128)\n",
    "        self.l2 = L.Linear(128)\n",
    "        self.l3 = L.Linear(acton_size)\n",
    "\n",
    "    def forward(self, x):\n",
    "        x = F.relu(self.l1(x))\n",
    "        x = F.relu(self.l2(x))\n",
    "        x = self.l3(x)\n",
    "        return x"
   ],
   "id": "243da73093eb8990",
   "outputs": [],
   "execution_count": 18
  },
  {
   "metadata": {
    "ExecuteTime": {
     "end_time": "2025-05-07T14:38:07.812530Z",
     "start_time": "2025-05-07T14:38:07.803272Z"
    }
   },
   "cell_type": "code",
   "source": [
    "class DQNAgent:\n",
    "    def __init__(self):\n",
    "        self.gamma = 0.98\n",
    "        self.lr = 0.0005\n",
    "        self.epsilon = 0.1\n",
    "        self.buffer_size = 10000\n",
    "        self.batch_size = 32\n",
    "        self.action_size = 2\n",
    "\n",
    "        self.replay_buffer = ReplayBuffer(self.buffer_size, self.batch_size)\n",
    "        self.qnet = QNet(self.action_size)\n",
    "        self.qnet_target = QNet(self.action_size)\n",
    "        self.optimizer = optimizers.Adam(self.lr)\n",
    "        self.optimizer.setup(self.qnet)\n",
    "\n",
    "    def get_action(self, state):\n",
    "        if np.random.rand() < self.epsilon:\n",
    "            return np.random.choice(self.action_size)\n",
    "        else:\n",
    "            state = state[np.newaxis, :]\n",
    "            qs = self.qnet(state)\n",
    "            return qs.data.argmax()\n",
    "\n",
    "    def update(self, state, action, reward, next_state, done):\n",
    "\n",
    "        self.replay_buffer.add(state, action, reward, next_state, done)\n",
    "        if len(self.replay_buffer) < self.batch_size:\n",
    "            return\n",
    "\n",
    "        state, action, reward, next_state, done = self.replay_buffer.get_batch()\n",
    "        qs = self.qnet(state)\n",
    "        q = qs[np.arange(self.batch_size), action]\n",
    "\n",
    "        next_qs = self.qnet_target(next_state)\n",
    "        next_q = next_qs.max(axis=1)\n",
    "        next_q.unchain()\n",
    "\n",
    "        target = reward + (1 - done) * self.gamma * next_q\n",
    "        loss = F.mean_squared_error(q, target)\n",
    "\n",
    "        self.qnet.cleargrads()\n",
    "        loss.backward()\n",
    "        self.optimizer.update()\n",
    "\n",
    "    def sync_qnet(self):\n",
    "        self.qnet_target = copy.deepcopy(self.qnet)\n",
    "\n"
   ],
   "id": "4f9f640bbf8c42ca",
   "outputs": [],
   "execution_count": 19
  },
  {
   "metadata": {
    "ExecuteTime": {
     "end_time": "2025-05-07T14:39:02.776515Z",
     "start_time": "2025-05-07T14:38:10.437953Z"
    }
   },
   "cell_type": "code",
   "source": [
    "episodes = 500\n",
    "sync_interval = 10\n",
    "env = gym.make(\"CartPole-v0\", render_mode=\"rgb_array\")\n",
    "agent = DQNAgent()\n",
    "\n",
    "reward_history = []\n",
    "\n",
    "for episode in range(episodes):\n",
    "    state = env.reset()[0]\n",
    "    done = False\n",
    "    total_reward = 0\n",
    "\n",
    "    while not done:\n",
    "        action = agent.get_action(state)\n",
    "        next_state, reward, terminated, truncated, info = env.step(action)\n",
    "        done = terminated | truncated\n",
    "\n",
    "        agent.update(state, action, reward, next_state, done)\n",
    "        state = next_state\n",
    "        total_reward += reward\n",
    "\n",
    "    if episode % sync_interval == 0:\n",
    "        agent.sync_qnet()\n",
    "\n",
    "    reward_history.append(total_reward)\n",
    "    if episode % 10 == 0:\n",
    "        print(\"episode :{}, total reward : {}\".format(episode, total_reward))\n",
    "\n",
    "plt.xlabel(\"Episode\")\n",
    "plt.ylabel(\"Total Reward\")\n",
    "plt.plot(range(len(reward_history)), reward_history)\n",
    "plt.show()\n"
   ],
   "id": "4657b3dc6b50b3f",
   "outputs": [
    {
     "name": "stdout",
     "output_type": "stream",
     "text": [
      "episode :0, total reward : 21.0\n",
      "episode :10, total reward : 15.0\n",
      "episode :20, total reward : 9.0\n",
      "episode :30, total reward : 9.0\n",
      "episode :40, total reward : 10.0\n",
      "episode :50, total reward : 8.0\n",
      "episode :60, total reward : 57.0\n",
      "episode :70, total reward : 24.0\n",
      "episode :80, total reward : 48.0\n",
      "episode :90, total reward : 46.0\n",
      "episode :100, total reward : 46.0\n",
      "episode :110, total reward : 56.0\n",
      "episode :120, total reward : 83.0\n",
      "episode :130, total reward : 95.0\n",
      "episode :140, total reward : 112.0\n",
      "episode :150, total reward : 188.0\n",
      "episode :160, total reward : 152.0\n",
      "episode :170, total reward : 113.0\n",
      "episode :180, total reward : 162.0\n",
      "episode :190, total reward : 200.0\n",
      "episode :200, total reward : 200.0\n",
      "episode :210, total reward : 200.0\n",
      "episode :220, total reward : 200.0\n",
      "episode :230, total reward : 200.0\n",
      "episode :240, total reward : 200.0\n",
      "episode :250, total reward : 131.0\n",
      "episode :260, total reward : 121.0\n",
      "episode :270, total reward : 45.0\n",
      "episode :280, total reward : 121.0\n",
      "episode :290, total reward : 130.0\n",
      "episode :300, total reward : 150.0\n",
      "episode :310, total reward : 166.0\n",
      "episode :320, total reward : 165.0\n",
      "episode :330, total reward : 172.0\n",
      "episode :340, total reward : 182.0\n",
      "episode :350, total reward : 151.0\n",
      "episode :360, total reward : 137.0\n",
      "episode :370, total reward : 168.0\n",
      "episode :380, total reward : 168.0\n",
      "episode :390, total reward : 177.0\n",
      "episode :400, total reward : 189.0\n",
      "episode :410, total reward : 179.0\n",
      "episode :420, total reward : 134.0\n",
      "episode :430, total reward : 146.0\n",
      "episode :440, total reward : 138.0\n",
      "episode :450, total reward : 169.0\n",
      "episode :460, total reward : 134.0\n",
      "episode :470, total reward : 149.0\n",
      "episode :480, total reward : 134.0\n",
      "episode :490, total reward : 167.0\n"
     ]
    },
    {
     "data": {
      "text/plain": [
       "<Figure size 640x480 with 1 Axes>"
      ],
      "image/png": "[encoded data removed]"
     },
     "metadata": {},
     "output_type": "display_data"
    }
   ],
   "execution_count": 20
  },
  {
   "metadata": {
    "ExecuteTime": {
     "end_time": "2025-05-07T14:37:48.292844Z",
     "start_time": "2025-05-07T14:37:45.124235Z"
    }
   },
   "cell_type": "code",
   "source": [
    "env2 = gym.make(\"CartPole-v0\", render_mode=\"human\")\n",
    "\n",
    "agent.epsilon = 0\n",
    "state = env2.reset()[0]\n",
    "done = False\n",
    "total_reward = 0\n",
    "\n",
    "while not done:\n",
    "    action = agent.get_action(state)\n",
    "    next_state, reward, terminated, truncated, info = env2.step(action)\n",
    "    done = terminated | truncated\n",
    "    state = next_state\n",
    "    total_reward += reward\n",
    "    env2.render()\n",
    "print(\"total reward : {}\".format(total_reward))"
   ],
   "id": "26bcf6e4626f69fa",
   "outputs": [
    {
     "name": "stdout",
     "output_type": "stream",
     "text": [
      "total reward : 74.0\n"
     ]
    }
   ],
   "execution_count": 16
  },
  {
   "metadata": {
    "ExecuteTime": {
     "end_time": "2025-05-07T12:31:15.276142Z",
     "start_time": "2025-05-07T12:31:15.271781Z"
    }
   },
   "cell_type": "code",
   "source": "",
   "id": "1bfca0f9ee98cbb1",
   "outputs": [],
   "execution_count": null
  },
  {
   "metadata": {
    "ExecuteTime": {
     "end_time": "2025-05-07T12:31:20.384469Z",
     "start_time": "2025-05-07T12:31:20.379804Z"
    }
   },
   "cell_type": "code",
   "source": "##",
   "id": "f5524895a9c93372",
   "outputs": [],
   "execution_count": 8
  }
 ],
 "metadata": {
  "kernelspec": {
   "display_name": "Python 3",
   "language": "python",
   "name": "python3"
  },
  "language_info": {
   "codemirror_mode": {
    "name": "ipython",
    "version": 2
   },
   "file_extension": ".py",
   "mimetype": "text/x-python",
   "name": "python",
   "nbconvert_exporter": "python",
   "pygments_lexer": "ipython2",
   "version": "2.7.6"
  }
 },
 "nbformat": 4,
 "nbformat_minor": 5
}
