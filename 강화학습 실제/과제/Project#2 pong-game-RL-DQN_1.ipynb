{
 "cells": [
  {
   "metadata": {},
   "cell_type": "markdown",
   "source": "### Project #2 Atari game PONG",
   "id": "36d08b2a9bf52a81"
  },
  {
   "metadata": {
    "ExecuteTime": {
     "end_time": "2025-06-04T13:59:25.419956Z",
     "start_time": "2025-06-04T13:59:25.417805Z"
    }
   },
   "cell_type": "code",
   "source": [
    "import gym\n",
    "import numpy as np\n",
    "import random\n",
    "import torch\n",
    "import torch.nn as nn\n",
    "import torch.optim as optim\n",
    "import torch.nn.functional as F\n",
    "from collections import deque\n",
    "import imageio\n",
    "import matplotlib.pyplot as plt\n",
    "import time"
   ],
   "id": "10b255c456de81d3",
   "outputs": [],
   "execution_count": 16
  },
  {
   "metadata": {
    "collapsed": true,
    "ExecuteTime": {
     "end_time": "2025-06-04T13:59:25.424622Z",
     "start_time": "2025-06-04T13:59:25.422250Z"
    }
   },
   "cell_type": "code",
   "source": [
    "# hyperparameter\n",
    "ENV_NAME = 'ALE/Pong-ram-v5'\n",
    "state_size = 128            # 입력으로 받을 상태의 차원\n",
    "action_size = 6             # 액션 수\n",
    "batch_size = 64             # 배치사이즈\n",
    "gamma = 0.99                # 할인율 (discount factor)\n",
    "epsilon = 1.0               # epsilon 초기값\n",
    "epsilon_min = 0.1           # epsilon 최소값\n",
    "epsilon_decay = 0.995       # epsilon 감소율\n",
    "learning_rate = 0.00025     # 학습률\n",
    "num_episodes = 20000         # 에피소드 수\n",
    "memory_size = 50000         # 리플레이 버퍼 크기\n",
    "update_target_every = 5     # 타겟 네트워크 업데이트 주기\n",
    "\n",
    "device = torch.device('cuda' if torch.cuda.is_available() else 'cpu')\n",
    "print(f\"Using device: {device}\")"
   ],
   "id": "initial_id",
   "outputs": [
    {
     "name": "stdout",
     "output_type": "stream",
     "text": [
      "Using device: cuda\n"
     ]
    }
   ],
   "execution_count": 17
  },
  {
   "metadata": {
    "ExecuteTime": {
     "end_time": "2025-06-04T13:59:25.473687Z",
     "start_time": "2025-06-04T13:59:25.471311Z"
    }
   },
   "cell_type": "code",
   "source": [
    "# DQN Agent class\n",
    "class DQNAgent(nn.Module):\n",
    "    def __init__(self, state_size, action_size):\n",
    "        super(DQNAgent, self).__init__()\n",
    "        # Input layer\n",
    "        self.fc1 = nn.Linear(state_size, 256)\n",
    "        # Hidden layer\n",
    "        self.fc2 = nn.Linear(256, 256)\n",
    "        # Output layer\n",
    "        self.fc3 = nn.Linear(256, action_size)\n",
    "\n",
    "    def forward(self, x):\n",
    "        # Normalize the input\n",
    "        x = x / 255.0\n",
    "        # Forward pass through the network\n",
    "        x = F.relu(self.fc1(x))\n",
    "        x = F.relu(self.fc2(x))\n",
    "        x = self.fc3(x)\n",
    "        return x"
   ],
   "id": "f5196d59cce0f029",
   "outputs": [],
   "execution_count": 18
  },
  {
   "metadata": {
    "ExecuteTime": {
     "end_time": "2025-06-04T13:59:25.522013Z",
     "start_time": "2025-06-04T13:59:25.517495Z"
    }
   },
   "cell_type": "code",
   "source": [
    "# Agent class\n",
    "class Agent:\n",
    "    def __init__(self, state_size, action_size):\n",
    "        # Main network and target network\n",
    "        self.model = DQNAgent(state_size, action_size).to(device)\n",
    "        self.target_model = DQNAgent(state_size, action_size).to(device)\n",
    "        # Optimizer\n",
    "        self.optimizer = optim.Adam(self.model.parameters(), lr=learning_rate)\n",
    "        # Replay buffer\n",
    "        self.memory = deque(maxlen=memory_size)\n",
    "        # Exploration rate\n",
    "        self.epsilon = epsilon\n",
    "\n",
    "    def remember(self, state, action, reward, next_state, done):\n",
    "        self.memory.append((state, action, reward, next_state, done))\n",
    "\n",
    "    def act(self, state):\n",
    "        # Epsilon-greedy action selection\n",
    "        if random.random() <= self.epsilon:\n",
    "            # Explore: select a random action\n",
    "            return random.randrange(action_size)\n",
    "        # Exploit: select the action with max Q-value\n",
    "        state = torch.FloatTensor(state).unsqueeze(0).to(device)\n",
    "        with torch.no_grad():\n",
    "            act_values = self.model(state)\n",
    "        return torch.argmax(act_values[0]).item()\n",
    "\n",
    "    def replay(self):\n",
    "        # Training the network using replay buffer\n",
    "        if len(self.memory) < batch_size:\n",
    "            return\n",
    "        # Sample a minibatch from the replay buffer\n",
    "        minibatch = random.sample(self.memory, batch_size)\n",
    "\n",
    "        # Convert minibatch to tensors efficiently\n",
    "        states = torch.from_numpy(np.vstack([m[0] for m in minibatch])).float().to(device)\n",
    "        actions = torch.from_numpy(np.vstack([m[1] for m in minibatch])).long().to(device)\n",
    "        rewards = torch.from_numpy(np.vstack([m[2] for m in minibatch])).float().to(device)\n",
    "        next_states = torch.from_numpy(np.vstack([m[3] for m in minibatch])).float().to(device)\n",
    "        dones = torch.from_numpy(np.vstack([float(m[4]) for m in minibatch])).float().to(device)\n",
    "\n",
    "        # Calculate Q-values\n",
    "        q_values = self.model(states).gather(1, actions)\n",
    "        # Calculate target Q-values\n",
    "        next_q_values = self.target_model(next_states).max(1)[0].unsqueeze(1)\n",
    "        target_q_values = rewards + (gamma * next_q_values * (1 - dones))\n",
    "\n",
    "        # Compute loss and update the network\n",
    "        loss = F.mse_loss(q_values, target_q_values.detach())\n",
    "        self.optimizer.zero_grad()\n",
    "        loss.backward()\n",
    "        self.optimizer.step()\n",
    "\n",
    "    def update_target_model(self):\n",
    "        self.target_model.load_state_dict(self.model.state_dict())"
   ],
   "id": "73933478939e3095",
   "outputs": [],
   "execution_count": 19
  },
  {
   "metadata": {
    "ExecuteTime": {
     "end_time": "2025-06-04T13:59:25.735947Z",
     "start_time": "2025-06-04T13:59:25.564249Z"
    }
   },
   "cell_type": "code",
   "source": [
    "\n",
    "env = gym.make(ENV_NAME, render_mode=\"rgb_array\")\n",
    "agent = Agent(state_size, action_size)\n",
    "\n",
    "rewards_list = []\n",
    "best_reward = -float('inf')\n",
    "best_frames = []\n"
   ],
   "id": "fd5060d1cd4dcace",
   "outputs": [],
   "execution_count": 20
  },
  {
   "metadata": {
    "ExecuteTime": {
     "end_time": "2025-06-05T05:04:05.625899Z",
     "start_time": "2025-06-04T13:59:25.743192Z"
    }
   },
   "cell_type": "code",
   "source": [
    "start = time.time()\n",
    "# Training loop\n",
    "for e in range(num_episodes):\n",
    "    state, _ = env.reset()\n",
    "    total_reward = 0\n",
    "    done = False\n",
    "    frames = []\n",
    "    while not done:\n",
    "        frame = env.render()\n",
    "        frames.append(frame)\n",
    "\n",
    "        action = agent.act(state)\n",
    "        next_state, reward, terminated, truncated, _ = env.step(action)\n",
    "        done = terminated or truncated\n",
    "\n",
    "        agent.remember(state, action, reward, next_state, done)\n",
    "        state = next_state\n",
    "        total_reward += reward\n",
    "\n",
    "        agent.replay()\n",
    "\n",
    "    if e % update_target_every == 0:\n",
    "        agent.update_target_model()\n",
    "\n",
    "    # epsilon 감소\n",
    "    if agent.epsilon > epsilon_min:\n",
    "        agent.epsilon *= epsilon_decay\n",
    "\n",
    "    # reward 기록\n",
    "    rewards_list.append(total_reward)\n",
    "    if total_reward > best_reward:\n",
    "        best_reward = total_reward\n",
    "        best_frames = frames\n",
    "\n",
    "    if e % 100 == 0:\n",
    "        torch.save(agent.model.state_dict(), f\"Pong_DQN_model_{e}.pth\")\n",
    "        print(f\"Episode: {e+1}/{num_episodes}, Score: {total_reward}, Epsilon: {agent.epsilon:.2f}\")\n",
    "    # Early stopping if desired performance is reached\n",
    "    if total_reward >= 20:\n",
    "        print(\"Desired performance achieved, stopping training.\")\n",
    "        break\n",
    "\n",
    "end = time.time()\n",
    "length = end - start\n",
    "\n",
    "print(\"It took\", length, \"seconds!\")"
   ],
   "id": "210733290baee432",
   "outputs": [
    {
     "name": "stderr",
     "output_type": "stream",
     "text": [
      "/home/ops/project/.venv/lib/python3.8/site-packages/gym/utils/passive_env_checker.py:289: UserWarning: \u001B[33mWARN: No render fps was declared in the environment (env.metadata['render_fps'] is None or not defined), rendering may occur at inconsistent fps.\u001B[0m\n",
      "  logger.warn(\n",
      "/home/ops/project/.venv/lib/python3.8/site-packages/gym/utils/passive_env_checker.py:233: DeprecationWarning: `np.bool8` is a deprecated alias for `np.bool_`.  (Deprecated NumPy 1.24)\n",
      "  if not isinstance(terminated, (bool, np.bool8)):\n"
     ]
    },
    {
     "name": "stdout",
     "output_type": "stream",
     "text": [
      "Episode: 1/20000, Score: -20.0, Epsilon: 0.99\n",
      "Episode: 101/20000, Score: -19.0, Epsilon: 0.60\n",
      "Episode: 201/20000, Score: -17.0, Epsilon: 0.37\n",
      "Episode: 301/20000, Score: -17.0, Epsilon: 0.22\n",
      "Episode: 401/20000, Score: -16.0, Epsilon: 0.13\n",
      "Episode: 501/20000, Score: -18.0, Epsilon: 0.10\n",
      "Episode: 601/20000, Score: -13.0, Epsilon: 0.10\n",
      "Episode: 701/20000, Score: -15.0, Epsilon: 0.10\n",
      "Episode: 801/20000, Score: -15.0, Epsilon: 0.10\n",
      "Episode: 901/20000, Score: -11.0, Epsilon: 0.10\n",
      "Episode: 1001/20000, Score: -12.0, Epsilon: 0.10\n",
      "Episode: 1101/20000, Score: -13.0, Epsilon: 0.10\n",
      "Episode: 1201/20000, Score: -9.0, Epsilon: 0.10\n",
      "Episode: 1301/20000, Score: -14.0, Epsilon: 0.10\n",
      "Episode: 1401/20000, Score: -10.0, Epsilon: 0.10\n",
      "Episode: 1501/20000, Score: -8.0, Epsilon: 0.10\n",
      "Episode: 1601/20000, Score: -13.0, Epsilon: 0.10\n",
      "Episode: 1701/20000, Score: -11.0, Epsilon: 0.10\n",
      "Episode: 1801/20000, Score: -11.0, Epsilon: 0.10\n",
      "Episode: 1901/20000, Score: -10.0, Epsilon: 0.10\n",
      "Episode: 2001/20000, Score: -16.0, Epsilon: 0.10\n",
      "Episode: 2101/20000, Score: -14.0, Epsilon: 0.10\n",
      "Episode: 2201/20000, Score: -13.0, Epsilon: 0.10\n",
      "Episode: 2301/20000, Score: -11.0, Epsilon: 0.10\n",
      "Episode: 2401/20000, Score: -12.0, Epsilon: 0.10\n",
      "Episode: 2501/20000, Score: -17.0, Epsilon: 0.10\n",
      "Episode: 2601/20000, Score: -18.0, Epsilon: 0.10\n",
      "Episode: 2701/20000, Score: -13.0, Epsilon: 0.10\n",
      "Episode: 2801/20000, Score: -19.0, Epsilon: 0.10\n",
      "Episode: 2901/20000, Score: -10.0, Epsilon: 0.10\n",
      "Episode: 3001/20000, Score: -9.0, Epsilon: 0.10\n",
      "Episode: 3101/20000, Score: -12.0, Epsilon: 0.10\n",
      "Episode: 3201/20000, Score: -14.0, Epsilon: 0.10\n",
      "Episode: 3301/20000, Score: -16.0, Epsilon: 0.10\n",
      "Episode: 3401/20000, Score: -10.0, Epsilon: 0.10\n",
      "Episode: 3501/20000, Score: -7.0, Epsilon: 0.10\n",
      "Episode: 3601/20000, Score: -11.0, Epsilon: 0.10\n",
      "Episode: 3701/20000, Score: -11.0, Epsilon: 0.10\n",
      "Episode: 3801/20000, Score: -15.0, Epsilon: 0.10\n",
      "Episode: 3901/20000, Score: -2.0, Epsilon: 0.10\n",
      "Episode: 4001/20000, Score: -13.0, Epsilon: 0.10\n",
      "Episode: 4101/20000, Score: -12.0, Epsilon: 0.10\n",
      "Episode: 4201/20000, Score: -10.0, Epsilon: 0.10\n",
      "Episode: 4301/20000, Score: -14.0, Epsilon: 0.10\n",
      "Episode: 4401/20000, Score: -11.0, Epsilon: 0.10\n",
      "Episode: 4501/20000, Score: -13.0, Epsilon: 0.10\n",
      "Episode: 4601/20000, Score: -11.0, Epsilon: 0.10\n",
      "Episode: 4701/20000, Score: -10.0, Epsilon: 0.10\n",
      "Episode: 4801/20000, Score: -16.0, Epsilon: 0.10\n",
      "Episode: 4901/20000, Score: -6.0, Epsilon: 0.10\n",
      "Episode: 5001/20000, Score: -12.0, Epsilon: 0.10\n",
      "Episode: 5101/20000, Score: -13.0, Epsilon: 0.10\n",
      "Episode: 5201/20000, Score: -15.0, Epsilon: 0.10\n",
      "Episode: 5301/20000, Score: -18.0, Epsilon: 0.10\n",
      "Episode: 5401/20000, Score: -14.0, Epsilon: 0.10\n",
      "Episode: 5501/20000, Score: -18.0, Epsilon: 0.10\n",
      "Episode: 5601/20000, Score: -15.0, Epsilon: 0.10\n",
      "Episode: 5701/20000, Score: -12.0, Epsilon: 0.10\n",
      "Episode: 5801/20000, Score: -14.0, Epsilon: 0.10\n",
      "Episode: 5901/20000, Score: -18.0, Epsilon: 0.10\n",
      "Episode: 6001/20000, Score: -9.0, Epsilon: 0.10\n",
      "Episode: 6101/20000, Score: -10.0, Epsilon: 0.10\n",
      "Episode: 6201/20000, Score: -14.0, Epsilon: 0.10\n",
      "Episode: 6301/20000, Score: -17.0, Epsilon: 0.10\n",
      "Episode: 6401/20000, Score: -17.0, Epsilon: 0.10\n",
      "Episode: 6501/20000, Score: -14.0, Epsilon: 0.10\n",
      "Episode: 6601/20000, Score: -11.0, Epsilon: 0.10\n",
      "Episode: 6701/20000, Score: -12.0, Epsilon: 0.10\n",
      "Episode: 6801/20000, Score: -13.0, Epsilon: 0.10\n",
      "Episode: 6901/20000, Score: -14.0, Epsilon: 0.10\n",
      "Episode: 7001/20000, Score: -7.0, Epsilon: 0.10\n",
      "Episode: 7101/20000, Score: -16.0, Epsilon: 0.10\n",
      "Episode: 7201/20000, Score: -6.0, Epsilon: 0.10\n",
      "Episode: 7301/20000, Score: -18.0, Epsilon: 0.10\n",
      "Episode: 7401/20000, Score: -15.0, Epsilon: 0.10\n",
      "Episode: 7501/20000, Score: -16.0, Epsilon: 0.10\n",
      "Episode: 7601/20000, Score: -11.0, Epsilon: 0.10\n",
      "Episode: 7701/20000, Score: -10.0, Epsilon: 0.10\n",
      "Episode: 7801/20000, Score: -16.0, Epsilon: 0.10\n",
      "Episode: 7901/20000, Score: -11.0, Epsilon: 0.10\n",
      "Episode: 8001/20000, Score: -7.0, Epsilon: 0.10\n",
      "Episode: 8101/20000, Score: -13.0, Epsilon: 0.10\n",
      "Episode: 8201/20000, Score: -17.0, Epsilon: 0.10\n",
      "Episode: 8301/20000, Score: -11.0, Epsilon: 0.10\n",
      "Episode: 8401/20000, Score: -14.0, Epsilon: 0.10\n",
      "Episode: 8501/20000, Score: -11.0, Epsilon: 0.10\n",
      "Episode: 8601/20000, Score: -12.0, Epsilon: 0.10\n",
      "Episode: 8701/20000, Score: -12.0, Epsilon: 0.10\n",
      "Episode: 8801/20000, Score: -7.0, Epsilon: 0.10\n",
      "Episode: 8901/20000, Score: -11.0, Epsilon: 0.10\n",
      "Episode: 9001/20000, Score: -15.0, Epsilon: 0.10\n",
      "Episode: 9101/20000, Score: -17.0, Epsilon: 0.10\n",
      "Episode: 9201/20000, Score: -17.0, Epsilon: 0.10\n",
      "Episode: 9301/20000, Score: -20.0, Epsilon: 0.10\n",
      "Episode: 9401/20000, Score: -12.0, Epsilon: 0.10\n",
      "Episode: 9501/20000, Score: -19.0, Epsilon: 0.10\n",
      "Episode: 9601/20000, Score: -13.0, Epsilon: 0.10\n",
      "Episode: 9701/20000, Score: -16.0, Epsilon: 0.10\n",
      "Episode: 9801/20000, Score: -17.0, Epsilon: 0.10\n",
      "Episode: 9901/20000, Score: -9.0, Epsilon: 0.10\n",
      "Episode: 10001/20000, Score: -19.0, Epsilon: 0.10\n",
      "Episode: 10101/20000, Score: -12.0, Epsilon: 0.10\n",
      "Episode: 10201/20000, Score: -16.0, Epsilon: 0.10\n",
      "Episode: 10301/20000, Score: -12.0, Epsilon: 0.10\n",
      "Episode: 10401/20000, Score: -16.0, Epsilon: 0.10\n",
      "Episode: 10501/20000, Score: -8.0, Epsilon: 0.10\n",
      "Episode: 10601/20000, Score: -19.0, Epsilon: 0.10\n",
      "Episode: 10701/20000, Score: 2.0, Epsilon: 0.10\n",
      "Episode: 10801/20000, Score: -9.0, Epsilon: 0.10\n",
      "Episode: 10901/20000, Score: -8.0, Epsilon: 0.10\n",
      "Episode: 11001/20000, Score: -12.0, Epsilon: 0.10\n",
      "Episode: 11101/20000, Score: -4.0, Epsilon: 0.10\n",
      "Episode: 11201/20000, Score: -9.0, Epsilon: 0.10\n",
      "Episode: 11301/20000, Score: -9.0, Epsilon: 0.10\n",
      "Episode: 11401/20000, Score: -14.0, Epsilon: 0.10\n",
      "Episode: 11501/20000, Score: -17.0, Epsilon: 0.10\n",
      "Episode: 11601/20000, Score: -13.0, Epsilon: 0.10\n",
      "Episode: 11701/20000, Score: -15.0, Epsilon: 0.10\n",
      "Episode: 11801/20000, Score: -13.0, Epsilon: 0.10\n",
      "Episode: 11901/20000, Score: -12.0, Epsilon: 0.10\n",
      "Episode: 12001/20000, Score: -13.0, Epsilon: 0.10\n",
      "Episode: 12101/20000, Score: -17.0, Epsilon: 0.10\n",
      "Episode: 12201/20000, Score: -13.0, Epsilon: 0.10\n",
      "Episode: 12301/20000, Score: -13.0, Epsilon: 0.10\n",
      "Episode: 12401/20000, Score: -12.0, Epsilon: 0.10\n",
      "Episode: 12501/20000, Score: -14.0, Epsilon: 0.10\n",
      "Episode: 12601/20000, Score: -15.0, Epsilon: 0.10\n",
      "Episode: 12701/20000, Score: -12.0, Epsilon: 0.10\n",
      "Episode: 12801/20000, Score: -14.0, Epsilon: 0.10\n",
      "Episode: 12901/20000, Score: -14.0, Epsilon: 0.10\n",
      "Episode: 13001/20000, Score: -15.0, Epsilon: 0.10\n",
      "Episode: 13101/20000, Score: -12.0, Epsilon: 0.10\n",
      "Episode: 13201/20000, Score: -13.0, Epsilon: 0.10\n",
      "Episode: 13301/20000, Score: -13.0, Epsilon: 0.10\n",
      "Episode: 13401/20000, Score: -13.0, Epsilon: 0.10\n",
      "Episode: 13501/20000, Score: -14.0, Epsilon: 0.10\n",
      "Episode: 13601/20000, Score: -13.0, Epsilon: 0.10\n",
      "Episode: 13701/20000, Score: -17.0, Epsilon: 0.10\n",
      "Episode: 13801/20000, Score: -15.0, Epsilon: 0.10\n",
      "Episode: 13901/20000, Score: -13.0, Epsilon: 0.10\n",
      "Episode: 14001/20000, Score: -14.0, Epsilon: 0.10\n",
      "Episode: 14101/20000, Score: -7.0, Epsilon: 0.10\n",
      "Episode: 14201/20000, Score: -16.0, Epsilon: 0.10\n",
      "Episode: 14301/20000, Score: -15.0, Epsilon: 0.10\n",
      "Episode: 14401/20000, Score: -15.0, Epsilon: 0.10\n",
      "Episode: 14501/20000, Score: -14.0, Epsilon: 0.10\n",
      "Episode: 14601/20000, Score: -15.0, Epsilon: 0.10\n",
      "Episode: 14701/20000, Score: -7.0, Epsilon: 0.10\n",
      "Episode: 14801/20000, Score: -18.0, Epsilon: 0.10\n",
      "Episode: 14901/20000, Score: -17.0, Epsilon: 0.10\n",
      "Episode: 15001/20000, Score: -15.0, Epsilon: 0.10\n",
      "Episode: 15101/20000, Score: -7.0, Epsilon: 0.10\n",
      "Episode: 15201/20000, Score: -11.0, Epsilon: 0.10\n",
      "Episode: 15301/20000, Score: -11.0, Epsilon: 0.10\n",
      "Episode: 15401/20000, Score: -16.0, Epsilon: 0.10\n",
      "Episode: 15501/20000, Score: -8.0, Epsilon: 0.10\n",
      "Episode: 15601/20000, Score: -12.0, Epsilon: 0.10\n",
      "Episode: 15701/20000, Score: -15.0, Epsilon: 0.10\n",
      "Episode: 15801/20000, Score: -12.0, Epsilon: 0.10\n",
      "Episode: 15901/20000, Score: -17.0, Epsilon: 0.10\n",
      "Episode: 16001/20000, Score: -11.0, Epsilon: 0.10\n",
      "Episode: 16101/20000, Score: -15.0, Epsilon: 0.10\n",
      "Episode: 16201/20000, Score: -15.0, Epsilon: 0.10\n",
      "Episode: 16301/20000, Score: -17.0, Epsilon: 0.10\n",
      "Episode: 16401/20000, Score: -10.0, Epsilon: 0.10\n",
      "Episode: 16501/20000, Score: -12.0, Epsilon: 0.10\n",
      "Episode: 16601/20000, Score: -15.0, Epsilon: 0.10\n",
      "Episode: 16701/20000, Score: -9.0, Epsilon: 0.10\n",
      "Episode: 16801/20000, Score: -17.0, Epsilon: 0.10\n",
      "Episode: 16901/20000, Score: -14.0, Epsilon: 0.10\n",
      "Episode: 17001/20000, Score: -19.0, Epsilon: 0.10\n",
      "Episode: 17101/20000, Score: -13.0, Epsilon: 0.10\n",
      "Episode: 17201/20000, Score: -3.0, Epsilon: 0.10\n",
      "Episode: 17301/20000, Score: -13.0, Epsilon: 0.10\n",
      "Episode: 17401/20000, Score: -14.0, Epsilon: 0.10\n",
      "Episode: 17501/20000, Score: -10.0, Epsilon: 0.10\n",
      "Episode: 17601/20000, Score: -20.0, Epsilon: 0.10\n",
      "Episode: 17701/20000, Score: -3.0, Epsilon: 0.10\n",
      "Episode: 17801/20000, Score: -13.0, Epsilon: 0.10\n",
      "Episode: 17901/20000, Score: -16.0, Epsilon: 0.10\n",
      "Episode: 18001/20000, Score: -10.0, Epsilon: 0.10\n",
      "Episode: 18101/20000, Score: -17.0, Epsilon: 0.10\n",
      "Episode: 18201/20000, Score: -10.0, Epsilon: 0.10\n",
      "Episode: 18301/20000, Score: -10.0, Epsilon: 0.10\n",
      "Episode: 18401/20000, Score: -10.0, Epsilon: 0.10\n",
      "Episode: 18501/20000, Score: -8.0, Epsilon: 0.10\n",
      "Episode: 18601/20000, Score: -9.0, Epsilon: 0.10\n",
      "Episode: 18701/20000, Score: -11.0, Epsilon: 0.10\n",
      "Episode: 18801/20000, Score: -15.0, Epsilon: 0.10\n",
      "Episode: 18901/20000, Score: -18.0, Epsilon: 0.10\n",
      "Episode: 19001/20000, Score: -16.0, Epsilon: 0.10\n",
      "Episode: 19101/20000, Score: -12.0, Epsilon: 0.10\n",
      "Episode: 19201/20000, Score: -12.0, Epsilon: 0.10\n",
      "Episode: 19301/20000, Score: -14.0, Epsilon: 0.10\n",
      "Episode: 19401/20000, Score: -20.0, Epsilon: 0.10\n",
      "Episode: 19501/20000, Score: -7.0, Epsilon: 0.10\n",
      "Episode: 19601/20000, Score: -7.0, Epsilon: 0.10\n",
      "Episode: 19701/20000, Score: -9.0, Epsilon: 0.10\n",
      "Episode: 19801/20000, Score: -14.0, Epsilon: 0.10\n",
      "Episode: 19901/20000, Score: -12.0, Epsilon: 0.10\n",
      "It took 54279.879828453064 seconds!\n"
     ]
    }
   ],
   "execution_count": 21
  },
  {
   "metadata": {
    "ExecuteTime": {
     "end_time": "2025-06-05T05:04:05.767691Z",
     "start_time": "2025-06-05T05:04:05.675887Z"
    }
   },
   "cell_type": "code",
   "source": [
    "from common.utils import plot_total_reward\n",
    "plot_total_reward(rewards_list)\n",
    "\n",
    "env.close()\n",
    "print(f\"Best episode reward: {best_reward}\")"
   ],
   "id": "7f97771b8a38f28b",
   "outputs": [
    {
     "data": {
      "text/plain": [
       "<Figure size 640x480 with 1 Axes>"
      ],
      "image/png": "[encoded data removed]"
     },
     "metadata": {},
     "output_type": "display_data"
    },
    {
     "name": "stdout",
     "output_type": "stream",
     "text": [
      "Best episode reward: 13.0\n"
     ]
    }
   ],
   "execution_count": 22
  },
  {
   "metadata": {
    "ExecuteTime": {
     "end_time": "2025-06-05T05:37:12.912205Z",
     "start_time": "2025-06-05T05:37:12.797623Z"
    }
   },
   "cell_type": "code",
   "source": "torch.save(agent.model.state_dict(), f\"Pong_DQN_model_20000.pth\")",
   "id": "c2cbc3651d3bd83e",
   "outputs": [],
   "execution_count": 24
  },
  {
   "metadata": {
    "ExecuteTime": {
     "end_time": "2025-06-05T05:37:22.143633Z",
     "start_time": "2025-06-05T05:37:18.660819Z"
    }
   },
   "cell_type": "code",
   "source": [
    "# 이미지로 저장\n",
    "output_filename = \"best_Pong_game.gif\"\n",
    "imageio.mimsave(output_filename, best_frames, fps=30)\n",
    "print(f\"Best episode saved as {output_filename}\")\n",
    "\n",
    "# 첫 장면만 시각화\n",
    "plt.imshow(best_frames[0])\n",
    "plt.title(\"First Frame of Best Episode\")\n",
    "plt.axis('off')\n",
    "plt.show()"
   ],
   "id": "63f6ddd97f1e5937",
   "outputs": [
    {
     "name": "stdout",
     "output_type": "stream",
     "text": [
      "Best episode saved as best_Pong_game.gif\n"
     ]
    },
    {
     "data": {
      "text/plain": [
       "<Figure size 640x480 with 1 Axes>"
      ],
      "image/png": "[encoded data removed]"
     },
     "metadata": {},
     "output_type": "display_data"
    }
   ],
   "execution_count": 25
  }
 ],
 "metadata": {
  "kernelspec": {
   "display_name": "Python 3",
   "language": "python",
   "name": "python3"
  },
  "language_info": {
   "codemirror_mode": {
    "name": "ipython",
    "version": 2
   },
   "file_extension": ".py",
   "mimetype": "text/x-python",
   "name": "python",
   "nbconvert_exporter": "python",
   "pygments_lexer": "ipython2",
   "version": "2.7.6"
  }
 },
 "nbformat": 4,
 "nbformat_minor": 5
}
