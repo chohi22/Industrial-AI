{
 "cells": [
  {
   "cell_type": "markdown",
   "metadata": {},
   "source": [
    "# Create Dataset for models"
   ]
  },
  {
   "cell_type": "markdown",
   "metadata": {},
   "source": [
    "This notebook is used to create dataset for all the models such as CNN and CNN-SVM models. \n",
    " - For CNN-SVM models .csv files are created for train and test set to extract features separately using extract_features_from_images.py file\n",
    " - For CNN models, images are copied from PKLot Segmented folder into separate dataset folder with below folder structure\n",
    "     - cnn_dataset\n",
    "         - train\n",
    "             - Empty\n",
    "             - Occupied\n",
    "         - valid\n",
    "             - Empty\n",
    "             - Occupied"
   ]
  },
  {
   "cell_type": "code",
   "metadata": {
    "ExecuteTime": {
     "end_time": "2025-04-20T13:31:25.611186Z",
     "start_time": "2025-04-20T13:31:25.603133Z"
    }
   },
   "source": [
    "from shutil import copy2\n",
    "from glob import glob\n",
    "import os\n",
    "import pandas as pd\n",
    "import matplotlib.pyplot as plt\n",
    "import numpy as np\n",
    "\n",
    "np.random.seed(1381)\n",
    "\n",
    "%matplotlib inline"
   ],
   "outputs": [],
   "execution_count": 1
  },
  {
   "cell_type": "code",
   "metadata": {
    "ExecuteTime": {
     "end_time": "2025-04-20T11:00:41.521427Z",
     "start_time": "2025-04-20T11:00:41.516845Z"
    }
   },
   "source": [
    "# Set the folders and its path to create train and validation split\n",
    "# Model is trained on images from one parking lot and tested on another one\n",
    "root_dir = \"/Volumes/sddrv/datasets/PKLot/PKLotSegmented/\"\n",
    "classes = [\"Empty\", \"Occupied\"]\n",
    "\n",
    "datasets = {\n",
    "    \"train\": [\"UFPR04/Sunny/\", \"UFPR04/Rainy/\", \"UFPR04/Cloudy/\", \"UFPR05/Sunny/\", \"UFPR05/Rainy/\", \"UFPR05/Cloudy/\"],\n",
    "    \"valid\": [\"PUC/Sunny/\",\"PUC/Rainy/\", \"PUC/Cloudy/\"]\n",
    "}"
   ],
   "outputs": [],
   "execution_count": 2
  },
  {
   "cell_type": "code",
   "metadata": {
    "ExecuteTime": {
     "end_time": "2025-04-20T11:00:52.895017Z",
     "start_time": "2025-04-20T11:00:48.233641Z"
    }
   },
   "source": [
    "# Split the images into train and validation dataset and write the list as csv file\n",
    "train_dataset = []\n",
    "valid_dataset = []\n",
    "                  \n",
    "for c in classes:\n",
    "    for data_type in datasets:\n",
    "        for folder in datasets[data_type]:\n",
    "            dir_content = [d for d in os.listdir(os.path.join(root_dir,folder)) if os.path.isdir(os.path.join(root_dir,folder,d))]\n",
    "            #print(dir_content)\n",
    "            for d in dir_content:\n",
    "                folder_path = os.path.join(root_dir,folder,d, c)\n",
    "                images = glob(os.path.join(folder_path, \"*.jpg\"))\n",
    "                if len(images)>0:\n",
    "                    if data_type == 'train':\n",
    "                        sample_size = 0.3\n",
    "                    else:\n",
    "                        sample_size = 0.1\n",
    "                    random_sample = np.random.choice(images, replace=False,size=int(len(images)*sample_size))\n",
    "                    #print(len(random_sample))\n",
    "                    for img in random_sample:\n",
    "                        image_name = img.split(\"/\")[-1]\n",
    "                        temp = {}\n",
    "                        temp['image_name'] = image_name\n",
    "                        temp[\"label\"] = c\n",
    "                        temp['folder_path'] = os.path.join(folder,d)\n",
    "                        temp['data_type'] = data_type\n",
    "                        if data_type == 'train':\n",
    "                            train_dataset.append(temp)\n",
    "                        else:\n",
    "                            valid_dataset.append(temp)"
   ],
   "outputs": [],
   "execution_count": 3
  },
  {
   "cell_type": "code",
   "metadata": {
    "ExecuteTime": {
     "end_time": "2025-04-20T11:00:57.074723Z",
     "start_time": "2025-04-20T11:00:57.005810Z"
    }
   },
   "source": [
    "# convert the list into dataframe to store them as csv file\n",
    "df_train = pd.DataFrame(train_dataset)\n",
    "df_valid = pd.DataFrame(valid_dataset)\n",
    "\n",
    "# shuffle the dataset\n",
    "df_train = df_train.sample(frac=1, random_state=1431)\n",
    "df_valid = df_valid.sample(frac=1, random_state=1431)"
   ],
   "outputs": [],
   "execution_count": 4
  },
  {
   "cell_type": "code",
   "metadata": {
    "ExecuteTime": {
     "end_time": "2025-04-20T11:01:01.382785Z",
     "start_time": "2025-04-20T11:01:01.378816Z"
    }
   },
   "source": [
    "print(\"Train dataset size: \", df_train.shape)\n",
    "print(\"Valid dataset size: \", df_valid.shape)"
   ],
   "outputs": [
    {
     "name": "stdout",
     "output_type": "stream",
     "text": [
      "Train dataset size:  (81406, 4)\n",
      "Valid dataset size:  (42384, 4)\n"
     ]
    }
   ],
   "execution_count": 5
  },
  {
   "metadata": {
    "ExecuteTime": {
     "end_time": "2025-04-20T11:02:11.114036Z",
     "start_time": "2025-04-20T11:02:11.099604Z"
    }
   },
   "cell_type": "code",
   "source": "df_train",
   "outputs": [
    {
     "data": {
      "text/plain": [
       "                        image_name     label               folder_path  \\\n",
       "75820  2013-03-05_08_20_02#021.jpg  Occupied  UFPR05/Cloudy/2013-03-05   \n",
       "29303  2013-02-23_11_25_05#026.jpg     Empty   UFPR05/Sunny/2013-02-23   \n",
       "21360  2013-04-14_15_35_10#024.jpg     Empty   UFPR05/Sunny/2013-04-14   \n",
       "67242  2013-03-06_11_25_06#011.jpg  Occupied   UFPR05/Sunny/2013-03-06   \n",
       "61377  2013-04-15_15_45_10#022.jpg  Occupied   UFPR05/Sunny/2013-04-15   \n",
       "...                            ...       ...                       ...   \n",
       "13348  2013-01-19_12_50_08#002.jpg     Empty  UFPR04/Cloudy/2013-01-19   \n",
       "36492  2013-03-13_07_05_01#013.jpg     Empty  UFPR05/Cloudy/2013-03-13   \n",
       "9848   2013-01-15_14_41_51#014.jpg     Empty  UFPR04/Cloudy/2013-01-15   \n",
       "30160  2013-03-06_06_35_00#031.jpg     Empty   UFPR05/Sunny/2013-03-06   \n",
       "55212  2013-03-21_14_30_09#029.jpg  Occupied   UFPR05/Sunny/2013-03-21   \n",
       "\n",
       "      data_type  \n",
       "75820     train  \n",
       "29303     train  \n",
       "21360     train  \n",
       "67242     train  \n",
       "61377     train  \n",
       "...         ...  \n",
       "13348     train  \n",
       "36492     train  \n",
       "9848      train  \n",
       "30160     train  \n",
       "55212     train  \n",
       "\n",
       "[81406 rows x 4 columns]"
      ],
      "text/html": [
       "<div>\n",
       "<style scoped>\n",
       "    .dataframe tbody tr th:only-of-type {\n",
       "        vertical-align: middle;\n",
       "    }\n",
       "\n",
       "    .dataframe tbody tr th {\n",
       "        vertical-align: top;\n",
       "    }\n",
       "\n",
       "    .dataframe thead th {\n",
       "        text-align: right;\n",
       "    }\n",
       "</style>\n",
       "<table border=\"1\" class=\"dataframe\">\n",
       "  <thead>\n",
       "    <tr style=\"text-align: right;\">\n",
       "      <th></th>\n",
       "      <th>image_name</th>\n",
       "      <th>label</th>\n",
       "      <th>folder_path</th>\n",
       "      <th>data_type</th>\n",
       "    </tr>\n",
       "  </thead>\n",
       "  <tbody>\n",
       "    <tr>\n",
       "      <th>75820</th>\n",
       "      <td>2013-03-05_08_20_02#021.jpg</td>\n",
       "      <td>Occupied</td>\n",
       "      <td>UFPR05/Cloudy/2013-03-05</td>\n",
       "      <td>train</td>\n",
       "    </tr>\n",
       "    <tr>\n",
       "      <th>29303</th>\n",
       "      <td>2013-02-23_11_25_05#026.jpg</td>\n",
       "      <td>Empty</td>\n",
       "      <td>UFPR05/Sunny/2013-02-23</td>\n",
       "      <td>train</td>\n",
       "    </tr>\n",
       "    <tr>\n",
       "      <th>21360</th>\n",
       "      <td>2013-04-14_15_35_10#024.jpg</td>\n",
       "      <td>Empty</td>\n",
       "      <td>UFPR05/Sunny/2013-04-14</td>\n",
       "      <td>train</td>\n",
       "    </tr>\n",
       "    <tr>\n",
       "      <th>67242</th>\n",
       "      <td>2013-03-06_11_25_06#011.jpg</td>\n",
       "      <td>Occupied</td>\n",
       "      <td>UFPR05/Sunny/2013-03-06</td>\n",
       "      <td>train</td>\n",
       "    </tr>\n",
       "    <tr>\n",
       "      <th>61377</th>\n",
       "      <td>2013-04-15_15_45_10#022.jpg</td>\n",
       "      <td>Occupied</td>\n",
       "      <td>UFPR05/Sunny/2013-04-15</td>\n",
       "      <td>train</td>\n",
       "    </tr>\n",
       "    <tr>\n",
       "      <th>...</th>\n",
       "      <td>...</td>\n",
       "      <td>...</td>\n",
       "      <td>...</td>\n",
       "      <td>...</td>\n",
       "    </tr>\n",
       "    <tr>\n",
       "      <th>13348</th>\n",
       "      <td>2013-01-19_12_50_08#002.jpg</td>\n",
       "      <td>Empty</td>\n",
       "      <td>UFPR04/Cloudy/2013-01-19</td>\n",
       "      <td>train</td>\n",
       "    </tr>\n",
       "    <tr>\n",
       "      <th>36492</th>\n",
       "      <td>2013-03-13_07_05_01#013.jpg</td>\n",
       "      <td>Empty</td>\n",
       "      <td>UFPR05/Cloudy/2013-03-13</td>\n",
       "      <td>train</td>\n",
       "    </tr>\n",
       "    <tr>\n",
       "      <th>9848</th>\n",
       "      <td>2013-01-15_14_41_51#014.jpg</td>\n",
       "      <td>Empty</td>\n",
       "      <td>UFPR04/Cloudy/2013-01-15</td>\n",
       "      <td>train</td>\n",
       "    </tr>\n",
       "    <tr>\n",
       "      <th>30160</th>\n",
       "      <td>2013-03-06_06_35_00#031.jpg</td>\n",
       "      <td>Empty</td>\n",
       "      <td>UFPR05/Sunny/2013-03-06</td>\n",
       "      <td>train</td>\n",
       "    </tr>\n",
       "    <tr>\n",
       "      <th>55212</th>\n",
       "      <td>2013-03-21_14_30_09#029.jpg</td>\n",
       "      <td>Occupied</td>\n",
       "      <td>UFPR05/Sunny/2013-03-21</td>\n",
       "      <td>train</td>\n",
       "    </tr>\n",
       "  </tbody>\n",
       "</table>\n",
       "<p>81406 rows × 4 columns</p>\n",
       "</div>"
      ]
     },
     "execution_count": 8,
     "metadata": {},
     "output_type": "execute_result"
    }
   ],
   "execution_count": 8
  },
  {
   "metadata": {
    "ExecuteTime": {
     "end_time": "2025-04-20T11:02:24.070678Z",
     "start_time": "2025-04-20T11:02:24.063437Z"
    }
   },
   "cell_type": "code",
   "source": "df_valid",
   "outputs": [
    {
     "data": {
      "text/plain": [
       "                        image_name     label            folder_path data_type\n",
       "39424  2012-10-31_13_53_19#012.jpg  Occupied  PUC/Cloudy/2012-10-31     valid\n",
       "26136  2012-09-18_16_05_14#082.jpg  Occupied   PUC/Sunny/2012-09-18     valid\n",
       "7062   2012-09-12_18_07_29#035.jpg     Empty   PUC/Sunny/2012-09-12     valid\n",
       "13690  2012-10-11_08_41_33#096.jpg     Empty   PUC/Rainy/2012-10-11     valid\n",
       "4863   2012-10-15_10_35_52#037.jpg     Empty   PUC/Sunny/2012-10-15     valid\n",
       "...                            ...       ...                    ...       ...\n",
       "13348  2012-10-11_15_31_51#011.jpg     Empty   PUC/Rainy/2012-10-11     valid\n",
       "36492  2012-10-26_09_14_33#031.jpg  Occupied   PUC/Rainy/2012-10-26     valid\n",
       "9848   2012-10-29_06_27_52#016.jpg     Empty   PUC/Sunny/2012-10-29     valid\n",
       "21279  2012-10-28_12_52_04#044.jpg     Empty  PUC/Cloudy/2012-10-28     valid\n",
       "30160  2012-09-15_16_27_25#057.jpg  Occupied   PUC/Sunny/2012-09-15     valid\n",
       "\n",
       "[42384 rows x 4 columns]"
      ],
      "text/html": [
       "<div>\n",
       "<style scoped>\n",
       "    .dataframe tbody tr th:only-of-type {\n",
       "        vertical-align: middle;\n",
       "    }\n",
       "\n",
       "    .dataframe tbody tr th {\n",
       "        vertical-align: top;\n",
       "    }\n",
       "\n",
       "    .dataframe thead th {\n",
       "        text-align: right;\n",
       "    }\n",
       "</style>\n",
       "<table border=\"1\" class=\"dataframe\">\n",
       "  <thead>\n",
       "    <tr style=\"text-align: right;\">\n",
       "      <th></th>\n",
       "      <th>image_name</th>\n",
       "      <th>label</th>\n",
       "      <th>folder_path</th>\n",
       "      <th>data_type</th>\n",
       "    </tr>\n",
       "  </thead>\n",
       "  <tbody>\n",
       "    <tr>\n",
       "      <th>39424</th>\n",
       "      <td>2012-10-31_13_53_19#012.jpg</td>\n",
       "      <td>Occupied</td>\n",
       "      <td>PUC/Cloudy/2012-10-31</td>\n",
       "      <td>valid</td>\n",
       "    </tr>\n",
       "    <tr>\n",
       "      <th>26136</th>\n",
       "      <td>2012-09-18_16_05_14#082.jpg</td>\n",
       "      <td>Occupied</td>\n",
       "      <td>PUC/Sunny/2012-09-18</td>\n",
       "      <td>valid</td>\n",
       "    </tr>\n",
       "    <tr>\n",
       "      <th>7062</th>\n",
       "      <td>2012-09-12_18_07_29#035.jpg</td>\n",
       "      <td>Empty</td>\n",
       "      <td>PUC/Sunny/2012-09-12</td>\n",
       "      <td>valid</td>\n",
       "    </tr>\n",
       "    <tr>\n",
       "      <th>13690</th>\n",
       "      <td>2012-10-11_08_41_33#096.jpg</td>\n",
       "      <td>Empty</td>\n",
       "      <td>PUC/Rainy/2012-10-11</td>\n",
       "      <td>valid</td>\n",
       "    </tr>\n",
       "    <tr>\n",
       "      <th>4863</th>\n",
       "      <td>2012-10-15_10_35_52#037.jpg</td>\n",
       "      <td>Empty</td>\n",
       "      <td>PUC/Sunny/2012-10-15</td>\n",
       "      <td>valid</td>\n",
       "    </tr>\n",
       "    <tr>\n",
       "      <th>...</th>\n",
       "      <td>...</td>\n",
       "      <td>...</td>\n",
       "      <td>...</td>\n",
       "      <td>...</td>\n",
       "    </tr>\n",
       "    <tr>\n",
       "      <th>13348</th>\n",
       "      <td>2012-10-11_15_31_51#011.jpg</td>\n",
       "      <td>Empty</td>\n",
       "      <td>PUC/Rainy/2012-10-11</td>\n",
       "      <td>valid</td>\n",
       "    </tr>\n",
       "    <tr>\n",
       "      <th>36492</th>\n",
       "      <td>2012-10-26_09_14_33#031.jpg</td>\n",
       "      <td>Occupied</td>\n",
       "      <td>PUC/Rainy/2012-10-26</td>\n",
       "      <td>valid</td>\n",
       "    </tr>\n",
       "    <tr>\n",
       "      <th>9848</th>\n",
       "      <td>2012-10-29_06_27_52#016.jpg</td>\n",
       "      <td>Empty</td>\n",
       "      <td>PUC/Sunny/2012-10-29</td>\n",
       "      <td>valid</td>\n",
       "    </tr>\n",
       "    <tr>\n",
       "      <th>21279</th>\n",
       "      <td>2012-10-28_12_52_04#044.jpg</td>\n",
       "      <td>Empty</td>\n",
       "      <td>PUC/Cloudy/2012-10-28</td>\n",
       "      <td>valid</td>\n",
       "    </tr>\n",
       "    <tr>\n",
       "      <th>30160</th>\n",
       "      <td>2012-09-15_16_27_25#057.jpg</td>\n",
       "      <td>Occupied</td>\n",
       "      <td>PUC/Sunny/2012-09-15</td>\n",
       "      <td>valid</td>\n",
       "    </tr>\n",
       "  </tbody>\n",
       "</table>\n",
       "<p>42384 rows × 4 columns</p>\n",
       "</div>"
      ]
     },
     "execution_count": 9,
     "metadata": {},
     "output_type": "execute_result"
    }
   ],
   "execution_count": 9
  },
  {
   "cell_type": "code",
   "metadata": {
    "ExecuteTime": {
     "end_time": "2025-04-20T11:15:46.955024Z",
     "start_time": "2025-04-20T11:15:46.952895Z"
    }
   },
   "source": [
    "def show_label_distribution(df):\n",
    "    df_class = pd.DataFrame(df['label'].value_counts())\n",
    "    df_class = df_class.reset_index()\n",
    "    #df_class = df_class.rename(columns={'index': 'label', 'label': 'count'})\n",
    "    df_class['percentage'] = round((df_class['count'] / sum(df_class['count']))*100, 2)\n",
    "    return df_class"
   ],
   "outputs": [],
   "execution_count": 52
  },
  {
   "cell_type": "code",
   "metadata": {
    "ExecuteTime": {
     "end_time": "2025-04-20T11:15:49.270879Z",
     "start_time": "2025-04-20T11:15:49.256747Z"
    }
   },
   "source": [
    "train_df = show_label_distribution(df_train)\n",
    "print(\"Train dataset \", train_df)\n",
    "valid_df = show_label_distribution(df_valid)\n",
    "print(\"Valid dataset \", valid_df)"
   ],
   "outputs": [
    {
     "name": "stdout",
     "output_type": "stream",
     "text": [
      "Train dataset        label  count  percentage\n",
      "0  Occupied  43027       52.85\n",
      "1     Empty  38379       47.15\n",
      "Valid dataset        label  count  percentage\n",
      "0     Empty  22980       54.22\n",
      "1  Occupied  19404       45.78\n"
     ]
    }
   ],
   "execution_count": 53
  },
  {
   "cell_type": "markdown",
   "metadata": {},
   "source": [
    "### Create index file for CNN-SVM models"
   ]
  },
  {
   "cell_type": "code",
   "metadata": {
    "ExecuteTime": {
     "end_time": "2025-04-20T11:16:45.059627Z",
     "start_time": "2025-04-20T11:16:44.868087Z"
    }
   },
   "source": [
    "df_train.to_csv('pklot_dataset/dataset_train.csv', index=False)\n",
    "df_valid.to_csv('pklot_dataset/dataset_valid.csv', index=False)"
   ],
   "outputs": [],
   "execution_count": 56
  },
  {
   "cell_type": "code",
   "metadata": {
    "ExecuteTime": {
     "end_time": "2025-04-20T11:17:05.362151Z",
     "start_time": "2025-04-20T11:17:05.353212Z"
    }
   },
   "source": [
    "df_train.head(3)"
   ],
   "outputs": [
    {
     "data": {
      "text/plain": [
       "                        image_name     label               folder_path  \\\n",
       "75820  2013-03-05_08_20_02#021.jpg  Occupied  UFPR05/Cloudy/2013-03-05   \n",
       "29303  2013-02-23_11_25_05#026.jpg     Empty   UFPR05/Sunny/2013-02-23   \n",
       "21360  2013-04-14_15_35_10#024.jpg     Empty   UFPR05/Sunny/2013-04-14   \n",
       "\n",
       "      data_type  \n",
       "75820     train  \n",
       "29303     train  \n",
       "21360     train  "
      ],
      "text/html": [
       "<div>\n",
       "<style scoped>\n",
       "    .dataframe tbody tr th:only-of-type {\n",
       "        vertical-align: middle;\n",
       "    }\n",
       "\n",
       "    .dataframe tbody tr th {\n",
       "        vertical-align: top;\n",
       "    }\n",
       "\n",
       "    .dataframe thead th {\n",
       "        text-align: right;\n",
       "    }\n",
       "</style>\n",
       "<table border=\"1\" class=\"dataframe\">\n",
       "  <thead>\n",
       "    <tr style=\"text-align: right;\">\n",
       "      <th></th>\n",
       "      <th>image_name</th>\n",
       "      <th>label</th>\n",
       "      <th>folder_path</th>\n",
       "      <th>data_type</th>\n",
       "    </tr>\n",
       "  </thead>\n",
       "  <tbody>\n",
       "    <tr>\n",
       "      <th>75820</th>\n",
       "      <td>2013-03-05_08_20_02#021.jpg</td>\n",
       "      <td>Occupied</td>\n",
       "      <td>UFPR05/Cloudy/2013-03-05</td>\n",
       "      <td>train</td>\n",
       "    </tr>\n",
       "    <tr>\n",
       "      <th>29303</th>\n",
       "      <td>2013-02-23_11_25_05#026.jpg</td>\n",
       "      <td>Empty</td>\n",
       "      <td>UFPR05/Sunny/2013-02-23</td>\n",
       "      <td>train</td>\n",
       "    </tr>\n",
       "    <tr>\n",
       "      <th>21360</th>\n",
       "      <td>2013-04-14_15_35_10#024.jpg</td>\n",
       "      <td>Empty</td>\n",
       "      <td>UFPR05/Sunny/2013-04-14</td>\n",
       "      <td>train</td>\n",
       "    </tr>\n",
       "  </tbody>\n",
       "</table>\n",
       "</div>"
      ]
     },
     "execution_count": 57,
     "metadata": {},
     "output_type": "execute_result"
    }
   ],
   "execution_count": 57
  },
  {
   "cell_type": "code",
   "metadata": {
    "ExecuteTime": {
     "end_time": "2025-04-20T11:17:08.707920Z",
     "start_time": "2025-04-20T11:17:08.700398Z"
    }
   },
   "source": [
    "df_valid.head(3)"
   ],
   "outputs": [
    {
     "data": {
      "text/plain": [
       "                        image_name     label            folder_path data_type\n",
       "39424  2012-10-31_13_53_19#012.jpg  Occupied  PUC/Cloudy/2012-10-31     valid\n",
       "26136  2012-09-18_16_05_14#082.jpg  Occupied   PUC/Sunny/2012-09-18     valid\n",
       "7062   2012-09-12_18_07_29#035.jpg     Empty   PUC/Sunny/2012-09-12     valid"
      ],
      "text/html": [
       "<div>\n",
       "<style scoped>\n",
       "    .dataframe tbody tr th:only-of-type {\n",
       "        vertical-align: middle;\n",
       "    }\n",
       "\n",
       "    .dataframe tbody tr th {\n",
       "        vertical-align: top;\n",
       "    }\n",
       "\n",
       "    .dataframe thead th {\n",
       "        text-align: right;\n",
       "    }\n",
       "</style>\n",
       "<table border=\"1\" class=\"dataframe\">\n",
       "  <thead>\n",
       "    <tr style=\"text-align: right;\">\n",
       "      <th></th>\n",
       "      <th>image_name</th>\n",
       "      <th>label</th>\n",
       "      <th>folder_path</th>\n",
       "      <th>data_type</th>\n",
       "    </tr>\n",
       "  </thead>\n",
       "  <tbody>\n",
       "    <tr>\n",
       "      <th>39424</th>\n",
       "      <td>2012-10-31_13_53_19#012.jpg</td>\n",
       "      <td>Occupied</td>\n",
       "      <td>PUC/Cloudy/2012-10-31</td>\n",
       "      <td>valid</td>\n",
       "    </tr>\n",
       "    <tr>\n",
       "      <th>26136</th>\n",
       "      <td>2012-09-18_16_05_14#082.jpg</td>\n",
       "      <td>Occupied</td>\n",
       "      <td>PUC/Sunny/2012-09-18</td>\n",
       "      <td>valid</td>\n",
       "    </tr>\n",
       "    <tr>\n",
       "      <th>7062</th>\n",
       "      <td>2012-09-12_18_07_29#035.jpg</td>\n",
       "      <td>Empty</td>\n",
       "      <td>PUC/Sunny/2012-09-12</td>\n",
       "      <td>valid</td>\n",
       "    </tr>\n",
       "  </tbody>\n",
       "</table>\n",
       "</div>"
      ]
     },
     "execution_count": 58,
     "metadata": {},
     "output_type": "execute_result"
    }
   ],
   "execution_count": 58
  },
  {
   "cell_type": "markdown",
   "metadata": {},
   "source": [
    "## Create train and valid dataset for CNN models"
   ]
  },
  {
   "cell_type": "code",
   "metadata": {
    "ExecuteTime": {
     "end_time": "2025-04-20T11:17:11.968618Z",
     "start_time": "2025-04-20T11:17:11.964963Z"
    }
   },
   "source": [
    "import pandas as pd\n",
    "import os\n",
    "from shutil import copy2"
   ],
   "outputs": [],
   "execution_count": 59
  },
  {
   "cell_type": "code",
   "metadata": {
    "ExecuteTime": {
     "end_time": "2025-04-20T11:17:52.814094Z",
     "start_time": "2025-04-20T11:17:52.701669Z"
    }
   },
   "source": [
    "#root_dir = \"../../datasets/PKLot/PKLotSegmented/\"\n",
    "df_train = pd.read_csv(\"pklot_dataset/dataset_train.csv\")\n",
    "df_valid = pd.read_csv(\"pklot_dataset/dataset_valid.csv\")"
   ],
   "outputs": [],
   "execution_count": 60
  },
  {
   "cell_type": "code",
   "metadata": {
    "ExecuteTime": {
     "end_time": "2025-04-20T11:19:43.579616Z",
     "start_time": "2025-04-20T11:19:43.572817Z"
    }
   },
   "source": [
    "cnn_dataset = \"/Volumes/sddrv/datasets/PKLot/cnn_dataset/\"\n",
    "\n",
    "\n",
    "if not os.path.isdir(cnn_dataset):\n",
    "    os.makedirs(cnn_dataset)\n",
    "    print('CNN dataset folder created at ', cnn_dataset)"
   ],
   "outputs": [],
   "execution_count": 61
  },
  {
   "cell_type": "markdown",
   "metadata": {},
   "source": [
    "Create sample datataset. To create full train and valid dataset set the sample size to 100000 (size greater than number of images in df_train and df_valid to include all the images)"
   ]
  },
  {
   "cell_type": "code",
   "metadata": {
    "ExecuteTime": {
     "end_time": "2025-04-20T11:19:46.916129Z",
     "start_time": "2025-04-20T11:19:46.913063Z"
    }
   },
   "source": [
    "# set sample size to create sample dataset\n",
    "train_sample_size = 5000\n",
    "valid_sample_size = 500"
   ],
   "outputs": [],
   "execution_count": 62
  },
  {
   "cell_type": "markdown",
   "metadata": {},
   "source": [
    "### Copy train dataset"
   ]
  },
  {
   "cell_type": "code",
   "metadata": {
    "ExecuteTime": {
     "end_time": "2025-04-20T11:20:03.626249Z",
     "start_time": "2025-04-20T11:19:59.685365Z"
    }
   },
   "source": [
    "if not os.path.isdir(os.path.join(cnn_dataset, 'train', 'Occupied')):\n",
    "    os.makedirs(os.path.join(cnn_dataset, 'train', 'Occupied'))\n",
    "    print('train/Occupied folder created at ', cnn_dataset)\n",
    "\n",
    "if not os.path.isdir(os.path.join(cnn_dataset, 'train', 'Empty')):\n",
    "    os.makedirs(os.path.join(cnn_dataset, 'train', 'Empty'))\n",
    "    print('train/Empty folder created at ', cnn_dataset)\n",
    "\n",
    "count = 1\n",
    "for idx in df_train.index.values[:train_sample_size]:\n",
    "    src = os.path.join(root_dir, df_train.loc[idx, 'folder_path'], df_train.loc[idx, 'label'], df_train.loc[idx, 'image_name'])\n",
    "    if df_train.loc[idx, 'label'] == 'Occupied':\n",
    "        dst = os.path.join(cnn_dataset, 'train', 'Occupied')\n",
    "    else:\n",
    "        dst = os.path.join(cnn_dataset, 'train', 'Empty')\n",
    "        \n",
    "    copy2(src, dst)\n",
    "    count+=1\n",
    "\n",
    "print(\"Total train images:\", count)"
   ],
   "outputs": [
    {
     "name": "stdout",
     "output_type": "stream",
     "text": [
      "train/Occupied folder created at  /Volumes/sddrv/datasets/PKLot/cnn_dataset/\n",
      "train/Empty folder created at  /Volumes/sddrv/datasets/PKLot/cnn_dataset/\n",
      "Total train images: 5001\n"
     ]
    }
   ],
   "execution_count": 63
  },
  {
   "cell_type": "markdown",
   "metadata": {},
   "source": [
    "### Copy valid dataset"
   ]
  },
  {
   "cell_type": "code",
   "metadata": {
    "ExecuteTime": {
     "end_time": "2025-04-20T11:20:50.645790Z",
     "start_time": "2025-04-20T11:20:50.460359Z"
    }
   },
   "source": [
    "if not os.path.isdir(os.path.join(cnn_dataset, 'valid', 'Occupied')):\n",
    "    os.makedirs(os.path.join(cnn_dataset, 'valid', 'Occupied'))\n",
    "    print('valid/Occupied folder created at ', cnn_dataset)\n",
    "\n",
    "if not os.path.isdir(os.path.join(cnn_dataset, 'valid', 'Empty')):\n",
    "    os.makedirs(os.path.join(cnn_dataset, 'valid', 'Empty'))\n",
    "    print('valid/Empty folder created at ', cnn_dataset)\n",
    "\n",
    "count = 1\n",
    "for idx in df_valid.index.values[:valid_sample_size]:\n",
    "    src = os.path.join(root_dir, df_valid.loc[idx, 'folder_path'], df_valid.loc[idx, 'label'], df_valid.loc[idx, 'image_name'])\n",
    "    if df_valid.loc[idx, 'label'] == 'Occupied':\n",
    "        dst = os.path.join(cnn_dataset, 'valid', 'Occupied')\n",
    "    else:\n",
    "        dst = os.path.join(cnn_dataset, 'valid', 'Empty')\n",
    "        \n",
    "    copy2(src, dst)\n",
    "    count+=1\n",
    "    \n",
    "print(\"Total valid images:\", count)"
   ],
   "outputs": [
    {
     "name": "stdout",
     "output_type": "stream",
     "text": [
      "Total valid images: 501\n"
     ]
    }
   ],
   "execution_count": 65
  },
  {
   "cell_type": "code",
   "execution_count": null,
   "metadata": {},
   "outputs": [],
   "source": []
  },
  {
   "cell_type": "code",
   "execution_count": null,
   "metadata": {},
   "outputs": [],
   "source": []
  }
 ],
 "metadata": {
  "kernelspec": {
   "display_name": "Python 3 (ipykernel)",
   "language": "python",
   "name": "python3"
  },
  "language_info": {
   "codemirror_mode": {
    "name": "ipython",
    "version": 3
   },
   "file_extension": ".py",
   "mimetype": "text/x-python",
   "name": "python",
   "nbconvert_exporter": "python",
   "pygments_lexer": "ipython3",
   "version": "3.6.5"
  }
 },
 "nbformat": 4,
 "nbformat_minor": 2
}
