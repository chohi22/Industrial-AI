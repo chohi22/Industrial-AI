{
 "cells": [
  {
   "metadata": {},
   "cell_type": "markdown",
   "source": "### 신경망",
   "id": "87c1b298972c5a5b"
  },
  {
   "metadata": {
    "ExecuteTime": {
     "end_time": "2025-04-13T12:26:14.310924Z",
     "start_time": "2025-04-13T12:26:12.595090Z"
    }
   },
   "cell_type": "code",
   "source": [
    "import matplotlib.pyplot as plt\n",
    "import torch\n",
    "\n",
    "print(torch.__version__)"
   ],
   "id": "34ea02ed2c07f868",
   "outputs": [
    {
     "name": "stdout",
     "output_type": "stream",
     "text": [
      "2.0.0\n"
     ]
    }
   ],
   "execution_count": 16
  },
  {
   "metadata": {
    "ExecuteTime": {
     "end_time": "2025-04-13T12:26:53.475948Z",
     "start_time": "2025-04-13T12:26:53.444941Z"
    }
   },
   "cell_type": "code",
   "source": [
    "import torch\n",
    "\n",
    "x = torch.tensor(5.0)\n",
    "\n",
    "y = 3 * x ** 2\n",
    "\n",
    "print(y)"
   ],
   "id": "295f7985c29ddab0",
   "outputs": [
    {
     "name": "stdout",
     "output_type": "stream",
     "text": [
      "tensor(75.)\n"
     ]
    }
   ],
   "execution_count": 17
  },
  {
   "metadata": {
    "ExecuteTime": {
     "end_time": "2025-04-13T12:28:00.419186Z",
     "start_time": "2025-04-13T12:28:00.380817Z"
    }
   },
   "cell_type": "code",
   "source": [
    "x = torch.tensor(5.0, requires_grad=True) #미분 가능 설정\n",
    "y = 3 * x ** 2\n",
    "\n",
    "y.backward()\n",
    "\n",
    "print(x.grad)"
   ],
   "id": "873e45b891375352",
   "outputs": [
    {
     "name": "stdout",
     "output_type": "stream",
     "text": [
      "tensor(30.)\n"
     ]
    }
   ],
   "execution_count": 18
  },
  {
   "metadata": {
    "ExecuteTime": {
     "end_time": "2025-04-13T12:29:54.143124Z",
     "start_time": "2025-04-13T12:29:54.133484Z"
    }
   },
   "cell_type": "code",
   "source": [
    "import torch\n",
    "def rosebrock(x0, x1):\n",
    "    y = 100 * (x1 - x0 ** 2) ** 2 + (1 - x0) ** 2\n",
    "    return y\n",
    "\n",
    "\n",
    "x0 = torch.tensor(0.0, requires_grad=True)\n",
    "x1 = torch.tensor(2.0, requires_grad=True)\n",
    "\n",
    "y = rosebrock(x0, x1)\n",
    "y.backward()\n",
    "print(x0.grad, x1.grad)"
   ],
   "id": "c7eb54a635529c61",
   "outputs": [
    {
     "name": "stdout",
     "output_type": "stream",
     "text": [
      "tensor(-2.) tensor(400.)\n"
     ]
    }
   ],
   "execution_count": 19
  },
  {
   "metadata": {
    "ExecuteTime": {
     "end_time": "2025-04-13T12:32:25.649217Z",
     "start_time": "2025-04-13T12:32:25.174134Z"
    }
   },
   "cell_type": "code",
   "source": [
    "x0 = torch.tensor(0.0, requires_grad=True)\n",
    "x1 = torch.tensor(2.0, requires_grad=True)\n",
    "\n",
    "iters = 10000\n",
    "lr = 0.001\n",
    "\n",
    "for i in range(iters):\n",
    "    if i % 1000 == 0:\n",
    "        print(x0.item(), x1.item())\n",
    "\n",
    "    y = rosebrock(x0, x1)\n",
    "\n",
    "    y.backward()\n",
    "\n",
    "    x0.data -= lr * x0.grad.data\n",
    "    x1.data -= lr * x1.grad.data\n",
    "\n",
    "    x0.grad.zero_()\n",
    "    x1.grad.zero_()\n",
    "\n",
    "print(x0.item(), x1.item())"
   ],
   "id": "1b1357620b924b04",
   "outputs": [
    {
     "name": "stdout",
     "output_type": "stream",
     "text": [
      "0.0 2.0\n",
      "0.6837119460105896 0.4659528136253357\n",
      "0.8263181447982788 0.6820318102836609\n",
      "0.8947840929031372 0.8001903295516968\n",
      "0.9334872364997864 0.8711214661598206\n",
      "0.9569892883300781 0.9156519174575806\n",
      "0.9718162417411804 0.9443121552467346\n",
      "0.9813804626464844 0.9630323052406311\n",
      "0.98763507604599 0.9753732085227966\n",
      "0.9917610883712769 0.983556866645813\n",
      "0.9944981336593628 0.9890044331550598\n"
     ]
    }
   ],
   "execution_count": 20
  },
  {
   "metadata": {
    "ExecuteTime": {
     "end_time": "2025-04-13T12:49:56.329077Z",
     "start_time": "2025-04-13T12:49:56.240808Z"
    }
   },
   "cell_type": "code",
   "source": [
    "import torch\n",
    "\n",
    "torch.manual_seed(0)\n",
    "x = torch.randn(100, 1)\n",
    "y = 2 * x + 5 + torch.randn(100, 1)\n",
    "\n",
    "plt.scatter(x, y )\n",
    "plt.legend()\n",
    "plt.xlabel('x')\n",
    "plt.ylabel('y')\n",
    "plt.show()\n"
   ],
   "id": "d46c0fabad1351c8",
   "outputs": [
    {
     "name": "stderr",
     "output_type": "stream",
     "text": [
      "No artists with labels found to put in legend.  Note that artists whose label start with an underscore are ignored when legend() is called with no argument.\n"
     ]
    },
    {
     "data": {
      "text/plain": [
       "<Figure size 640x480 with 1 Axes>"
      ],
      "image/png": "[encoded data removed]"
     },
     "metadata": {},
     "output_type": "display_data"
    }
   ],
   "execution_count": 47
  },
  {
   "metadata": {
    "ExecuteTime": {
     "end_time": "2025-04-13T12:38:54.642362Z",
     "start_time": "2025-04-13T12:38:54.548869Z"
    }
   },
   "cell_type": "code",
   "source": [
    "import torch\n",
    "\n",
    "\n",
    "torch.manual_seed(0)\n",
    "x = torch.rand(100, 1)\n",
    "y = 5 + 2 * x + torch.rand(100, 1)\n",
    "\n",
    "W = torch.zeros((1, 1), requires_grad=True)\n",
    "b = torch.zeros(1, requires_grad=True)\n",
    "\n",
    "def predict(x):\n",
    "    y = x @ W + b\n",
    "    return y\n",
    "\n",
    "def mean_squared_error(x0, x1):\n",
    "    diff = x0 - x1\n",
    "    N = len(diff)\n",
    "    return torch.sum(diff ** 2) / N\n",
    "\n",
    "lr = 0.1\n",
    "iters = 100\n",
    "\n",
    "for i in range(iters):\n",
    "    y_hat = predict(x)\n",
    "    loss = mean_squared_error(y, y_hat)\n",
    "\n",
    "    loss.backward()\n",
    "\n",
    "    W.data -= lr * W.grad.data\n",
    "    b.data -= lr * b.grad.data\n",
    "\n",
    "    W.grad.zero_()\n",
    "    b.grad.zero_()\n",
    "\n",
    "    if i % 10 == 0: # print every 10 iterations\n",
    "        print(loss.item())\n",
    "\n",
    "print(loss.item())\n",
    "print('====')\n",
    "print('W =', W.item())\n",
    "print('b =', b.item())\n",
    "\n",
    "\n",
    "# plot\n",
    "import matplotlib.pyplot as plt\n",
    "plt.scatter(x.detach().numpy(), y.detach().numpy(), s=10)\n",
    "x = torch.tensor([[0.0], [1.0]])\n",
    "y = W.detach().numpy() * x.detach().numpy() + b.detach().numpy()\n",
    "plt.plot(x, y, color='red')\n",
    "plt.xlabel('x')\n",
    "plt.ylabel('y')\n",
    "plt.show()"
   ],
   "id": "b862ead906a6d351",
   "outputs": [
    {
     "name": "stdout",
     "output_type": "stream",
     "text": [
      "41.89796447753906\n",
      "0.22483204305171967\n",
      "0.0925208106637001\n",
      "0.0888015553355217\n",
      "0.08627457916736603\n",
      "0.08435674756765366\n",
      "0.0829005315899849\n",
      "0.0817948430776596\n",
      "0.08095530420541763\n",
      "0.08031783998012543\n",
      "0.07987643033266068\n",
      "====\n",
      "W = 2.2863590717315674\n",
      "b = 5.3144850730896\n"
     ]
    },
    {
     "data": {
      "text/plain": [
       "<Figure size 640x480 with 1 Axes>"
      ],
      "image/png": "[encoded data removed]"
     },
     "metadata": {},
     "output_type": "display_data"
    }
   ],
   "execution_count": 29
  },
  {
   "metadata": {
    "ExecuteTime": {
     "end_time": "2025-04-13T12:42:02.039573Z",
     "start_time": "2025-04-13T12:42:02.032827Z"
    }
   },
   "cell_type": "code",
   "source": [
    "import torch\n",
    "import torch.nn as nn\n",
    "\n",
    "W = nn.Parameter(torch.zeros(1, 1))\n",
    "b = nn.Parameter(torch.zeros(1))\n",
    "\n",
    "print(W)\n",
    "print(b)"
   ],
   "id": "6bb25ea6b5b27152",
   "outputs": [
    {
     "name": "stdout",
     "output_type": "stream",
     "text": [
      "Parameter containing:\n",
      "tensor([[0.]], requires_grad=True)\n",
      "Parameter containing:\n",
      "tensor([0.], requires_grad=True)\n"
     ]
    }
   ],
   "execution_count": 31
  },
  {
   "metadata": {
    "ExecuteTime": {
     "end_time": "2025-04-13T12:43:20.440729Z",
     "start_time": "2025-04-13T12:43:20.433880Z"
    }
   },
   "cell_type": "code",
   "source": [
    "class Model(nn.Module):\n",
    "    def __init__(self):\n",
    "        super().__init__()\n",
    "        self.W = nn.Parameter(torch.zeros(1, 1))\n",
    "        self.b = nn.Parameter(torch.zeros(1))\n",
    "\n",
    "    def forward(self, x):\n",
    "        y = x @ self.W + self.b\n",
    "        return y\n",
    "\n",
    "\n",
    "model = Model()\n",
    "\n",
    "for param in model.parameters():\n",
    "    print(param)"
   ],
   "id": "fb4ea850e67d68b9",
   "outputs": [
    {
     "name": "stdout",
     "output_type": "stream",
     "text": [
      "Parameter containing:\n",
      "tensor([[0.]], requires_grad=True)\n",
      "Parameter containing:\n",
      "tensor([0.], requires_grad=True)\n"
     ]
    }
   ],
   "execution_count": 32
  },
  {
   "metadata": {
    "ExecuteTime": {
     "end_time": "2025-04-13T12:45:43.335611Z",
     "start_time": "2025-04-13T12:45:43.331148Z"
    }
   },
   "cell_type": "code",
   "source": [
    "class Model(nn.Module):\n",
    "    def __init__(self, input_size=1, output_size=1):\n",
    "        super().__init__()\n",
    "        self.linear = nn.Linear(input_size, output_size)\n",
    "\n",
    "    def forward(self, x):\n",
    "        y = self.linear(x)\n",
    "        return y\n",
    "\n",
    "model = Model()\n",
    "for param in model.parameters():\n",
    "    print(param)"
   ],
   "id": "fc3e752b614fe60f",
   "outputs": [
    {
     "name": "stdout",
     "output_type": "stream",
     "text": [
      "Parameter containing:\n",
      "tensor([[0.8075]], requires_grad=True)\n",
      "Parameter containing:\n",
      "tensor([-0.8115], requires_grad=True)\n"
     ]
    }
   ],
   "execution_count": 42
  },
  {
   "metadata": {
    "ExecuteTime": {
     "end_time": "2025-04-13T12:48:15.617913Z",
     "start_time": "2025-04-13T12:48:15.589221Z"
    }
   },
   "cell_type": "code",
   "source": [
    "x = torch.randn(100, 1)\n",
    "y = 5 + 2 * x + torch.randn(100, 1)\n",
    "\n",
    "lr = 0.1\n",
    "iters = 100\n",
    "\n",
    "model = Model()\n",
    "#optimizer = torch.optim.SGD(model.parameters(), lr=lr)\n",
    "optimizer = torch.optim.Adam(model.parameters(), lr=lr)\n",
    "\n",
    "for i in range(iters):\n",
    "    y_hat = model(x)\n",
    "    loss = mean_squared_error(y, y_hat)\n",
    "\n",
    "    loss.backward()\n",
    "    optimizer.step()\n",
    "    optimizer.zero_grad()\n",
    "\n",
    "    print(loss.item())"
   ],
   "id": "5b0cc23c0246329b",
   "outputs": [
    {
     "name": "stdout",
     "output_type": "stream",
     "text": [
      "37.807411193847656\n",
      "36.27338409423828\n",
      "34.78255081176758\n",
      "33.335594177246094\n",
      "31.93311309814453\n",
      "30.575580596923828\n",
      "29.263368606567383\n",
      "27.99669647216797\n",
      "26.775636672973633\n",
      "25.600116729736328\n",
      "24.46988296508789\n",
      "23.384506225585938\n",
      "22.3433837890625\n",
      "21.345705032348633\n",
      "20.3904972076416\n",
      "19.47658920288086\n",
      "18.602645874023438\n",
      "17.767175674438477\n",
      "16.968547821044922\n",
      "16.205034255981445\n",
      "15.474818229675293\n",
      "14.776054382324219\n",
      "14.106884002685547\n",
      "13.46548843383789\n",
      "12.850118637084961\n",
      "12.25912857055664\n",
      "11.691006660461426\n",
      "11.144387245178223\n",
      "10.61807632446289\n",
      "10.11104679107666\n",
      "9.622442245483398\n",
      "9.151568412780762\n",
      "8.6978759765625\n",
      "8.260943412780762\n",
      "7.840461254119873\n",
      "7.436197280883789\n",
      "7.047984600067139\n",
      "6.675695419311523\n",
      "6.319216251373291\n",
      "5.978437423706055\n",
      "5.653231620788574\n",
      "5.343441963195801\n",
      "5.048874378204346\n",
      "4.769288539886475\n",
      "4.504395961761475\n",
      "4.253859043121338\n",
      "4.0172905921936035\n",
      "3.7942609786987305\n",
      "3.5843005180358887\n",
      "3.386906623840332\n",
      "3.2015540599823\n",
      "3.0276968479156494\n",
      "2.8647823333740234\n",
      "2.7122559547424316\n",
      "2.5695691108703613\n",
      "2.4361841678619385\n",
      "2.3115804195404053\n",
      "2.1952598094940186\n",
      "2.0867464542388916\n",
      "1.985591173171997\n",
      "1.8913705348968506\n",
      "1.8036887645721436\n",
      "1.7221732139587402\n",
      "1.646476149559021\n",
      "1.5762711763381958\n",
      "1.5112507343292236\n",
      "1.4511250257492065\n",
      "1.3956170082092285\n",
      "1.3444643020629883\n",
      "1.2974143028259277\n",
      "1.2542225122451782\n",
      "1.2146546840667725\n",
      "1.1784814596176147\n",
      "1.145481824874878\n",
      "1.115440845489502\n",
      "1.0881508588790894\n",
      "1.063410997390747\n",
      "1.0410287380218506\n",
      "1.020819067955017\n",
      "1.0026063919067383\n",
      "0.9862242937088013\n",
      "0.971514880657196\n",
      "0.9583315849304199\n",
      "0.9465372562408447\n",
      "0.9360042810440063\n",
      "0.9266155362129211\n",
      "0.9182630777359009\n",
      "0.9108482599258423\n",
      "0.9042805433273315\n",
      "0.8984773755073547\n",
      "0.8933641314506531\n",
      "0.888871967792511\n",
      "0.8849391937255859\n",
      "0.881508469581604\n",
      "0.8785281181335449\n",
      "0.8759506344795227\n",
      "0.8737325072288513\n",
      "0.8718340396881104\n",
      "0.8702186346054077\n",
      "0.8688531517982483\n"
     ]
    }
   ],
   "execution_count": 45
  },
  {
   "metadata": {
    "ExecuteTime": {
     "end_time": "2025-04-13T12:55:30.418359Z",
     "start_time": "2025-04-13T12:55:30.338319Z"
    }
   },
   "cell_type": "code",
   "source": [
    "import torch\n",
    "\n",
    "torch.manual_seed(0)\n",
    "x = torch.rand(100, 1)\n",
    "y = torch.sin(2 * torch.pi * x) + torch.rand(100, 1)\n",
    "\n",
    "plt.scatter(x, y, s=10)\n",
    "plt.legend()\n",
    "plt.xlabel('x')\n",
    "plt.ylabel('y')\n",
    "plt.show()\n"
   ],
   "id": "f555bc9732a3128e",
   "outputs": [
    {
     "name": "stderr",
     "output_type": "stream",
     "text": [
      "No artists with labels found to put in legend.  Note that artists whose label start with an underscore are ignored when legend() is called with no argument.\n"
     ]
    },
    {
     "data": {
      "text/plain": [
       "<Figure size 640x480 with 1 Axes>"
      ],
      "image/png": "[encoded data removed]"
     },
     "metadata": {},
     "output_type": "display_data"
    }
   ],
   "execution_count": 64
  },
  {
   "metadata": {
    "ExecuteTime": {
     "end_time": "2025-04-13T12:55:44.203196Z",
     "start_time": "2025-04-13T12:55:44.193095Z"
    }
   },
   "cell_type": "code",
   "source": [
    "import torch.nn.functional as F\n",
    "\n",
    "a = torch.randn(100, 1)\n",
    "\n",
    "b = F.sigmoid(a)\n",
    "c = F.relu(a)\n",
    "\n",
    "print (a, b, c)"
   ],
   "id": "7173d4957caaabe6",
   "outputs": [
    {
     "name": "stdout",
     "output_type": "stream",
     "text": [
      "tensor([[-0.5111],\n",
      "        [-1.7137],\n",
      "        [-0.5101],\n",
      "        [-0.4749],\n",
      "        [-0.6334],\n",
      "        [-1.4677],\n",
      "        [-0.8785],\n",
      "        [-2.0784],\n",
      "        [-1.1005],\n",
      "        [-0.7201],\n",
      "        [ 0.0119],\n",
      "        [ 0.3398],\n",
      "        [-0.2635],\n",
      "        [ 1.2805],\n",
      "        [ 0.0194],\n",
      "        [-0.8808],\n",
      "        [ 0.4386],\n",
      "        [-0.0107],\n",
      "        [ 1.3384],\n",
      "        [-0.2794],\n",
      "        [-0.5518],\n",
      "        [-2.8891],\n",
      "        [-1.5100],\n",
      "        [ 1.0241],\n",
      "        [ 0.1954],\n",
      "        [-0.7371],\n",
      "        [ 1.7001],\n",
      "        [ 0.3462],\n",
      "        [ 0.9711],\n",
      "        [ 1.4503],\n",
      "        [-0.0519],\n",
      "        [-0.6284],\n",
      "        [-0.6538],\n",
      "        [ 1.7198],\n",
      "        [-0.9610],\n",
      "        [-0.6375],\n",
      "        [ 0.0747],\n",
      "        [ 0.5600],\n",
      "        [ 0.5314],\n",
      "        [ 1.2351],\n",
      "        [-1.1070],\n",
      "        [-1.7174],\n",
      "        [ 1.5346],\n",
      "        [-0.0032],\n",
      "        [-1.6034],\n",
      "        [ 0.0581],\n",
      "        [-0.6302],\n",
      "        [ 0.7466],\n",
      "        [ 1.1887],\n",
      "        [-0.1575],\n",
      "        [-0.0455],\n",
      "        [ 0.6485],\n",
      "        [ 0.5239],\n",
      "        [ 0.2180],\n",
      "        [ 0.0625],\n",
      "        [ 0.6481],\n",
      "        [ 0.0331],\n",
      "        [-1.0234],\n",
      "        [ 0.7335],\n",
      "        [ 1.1177],\n",
      "        [ 2.1494],\n",
      "        [-0.9088],\n",
      "        [-0.6710],\n",
      "        [-0.5804],\n",
      "        [ 1.4903],\n",
      "        [-0.7005],\n",
      "        [ 0.1806],\n",
      "        [ 1.3615],\n",
      "        [ 2.0372],\n",
      "        [ 0.6430],\n",
      "        [-0.7326],\n",
      "        [-0.4877],\n",
      "        [ 0.2578],\n",
      "        [-0.5650],\n",
      "        [ 0.9278],\n",
      "        [ 0.4826],\n",
      "        [-0.8298],\n",
      "        [ 1.2678],\n",
      "        [ 0.2736],\n",
      "        [-0.6147],\n",
      "        [-0.9069],\n",
      "        [-0.5918],\n",
      "        [ 0.1508],\n",
      "        [-1.0411],\n",
      "        [-0.2488],\n",
      "        [-1.2320],\n",
      "        [ 0.6257],\n",
      "        [-1.2231],\n",
      "        [-0.6232],\n",
      "        [-0.2162],\n",
      "        [-0.4887],\n",
      "        [ 0.7870],\n",
      "        [-0.7328],\n",
      "        [ 0.5143],\n",
      "        [ 0.3976],\n",
      "        [ 0.6435],\n",
      "        [-1.1980],\n",
      "        [ 0.4784],\n",
      "        [-1.2295],\n",
      "        [-1.3700]]) tensor([[0.3749],\n",
      "        [0.1527],\n",
      "        [0.3752],\n",
      "        [0.3835],\n",
      "        [0.3467],\n",
      "        [0.1873],\n",
      "        [0.2935],\n",
      "        [0.1112],\n",
      "        [0.2497],\n",
      "        [0.3274],\n",
      "        [0.5030],\n",
      "        [0.5841],\n",
      "        [0.4345],\n",
      "        [0.7825],\n",
      "        [0.5048],\n",
      "        [0.2930],\n",
      "        [0.6079],\n",
      "        [0.4973],\n",
      "        [0.7922],\n",
      "        [0.4306],\n",
      "        [0.3654],\n",
      "        [0.0527],\n",
      "        [0.1809],\n",
      "        [0.7358],\n",
      "        [0.5487],\n",
      "        [0.3236],\n",
      "        [0.8455],\n",
      "        [0.5857],\n",
      "        [0.7253],\n",
      "        [0.8100],\n",
      "        [0.4870],\n",
      "        [0.3479],\n",
      "        [0.3421],\n",
      "        [0.8481],\n",
      "        [0.2767],\n",
      "        [0.3458],\n",
      "        [0.5187],\n",
      "        [0.6364],\n",
      "        [0.6298],\n",
      "        [0.7747],\n",
      "        [0.2484],\n",
      "        [0.1522],\n",
      "        [0.8227],\n",
      "        [0.4992],\n",
      "        [0.1675],\n",
      "        [0.5145],\n",
      "        [0.3475],\n",
      "        [0.6784],\n",
      "        [0.7665],\n",
      "        [0.4607],\n",
      "        [0.4886],\n",
      "        [0.6567],\n",
      "        [0.6281],\n",
      "        [0.5543],\n",
      "        [0.5156],\n",
      "        [0.6566],\n",
      "        [0.5083],\n",
      "        [0.2644],\n",
      "        [0.6756],\n",
      "        [0.7536],\n",
      "        [0.8956],\n",
      "        [0.2873],\n",
      "        [0.3383],\n",
      "        [0.3588],\n",
      "        [0.8161],\n",
      "        [0.3317],\n",
      "        [0.5450],\n",
      "        [0.7960],\n",
      "        [0.8846],\n",
      "        [0.6554],\n",
      "        [0.3246],\n",
      "        [0.3804],\n",
      "        [0.5641],\n",
      "        [0.3624],\n",
      "        [0.7166],\n",
      "        [0.6184],\n",
      "        [0.3037],\n",
      "        [0.7804],\n",
      "        [0.5680],\n",
      "        [0.3510],\n",
      "        [0.2876],\n",
      "        [0.3562],\n",
      "        [0.5376],\n",
      "        [0.2609],\n",
      "        [0.4381],\n",
      "        [0.2258],\n",
      "        [0.6515],\n",
      "        [0.2274],\n",
      "        [0.3490],\n",
      "        [0.4461],\n",
      "        [0.3802],\n",
      "        [0.6872],\n",
      "        [0.3246],\n",
      "        [0.6258],\n",
      "        [0.5981],\n",
      "        [0.6555],\n",
      "        [0.2318],\n",
      "        [0.6174],\n",
      "        [0.2263],\n",
      "        [0.2026]]) tensor([[0.0000],\n",
      "        [0.0000],\n",
      "        [0.0000],\n",
      "        [0.0000],\n",
      "        [0.0000],\n",
      "        [0.0000],\n",
      "        [0.0000],\n",
      "        [0.0000],\n",
      "        [0.0000],\n",
      "        [0.0000],\n",
      "        [0.0119],\n",
      "        [0.3398],\n",
      "        [0.0000],\n",
      "        [1.2805],\n",
      "        [0.0194],\n",
      "        [0.0000],\n",
      "        [0.4386],\n",
      "        [0.0000],\n",
      "        [1.3384],\n",
      "        [0.0000],\n",
      "        [0.0000],\n",
      "        [0.0000],\n",
      "        [0.0000],\n",
      "        [1.0241],\n",
      "        [0.1954],\n",
      "        [0.0000],\n",
      "        [1.7001],\n",
      "        [0.3462],\n",
      "        [0.9711],\n",
      "        [1.4503],\n",
      "        [0.0000],\n",
      "        [0.0000],\n",
      "        [0.0000],\n",
      "        [1.7198],\n",
      "        [0.0000],\n",
      "        [0.0000],\n",
      "        [0.0747],\n",
      "        [0.5600],\n",
      "        [0.5314],\n",
      "        [1.2351],\n",
      "        [0.0000],\n",
      "        [0.0000],\n",
      "        [1.5346],\n",
      "        [0.0000],\n",
      "        [0.0000],\n",
      "        [0.0581],\n",
      "        [0.0000],\n",
      "        [0.7466],\n",
      "        [1.1887],\n",
      "        [0.0000],\n",
      "        [0.0000],\n",
      "        [0.6485],\n",
      "        [0.5239],\n",
      "        [0.2180],\n",
      "        [0.0625],\n",
      "        [0.6481],\n",
      "        [0.0331],\n",
      "        [0.0000],\n",
      "        [0.7335],\n",
      "        [1.1177],\n",
      "        [2.1494],\n",
      "        [0.0000],\n",
      "        [0.0000],\n",
      "        [0.0000],\n",
      "        [1.4903],\n",
      "        [0.0000],\n",
      "        [0.1806],\n",
      "        [1.3615],\n",
      "        [2.0372],\n",
      "        [0.6430],\n",
      "        [0.0000],\n",
      "        [0.0000],\n",
      "        [0.2578],\n",
      "        [0.0000],\n",
      "        [0.9278],\n",
      "        [0.4826],\n",
      "        [0.0000],\n",
      "        [1.2678],\n",
      "        [0.2736],\n",
      "        [0.0000],\n",
      "        [0.0000],\n",
      "        [0.0000],\n",
      "        [0.1508],\n",
      "        [0.0000],\n",
      "        [0.0000],\n",
      "        [0.0000],\n",
      "        [0.6257],\n",
      "        [0.0000],\n",
      "        [0.0000],\n",
      "        [0.0000],\n",
      "        [0.0000],\n",
      "        [0.7870],\n",
      "        [0.0000],\n",
      "        [0.5143],\n",
      "        [0.3976],\n",
      "        [0.6435],\n",
      "        [0.0000],\n",
      "        [0.4784],\n",
      "        [0.0000],\n",
      "        [0.0000]])\n"
     ]
    }
   ],
   "execution_count": 65
  },
  {
   "metadata": {
    "ExecuteTime": {
     "end_time": "2025-04-13T12:54:23.497978Z",
     "start_time": "2025-04-13T12:54:22.609494Z"
    }
   },
   "cell_type": "code",
   "source": [
    "import torch\n",
    "import torch.nn as nn\n",
    "import torch.nn.functional as F\n",
    "\n",
    "\n",
    "torch.manual_seed(0)\n",
    "x = torch.rand(100, 1)\n",
    "y = torch.sin(2 * torch.pi * x) + torch.rand(100, 1)\n",
    "\n",
    "# model\n",
    "class Model(nn.Module):\n",
    "    def __init__(self, input_size=1, hidden_size= 10, output_size=1):\n",
    "        super().__init__()\n",
    "        self.linear1 = nn.Linear(input_size, hidden_size)\n",
    "        self.linear2 = nn.Linear(hidden_size, output_size)\n",
    "\n",
    "    def forward(self, x):\n",
    "        y = self.linear1(x)\n",
    "        y = F.sigmoid(y)\n",
    "        y = self.linear2(y)\n",
    "        return y\n",
    "\n",
    "\n",
    "lr = 0.2\n",
    "iters = 10000\n",
    "\n",
    "model = Model()\n",
    "optimizer = torch.optim.SGD(model.parameters(), lr=lr)\n",
    "\n",
    "for i in range(iters):\n",
    "    y_pred = model(x)\n",
    "    loss = F.mse_loss(y, y_pred)\n",
    "    optimizer.zero_grad()\n",
    "    loss.backward()\n",
    "    optimizer.step()\n",
    "\n",
    "    if i % 1000 == 0:\n",
    "        print(loss.item())\n",
    "\n",
    "print(loss.item())\n",
    "\n",
    "# plot\n",
    "import matplotlib.pyplot as plt\n",
    "plt.scatter(x.detach().numpy(), y.detach().numpy(), s=10)\n",
    "x = torch.linspace(0, 1, 100).reshape(-1, 1)\n",
    "y = model(x).detach().numpy()\n",
    "plt.plot(x, y, color='red')\n",
    "plt.show()"
   ],
   "id": "a3429c659fdc615d",
   "outputs": [
    {
     "name": "stdout",
     "output_type": "stream",
     "text": [
      "0.7643452286720276\n",
      "0.23656319081783295\n",
      "0.2322607785463333\n",
      "0.22441408038139343\n",
      "0.21026146411895752\n",
      "0.1795787364244461\n",
      "0.11798440665006638\n",
      "0.08484040945768356\n",
      "0.08022791147232056\n",
      "0.0796809121966362\n",
      "0.07946287840604782\n"
     ]
    },
    {
     "data": {
      "text/plain": [
       "<Figure size 640x480 with 1 Axes>"
      ],
      "image/png": "[encoded data removed]"
     },
     "metadata": {},
     "output_type": "display_data"
    }
   ],
   "execution_count": 60
  },
  {
   "metadata": {
    "ExecuteTime": {
     "end_time": "2025-04-13T12:57:06.499235Z",
     "start_time": "2025-04-13T12:57:06.119151Z"
    }
   },
   "cell_type": "code",
   "source": [
    "import torchvision\n",
    "\n",
    "print(torchvision.__version__)"
   ],
   "id": "be73cfeab2a0a149",
   "outputs": [
    {
     "name": "stdout",
     "output_type": "stream",
     "text": [
      "0.15.1\n"
     ]
    },
    {
     "name": "stderr",
     "output_type": "stream",
     "text": [
      "/Users/chohi/project/ai/DeepLearningDeepen/DeepLearningAdv/.venv/lib/python3.9/site-packages/urllib3/__init__.py:35: NotOpenSSLWarning: urllib3 v2 only supports OpenSSL 1.1.1+, currently the 'ssl' module is compiled with 'LibreSSL 2.8.3'. See: https://github.com/urllib3/urllib3/issues/3020\n",
      "  warnings.warn(\n"
     ]
    }
   ],
   "execution_count": 66
  },
  {
   "metadata": {
    "ExecuteTime": {
     "end_time": "2025-04-13T12:59:17.588437Z",
     "start_time": "2025-04-13T12:59:17.440224Z"
    }
   },
   "cell_type": "code",
   "source": [
    "import torch\n",
    "import torchvision\n",
    "import matplotlib.pyplot as plt\n",
    "\n",
    "dataset = torchvision.datasets.MNIST(\n",
    "    root='./data',\n",
    "    train=True,\n",
    "    download=True,\n",
    "    transform=None)\n",
    "\n",
    "x, label = dataset[0]\n",
    "\n",
    "print('size:', len(dataset))\n",
    "print('type:', type(x))\n",
    "print('label:', label)\n",
    "\n",
    "plt.imshow(x, cmap='gray')\n",
    "plt.show()"
   ],
   "id": "5e152eb01a865b9",
   "outputs": [
    {
     "name": "stdout",
     "output_type": "stream",
     "text": [
      "size: 60000\n",
      "type: <class 'PIL.Image.Image'>\n",
      "label: 5\n"
     ]
    },
    {
     "data": {
      "text/plain": [
       "<Figure size 640x480 with 1 Axes>"
      ],
      "image/png": "[encoded data removed]"
     },
     "metadata": {},
     "output_type": "display_data"
    }
   ],
   "execution_count": 69
  },
  {
   "metadata": {
    "ExecuteTime": {
     "end_time": "2025-04-13T13:01:31.629450Z",
     "start_time": "2025-04-13T13:01:31.577457Z"
    }
   },
   "cell_type": "code",
   "source": [
    "import torchvision\n",
    "import torchvision.transforms as transforms\n",
    "\n",
    "transform = transforms.ToTensor()\n",
    "\n",
    "dataset = torchvision.datasets.MNIST(\n",
    "    root='./data',\n",
    "    train=True,\n",
    "    download=True,\n",
    "    transform=transform\n",
    ")\n",
    "\n",
    "x, label = dataset[0]\n",
    "print('type:', type(x))\n",
    "print('shape:', x.shape)"
   ],
   "id": "fab35e048594b8b2",
   "outputs": [
    {
     "name": "stdout",
     "output_type": "stream",
     "text": [
      "type: <class 'torch.Tensor'>\n",
      "shape: torch.Size([1, 28, 28])\n"
     ]
    }
   ],
   "execution_count": 70
  },
  {
   "metadata": {
    "ExecuteTime": {
     "end_time": "2025-04-13T13:03:01.939455Z",
     "start_time": "2025-04-13T13:03:01.924078Z"
    }
   },
   "cell_type": "code",
   "source": [
    "import torch\n",
    "dataloader = torch.utils.data.DataLoader(\n",
    "    dataset,\n",
    "    batch_size=32,\n",
    "    shuffle=True\n",
    ")\n",
    "\n",
    "for x, label in dataloader:\n",
    "    print('x shape:', x.shape)\n",
    "    print('label shape:', label.shape)\n",
    "    break"
   ],
   "id": "ab495707e6e15eda",
   "outputs": [
    {
     "name": "stdout",
     "output_type": "stream",
     "text": [
      "x shape: torch.Size([32, 1, 28, 28])\n",
      "label shape: torch.Size([32])\n"
     ]
    }
   ],
   "execution_count": 71
  }
 ],
 "metadata": {
  "kernelspec": {
   "display_name": "Python 3",
   "language": "python",
   "name": "python3"
  },
  "language_info": {
   "codemirror_mode": {
    "name": "ipython",
    "version": 2
   },
   "file_extension": ".py",
   "mimetype": "text/x-python",
   "name": "python",
   "nbconvert_exporter": "python",
   "pygments_lexer": "ipython2",
   "version": "2.7.6"
  }
 },
 "nbformat": 4,
 "nbformat_minor": 5
}
