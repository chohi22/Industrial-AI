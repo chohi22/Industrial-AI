{
 "cells": [
  {
   "metadata": {},
   "cell_type": "markdown",
   "source": "### 부정적분",
   "id": "248e7e0ad0f653b2"
  },
  {
   "metadata": {
    "ExecuteTime": {
     "end_time": "2025-05-06T03:57:50.918512Z",
     "start_time": "2025-05-06T03:57:50.861647Z"
    }
   },
   "cell_type": "code",
   "source": [
    "import sympy as sp\n",
    "\n",
    "# (a) f(x) = 3*x**2\n",
    "x = sp.symbols('x')\n",
    "fx = 3*x**2\n",
    "print(\"f(x) = \", sp.integrate(fx, x))\n",
    "\n",
    "# (b) g(x) = e^x\n",
    "x = sp.symbols('x')\n",
    "gx = sp.exp(x)\n",
    "print(\"g(x) = \", sp.integrate(gx, x))"
   ],
   "id": "4ffe581acbd0aced",
   "outputs": [
    {
     "name": "stdout",
     "output_type": "stream",
     "text": [
      "f(x) =  x**3\n",
      "g(x) =  exp(x)\n"
     ]
    }
   ],
   "execution_count": 2
  },
  {
   "metadata": {
    "ExecuteTime": {
     "end_time": "2025-05-06T04:07:55.958035Z",
     "start_time": "2025-05-06T04:07:55.948552Z"
    }
   },
   "cell_type": "code",
   "source": [
    "import sympy as sp\n",
    "\n",
    "# (a) f(x) = 2*x**2-x+3\n",
    "x = sp.symbols('x')\n",
    "fx = 2*x**2-x+3\n",
    "print(\"f(x) = \", sp.integrate(fx, x))\n",
    "\n",
    "# (b) g(x) = (x-1)*(x-3)\n",
    "x = sp.symbols('x')\n",
    "gx = (x-1) * (x-3)\n",
    "print(\"g(x) = \", sp.integrate(gx, x))"
   ],
   "id": "8301e568ce8c0ebe",
   "outputs": [
    {
     "name": "stdout",
     "output_type": "stream",
     "text": [
      "f(x) =  2*x**3/3 - x**2/2 + 3*x\n",
      "g(x) =  x**3/3 - 2*x**2 + 3*x\n"
     ]
    }
   ],
   "execution_count": 6
  },
  {
   "metadata": {
    "ExecuteTime": {
     "end_time": "2025-05-06T04:10:28.212716Z",
     "start_time": "2025-05-06T04:10:28.142474Z"
    }
   },
   "cell_type": "code",
   "source": [
    "import sympy as sp\n",
    "\n",
    "# (a) f(x) = x+1/x-1/(x**2)\n",
    "x = sp.symbols('x')\n",
    "fx = x+1/x-1/(x**2)\n",
    "print(\"f(x) = \", sp.integrate(fx, x))\n",
    "\n",
    "# (b) g(x) = (sqrt(x)+4)/x\n",
    "x = sp.symbols('x')\n",
    "gx = (sp.sqrt(x)+4)/x\n",
    "print(\"g(x) = \", sp.integrate(gx, x))"
   ],
   "id": "61b502e74c63403f",
   "outputs": [
    {
     "name": "stdout",
     "output_type": "stream",
     "text": [
      "f(x) =  x**2/2 + log(x) + 1/x\n",
      "g(x) =  2*sqrt(x) + 4*log(x)\n"
     ]
    }
   ],
   "execution_count": 8
  },
  {
   "metadata": {
    "ExecuteTime": {
     "end_time": "2025-05-06T04:18:44.591387Z",
     "start_time": "2025-05-06T04:18:44.295619Z"
    }
   },
   "cell_type": "code",
   "source": [
    "import sympy as sp\n",
    "\n",
    "# (a) f(x) = tan(x)*tan(x)+1-2*cos(x)\n",
    "x = sp.symbols('x')\n",
    "fx = sp.tan(x)*sp.tan(x)+1-2*sp.cos(x)\n",
    "print(\"f(x) = \", sp.simplify(sp.integrate(fx, x)))\n",
    "\n",
    "# (b) g(x) = 2*sin(x)*sin(x)/(1+cos(x))\n",
    "x = sp.symbols('x')\n",
    "gx = 2*sp.sin(x)*sp.sin(x)/(1+sp.cos(x))\n",
    "print(\"g(x) = \", sp.simplify(sp.integrate(gx, x)))"
   ],
   "id": "d76525da6f930e6a",
   "outputs": [
    {
     "name": "stdout",
     "output_type": "stream",
     "text": [
      "f(x) =  -2*sin(x) + tan(x)\n",
      "g(x) =  2*x - 2*sin(x)\n"
     ]
    }
   ],
   "execution_count": 2
  },
  {
   "metadata": {
    "ExecuteTime": {
     "end_time": "2025-05-06T04:20:41.315256Z",
     "start_time": "2025-05-06T04:20:40.682424Z"
    }
   },
   "cell_type": "code",
   "source": [
    "import sympy as sp\n",
    "\n",
    "# (a) f(x) = exp(x)-3**(x+1)\n",
    "x = sp.symbols('x')\n",
    "fx = sp.exp(x)-3**(x+1)\n",
    "print(\"f(x) = \", sp.simplify(sp.integrate(fx, x)))\n",
    "\n",
    "# (b) g(x) = (exp(2*x)-x)/(exp(x)-sqrt(x))\n",
    "x = sp.symbols('x')\n",
    "gx = (sp.exp(2*x)-x)/(sp.exp(x)-sp.sqrt(x))\n",
    "print(\"g(x) = \", sp.simplify(sp.integrate(gx, x)))"
   ],
   "id": "618290dfbdfec08e",
   "outputs": [
    {
     "name": "stdout",
     "output_type": "stream",
     "text": [
      "f(x) =  -3*3**x/log(3) + exp(x)\n",
      "g(x) =  2*x**(3/2)/3 + exp(x)\n"
     ]
    }
   ],
   "execution_count": 6
  },
  {
   "metadata": {},
   "cell_type": "markdown",
   "source": "### 치환적분법",
   "id": "312aa5628dc5eafe"
  },
  {
   "metadata": {
    "ExecuteTime": {
     "end_time": "2025-05-06T04:22:45.692275Z",
     "start_time": "2025-05-06T04:22:45.616320Z"
    }
   },
   "cell_type": "code",
   "source": [
    "import sympy as sp\n",
    "\n",
    "# (a) f(x) = (3*x-2)**4\n",
    "x = sp.symbols('x')\n",
    "fx = (3*x-2)**4\n",
    "print(\"f(x) = \", sp.simplify(sp.integrate(fx, x)))\n",
    "\n",
    "# (b) g(x) = cos(2*x+1)\n",
    "x = sp.symbols('x')\n",
    "gx = sp.cos(2*x+1)\n",
    "print(\"g(x) = \", sp.simplify(sp.integrate(gx, x)))"
   ],
   "id": "c10c0b6eed3e2fc2",
   "outputs": [
    {
     "name": "stdout",
     "output_type": "stream",
     "text": [
      "f(x) =  x*(81*x**4 - 270*x**3 + 360*x**2 - 240*x + 80)/5\n",
      "g(x) =  sin(2*x + 1)/2\n"
     ]
    }
   ],
   "execution_count": 8
  },
  {
   "metadata": {
    "ExecuteTime": {
     "end_time": "2025-05-06T04:25:27.783510Z",
     "start_time": "2025-05-06T04:25:27.734835Z"
    }
   },
   "cell_type": "code",
   "source": [
    "import sympy as sp\n",
    "\n",
    "# (a) f(x) = 2*x*exp(x**2+1)\n",
    "x = sp.symbols('x')\n",
    "fx = 2*x*sp.exp(x**2+1)\n",
    "print(\"f(x) = \", sp.integrate(fx, x))\n",
    "\n",
    "# (b) g(x) = tan(x)/(cos(x)*cos(xx))\n",
    "x = sp.symbols('x')\n",
    "gx = sp.tan(x)/(sp.cos(x)*sp.cos(x))\n",
    "print(\"g(x) = \", sp.simplify(sp.integrate(gx, x)))"
   ],
   "id": "fd772664d6062fcd",
   "outputs": [
    {
     "name": "stdout",
     "output_type": "stream",
     "text": [
      "f(x) =  exp(x**2 + 1)\n",
      "g(x) =  1/(2*cos(x)**2)\n"
     ]
    }
   ],
   "execution_count": 11
  },
  {
   "metadata": {
    "ExecuteTime": {
     "end_time": "2025-05-06T04:27:07.020013Z",
     "start_time": "2025-05-06T04:27:06.969324Z"
    }
   },
   "cell_type": "code",
   "source": [
    "import sympy as sp\n",
    "\n",
    "# (a) f(x) = 3*x**2/(x**3+2)\n",
    "x = sp.symbols('x')\n",
    "fx = 3*x**2/(x**3+2)\n",
    "print(\"f(x) = \", sp.integrate(fx, x))\n",
    "\n",
    "# (b) g(x) = 1/(x*log(x)\n",
    "x = sp.symbols('x')\n",
    "gx = 1/(x*sp.log(x))\n",
    "print(\"g(x) = \", sp.simplify(sp.integrate(gx, x)))"
   ],
   "id": "17ec852afa33743d",
   "outputs": [
    {
     "name": "stdout",
     "output_type": "stream",
     "text": [
      "f(x) =  log(x**3 + 2)\n",
      "g(x) =  log(log(x))\n"
     ]
    }
   ],
   "execution_count": 13
  },
  {
   "metadata": {
    "ExecuteTime": {
     "end_time": "2025-05-06T04:28:39.999484Z",
     "start_time": "2025-05-06T04:28:39.939753Z"
    }
   },
   "cell_type": "code",
   "source": [
    "import sympy as sp\n",
    "\n",
    "# (a) f(x) = 2*x*exp(x)\n",
    "x = sp.symbols('x')\n",
    "fx = 2*x*sp.exp(x)\n",
    "print(\"f(x) = \", sp.integrate(fx, x))\n",
    "\n",
    "# (b) g(x) = x*log(x)\n",
    "x = sp.symbols('x')\n",
    "gx = x*sp.log(x)\n",
    "print(\"g(x) = \", sp.simplify(sp.integrate(gx, x)))"
   ],
   "id": "ddc83929a1916175",
   "outputs": [
    {
     "name": "stdout",
     "output_type": "stream",
     "text": [
      "f(x) =  (2*x - 2)*exp(x)\n",
      "g(x) =  x**2*(2*log(x) - 1)/4\n"
     ]
    }
   ],
   "execution_count": 16
  },
  {
   "metadata": {
    "ExecuteTime": {
     "end_time": "2025-05-06T04:29:58.342469Z",
     "start_time": "2025-05-06T04:29:58.311887Z"
    }
   },
   "cell_type": "code",
   "source": [
    "import sympy as sp\n",
    "\n",
    "# f(x) = exp(x)*sin(x)\n",
    "x = sp.symbols('x')\n",
    "fx = sp.exp(x)*sp.sin(x)\n",
    "print(\"f(x) = \", sp.factor(sp.integrate(fx, x)))"
   ],
   "id": "c1a6f75242f9e95d",
   "outputs": [
    {
     "name": "stdout",
     "output_type": "stream",
     "text": [
      "f(x) =  -(-sin(x) + cos(x))*exp(x)/2\n"
     ]
    }
   ],
   "execution_count": 18
  },
  {
   "metadata": {},
   "cell_type": "markdown",
   "source": "### 정적분",
   "id": "412151bb8d5a5375"
  },
  {
   "metadata": {
    "ExecuteTime": {
     "end_time": "2025-05-06T04:34:03.770362Z",
     "start_time": "2025-05-06T04:34:03.743896Z"
    }
   },
   "cell_type": "code",
   "source": [
    "import sympy as sp\n",
    "\n",
    "# (a) f(x) = 2*x**2-x, [0,2]\n",
    "x = sp.symbols('x')\n",
    "fx = 2*x**2-x\n",
    "print(\"(a)) = \", sp.integrate(fx, (x, 0, 2)))\n",
    "\n",
    "# (b) g(x) = cos(x), [pi/2, pi]\n",
    "x = sp.symbols('x')\n",
    "gx = sp.cos(x)\n",
    "print(\"(b) = \", sp.integrate(gx, (x, sp.pi/2, sp.pi)))"
   ],
   "id": "bdb79f36ecdd47cd",
   "outputs": [
    {
     "name": "stdout",
     "output_type": "stream",
     "text": [
      "(a)) =  10/3\n",
      "(b) =  -1\n"
     ]
    }
   ],
   "execution_count": 20
  },
  {
   "metadata": {
    "ExecuteTime": {
     "end_time": "2025-05-06T04:39:34.320519Z",
     "start_time": "2025-05-06T04:39:34.231197Z"
    }
   },
   "cell_type": "code",
   "source": [
    "import sympy as sp\n",
    "\n",
    "# (a) f1(x) = x**3-x+1, f2(x)=x**3+x+1, [0,3]\n",
    "x = sp.symbols('x')\n",
    "f1 = x**3-x+1\n",
    "f2 = x**3+x+1\n",
    "print(\"(a1)) = \", sp.integrate(f1, (x, 0, 3)) - sp.integrate(f2, (x, 0, 3)))\n",
    "print(\"(a2)) = \", sp.integrate(f1-f2, (x,0,3)))\n",
    "\n",
    "# (b) g(x) = x**3-exp(x), [0,1], [1,2]\n",
    "x = sp.symbols('x')\n",
    "gx = x**3-sp.exp(x)\n",
    "print(\"(b1)) = \", sp.integrate(gx, (x, 0, 1)) + sp.integrate(gx, (x, 1, 2)))\n",
    "print(\"(b2)) = \", sp.integrate(gx, (x,0,2)))"
   ],
   "id": "d75b484af6a908c1",
   "outputs": [
    {
     "name": "stdout",
     "output_type": "stream",
     "text": [
      "(a1)) =  -9\n",
      "(a2)) =  -9\n",
      "(b1)) =  5 - exp(2)\n",
      "(b2)) =  5 - exp(2)\n"
     ]
    }
   ],
   "execution_count": 25
  },
  {
   "metadata": {
    "ExecuteTime": {
     "end_time": "2025-05-06T04:54:25.057124Z",
     "start_time": "2025-05-06T04:54:25.026092Z"
    }
   },
   "cell_type": "code",
   "source": [
    "import sympy as sp\n",
    "\n",
    "# (a) f(x) = (2*x-1)**3, [0,2]\n",
    "x = sp.symbols('x')\n",
    "fx = (2*x-1)**3\n",
    "print(\"(a)) = \", sp.integrate(fx, (x, 0, 2)))\n",
    "\n",
    "# (b) g(x) = 2*x*exp(x**2), [0,1]\n",
    "x = sp.symbols('x')\n",
    "gx = 2*x*sp.exp(x**2)\n",
    "print(\"(b) : \", sp.integrate(gx, (x, 0, 1)))"
   ],
   "id": "55a96765ae9bb22a",
   "outputs": [
    {
     "name": "stdout",
     "output_type": "stream",
     "text": [
      "(a)) =  10\n",
      "(b) :  -1 + E\n"
     ]
    }
   ],
   "execution_count": 27
  },
  {
   "metadata": {
    "ExecuteTime": {
     "end_time": "2025-05-06T04:56:01.432497Z",
     "start_time": "2025-05-06T04:56:01.382342Z"
    }
   },
   "cell_type": "code",
   "source": [
    "import sympy as sp\n",
    "\n",
    "# (a) f(x) = log(x), [1, exp(2)]\n",
    "x = sp.symbols('x')\n",
    "fx = sp.log(x)\n",
    "print(\"(a)) = \", sp.integrate(fx, (x, 1, sp.exp(2))))\n",
    "\n",
    "# (b) g(x) = x*cos(x), [0, pi]\n",
    "x = sp.symbols('x')\n",
    "gx = x*sp.cos(x)\n",
    "print(\"(b) : \", sp.integrate(gx, (x, 0, sp.pi)))"
   ],
   "id": "a39937dec335aefb",
   "outputs": [
    {
     "name": "stdout",
     "output_type": "stream",
     "text": [
      "(a)) =  1 + exp(2)\n",
      "(b) :  -2\n"
     ]
    }
   ],
   "execution_count": 30
  },
  {
   "metadata": {
    "ExecuteTime": {
     "end_time": "2025-05-06T05:05:53.100605Z",
     "start_time": "2025-05-06T05:05:52.900938Z"
    }
   },
   "cell_type": "code",
   "source": [
    "import sympy as sp\n",
    "import numpy as np\n",
    "import matplotlib.pyplot as plt\n",
    "\n",
    "def f(x):\n",
    " return np.exp(x)*np.sin(x)\n",
    "\n",
    "x = sp.symbols('x')\n",
    "fx = sp.exp(x)*sp.sin(x)\n",
    "true_integral = sp.N(sp.integrate(fx, (x, 0, sp.pi)))\n",
    "print(\"True value: \", sp.N(sp.integrate(fx, (x, 0, sp.pi))))\n",
    "\n",
    "#Simpson's Rule\n",
    "a = 0\n",
    "b = np.pi\n",
    "n = 16\n",
    "\n",
    "n_list = np.zeros((5,1))\n",
    "error_list = np.zeros((5,1))\n",
    "\n",
    "for k in range(5):\n",
    "    x = np.linspace(a, b, n+1)\n",
    "    h = x[1]-x[0]\n",
    "    sum = f(x[0])\n",
    "    for i in range(np.size(x)-1):\n",
    "        if i%2 == 0:\n",
    "            sum += 2*f(x[i])\n",
    "        else:\n",
    "            sum += 4*f(x[i])\n",
    "    sum = sum + f(x[n])\n",
    "    sum = sum * h/3\n",
    "\n",
    "    error = abs(true_integral - sum)\n",
    "    n_list[k] = n\n",
    "    error_list[k] = error\n",
    "    print(\"Simpson with n=\", n, \":\", sum, \", error:\", error)\n",
    "\n",
    "    n = n*2\n",
    "\n",
    "plt.plot(np.log2(n_list), np.log2(error_list), 'o-')\n",
    "plt.xlabel(\"log2(n)\")\n",
    "plt.ylabel(\"log2(error)\")\n",
    "plt.show()"
   ],
   "id": "f48106df6cfed7cf",
   "outputs": [
    {
     "name": "stdout",
     "output_type": "stream",
     "text": [
      "True value:  12.0703463163896\n",
      "Simpson with n= 16 : 12.069944004482764 , error: 0.000402311906871233\n",
      "Simpson with n= 32 : 12.070321341690324 , error: 2.49746993112865e-5\n",
      "Simpson with n= 64 : 12.070344758144522 , error: 1.55824511338665e-6\n",
      "Simpson with n= 128 : 12.070346219041168 , error: 9.73484670652169e-8\n",
      "Simpson with n= 256 : 12.070346310306006 , error: 6.08362960008435e-9\n"
     ]
    },
    {
     "data": {
      "text/plain": [
       "<Figure size 640x480 with 1 Axes>"
      ],
      "image/png": "[encoded data removed]"
     },
     "metadata": {},
     "output_type": "display_data"
    }
   ],
   "execution_count": 37
  }
 ],
 "metadata": {
  "kernelspec": {
   "display_name": "Python 3",
   "language": "python",
   "name": "python3"
  },
  "language_info": {
   "codemirror_mode": {
    "name": "ipython",
    "version": 2
   },
   "file_extension": ".py",
   "mimetype": "text/x-python",
   "name": "python",
   "nbconvert_exporter": "python",
   "pygments_lexer": "ipython2",
   "version": "2.7.6"
  }
 },
 "nbformat": 4,
 "nbformat_minor": 5
}
