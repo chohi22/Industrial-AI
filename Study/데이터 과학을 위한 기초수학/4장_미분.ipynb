{
 "cells": [
  {
   "metadata": {},
   "cell_type": "markdown",
   "source": "### 도함수",
   "id": "2d8c0477767a5f2a"
  },
  {
   "metadata": {
    "ExecuteTime": {
     "end_time": "2025-05-06T02:49:45.467744Z",
     "start_time": "2025-05-06T02:49:45.446409Z"
    }
   },
   "cell_type": "code",
   "source": [
    "import sympy as sp\n",
    "\n",
    "# (a) f(x) = x**2020+3*x**3-1\n",
    "x = sp.symbols('x')\n",
    "fx = x**2020 + 3*x**3 - 1\n",
    "print(\"f(x) = \", sp.simplify(sp.diff(fx, x)))\n",
    "\n",
    "# (b) g(x) = x/(x+1)\n",
    "x = sp.symbols('x')\n",
    "gx = x/(x+1)\n",
    "print(\"g(x) = \", sp.simplify(sp.diff(gx, x)))"
   ],
   "id": "ed94f35c6f6c5fa2",
   "outputs": [
    {
     "name": "stdout",
     "output_type": "stream",
     "text": [
      "f(x) =  x**2*(2020*x**2017 + 9)\n",
      "g(x) =  (x + 1)**(-2)\n"
     ]
    }
   ],
   "execution_count": 2
  },
  {
   "metadata": {
    "ExecuteTime": {
     "end_time": "2025-05-06T03:09:21.214681Z",
     "start_time": "2025-05-06T03:09:21.137508Z"
    }
   },
   "cell_type": "code",
   "source": [
    "import sympy as sp\n",
    "\n",
    "# (a) f(x) = sinx*cosx\n",
    "x = sp.symbols('x')\n",
    "fx = sp.sin(x)*sp.cos(x)\n",
    "print(\"f(x) = \", sp.simplify(sp.diff(fx, x)))\n",
    "\n",
    "# (b) g(x) = (x**2)*tanx\n",
    "x = sp.symbols('x')\n",
    "gx = (x**2)*sp.tan(x)\n",
    "print(\"g(x) = \", sp.simplify(sp.diff(gx, x)))"
   ],
   "id": "f5d624a2529934ff",
   "outputs": [
    {
     "name": "stdout",
     "output_type": "stream",
     "text": [
      "f(x) =  cos(2*x)\n",
      "g(x) =  x*(x/cos(x)**2 + 2*tan(x))\n"
     ]
    }
   ],
   "execution_count": 4
  },
  {
   "metadata": {
    "ExecuteTime": {
     "end_time": "2025-05-06T03:14:49.171013Z",
     "start_time": "2025-05-06T03:14:49.131754Z"
    }
   },
   "cell_type": "code",
   "source": [
    "import sympy as sp\n",
    "\n",
    "# (a) f(x) = exp(x)/x\n",
    "x = sp.symbols('x')\n",
    "fx = sp.exp(x)/x\n",
    "print(\"f(x) = \", sp.simplify(sp.diff(fx, x)))\n",
    "\n",
    "# (b) g(x) = 3log2(x)-xlogx\n",
    "x = sp.symbols('x')\n",
    "gx = 3*sp.log(x, 2) - x*sp.log(x)\n",
    "print(\"g(x) = \", sp.simplify(sp.diff(gx, x)))"
   ],
   "id": "9496079e409659f1",
   "outputs": [
    {
     "name": "stdout",
     "output_type": "stream",
     "text": [
      "f(x) =  (x - 1)*exp(x)/x**2\n",
      "g(x) =  -log(x) - 1 + 3/(x*log(2))\n"
     ]
    }
   ],
   "execution_count": 6
  },
  {
   "metadata": {},
   "cell_type": "markdown",
   "source": "### 고차도 함수",
   "id": "ea60a339a22e51c0"
  },
  {
   "metadata": {
    "ExecuteTime": {
     "end_time": "2025-05-06T03:17:19.681960Z",
     "start_time": "2025-05-06T03:17:19.648711Z"
    }
   },
   "cell_type": "code",
   "source": [
    "import sympy as sp\n",
    "\n",
    "# (a) f(x) = x**3-2*x**2+1\n",
    "x = sp.symbols('x')\n",
    "fx = x**3 - 2*x**2 + 1\n",
    "print(\"f(x) = \", sp.simplify(sp.diff(fx, x, 2)))\n",
    "\n",
    "# (b) g(x) = sinx+ex(x)\n",
    "x = sp.symbols('x')\n",
    "gx = sp.sin(x) + sp.exp(x)\n",
    "print(\"g(x) = \", sp.simplify(sp.diff(gx, x, 2)))"
   ],
   "id": "943f64a1402030b8",
   "outputs": [
    {
     "name": "stdout",
     "output_type": "stream",
     "text": [
      "f(x) =  6*x - 4\n",
      "g(x) =  exp(x) - sin(x)\n"
     ]
    }
   ],
   "execution_count": 8
  },
  {
   "metadata": {},
   "cell_type": "code",
   "outputs": [],
   "execution_count": null,
   "source": [
    "import sympy as sp\n",
    "\n",
    "# (a) f(x) = x**3-2*x**2+1\n",
    "x = sp.symbols('x')\n",
    "fx = x**3 - 2*x**2 + 1\n",
    "print(\"f(x) = \", sp.simplify(sp.diff(fx, x, 3)))\n",
    "\n",
    "# (b) g(x) = sinx+ex(x)\n",
    "x = sp.symbols('x')\n",
    "gx = sp.sin(x) + sp.exp(x)\n",
    "print(\"g(x) = \", sp.simplify(sp.diff(gx, x, 3)))"
   ],
   "id": "14b1f08a75adc17"
  },
  {
   "metadata": {},
   "cell_type": "markdown",
   "source": "### 합성함수",
   "id": "707c793603406b3"
  },
  {
   "metadata": {
    "ExecuteTime": {
     "end_time": "2025-05-06T03:22:31.289706Z",
     "start_time": "2025-05-06T03:22:31.259724Z"
    }
   },
   "cell_type": "code",
   "source": [
    "import sympy as sp\n",
    "\n",
    "# (a) f(x) = (x**2+2)**3\n",
    "x = sp.symbols('x')\n",
    "fx = (x**2 + 2)**3\n",
    "print(\"f(x) = \", sp.simplify(sp.diff(fx, x)))\n",
    "\n",
    "# (b) g(x) = 1/(x**4+1)**2\n",
    "x = sp.symbols('x')\n",
    "gx = 1/(x**4 + 1)**2\n",
    "print(\"g(x) = \", sp.simplify(sp.diff(gx, x)))"
   ],
   "id": "2c71110d2a35834d",
   "outputs": [
    {
     "name": "stdout",
     "output_type": "stream",
     "text": [
      "f(x) =  6*x*(x**2 + 2)**2\n",
      "g(x) =  -8*x**3/(x**4 + 1)**3\n"
     ]
    }
   ],
   "execution_count": 12
  },
  {
   "metadata": {
    "ExecuteTime": {
     "end_time": "2025-05-06T03:23:52.454700Z",
     "start_time": "2025-05-06T03:23:52.411025Z"
    }
   },
   "cell_type": "code",
   "source": [
    "import sympy as sp\n",
    "\n",
    "# (a) f(x) = lg(x**2+4)\n",
    "x = sp.symbols('x')\n",
    "fx = sp.log(x**2 + 4)\n",
    "print(\"f(x) = \", sp.simplify(sp.diff(fx, x)))\n",
    "\n",
    "# (b) g(x) = sin(tan(xx))\n",
    "x = sp.symbols('x')\n",
    "gx = sp.sin(sp.tan(x))\n",
    "print(\"g(x) = \", sp.simplify(sp.diff(gx, x)))"
   ],
   "id": "64236c8f3e1543d3",
   "outputs": [
    {
     "name": "stdout",
     "output_type": "stream",
     "text": [
      "f(x) =  2*x/(x**2 + 4)\n",
      "g(x) =  cos(tan(x))/cos(x)**2\n"
     ]
    }
   ],
   "execution_count": 14
  },
  {
   "metadata": {
    "ExecuteTime": {
     "end_time": "2025-05-06T03:28:13.243167Z",
     "start_time": "2025-05-06T03:28:13.213024Z"
    }
   },
   "cell_type": "code",
   "source": [
    "import sympy as sp\n",
    "\n",
    "# f(x, y) = x**2+2*y**2-x*y-3*x-4*y-5\n",
    "x = sp.symbols('x')\n",
    "y = sp.symbols('y')\n",
    "\n",
    "fxy = x**2 + 2*y**2 - x*y - 3*x - 4*y - 5\n",
    "print(\"f(x, y) = \", sp.simplify(sp.idiff(fxy, y, x)))"
   ],
   "id": "35f5a72bb2154683",
   "outputs": [
    {
     "name": "stdout",
     "output_type": "stream",
     "text": [
      "f(x, y) =  (2*x - y - 3)/(x - 4*y + 4)\n"
     ]
    }
   ],
   "execution_count": 17
  },
  {
   "metadata": {
    "ExecuteTime": {
     "end_time": "2025-05-06T03:51:55.857099Z",
     "start_time": "2025-05-06T03:51:55.555546Z"
    }
   },
   "cell_type": "code",
   "source": [
    "import numpy as np\n",
    "import matplotlib.pyplot as plt\n",
    "\n",
    "def Dpf(F, a, h):\n",
    "    return (F(a+h) - F(a))/h\n",
    "\n",
    "def D0f(F, a, h):\n",
    "    return (F(a+h)-F(a-h))/(2*h)\n",
    "\n",
    "def Dmf(F, a, h):\n",
    "    return (F(a) - F(a-h))/h\n",
    "\n",
    "def f(x):\n",
    "    return np.exp(x)\n",
    "\n",
    "def df(x):\n",
    "    return np.exp(x)\n",
    "\n",
    "a = 2\n",
    "\n",
    "\n",
    "h_list = []\n",
    "fmDpf_list = []\n",
    "fmD0f_list = []\n",
    "fmDmf_list = []\n",
    "\n",
    "for i in range(1, 11):\n",
    "    h = (1.0/2.0)**i\n",
    "    h_list.append(h)\n",
    "\n",
    "    fmDpf = np.abs(df(a)-Dpf(f, a, h))\n",
    "    fmD0f = np.abs(df(a)-D0f(f, a, h))\n",
    "    fmDmf = np.abs(df(a)-Dmf(f, a, h))\n",
    "\n",
    "    fmDpf_list.append(fmDpf)\n",
    "    fmD0f_list.append(fmD0f)\n",
    "    fmDmf_list.append(fmDmf)\n",
    "\n",
    "graph1, = plt.loglog(h_list, fmDpf_list, 'o-')\n",
    "graph2, = plt.loglog(h_list, fmD0f_list, 'o-')\n",
    "graph3, = plt.loglog(h_list, fmDmf_list, 'o-')\n",
    "\n",
    "plt.legend(handles=(graph1, graph2, graph3), labels=('Dpf', 'D0f', 'Dmf'), loc='lower right')\n",
    "plt.show()"
   ],
   "id": "d39f213cc8f3de",
   "outputs": [
    {
     "data": {
      "text/plain": [
       "<Figure size 640x480 with 1 Axes>"
      ],
      "image/png": "[encoded data removed]"
     },
     "metadata": {},
     "output_type": "display_data"
    }
   ],
   "execution_count": 25
  }
 ],
 "metadata": {
  "kernelspec": {
   "display_name": "Python 3",
   "language": "python",
   "name": "python3"
  },
  "language_info": {
   "codemirror_mode": {
    "name": "ipython",
    "version": 2
   },
   "file_extension": ".py",
   "mimetype": "text/x-python",
   "name": "python",
   "nbconvert_exporter": "python",
   "pygments_lexer": "ipython2",
   "version": "2.7.6"
  }
 },
 "nbformat": 4,
 "nbformat_minor": 5
}
