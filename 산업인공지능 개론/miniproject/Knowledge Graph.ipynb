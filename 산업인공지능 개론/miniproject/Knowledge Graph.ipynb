{
 "cells": [
  {
   "cell_type": "markdown",
   "id": "af69a8c3-ca4c-4cda-a096-60f904eef81b",
   "metadata": {},
   "source": [
    "# Knowledge Graph\n",
    "\n",
    "## 산업인공지능학과\n",
    "## 2024254022\n",
    "## 정현일\n",
    "\n"
   ]
  },
  {
   "cell_type": "code",
   "execution_count": null,
   "id": "820df68f-f46d-4033-8fef-df62094c36ad",
   "metadata": {},
   "outputs": [],
   "source": [
    "import re\n",
    "import pandas as pd\n",
    "import bs4\n",
    "import requests\n",
    "import spacy\n",
    "\n",
    "from spacy import displacy\n",
    "nlp = spacy.load('en_core_web_sm')\n",
    "\n",
    "from spacy.matcher import Matcher\n",
    "from spacy.tokens import Span\n",
    "\n",
    "import networkx as nx\n",
    "\n",
    "import matplotlib.pyplot as plt\n",
    "from tqdm import tqdm\n",
    "\n",
    "\n",
    "pd.set_option('display.max_colwidth', 200)\n",
    "%matplotlib inline\n",
    "\n",
    "\n",
    "candidate_sentences = pd.read_csv('wiki_sentences_v2.csv')\n",
    "print(candidate_sentences.shape)\n",
    "print(candidate_sentences)"
   ]
  },
  {
   "cell_type": "code",
   "execution_count": null,
   "id": "a2902aa6-8a97-41b8-83b5-9110c1da4de3",
   "metadata": {},
   "outputs": [],
   "source": [
    "entiry_pairs = []"
   ]
  },
  {
   "cell_type": "code",
   "execution_count": null,
   "id": "726531fa-fa13-48bc-9c85-bf977e504d82",
   "metadata": {},
   "outputs": [],
   "source": [
    "\n",
    "def get_entities(sent):\n",
    "    ent1 = \"\"\n",
    "    ent2 = \"\"\n",
    "    prv_tok_dep = \"\"\n",
    "    prv_tok_text = \"\"\n",
    "    prefix = \"\"\n",
    "    modifier = \"\"\n",
    "    for tok in nlp(sent):\n",
    "        # 토큰이 구두점(punctuation mark)이면 다음 토큰으로 이동\n",
    "        if tok.dep_ != \"punct\":\n",
    "            if tok.dep_ == \"compound\": # 토큰이 복합어인 경우\n",
    "                prefix = tok.text\n",
    "                if prv_tok_dep == \"compound\": # 직전 토큰이 복합어이면 현재 토큰과 결합\n",
    "                    prefix = prv_tok_text + \" \" + tok.text\n",
    "            if tok.dep_.endswith(\"mod\") == True: # 토큰이 수식어(modifier)인 경우\n",
    "                modifier = tok.text\n",
    "                if prv_tok_dep == \"compound\": # 직전 톸ㄴ이 수식어이면 현재 토큰을 결합\n",
    "                    modifier = prv_tok_text + \" \" + tok.text\n",
    "            \n",
    "            if tok.dep_.find(\"subj\") == True: # 주어(subject)인 경우,\n",
    "                ent1 = modifier + \" \" + prefix + \" \" + tok.text # 수식어와 현재 토큰 결합 => 개체명 생성\n",
    "                prefix = \"\"\n",
    "                modifier = \"\"\n",
    "                prv_tok_dep = \"\"\n",
    "                prv_tok_text = \"\"\n",
    "            if tok.dep_.find(\"obj\") == True: # 목적어인 경우\n",
    "                ent2 = modifier + \" \" + prefix + \" \" + tok.text # 수식어와 현재 토큰 결합 => 객채명 생성\n",
    "                \n",
    "            prv_tok_dep = tok.dep_\n",
    "            prv_tok_text = tok.text\n",
    "    return [ent1.strip(), ent2.strip()] # 식별된 개체명 반환\n",
    "\n",
    "\n",
    "\n",
    "\n",
    "def get_relation(sent):\n",
    "    doc = nlp(sent)\n",
    "    matcher = Matcher(nlp.vocab)\n",
    "    \n",
    "    # 패턴 정의\n",
    "    pattern = [{'DEP' : 'ROOT'},\n",
    "               {'DEP' : 'prep', 'OP' : \"?\"},\n",
    "               {'DEP' : 'agnet', 'OP' : \"?\"},\n",
    "               {'POS' : 'ADJ', 'OP' : \"?\"}]\n",
    "\n",
    "    matcher.add('matching_1', [pattern])\n",
    "    \n",
    "    matches = matcher(doc)\n",
    "    print('matches : ', matches)\n",
    "    k = len(matches) - 1 \n",
    "    \n",
    "    span = doc[matches[k][1]:matches[k][2]]\n",
    "\n",
    "    return(span.text)"
   ]
  },
  {
   "cell_type": "code",
   "execution_count": null,
   "id": "459f92a6-7363-4931-8e22-a29e2197a979",
   "metadata": {},
   "outputs": [],
   "source": []
  }
 ],
 "metadata": {
  "kernelspec": {
   "display_name": "Python 3 (ipykernel)",
   "language": "python",
   "name": "python3"
  },
  "language_info": {
   "name": ""
  }
 },
 "nbformat": 4,
 "nbformat_minor": 5
}
