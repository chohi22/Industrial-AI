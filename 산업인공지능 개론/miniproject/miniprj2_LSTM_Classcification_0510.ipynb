{
 "cells": [
  {
   "cell_type": "markdown",
   "id": "91caffc3-e710-4bfd-a855-308ef3bb3b7a",
   "metadata": {},
   "source": [
    "## 신경망 "
   ]
  },
  {
   "cell_type": "markdown",
   "id": "35b58bb9-8b18-4d78-b125-52c1acb8aa4e",
   "metadata": {},
   "source": [
    "## 필요한 라이브러리 임포트\n",
    "\n",
    "- pandas는 데이터를 로드하고 처리하는 데 사용\n",
    "- tensorflow.keras는 모델 구축 및 훈련을 위한 함수와 클래스 사용\n",
    "- sklearn은 데이터 분할과 레이블 인코딩"
   ]
  },
  {
   "cell_type": "code",
   "execution_count": 1,
   "id": "941474fa-13a8-4cbd-a321-9f86073ae666",
   "metadata": {},
   "outputs": [],
   "source": [
    "import pandas as pd\n",
    "from tensorflow.keras.models import Sequential\n",
    "from tensorflow.keras.layers import Embedding, LSTM, Dense\n",
    "from tensorflow.keras.preprocessing.text import Tokenizer\n",
    "from tensorflow.keras.preprocessing.sequence import pad_sequences\n",
    "from sklearn.model_selection import train_test_split\n",
    "from sklearn.preprocessing import LabelEncoder\n"
   ]
  },
  {
   "cell_type": "markdown",
   "id": "6a0b7d5c-2eee-4029-9119-26a819316a91",
   "metadata": {},
   "source": [
    "## 데이터 로딩 및 전처리\n",
    "- 엑셀 파일에서 데이터를 로드하고, 텍스트 데이터와 레이블을 준비"
   ]
  },
  {
   "cell_type": "code",
   "execution_count": 2,
   "id": "fde9b4ad-7b12-487f-a66b-b5fa30f1b43b",
   "metadata": {},
   "outputs": [
    {
     "data": {
      "text/plain": [
       "(0        (공동주택 수의계약정보)공동주택관리시스템에 축적된 공동주택별 공동주택위탁관리, 공사...\n",
       " 1                             JDC지정면세점_입점업체 정보(2002-2015년)\n",
       " 2        ※ 한국부동산원에서는 '부동산통계정보시스템(R-ONE)' 고도화로 인해 해당 API...\n",
       " 3        기준년도, 전년도, 전전년도(총계 금액, 총계 면적, 협의취득 금액, 협의취득 면적...\n",
       " 4        소관부처명, 사업기관조직코드, 토지면적(기준년도, 전년도, 전전년도), 토지금액(기...\n",
       "                                ...                        \n",
       " 23674                   통계청(KOSIS)에서 제공하는 교통문화지수(시도/시/군/구)\n",
       " 23675         통계청(KOSIS)에서 제공하는 자동차 천대당 교통사고발생건수(시도/시/군/구)\n",
       " 23676             통계청(KOSIS)에서 제공하는 1인당 자동차 등록대수(시도/시/군/구)\n",
       " 23677                    통계청(KOSIS)에서 제공하는 지가변동률(시도/시/군/구)\n",
       " 23678                        일간 수집된 교통 데이터의 노선, 정류장 별 이용통계\n",
       " Name: 설명, Length: 23679, dtype: object,\n",
       " 0        국토도시\n",
       " 1        국토도시\n",
       " 2          일반\n",
       " 3        교통물류\n",
       " 4        교통물류\n",
       "          ... \n",
       " 23674    국토도시\n",
       " 23675    국토도시\n",
       " 23676    국토도시\n",
       " 23677    국토도시\n",
       " 23678    국토도시\n",
       " Name: 카테고리, Length: 23679, dtype: object)"
      ]
     },
     "execution_count": 2,
     "metadata": {},
     "output_type": "execute_result"
    }
   ],
   "source": [
    "# 엑셀 파일 로딩\n",
    "file_path = 'molit.xlsx'\n",
    "data = pd.read_excel(file_path)\n",
    "\n",
    "# 설명 컬럼과 레이블 컬럼 선택\n",
    "texts = data['설명'].astype(str)  # 설명 컬럼\n",
    "labels = data['카테고리']  # 카테고리 레이블\n",
    "\n",
    "texts, labels"
   ]
  },
  {
   "cell_type": "markdown",
   "id": "765b7fe7-348e-4da9-97a1-fa510d7ce0bf",
   "metadata": {},
   "source": [
    "## 데이터 로딩 및 전처리\n",
    "### 텍스트 토큰화 및 시퀀스 패딩\n",
    "- Tokenizer는 텍스트를 정수 시퀀스로 변환\n",
    "- pad_sequences는 모든 시퀀스를 같은 길이로 맞추기 위해 패딩을 추가"
   ]
  },
  {
   "cell_type": "code",
   "execution_count": 3,
   "id": "de6706ef-3d3c-48d7-a7ef-991766fb57cb",
   "metadata": {},
   "outputs": [],
   "source": [
    "# 텍스트 토큰화 및 시퀀스 변환\n",
    "tokenizer = Tokenizer(num_words=10000)\n",
    "tokenizer.fit_on_texts(texts)\n",
    "sequences = tokenizer.texts_to_sequences(texts)\n",
    "padded_sequences = pad_sequences(sequences, maxlen=100)\n",
    "\n",
    "# 레이블 인코딩\n",
    "encoder = LabelEncoder()\n",
    "encoded_labels = encoder.fit_transform(labels)\n",
    "\n",
    "# 훈련 데이터와 테스트 데이터 분리\n",
    "X_train, X_test, y_train, y_test = \\\n",
    "    train_test_split(padded_sequences, encoded_labels, test_size=0.2, random_state=42)"
   ]
  },
  {
   "cell_type": "markdown",
   "id": "872819b5-35b6-4168-a520-e4d8d313343b",
   "metadata": {},
   "source": [
    "## 모델 구축\n",
    "- Embedding 레이어는 단어를 밀집 벡터로 매핑\n",
    "- LSTM 레이어는 시퀀스 데이터의 특성을 학습\n",
    "- Dense 레이어는 최종 출력을 클래스 수에 맞춰 예측"
   ]
  },
  {
   "cell_type": "code",
   "execution_count": 4,
   "id": "d2ef44bc-aa53-4d5c-b1c4-654196a03da7",
   "metadata": {},
   "outputs": [
    {
     "data": {
      "text/plain": [
       "<Sequential name=sequential, built=False>"
      ]
     },
     "execution_count": 4,
     "metadata": {},
     "output_type": "execute_result"
    }
   ],
   "source": [
    "model = Sequential([\n",
    "    Embedding(10000, 128),\n",
    "    LSTM(64),\n",
    "    Dense(len(encoder.classes_), activation='softmax')\n",
    "])\n",
    "\n",
    "model"
   ]
  },
  {
   "cell_type": "markdown",
   "id": "556856fc-0dae-44a3-8b4f-5265d8647b86",
   "metadata": {},
   "source": [
    "## 모델 컴파일\n",
    "- compile 메서드는 학습을 위한 설정하고, adam optimizer와 크로스 엔트로피 손실 함수를 사용"
   ]
  },
  {
   "cell_type": "code",
   "execution_count": 5,
   "id": "8e665b9b-1ea4-446d-ad14-ee4c5b8606be",
   "metadata": {},
   "outputs": [
    {
     "data": {
      "text/plain": [
       "<Sequential name=sequential, built=False>"
      ]
     },
     "execution_count": 5,
     "metadata": {},
     "output_type": "execute_result"
    }
   ],
   "source": [
    "model.compile(optimizer='adam', loss='sparse_categorical_crossentropy', metrics=['accuracy'])\n",
    "\n",
    "model"
   ]
  },
  {
   "cell_type": "markdown",
   "id": "e7983603-af7d-433e-9764-2681c0b036eb",
   "metadata": {},
   "source": [
    "## 모델 훈련"
   ]
  },
  {
   "cell_type": "code",
   "execution_count": 6,
   "id": "b1e276ca-2c82-41cb-9034-fa804f901393",
   "metadata": {},
   "outputs": [
    {
     "name": "stdout",
     "output_type": "stream",
     "text": [
      "Epoch 1/20\n",
      "\u001b[1m296/296\u001b[0m \u001b[32m━━━━━━━━━━━━━━━━━━━━\u001b[0m\u001b[37m\u001b[0m \u001b[1m14s\u001b[0m 46ms/step - accuracy: 0.6646 - loss: 1.1051 - val_accuracy: 0.8932 - val_loss: 0.3460\n",
      "Epoch 2/20\n",
      "\u001b[1m296/296\u001b[0m \u001b[32m━━━━━━━━━━━━━━━━━━━━\u001b[0m\u001b[37m\u001b[0m \u001b[1m14s\u001b[0m 46ms/step - accuracy: 0.9154 - loss: 0.2729 - val_accuracy: 0.9179 - val_loss: 0.2690\n",
      "Epoch 3/20\n",
      "\u001b[1m296/296\u001b[0m \u001b[32m━━━━━━━━━━━━━━━━━━━━\u001b[0m\u001b[37m\u001b[0m \u001b[1m14s\u001b[0m 46ms/step - accuracy: 0.9508 - loss: 0.1619 - val_accuracy: 0.9244 - val_loss: 0.2563\n",
      "Epoch 4/20\n",
      "\u001b[1m296/296\u001b[0m \u001b[32m━━━━━━━━━━━━━━━━━━━━\u001b[0m\u001b[37m\u001b[0m \u001b[1m14s\u001b[0m 46ms/step - accuracy: 0.9682 - loss: 0.1138 - val_accuracy: 0.9267 - val_loss: 0.2740\n",
      "Epoch 5/20\n",
      "\u001b[1m296/296\u001b[0m \u001b[32m━━━━━━━━━━━━━━━━━━━━\u001b[0m\u001b[37m\u001b[0m \u001b[1m14s\u001b[0m 46ms/step - accuracy: 0.9759 - loss: 0.0809 - val_accuracy: 0.9286 - val_loss: 0.2902\n",
      "Epoch 6/20\n",
      "\u001b[1m296/296\u001b[0m \u001b[32m━━━━━━━━━━━━━━━━━━━━\u001b[0m\u001b[37m\u001b[0m \u001b[1m14s\u001b[0m 47ms/step - accuracy: 0.9813 - loss: 0.0637 - val_accuracy: 0.9227 - val_loss: 0.3134\n",
      "Epoch 7/20\n",
      "\u001b[1m296/296\u001b[0m \u001b[32m━━━━━━━━━━━━━━━━━━━━\u001b[0m\u001b[37m\u001b[0m \u001b[1m14s\u001b[0m 48ms/step - accuracy: 0.9818 - loss: 0.0590 - val_accuracy: 0.9282 - val_loss: 0.2824\n",
      "Epoch 8/20\n",
      "\u001b[1m296/296\u001b[0m \u001b[32m━━━━━━━━━━━━━━━━━━━━\u001b[0m\u001b[37m\u001b[0m \u001b[1m15s\u001b[0m 50ms/step - accuracy: 0.9819 - loss: 0.0542 - val_accuracy: 0.9278 - val_loss: 0.3263\n",
      "Epoch 9/20\n",
      "\u001b[1m296/296\u001b[0m \u001b[32m━━━━━━━━━━━━━━━━━━━━\u001b[0m\u001b[37m\u001b[0m \u001b[1m15s\u001b[0m 50ms/step - accuracy: 0.9838 - loss: 0.0506 - val_accuracy: 0.9229 - val_loss: 0.3353\n",
      "Epoch 10/20\n",
      "\u001b[1m296/296\u001b[0m \u001b[32m━━━━━━━━━━━━━━━━━━━━\u001b[0m\u001b[37m\u001b[0m \u001b[1m15s\u001b[0m 51ms/step - accuracy: 0.9825 - loss: 0.0522 - val_accuracy: 0.9259 - val_loss: 0.3339\n",
      "Epoch 11/20\n",
      "\u001b[1m296/296\u001b[0m \u001b[32m━━━━━━━━━━━━━━━━━━━━\u001b[0m\u001b[37m\u001b[0m \u001b[1m14s\u001b[0m 48ms/step - accuracy: 0.9837 - loss: 0.0497 - val_accuracy: 0.9244 - val_loss: 0.3597\n",
      "Epoch 12/20\n",
      "\u001b[1m296/296\u001b[0m \u001b[32m━━━━━━━━━━━━━━━━━━━━\u001b[0m\u001b[37m\u001b[0m \u001b[1m15s\u001b[0m 49ms/step - accuracy: 0.9861 - loss: 0.0465 - val_accuracy: 0.9265 - val_loss: 0.3729\n",
      "Epoch 13/20\n",
      "\u001b[1m296/296\u001b[0m \u001b[32m━━━━━━━━━━━━━━━━━━━━\u001b[0m\u001b[37m\u001b[0m \u001b[1m16s\u001b[0m 53ms/step - accuracy: 0.9861 - loss: 0.0417 - val_accuracy: 0.9255 - val_loss: 0.3723\n",
      "Epoch 14/20\n",
      "\u001b[1m296/296\u001b[0m \u001b[32m━━━━━━━━━━━━━━━━━━━━\u001b[0m\u001b[37m\u001b[0m \u001b[1m16s\u001b[0m 53ms/step - accuracy: 0.9855 - loss: 0.0436 - val_accuracy: 0.9250 - val_loss: 0.3701\n",
      "Epoch 15/20\n",
      "\u001b[1m296/296\u001b[0m \u001b[32m━━━━━━━━━━━━━━━━━━━━\u001b[0m\u001b[37m\u001b[0m \u001b[1m18s\u001b[0m 59ms/step - accuracy: 0.9859 - loss: 0.0392 - val_accuracy: 0.9250 - val_loss: 0.3910\n",
      "Epoch 16/20\n",
      "\u001b[1m296/296\u001b[0m \u001b[32m━━━━━━━━━━━━━━━━━━━━\u001b[0m\u001b[37m\u001b[0m \u001b[1m17s\u001b[0m 58ms/step - accuracy: 0.9866 - loss: 0.0393 - val_accuracy: 0.9267 - val_loss: 0.3869\n",
      "Epoch 17/20\n",
      "\u001b[1m296/296\u001b[0m \u001b[32m━━━━━━━━━━━━━━━━━━━━\u001b[0m\u001b[37m\u001b[0m \u001b[1m18s\u001b[0m 61ms/step - accuracy: 0.9878 - loss: 0.0370 - val_accuracy: 0.9276 - val_loss: 0.3911\n",
      "Epoch 18/20\n",
      "\u001b[1m296/296\u001b[0m \u001b[32m━━━━━━━━━━━━━━━━━━━━\u001b[0m\u001b[37m\u001b[0m \u001b[1m18s\u001b[0m 62ms/step - accuracy: 0.9865 - loss: 0.0385 - val_accuracy: 0.9272 - val_loss: 0.3989\n",
      "Epoch 19/20\n",
      "\u001b[1m296/296\u001b[0m \u001b[32m━━━━━━━━━━━━━━━━━━━━\u001b[0m\u001b[37m\u001b[0m \u001b[1m19s\u001b[0m 65ms/step - accuracy: 0.9860 - loss: 0.0392 - val_accuracy: 0.9255 - val_loss: 0.4125\n",
      "Epoch 20/20\n",
      "\u001b[1m296/296\u001b[0m \u001b[32m━━━━━━━━━━━━━━━━━━━━\u001b[0m\u001b[37m\u001b[0m \u001b[1m16s\u001b[0m 54ms/step - accuracy: 0.9859 - loss: 0.0418 - val_accuracy: 0.9221 - val_loss: 0.4058\n"
     ]
    }
   ],
   "source": [
    "history = model.fit(X_train, y_train, batch_size=64, epochs=20, validation_data=(X_test, y_test))\n"
   ]
  },
  {
   "cell_type": "code",
   "execution_count": 7,
   "id": "6e54180e-9d9c-43a1-9701-f7d2ab44acd2",
   "metadata": {},
   "outputs": [
    {
     "data": {
      "text/plain": [
       "[<matplotlib.lines.Line2D at 0x3114dd8d0>]"
      ]
     },
     "execution_count": 7,
     "metadata": {},
     "output_type": "execute_result"
    },
    {
     "data": {
      "image/png": "[encoded data removed]",
      "text/plain": [
       "<Figure size 640x480 with 1 Axes>"
      ]
     },
     "metadata": {},
     "output_type": "display_data"
    }
   ],
   "source": [
    "import matplotlib.pyplot as plt\n",
    "\n",
    "plt.plot(history.history['loss'])\n",
    "plt.plot(history.history['val_loss'])"
   ]
  },
  {
   "cell_type": "code",
   "execution_count": 8,
   "id": "6bae08be-eaf5-4594-a363-a26151c8819c",
   "metadata": {},
   "outputs": [
    {
     "data": {
      "text/plain": [
       "[<matplotlib.lines.Line2D at 0x31234dd90>]"
      ]
     },
     "execution_count": 8,
     "metadata": {},
     "output_type": "execute_result"
    },
    {
     "data": {
      "image/png": "[encoded data removed]",
      "text/plain": [
       "<Figure size 640x480 with 1 Axes>"
      ]
     },
     "metadata": {},
     "output_type": "display_data"
    }
   ],
   "source": [
    "plt.plot(history.history['accuracy'])\n",
    "plt.plot(history.history['val_accuracy'])"
   ]
  },
  {
   "cell_type": "markdown",
   "id": "352f7a17-62a0-4dfb-bf43-5c320dff45bf",
   "metadata": {},
   "source": [
    "## 모델 저장 "
   ]
  },
  {
   "cell_type": "code",
   "execution_count": 9,
   "id": "6a6fa3c3-ecc6-4ff2-8771-ea5c34f6f5b3",
   "metadata": {},
   "outputs": [
    {
     "name": "stderr",
     "output_type": "stream",
     "text": [
      "WARNING:absl:You are saving your model as an HDF5 file via `model.save()` or `keras.saving.save_model(model)`. This file format is considered legacy. We recommend using instead the native Keras format, e.g. `model.save('my_model.keras')` or `keras.saving.save_model(model, 'my_model.keras')`. \n"
     ]
    }
   ],
   "source": [
    "model.save('text_classification_model.h5')\n"
   ]
  },
  {
   "cell_type": "markdown",
   "id": "4d23137e-7889-4458-9349-6c20d1ab701b",
   "metadata": {},
   "source": [
    "## 예측"
   ]
  },
  {
   "cell_type": "code",
   "execution_count": 10,
   "id": "115151b2-3db2-4d3c-a8d3-c0c81c2d3e4d",
   "metadata": {},
   "outputs": [
    {
     "name": "stdout",
     "output_type": "stream",
     "text": [
      "\u001b[1m148/148\u001b[0m \u001b[32m━━━━━━━━━━━━━━━━━━━━\u001b[0m\u001b[37m\u001b[0m \u001b[1m1s\u001b[0m 8ms/step\n"
     ]
    },
    {
     "data": {
      "text/plain": [
       "(array([[3.51765323e-07, 4.98391910e-06, 9.99990821e-01, ...,\n",
       "         4.90423929e-07, 1.16870513e-06, 3.91074622e-07],\n",
       "        [1.48307151e-06, 1.07171422e-06, 9.99993324e-01, ...,\n",
       "         4.13913853e-07, 4.02082605e-07, 2.90169083e-07],\n",
       "        [7.55402880e-07, 2.76824579e-07, 1.15332746e-07, ...,\n",
       "         4.03122101e-07, 8.04919353e-07, 3.51846182e-07],\n",
       "        ...,\n",
       "        [8.56816471e-01, 8.04229348e-04, 4.62381169e-03, ...,\n",
       "         2.13131271e-02, 1.10587385e-02, 4.24340600e-03],\n",
       "        [2.07218008e-07, 5.29585463e-07, 9.99998569e-01, ...,\n",
       "         8.54255262e-08, 2.08635015e-07, 5.55250352e-08],\n",
       "        [1.96408223e-07, 9.47954277e-07, 9.99997973e-01, ...,\n",
       "         4.85765810e-08, 3.17083106e-07, 7.18309892e-08]], dtype=float32),\n",
       " array(['국토도시', '국토도시', '도로철도', ..., '건설', '국토도시', '국토도시'], dtype=object))"
      ]
     },
     "execution_count": 10,
     "metadata": {},
     "output_type": "execute_result"
    }
   ],
   "source": [
    "predictions = model.predict(X_test)\n",
    "predicted_categories = encoder.inverse_transform(predictions.argmax(axis=1))\n",
    "\n",
    "predictions, predicted_categories"
   ]
  },
  {
   "cell_type": "markdown",
   "id": "39c7fe6f-89f2-4369-96c0-6b18009c1636",
   "metadata": {},
   "source": [
    "## 모델 평가"
   ]
  },
  {
   "cell_type": "code",
   "execution_count": 11,
   "id": "b4741208-144b-4251-be16-f684fd071a34",
   "metadata": {},
   "outputs": [
    {
     "name": "stdout",
     "output_type": "stream",
     "text": [
      "\u001b[1m148/148\u001b[0m \u001b[32m━━━━━━━━━━━━━━━━━━━━\u001b[0m\u001b[37m\u001b[0m \u001b[1m1s\u001b[0m 8ms/step - accuracy: 0.9147 - loss: 0.4585\n",
      "Test Accuracy: 92.21%\n"
     ]
    }
   ],
   "source": [
    "# 모델 평가\n",
    "loss, accuracy = model.evaluate(X_test, y_test)\n",
    "print(f\"Test Accuracy: {accuracy * 100:.2f}%\")\n"
   ]
  },
  {
   "cell_type": "markdown",
   "id": "15b39eaa-0cb7-4891-9fbf-1b46fee06341",
   "metadata": {},
   "source": [
    "## 실제 예측값 비교"
   ]
  },
  {
   "cell_type": "code",
   "execution_count": 12,
   "id": "584ca426-e607-4aa0-b9f7-8968bc6e9af9",
   "metadata": {},
   "outputs": [
    {
     "name": "stdout",
     "output_type": "stream",
     "text": [
      "              precision    recall  f1-score   support\n",
      "\n",
      "          건설       0.92      0.89      0.90       206\n",
      "        교통물류       0.90      0.82      0.86       673\n",
      "        국토도시       0.95      0.98      0.96      2443\n",
      "        도로철도       0.93      0.89      0.91       650\n",
      "      융합(기타)       0.85      0.72      0.78        32\n",
      "          일반       0.80      0.86      0.83       333\n",
      "        주택토지       0.95      0.91      0.93       353\n",
      "          항공       0.64      0.83      0.72        46\n",
      "\n",
      "    accuracy                           0.92      4736\n",
      "   macro avg       0.87      0.86      0.86      4736\n",
      "weighted avg       0.92      0.92      0.92      4736\n",
      "\n"
     ]
    },
    {
     "data": {
      "text/html": [
       "<div>\n",
       "<style scoped>\n",
       "    .dataframe tbody tr th:only-of-type {\n",
       "        vertical-align: middle;\n",
       "    }\n",
       "\n",
       "    .dataframe tbody tr th {\n",
       "        vertical-align: top;\n",
       "    }\n",
       "\n",
       "    .dataframe thead th {\n",
       "        text-align: right;\n",
       "    }\n",
       "</style>\n",
       "<table border=\"1\" class=\"dataframe\">\n",
       "  <thead>\n",
       "    <tr style=\"text-align: right;\">\n",
       "      <th>col_0</th>\n",
       "      <th>건설</th>\n",
       "      <th>교통물류</th>\n",
       "      <th>국토도시</th>\n",
       "      <th>도로철도</th>\n",
       "      <th>융합(기타)</th>\n",
       "      <th>일반</th>\n",
       "      <th>주택토지</th>\n",
       "      <th>항공</th>\n",
       "    </tr>\n",
       "    <tr>\n",
       "      <th>row_0</th>\n",
       "      <th></th>\n",
       "      <th></th>\n",
       "      <th></th>\n",
       "      <th></th>\n",
       "      <th></th>\n",
       "      <th></th>\n",
       "      <th></th>\n",
       "      <th></th>\n",
       "    </tr>\n",
       "  </thead>\n",
       "  <tbody>\n",
       "    <tr>\n",
       "      <th>0</th>\n",
       "      <td>183</td>\n",
       "      <td>3</td>\n",
       "      <td>11</td>\n",
       "      <td>2</td>\n",
       "      <td>0</td>\n",
       "      <td>4</td>\n",
       "      <td>1</td>\n",
       "      <td>2</td>\n",
       "    </tr>\n",
       "    <tr>\n",
       "      <th>1</th>\n",
       "      <td>2</td>\n",
       "      <td>552</td>\n",
       "      <td>50</td>\n",
       "      <td>26</td>\n",
       "      <td>1</td>\n",
       "      <td>28</td>\n",
       "      <td>4</td>\n",
       "      <td>10</td>\n",
       "    </tr>\n",
       "    <tr>\n",
       "      <th>2</th>\n",
       "      <td>1</td>\n",
       "      <td>21</td>\n",
       "      <td>2387</td>\n",
       "      <td>10</td>\n",
       "      <td>1</td>\n",
       "      <td>16</td>\n",
       "      <td>5</td>\n",
       "      <td>2</td>\n",
       "    </tr>\n",
       "    <tr>\n",
       "      <th>3</th>\n",
       "      <td>4</td>\n",
       "      <td>28</td>\n",
       "      <td>23</td>\n",
       "      <td>577</td>\n",
       "      <td>0</td>\n",
       "      <td>12</td>\n",
       "      <td>2</td>\n",
       "      <td>4</td>\n",
       "    </tr>\n",
       "    <tr>\n",
       "      <th>4</th>\n",
       "      <td>0</td>\n",
       "      <td>0</td>\n",
       "      <td>7</td>\n",
       "      <td>0</td>\n",
       "      <td>23</td>\n",
       "      <td>2</td>\n",
       "      <td>0</td>\n",
       "      <td>0</td>\n",
       "    </tr>\n",
       "    <tr>\n",
       "      <th>5</th>\n",
       "      <td>7</td>\n",
       "      <td>6</td>\n",
       "      <td>27</td>\n",
       "      <td>1</td>\n",
       "      <td>2</td>\n",
       "      <td>285</td>\n",
       "      <td>3</td>\n",
       "      <td>2</td>\n",
       "    </tr>\n",
       "    <tr>\n",
       "      <th>6</th>\n",
       "      <td>2</td>\n",
       "      <td>3</td>\n",
       "      <td>14</td>\n",
       "      <td>3</td>\n",
       "      <td>0</td>\n",
       "      <td>8</td>\n",
       "      <td>322</td>\n",
       "      <td>1</td>\n",
       "    </tr>\n",
       "    <tr>\n",
       "      <th>7</th>\n",
       "      <td>0</td>\n",
       "      <td>2</td>\n",
       "      <td>4</td>\n",
       "      <td>1</td>\n",
       "      <td>0</td>\n",
       "      <td>0</td>\n",
       "      <td>1</td>\n",
       "      <td>38</td>\n",
       "    </tr>\n",
       "  </tbody>\n",
       "</table>\n",
       "</div>"
      ],
      "text/plain": [
       "col_0   건설  교통물류  국토도시  도로철도  융합(기타)   일반  주택토지  항공\n",
       "row_0                                              \n",
       "0      183     3    11     2       0    4     1   2\n",
       "1        2   552    50    26       1   28     4  10\n",
       "2        1    21  2387    10       1   16     5   2\n",
       "3        4    28    23   577       0   12     2   4\n",
       "4        0     0     7     0      23    2     0   0\n",
       "5        7     6    27     1       2  285     3   2\n",
       "6        2     3    14     3       0    8   322   1\n",
       "7        0     2     4     1       0    0     1  38"
      ]
     },
     "execution_count": 12,
     "metadata": {},
     "output_type": "execute_result"
    }
   ],
   "source": [
    "from sklearn.metrics import classification_report, confusion_matrix\n",
    "\n",
    "# 예측\n",
    "#predictions = model.predict(X_test)\n",
    "predicted_classes = predictions.argmax(axis=1)\n",
    "\n",
    "# 인코더의 classes_ 속성을 사용하여 실제 클래스 이름을 가져옵니다.\n",
    "class_labels = encoder.classes_\n",
    "\n",
    "# 분류 보고서\n",
    "print(classification_report(y_test, predicted_classes, target_names=class_labels))\n",
    "pd.crosstab(y_test, predicted_categories)"
   ]
  }
 ],
 "metadata": {
  "kernelspec": {
   "display_name": "Python 3 (ipykernel)",
   "language": "python",
   "name": "python3"
  },
  "language_info": {
   "codemirror_mode": {
    "name": "ipython",
    "version": 3
   },
   "file_extension": ".py",
   "mimetype": "text/x-python",
   "name": "python",
   "nbconvert_exporter": "python",
   "pygments_lexer": "ipython3",
   "version": "3.11.7"
  }
 },
 "nbformat": 4,
 "nbformat_minor": 5
}
