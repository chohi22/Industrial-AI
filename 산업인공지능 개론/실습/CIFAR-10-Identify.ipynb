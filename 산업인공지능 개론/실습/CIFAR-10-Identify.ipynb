{
 "cells": [
  {
   "cell_type": "markdown",
   "id": "08d7daf6-e867-499a-9a52-78ea456d4166",
   "metadata": {},
   "source": [
    "# CIFAR10 데이터 인식 실습\n",
    "- 3채널의 32x32 크기 10종의 이미지 데이터\n",
    "- ‘airplane’, ‘automobile’, ‘bird’, ‘cat’, ‘deer’, ‘dog’, ‘frog’, ‘horse’, ‘ship’, ‘truck’ 분류"
   ]
  },
  {
   "cell_type": "code",
   "execution_count": 4,
   "id": "1dcd2a91-92ea-4cca-87ad-577ab0d79577",
   "metadata": {},
   "outputs": [
    {
     "name": "stdout",
     "output_type": "stream",
     "text": [
      "Collecting torchvision\n",
      "  Downloading torchvision-0.18.0-cp310-cp310-manylinux1_x86_64.whl (7.0 MB)\n",
      "\u001b[2K     \u001b[90m━━━━━━━━━━━━━━━━━━━━━━━━━━━━━━━━━━━━━━━━\u001b[0m \u001b[32m7.0/7.0 MB\u001b[0m \u001b[31m12.0 MB/s\u001b[0m eta \u001b[36m0:00:00\u001b[0m00:01\u001b[0m00:01\u001b[0m\n",
      "\u001b[?25hRequirement already satisfied: torch==2.3.0 in /home/chohi/.venv/lib/python3.10/site-packages (from torchvision) (2.3.0)\n",
      "Requirement already satisfied: pillow!=8.3.*,>=5.3.0 in /home/chohi/.venv/lib/python3.10/site-packages (from torchvision) (10.3.0)\n",
      "Requirement already satisfied: numpy in /home/chohi/.venv/lib/python3.10/site-packages (from torchvision) (1.26.4)\n",
      "Requirement already satisfied: nvidia-nccl-cu12==2.20.5 in /home/chohi/.venv/lib/python3.10/site-packages (from torch==2.3.0->torchvision) (2.20.5)\n",
      "Requirement already satisfied: nvidia-cusolver-cu12==11.4.5.107 in /home/chohi/.venv/lib/python3.10/site-packages (from torch==2.3.0->torchvision) (11.4.5.107)\n",
      "Requirement already satisfied: filelock in /home/chohi/.venv/lib/python3.10/site-packages (from torch==2.3.0->torchvision) (3.14.0)\n",
      "Requirement already satisfied: networkx in /home/chohi/.venv/lib/python3.10/site-packages (from torch==2.3.0->torchvision) (3.3)\n",
      "Requirement already satisfied: nvidia-cudnn-cu12==8.9.2.26 in /home/chohi/.venv/lib/python3.10/site-packages (from torch==2.3.0->torchvision) (8.9.2.26)\n",
      "Requirement already satisfied: sympy in /home/chohi/.venv/lib/python3.10/site-packages (from torch==2.3.0->torchvision) (1.12)\n",
      "Requirement already satisfied: fsspec in /home/chohi/.venv/lib/python3.10/site-packages (from torch==2.3.0->torchvision) (2024.3.1)\n",
      "Requirement already satisfied: nvidia-cublas-cu12==12.1.3.1 in /home/chohi/.venv/lib/python3.10/site-packages (from torch==2.3.0->torchvision) (12.1.3.1)\n",
      "Requirement already satisfied: nvidia-cufft-cu12==11.0.2.54 in /home/chohi/.venv/lib/python3.10/site-packages (from torch==2.3.0->torchvision) (11.0.2.54)\n",
      "Requirement already satisfied: nvidia-curand-cu12==10.3.2.106 in /home/chohi/.venv/lib/python3.10/site-packages (from torch==2.3.0->torchvision) (10.3.2.106)\n",
      "Requirement already satisfied: triton==2.3.0 in /home/chohi/.venv/lib/python3.10/site-packages (from torch==2.3.0->torchvision) (2.3.0)\n",
      "Requirement already satisfied: typing-extensions>=4.8.0 in /home/chohi/.venv/lib/python3.10/site-packages (from torch==2.3.0->torchvision) (4.11.0)\n",
      "Requirement already satisfied: nvidia-cuda-cupti-cu12==12.1.105 in /home/chohi/.venv/lib/python3.10/site-packages (from torch==2.3.0->torchvision) (12.1.105)\n",
      "Requirement already satisfied: jinja2 in /home/chohi/.venv/lib/python3.10/site-packages (from torch==2.3.0->torchvision) (3.1.4)\n",
      "Requirement already satisfied: nvidia-cusparse-cu12==12.1.0.106 in /home/chohi/.venv/lib/python3.10/site-packages (from torch==2.3.0->torchvision) (12.1.0.106)\n",
      "Requirement already satisfied: nvidia-nvtx-cu12==12.1.105 in /home/chohi/.venv/lib/python3.10/site-packages (from torch==2.3.0->torchvision) (12.1.105)\n",
      "Requirement already satisfied: nvidia-cuda-nvrtc-cu12==12.1.105 in /home/chohi/.venv/lib/python3.10/site-packages (from torch==2.3.0->torchvision) (12.1.105)\n",
      "Requirement already satisfied: nvidia-cuda-runtime-cu12==12.1.105 in /home/chohi/.venv/lib/python3.10/site-packages (from torch==2.3.0->torchvision) (12.1.105)\n",
      "Requirement already satisfied: nvidia-nvjitlink-cu12 in /home/chohi/.venv/lib/python3.10/site-packages (from nvidia-cusolver-cu12==11.4.5.107->torch==2.3.0->torchvision) (12.3.101)\n",
      "Requirement already satisfied: MarkupSafe>=2.0 in /home/chohi/.venv/lib/python3.10/site-packages (from jinja2->torch==2.3.0->torchvision) (2.1.5)\n",
      "Requirement already satisfied: mpmath>=0.19 in /home/chohi/.venv/lib/python3.10/site-packages (from sympy->torch==2.3.0->torchvision) (1.3.0)\n",
      "Installing collected packages: torchvision\n",
      "Successfully installed torchvision-0.18.0\n"
     ]
    }
   ],
   "source": [
    "#!pip install torchvision"
   ]
  },
  {
   "cell_type": "markdown",
   "id": "98202db3-b6f4-4548-b237-868944cc201c",
   "metadata": {},
   "source": [
    "### 데이터셋 로드 및 전처리: torchvision을 사용하여 CIFAR-10 데이터셋을 로드, 데이터를 텐서로 변환한 뒤 정규화"
   ]
  },
  {
   "cell_type": "code",
   "execution_count": 49,
   "id": "dd856b40-7c58-45c3-a7cd-2f0c40504b7a",
   "metadata": {},
   "outputs": [
    {
     "name": "stdout",
     "output_type": "stream",
     "text": [
      "Files already downloaded and verified\n",
      "Files already downloaded and verified\n"
     ]
    }
   ],
   "source": [
    "%matplotlib inline\n",
    "import torch\n",
    "import torchvision\n",
    "import torchvision.transforms as transforms\n",
    "\n",
    "# CIFAR-10 데이터셋 로드 및 전처리\n",
    "transform = transforms.Compose(\n",
    "    [transforms.ToTensor(), transforms.Normalize((0.5, 0.5, 0.5), (0.5, 0.5, 0.5))])\n",
    "\n",
    "trainset = torchvision.datasets.CIFAR10(root='./data/', train=True, download=True, transform=transform)\n",
    "trainloader = torch.utils.data.DataLoader(trainset, batch_size=4, shuffle=True, num_workers=2)\n",
    "\n",
    "\n",
    "testset = torchvision.datasets.CIFAR10(root='./data/', train=False, download=True, transform=transform)\n",
    "testloader = torch.utils.data.DataLoader(testset, batch_size=4, shuffle=False, num_workers=2)\n",
    "\n",
    "classes = ('plane', 'car', 'bird', 'cat', 'deer', 'dog', 'frag', 'horse', 'ship', 'truck')"
   ]
  },
  {
   "cell_type": "code",
   "execution_count": 50,
   "id": "137d0f35-f5c8-417a-8a22-57f0faa1d681",
   "metadata": {},
   "outputs": [
    {
     "name": "stdout",
     "output_type": "stream",
     "text": [
      " deer   car horse horse\n"
     ]
    },
    {
     "data": {
      "image/png": "[encoded data removed]",
      "text/plain": [
       "<Figure size 640x480 with 1 Axes>"
      ]
     },
     "metadata": {},
     "output_type": "display_data"
    }
   ],
   "source": [
    "import matplotlib.pyplot as plt\n",
    "import numpy as np\n",
    "\n",
    "def imshow(img):\n",
    "    img = img / 2 + 0.5    # unnormalize\n",
    "    npimg = img.numpy()\n",
    "    plt.imshow(np.transpose(npimg, (1,2,0)))\n",
    "\n",
    "\n",
    "#dataiter = iter(trainloader)\n",
    "#type(dataiter)\n",
    "#images, labels = dataiter.next()\n",
    "\n",
    "images, labels = next(iter(trainloader))\n",
    "\n",
    "imshow(torchvision.utils.make_grid(images))\n",
    "print(' '.join('%5s' % classes[labels[j]] for j in range(4)))\n"
   ]
  },
  {
   "cell_type": "markdown",
   "id": "1975e8f7-f472-47a5-98e3-4f6c35fa4250",
   "metadata": {},
   "source": [
    "### 네트워크 정의: 사용자 정의 Net 클래스를 사용하여 신경망을 정의"
   ]
  },
  {
   "cell_type": "code",
   "execution_count": 51,
   "id": "cba49f2d-723d-4378-b450-68db3eb11e9d",
   "metadata": {},
   "outputs": [],
   "source": [
    "import torch.nn as nn\n",
    "import torch.nn.functional as F\n",
    "\n",
    "# 네트워크 정의\n",
    "class Net(nn.Module):\n",
    "    def __init__(self):\n",
    "        super(Net, self).__init__()\n",
    "        self.conv1 = nn.Conv2d(3,6,5)\n",
    "        self.pool = nn.MaxPool2d(2,2)\n",
    "        self.conv2 = nn.Conv2d(6,16,5)\n",
    "        self.fc1 = nn.Linear(16 * 5 * 5, 120)\n",
    "        self.fc2 = nn.Linear(120, 84)\n",
    "        self.fc3 = nn.Linear(84,10)\n",
    "\n",
    "    def forward(self, x):\n",
    "        x = self.pool(F.relu(self.conv1(x)))\n",
    "        x = self.pool(F.relu(self.conv2(x)))\n",
    "        x = x.view(-1,16*5*5)\n",
    "        x = F.relu(self.fc1(x))\n",
    "        x = F.relu(self.fc2(x))\n",
    "        x = self.fc3(x)\n",
    "        return x\n",
    "\n",
    "net = Net()\n"
   ]
  },
  {
   "cell_type": "markdown",
   "id": "26e04676-fcd1-4ec4-8c32-ddbb3f18389a",
   "metadata": {},
   "source": [
    "### 손실 함수 및 옵티마이저 설정: 교차 엔트로피 손실 함수와 SGD 옵티마이저를 설정\n",
    "### 모델 학습: 학습 데이터를 통해 모델을 학습시키고, 매 2000 미니배치마다 손실 값을 출력"
   ]
  },
  {
   "cell_type": "code",
   "execution_count": 52,
   "id": "754c6c22-d75d-4fbb-8cc9-e369f7a8ee12",
   "metadata": {},
   "outputs": [
    {
     "name": "stdout",
     "output_type": "stream",
     "text": [
      "[1,  2000] loss: 2.304\n",
      "[1,  4000] loss: 2.303\n",
      "[1,  6000] loss: 2.300\n",
      "[1,  8000] loss: 2.296\n",
      "[1, 10000] loss: 2.287\n",
      "[1, 12000] loss: 2.253\n",
      "[2,  2000] loss: 2.127\n",
      "[2,  4000] loss: 2.058\n",
      "[2,  6000] loss: 2.000\n",
      "[2,  8000] loss: 1.966\n",
      "[2, 10000] loss: 1.928\n",
      "[2, 12000] loss: 1.899\n",
      "[3,  2000] loss: 1.830\n",
      "[3,  4000] loss: 1.810\n",
      "[3,  6000] loss: 1.770\n",
      "[3,  8000] loss: 1.733\n",
      "[3, 10000] loss: 1.712\n",
      "[3, 12000] loss: 1.675\n",
      "[4,  2000] loss: 1.640\n",
      "[4,  4000] loss: 1.623\n",
      "[4,  6000] loss: 1.599\n",
      "[4,  8000] loss: 1.546\n",
      "[4, 10000] loss: 1.567\n",
      "[4, 12000] loss: 1.530\n",
      "[5,  2000] loss: 1.534\n",
      "[5,  4000] loss: 1.504\n",
      "[5,  6000] loss: 1.491\n",
      "[5,  8000] loss: 1.485\n",
      "[5, 10000] loss: 1.445\n",
      "[5, 12000] loss: 1.437\n",
      "[6,  2000] loss: 1.430\n",
      "[6,  4000] loss: 1.393\n",
      "[6,  6000] loss: 1.416\n",
      "[6,  8000] loss: 1.407\n",
      "[6, 10000] loss: 1.400\n",
      "[6, 12000] loss: 1.367\n",
      "[7,  2000] loss: 1.347\n",
      "[7,  4000] loss: 1.359\n",
      "[7,  6000] loss: 1.344\n",
      "[7,  8000] loss: 1.330\n",
      "[7, 10000] loss: 1.317\n",
      "[7, 12000] loss: 1.326\n",
      "[8,  2000] loss: 1.292\n",
      "[8,  4000] loss: 1.297\n",
      "[8,  6000] loss: 1.282\n",
      "[8,  8000] loss: 1.285\n",
      "[8, 10000] loss: 1.271\n",
      "[8, 12000] loss: 1.258\n",
      "[9,  2000] loss: 1.277\n",
      "[9,  4000] loss: 1.241\n",
      "[9,  6000] loss: 1.223\n",
      "[9,  8000] loss: 1.224\n",
      "[9, 10000] loss: 1.223\n",
      "[9, 12000] loss: 1.226\n",
      "[10,  2000] loss: 1.201\n",
      "[10,  4000] loss: 1.194\n",
      "[10,  6000] loss: 1.191\n",
      "[10,  8000] loss: 1.199\n",
      "[10, 10000] loss: 1.182\n",
      "[10, 12000] loss: 1.205\n",
      "Finished Training\n"
     ]
    }
   ],
   "source": [
    "import torch.optim as optim\n",
    "\n",
    "\n",
    "# 손실 함수 및 옵티마이저 설정\n",
    "criterion = nn.CrossEntropyLoss()\n",
    "optimizer = optim.SGD(net.parameters(), lr=0.0001, momentum=0.9)\n",
    "\n",
    "# 모델 학습\n",
    "for epoch in range(10):     # epoch 10\n",
    "    running_loss = 0.0\n",
    "    for i, data in enumerate(trainloader, 0):\n",
    "        inputs, labels = data    #학습데이터\n",
    "        optimizer.zero_grad()\n",
    "        outputs = net(inputs)\n",
    "        loss = criterion(outputs, labels)\n",
    "        loss.backward()\n",
    "        optimizer.step()\n",
    "\n",
    "        running_loss += loss.item()\n",
    "        if i % 2000 == 1999:      # 매 2000 mini-batch 별로 출력\n",
    "            print('[%d, %5d] loss: %.3f' % (epoch + 1, i + 1, running_loss / 2000))\n",
    "            running_loss = 0.0\n",
    "\n",
    "print('Finished Training')\n"
   ]
  },
  {
   "cell_type": "markdown",
   "id": "1fea818c-37d0-42fd-8eb1-bc39c8f64ebd",
   "metadata": {},
   "source": [
    "### 테스트셋 이미지 출력"
   ]
  },
  {
   "cell_type": "code",
   "execution_count": 53,
   "id": "db8039f2-2657-4c2d-bbe2-274b195e8611",
   "metadata": {},
   "outputs": [
    {
     "name": "stdout",
     "output_type": "stream",
     "text": [
      "GroundTruth:    cat  ship  ship plane\n"
     ]
    },
    {
     "data": {
      "image/png": "[encoded data removed]",
      "text/plain": [
       "<Figure size 640x480 with 1 Axes>"
      ]
     },
     "metadata": {},
     "output_type": "display_data"
    }
   ],
   "source": [
    "images, labels = next(iter(testloader))\n",
    "\n",
    "imshow(torchvision.utils.make_grid(images))\n",
    "print('GroundTruth: ', ' '.join('%5s' % classes[labels[j]] for j in range(4)))"
   ]
  },
  {
   "cell_type": "code",
   "execution_count": 54,
   "id": "746e5291-0aba-4674-ade1-143b9f224b94",
   "metadata": {},
   "outputs": [
    {
     "name": "stdout",
     "output_type": "stream",
     "text": [
      "Predicted:    cat   car   car plane\n"
     ]
    }
   ],
   "source": [
    "outputs = net(images)\n",
    "_, predicted = torch.max(outputs, 1)\n",
    "print('Predicted: ', ' '.join('%5s' % classes[predicted[j]] for j in range(4)))"
   ]
  },
  {
   "cell_type": "markdown",
   "id": "55f13c0c-269b-4f10-92e2-1e220936d4f5",
   "metadata": {},
   "source": [
    "### 모델 평가: 테스트 데이터를 사용하여 모델의 정확도를 평가"
   ]
  },
  {
   "cell_type": "code",
   "execution_count": 55,
   "id": "c38e6d75-7f27-42a3-84cf-e3e4fc697428",
   "metadata": {},
   "outputs": [
    {
     "name": "stdout",
     "output_type": "stream",
     "text": [
      "Accuracy of the network on the 10000 test images: 56 %\n"
     ]
    }
   ],
   "source": [
    "# 모델 평가\n",
    "correct = 0\n",
    "total = 0\n",
    "with torch.no_grad():\n",
    "    for data in testloader:\n",
    "        images, labels = data\n",
    "        outputs = net(images)\n",
    "        _, predicted = torch.max(outputs.data, 1)\n",
    "        total += labels.size(0)\n",
    "        correct += (predicted == labels).sum().item()\n",
    "print('Accuracy of the network on the 10000 test images: %d %%' % (100 * correct / total))"
   ]
  },
  {
   "cell_type": "code",
   "execution_count": 56,
   "id": "197c7d1d-e273-4525-8204-43c415a688f5",
   "metadata": {},
   "outputs": [
    {
     "name": "stdout",
     "output_type": "stream",
     "text": [
      "Accuracy of plane : 61 %\n",
      "Accuracy of   car : 80 %\n",
      "Accuracy of  bird : 32 %\n",
      "Accuracy of   cat : 34 %\n",
      "Accuracy of  deer : 56 %\n",
      "Accuracy of   dog : 42 %\n",
      "Accuracy of  frag : 75 %\n",
      "Accuracy of horse : 63 %\n",
      "Accuracy of  ship : 60 %\n",
      "Accuracy of truck : 63 %\n"
     ]
    }
   ],
   "source": [
    "class_correct = list(0. for i in range(10))\n",
    "class_total = list(0. for i in range(10))\n",
    "\n",
    "with torch.no_grad():\n",
    "    for data in testloader:\n",
    "        images, labels = data\n",
    "        outputs = net(images)\n",
    "        _, predicted = torch.max(outputs, 1)\n",
    "        c = (predicted == labels).squeeze()\n",
    "        for i in range(4):\n",
    "            label = labels[i]\n",
    "            class_correct[label] += c[i].item()\n",
    "            class_total[label] += 1\n",
    "\n",
    "for i in range(10):\n",
    "    print('Accuracy of %5s : %2d %%' % (classes[i], 100 * class_correct[i] / class_total[i]))"
   ]
  },
  {
   "cell_type": "code",
   "execution_count": null,
   "id": "e30b6ddd-82fb-43c4-bc14-e8d1ec476f52",
   "metadata": {},
   "outputs": [],
   "source": []
  }
 ],
 "metadata": {
  "kernelspec": {
   "display_name": "Python 3 (ipykernel)",
   "language": "python",
   "name": "python3"
  },
  "language_info": {
   "codemirror_mode": {
    "name": "ipython",
    "version": 3
   },
   "file_extension": ".py",
   "mimetype": "text/x-python",
   "name": "python",
   "nbconvert_exporter": "python",
   "pygments_lexer": "ipython3",
   "version": "3.10.12"
  }
 },
 "nbformat": 4,
 "nbformat_minor": 5
}
