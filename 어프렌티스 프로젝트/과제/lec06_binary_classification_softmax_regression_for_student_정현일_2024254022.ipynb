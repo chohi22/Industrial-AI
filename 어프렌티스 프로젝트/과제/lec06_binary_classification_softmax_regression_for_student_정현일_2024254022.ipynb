{
  "nbformat": 4,
  "nbformat_minor": 0,
  "metadata": {
    "colab": {
      "provenance": []
    },
    "kernelspec": {
      "name": "python3",
      "display_name": "Python 3"
    },
    "language_info": {
      "name": "python"
    }
  },
  "cells": [
    {
      "cell_type": "markdown",
      "source": [
        "# Multinomial Logistic Regression (Softmax Regression)"
      ],
      "metadata": {
        "id": "uxc5GBrzte3M"
      }
    },
    {
      "cell_type": "code",
      "execution_count": 1,
      "metadata": {
        "id": "fZrf5_MIQdoI"
      },
      "outputs": [],
      "source": [
        "from scipy import optimize\n",
        "from sklearn.linear_model import LogisticRegression\n",
        "from sklearn.model_selection import train_test_split\n",
        "from sklearn.datasets import load_iris\n",
        "from sklearn.preprocessing import OneHotEncoder\n",
        "import matplotlib.pyplot as plt\n",
        "import numpy as np"
      ]
    },
    {
      "cell_type": "markdown",
      "source": [
        "## Load dataset (iris)\n",
        "- X\n",
        "    - sepal length (cm)\n",
        "    - sepal width (cm)\n",
        "    - petal length (cm)\n",
        "    - petal width (cm)\n",
        "- y\n",
        "    - Iris-Setosa (0), Iris-Versicolour(1), Iris-Virginica (2)"
      ],
      "metadata": {
        "id": "xjnLDfSTtlQa"
      }
    },
    {
      "cell_type": "code",
      "source": [
        "x, y = load_iris(return_X_y=True)"
      ],
      "metadata": {
        "id": "Fp6lQJ2QQtee"
      },
      "execution_count": 23,
      "outputs": []
    },
    {
      "cell_type": "code",
      "source": [
        "# check y value\n",
        "print(y)"
      ],
      "metadata": {
        "id": "26dwTkX9tyvD",
        "colab": {
          "base_uri": "https://localhost:8080/"
        },
        "outputId": "32029707-ff45-4722-898c-4bfbe3369cc3"
      },
      "execution_count": 24,
      "outputs": [
        {
          "output_type": "stream",
          "name": "stdout",
          "text": [
            "[0 0 0 0 0 0 0 0 0 0 0 0 0 0 0 0 0 0 0 0 0 0 0 0 0 0 0 0 0 0 0 0 0 0 0 0 0\n",
            " 0 0 0 0 0 0 0 0 0 0 0 0 0 1 1 1 1 1 1 1 1 1 1 1 1 1 1 1 1 1 1 1 1 1 1 1 1\n",
            " 1 1 1 1 1 1 1 1 1 1 1 1 1 1 1 1 1 1 1 1 1 1 1 1 1 1 2 2 2 2 2 2 2 2 2 2 2\n",
            " 2 2 2 2 2 2 2 2 2 2 2 2 2 2 2 2 2 2 2 2 2 2 2 2 2 2 2 2 2 2 2 2 2 2 2 2 2\n",
            " 2 2]\n"
          ]
        }
      ]
    },
    {
      "cell_type": "markdown",
      "source": [
        "## Split Dataset (using OneHot Encoding)"
      ],
      "metadata": {
        "id": "Unn_nVm5t569"
      }
    },
    {
      "cell_type": "code",
      "source": [
        "y_ohe = OneHotEncoder().fit_transform(y.reshape(-1, 1)).toarray()\n",
        "#print(y_ohe)"
      ],
      "metadata": {
        "id": "RjqeNrO4Q63r"
      },
      "execution_count": 25,
      "outputs": []
    },
    {
      "cell_type": "code",
      "source": [
        "x_train, x_test, y_train, y_test = train_test_split(x, y_ohe)"
      ],
      "metadata": {
        "id": "be8rpFq7DaTu"
      },
      "execution_count": 7,
      "outputs": []
    },
    {
      "cell_type": "code",
      "source": [
        "x_train.shape, y_train.shape, x_test.shape,  y_test.shape"
      ],
      "metadata": {
        "id": "drM4CUe8DlNt",
        "colab": {
          "base_uri": "https://localhost:8080/"
        },
        "outputId": "bcc878b5-df65-47ad-8320-b2ee9ea7f671"
      },
      "execution_count": 26,
      "outputs": [
        {
          "output_type": "execute_result",
          "data": {
            "text/plain": [
              "((112, 4), (112, 3), (38, 4), (38, 3))"
            ]
          },
          "metadata": {},
          "execution_count": 26
        }
      ]
    },
    {
      "cell_type": "code",
      "source": [
        "x1_train = np.hstack([np.ones([x_train.shape[0], 1]), x_train])\n",
        "x1_test = np.hstack([np.ones([x_test.shape[0], 1]), x_test])"
      ],
      "metadata": {
        "id": "o_15vfzOdzdO"
      },
      "execution_count": 27,
      "outputs": []
    },
    {
      "cell_type": "code",
      "source": [
        "x1_train.shape, x1_test.shape"
      ],
      "metadata": {
        "colab": {
          "base_uri": "https://localhost:8080/"
        },
        "id": "BZWA1QHJnxRZ",
        "outputId": "9672af98-f37a-4f19-d3cc-15e00e5eb218"
      },
      "execution_count": 30,
      "outputs": [
        {
          "output_type": "execute_result",
          "data": {
            "text/plain": [
              "((112, 5), (38, 5))"
            ]
          },
          "metadata": {},
          "execution_count": 30
        }
      ]
    },
    {
      "cell_type": "markdown",
      "source": [
        "## Learning\n",
        "- loss function\n",
        "$$\n",
        "\\min _{w, b} \\sum_{i=0}^{N-1} \\sum_{k=0}^{C-1}\\left[-y_k \\cdot \\log \\left(\\hat{y}_{i, k}\\right)\\right]\n",
        "$$"
      ],
      "metadata": {
        "id": "fRje7pksvDj3"
      }
    },
    {
      "cell_type": "code",
      "source": [
        "# loss function\n",
        "n_feature = x_train.shape[1]\n",
        "n_class = y_train.shape[1]\n",
        "REG_CONST = 0.01\n",
        "\n",
        "def softmax(z):\n",
        "    ## IMPLEMENT HERE\n",
        "    s = np.exp(z) / np.sum(np.exp(z), axis=1).reshape(-1, 1)\n",
        "    return s\n",
        "\n",
        "def ce_loss(W, args):\n",
        "    ## IMPLEMENT HERE\n",
        "    train_x, train_y = args\n",
        "    W = W.reshape(n_class, n_feature+1)\n",
        "\n",
        "\n",
        "    z = (W @ train_x.T).T\n",
        "    y_hat = softmax(z)\n",
        "    train_ce = np.sum(-train_y * np.log(y_hat + 1e-10), axis=1)\n",
        "    train_loss = train_ce.mean() + REG_CONST * np.mean(np.square(W))\n",
        "    return train_loss"
      ],
      "metadata": {
        "id": "Ob4UntXCSTP0"
      },
      "execution_count": 31,
      "outputs": []
    },
    {
      "cell_type": "code",
      "source": [
        "# optimization\n",
        "init_w = np.ones(n_class*(n_feature+1)) * 0.1\n",
        "result = optimize.minimize(ce_loss, init_w, args=[x1_train, y_train])"
      ],
      "metadata": {
        "id": "0iHbTKyfWDtq"
      },
      "execution_count": 33,
      "outputs": []
    },
    {
      "cell_type": "markdown",
      "source": [
        "## Evaluation"
      ],
      "metadata": {
        "id": "WTP_3AFw04MZ"
      }
    },
    {
      "cell_type": "code",
      "source": [
        "# Accuracy\n",
        "W = result.x.reshape(n_class, n_feature+1)\n",
        "z = (W @ x1_test.T).T\n",
        "y_hat = softmax(z)\n",
        "y_hat = np.argmax(y_hat, axis=1)\n",
        "y_true = np.argmax(y_test, axis=1)\n",
        "acc = (y_hat == y_true).mean()\n",
        "print(f'accuracy: {acc}')"
      ],
      "metadata": {
        "id": "02nz_Fc7WEoE",
        "colab": {
          "base_uri": "https://localhost:8080/"
        },
        "outputId": "e7f392f2-6149-4166-c277-dd911443c5bb"
      },
      "execution_count": 34,
      "outputs": [
        {
          "output_type": "stream",
          "name": "stdout",
          "text": [
            "accuracy: 0.9736842105263158\n"
          ]
        }
      ]
    },
    {
      "cell_type": "code",
      "source": [
        "# PR-Curve\n",
        "from sklearn.metrics import precision_recall_curve, PrecisionRecallDisplay\n",
        "y_hat_sm = softmax(z)\n",
        "\n",
        "_, ax = plt.subplots()\n",
        "for i in range(n_class) :\n",
        "    pr, rc, _ = precision_recall_curve(y_true=y_test[:, i], probas_pred=y_hat_sm[:,i])\n",
        "    disp = PrecisionRecallDisplay(precision=pr, recall=rc)\n",
        "    disp.plot(ax=ax, label=f'{i}')\n",
        "plt.show()"
      ],
      "metadata": {
        "id": "IqzNXKCM1Gy7",
        "colab": {
          "base_uri": "https://localhost:8080/",
          "height": 555
        },
        "outputId": "32879e88-ebd2-4b60-8a0e-65c55be4cc58"
      },
      "execution_count": 35,
      "outputs": [
        {
          "output_type": "stream",
          "name": "stderr",
          "text": [
            "/usr/local/lib/python3.10/dist-packages/sklearn/metrics/_ranking.py:993: FutureWarning: probas_pred was deprecated in version 1.5 and will be removed in 1.7.Please use ``y_score`` instead.\n",
            "  warnings.warn(\n",
            "/usr/local/lib/python3.10/dist-packages/sklearn/metrics/_ranking.py:993: FutureWarning: probas_pred was deprecated in version 1.5 and will be removed in 1.7.Please use ``y_score`` instead.\n",
            "  warnings.warn(\n",
            "/usr/local/lib/python3.10/dist-packages/sklearn/metrics/_ranking.py:993: FutureWarning: probas_pred was deprecated in version 1.5 and will be removed in 1.7.Please use ``y_score`` instead.\n",
            "  warnings.warn(\n"
          ]
        },
        {
          "output_type": "display_data",
          "data": {
            "text/plain": [
              "<Figure size 640x480 with 1 Axes>"
            ],
            "image/png": "[encoded data removed]"
          },
          "metadata": {}
        }
      ]
    }
  ]
}