{
  "nbformat": 4,
  "nbformat_minor": 0,
  "metadata": {
    "colab": {
      "provenance": []
    },
    "kernelspec": {
      "name": "python3",
      "display_name": "Python 3"
    },
    "language_info": {
      "name": "python"
    }
  },
  "cells": [
    {
      "cell_type": "markdown",
      "source": [
        "# Digit Number"
      ],
      "metadata": {
        "id": "P6GhOWUba1NZ"
      }
    },
    {
      "cell_type": "code",
      "source": [
        "import matplotlib.pyplot as plt\n",
        "from sklearn.metrics import accuracy_score\n",
        "from sklearn.preprocessing import OneHotEncoder\n",
        "from sklearn.model_selection import train_test_split\n",
        "from sklearn.preprocessing import StandardScaler\n",
        "from sklearn.datasets import fetch_openml\n",
        "import numpy as np\n",
        "\n",
        "np.random.seed(4)"
      ],
      "metadata": {
        "id": "6Iv6u4Wk4_bY"
      },
      "execution_count": 28,
      "outputs": []
    },
    {
      "cell_type": "markdown",
      "source": [
        "## Dataset"
      ],
      "metadata": {
        "id": "7PAi408Xd_kZ"
      }
    },
    {
      "cell_type": "code",
      "source": [
        "\n",
        "mnist = fetch_openml('mnist_784')\n",
        "X, y = mnist['data'].to_numpy(), mnist['target'].to_numpy().astype(int)\n"
      ],
      "metadata": {
        "id": "YS8oMn9zd7zw"
      },
      "execution_count": 29,
      "outputs": []
    },
    {
      "cell_type": "code",
      "source": [
        "# show\n",
        "num_imgs = 5\n",
        "fig, axes = plt.subplots(1, num_imgs)\n",
        "for i in range(num_imgs):\n",
        "    axes[i].imshow(X[i].reshape(28,28))\n",
        "    axes[i].set_title(f\"Label: {y[i]}\")\n",
        "    axes[i].axis('off')\n",
        "plt.show()"
      ],
      "metadata": {
        "id": "cs_aC5Bh4zAt",
        "colab": {
          "base_uri": "https://localhost:8080/",
          "height": 144
        },
        "outputId": "effdadaf-8a63-43c4-ed6d-efee3e1303a1"
      },
      "execution_count": 30,
      "outputs": [
        {
          "output_type": "display_data",
          "data": {
            "text/plain": [
              "<Figure size 640x480 with 5 Axes>"
            ],
            "image/png": "[encoded data removed]"
          },
          "metadata": {}
        }
      ]
    },
    {
      "cell_type": "markdown",
      "source": [
        "## Pre-Processing"
      ],
      "metadata": {
        "id": "9tKcQJjUlDCX"
      }
    },
    {
      "cell_type": "code",
      "source": [
        "y_ohe = OneHotEncoder().fit_transform(y.reshape(-1,1)).toarray()\n",
        "X_train, X_test, y_train, y_test = train_test_split(X, y_ohe, test_size=0.2, random_state=12)\n",
        "\n",
        "scaler = StandardScaler()\n",
        "X_train = scaler.fit_transform(X_train)\n",
        "X_test = scaler.transform(X_test)"
      ],
      "metadata": {
        "id": "jxdpDlEnkx_H"
      },
      "execution_count": 31,
      "outputs": []
    },
    {
      "cell_type": "code",
      "source": [
        "def sigmoid(x):\n",
        "    x = np.clip(x, -100, 100)\n",
        "    return 1 / (1 + np.exp(-x))\n",
        "\n",
        "def sigmoid_prime(x):\n",
        "    return x * (1 - x)"
      ],
      "metadata": {
        "id": "87FwCJNFkMWb"
      },
      "execution_count": 33,
      "outputs": []
    },
    {
      "cell_type": "code",
      "source": [
        "def forward_prop(w1, w2, b1, b2, x):\n",
        "    z1 = x @ w1 + b1\n",
        "    h1 = sigmoid(z1)\n",
        "\n",
        "    z2 = h1 @ w2 + b2\n",
        "    y_hat = sigmoid(z2)\n",
        "\n",
        "    return z1, h1, z2, y_hat\n",
        "\n",
        "def back_prop(m,w1,w2,z1,h1,z2,y_hat,x,y):\n",
        "    dz2 = y_hat - y\n",
        "    dw2 = h1.T @ dz2\n",
        "    db2 = np.ones((1,m)) @ dz2 / m\n",
        "\n",
        "    dz1 = (dz2 @ w2.T) * sigmoid_prime(h1)\n",
        "    dw1 = x.T @ dz1\n",
        "    db1 = np.ones((1,m)) @ dz1 / m\n",
        "\n",
        "    return dw1, db1, dw2, db2"
      ],
      "metadata": {
        "id": "rhIX8itugeJe"
      },
      "execution_count": 35,
      "outputs": []
    },
    {
      "cell_type": "markdown",
      "source": [
        "## Initialization"
      ],
      "metadata": {
        "id": "W6AjsiVxCFOY"
      }
    },
    {
      "cell_type": "code",
      "source": [
        "## Initialize weights\n",
        "n_x = X_train.shape[1]\n",
        "n_y = y_train.shape[1]\n",
        "n_h = 100\n",
        "\n",
        "w1 = np.random.rand(n_x, n_h) - 0.5\n",
        "w2 = np.random.rand(n_h, n_y) - 0.5\n",
        "b1 = np.random.rand(1, n_h) - 0.5\n",
        "b2 = np.random.rand(1, n_y) - 0.5"
      ],
      "metadata": {
        "id": "MRuOgHJW5ptZ"
      },
      "execution_count": 36,
      "outputs": []
    },
    {
      "cell_type": "markdown",
      "source": [
        "## Main Loop"
      ],
      "metadata": {
        "id": "qEMhX4QoCMwT"
      }
    },
    {
      "cell_type": "code",
      "source": [
        "epoch = 40\n",
        "losses = []\n",
        "m = y_train.shape[0]        # of data set\n",
        "lr = 0.01                   # Learning rate\n",
        "\n",
        "y_train_true = np.argmax(y_train, axis=1)\n",
        "y_test_true = np.argmax(y_test, axis=1)\n",
        "for i in range(epoch):\n",
        "    z1, a1, z2, y_hat = forward_prop(w1, w2, b1, b2, X_train)\n",
        "    loss = -(1/m)*np.sum(y_train*np.log(y_hat + 1e-10) + (1-y_train)*np.log(1-y_hat + 1e-10))\n",
        "\n",
        "    losses.append(loss)\n",
        "\n",
        "    dw1, db1, dw2, db2 = back_prop(m,w1,w2,z1,a1,z2,y_hat,X_train,y_train)\n",
        "    w2 = w2 - lr * dw2\n",
        "    w1 = w1 - lr * dw1\n",
        "\n",
        "    b2 = b2 - lr * db2\n",
        "    b1 = b1 - lr * db1\n",
        "\n",
        "    print(f'loss: {loss}')"
      ],
      "metadata": {
        "colab": {
          "base_uri": "https://localhost:8080/"
        },
        "collapsed": true,
        "id": "So0G9TCdge6Z",
        "outputId": "18134a6e-7ab5-4b6f-ac22-63368d606577"
      },
      "execution_count": 46,
      "outputs": [
        {
          "output_type": "stream",
          "name": "stdout",
          "text": [
            "loss: 6.816828261953214\n",
            "loss: 6.156371987315861\n",
            "loss: 5.69712496342389\n",
            "loss: 6.037366891617103\n",
            "loss: 8.993732872954261\n",
            "loss: 7.036250221536313\n",
            "loss: 6.029917200697478\n",
            "loss: 5.960052017862847\n",
            "loss: 5.470926341525742\n",
            "loss: 5.877879336065796\n",
            "loss: 6.324955333000079\n",
            "loss: 7.184176808006145\n",
            "loss: 7.577212456343051\n",
            "loss: 9.11695098536956\n",
            "loss: 6.612181427063687\n",
            "loss: 4.852912066509077\n",
            "loss: 4.378916621310694\n",
            "loss: 4.404197407835992\n",
            "loss: 4.034235047448932\n",
            "loss: 4.324088909165177\n",
            "loss: 3.9675817760744714\n",
            "loss: 4.237955053123613\n",
            "loss: 3.8714502913797264\n",
            "loss: 4.150791378273643\n",
            "loss: 3.8170569568619097\n",
            "loss: 4.134301027828586\n",
            "loss: 3.852755912772762\n",
            "loss: 4.136189081086545\n",
            "loss: 3.875158950012244\n",
            "loss: 4.1360501576427815\n",
            "loss: 3.9373874525743844\n",
            "loss: 4.142467172391613\n",
            "loss: 3.919696706738945\n",
            "loss: 3.9823544625424527\n",
            "loss: 3.75759949671117\n",
            "loss: 3.897215199014815\n",
            "loss: 3.724710471648258\n",
            "loss: 3.865029875301875\n",
            "loss: 3.730907382402228\n",
            "loss: 3.856546176942216\n"
          ]
        }
      ]
    },
    {
      "cell_type": "markdown",
      "source": [
        "## Loss"
      ],
      "metadata": {
        "id": "-fKPh-a5whzB"
      }
    },
    {
      "cell_type": "code",
      "source": [
        "plt.plot(losses)\n",
        "plt.xlabel(\"EPOCHS\")\n",
        "plt.ylabel(\"Loss value\")\n",
        "plt.show()"
      ],
      "metadata": {
        "id": "h7Bt2MnTwhTT",
        "colab": {
          "base_uri": "https://localhost:8080/",
          "height": 449
        },
        "outputId": "5e997a4e-c18b-4380-f1c1-e7aaf7c79317"
      },
      "execution_count": 47,
      "outputs": [
        {
          "output_type": "display_data",
          "data": {
            "text/plain": [
              "<Figure size 640x480 with 1 Axes>"
            ],
            "image/png": "[encoded data removed]"
          },
          "metadata": {}
        }
      ]
    },
    {
      "cell_type": "markdown",
      "source": [
        "## Accuracy"
      ],
      "metadata": {
        "id": "XeDHob_RjIGp"
      }
    },
    {
      "cell_type": "code",
      "source": [
        "_, _, _, y_test_hat = forward_prop(w1, w2, b1, b2, X_test)\n",
        "y_test_hat_true = np.argmax(y_test_hat, axis=1)\n",
        "accuracy = accuracy_score(y_test_true, y_test_hat_true)\n",
        "print(f'loss: {loss:.2f}, acc: {accuracy:.2f}')"
      ],
      "metadata": {
        "id": "XD0wfritjF1s",
        "colab": {
          "base_uri": "https://localhost:8080/"
        },
        "outputId": "47c18c0a-57f7-4eed-f3c7-6b3b9a835a86"
      },
      "execution_count": 48,
      "outputs": [
        {
          "output_type": "stream",
          "name": "stdout",
          "text": [
            "loss: 3.86, acc: 0.90\n"
          ]
        }
      ]
    }
  ]
}